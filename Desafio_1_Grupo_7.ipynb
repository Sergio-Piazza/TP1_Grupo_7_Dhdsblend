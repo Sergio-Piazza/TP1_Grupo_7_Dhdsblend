{
 "cells": [
  {
   "cell_type": "markdown",
   "metadata": {},
   "source": [
    "# Trabajo Práctico\n",
    "## Primer Desafío \n",
    "### Grupo 7"
   ]
  },
  {
   "cell_type": "markdown",
   "metadata": {},
   "source": [
    "<img src='Linea_Divisoria.png' align='left' width=100%/>"
   ]
  },
  {
   "cell_type": "markdown",
   "metadata": {},
   "source": [
    "### Congifuraciones Varias"
   ]
  },
  {
   "cell_type": "code",
   "execution_count": 2,
   "metadata": {},
   "outputs": [],
   "source": [
    "import re\n",
    "import math\n",
    "import numpy as np\n",
    "import pandas as pd\n",
    "import seaborn as sns\n",
    "import matplotlib.pyplot as plt\n"
   ]
  },
  {
   "cell_type": "code",
   "execution_count": 3,
   "metadata": {},
   "outputs": [],
   "source": [
    "# configuraciones globales para Pandas.\n",
    "pd.set_option('display.max_columns', None)\n",
    "pd.set_option('display.max_rows', 200)\n",
    "pd.set_option('mode.chained_assignment', None)\n",
    "pd.options.display.float_format = '{:.2f}'.format\n",
    "\n",
    "# Configuraciones globales para Seaborn.\n",
    "plt.style.use('seaborn')"
   ]
  },
  {
   "attachments": {
    "Linea_divisoria.png": {
     "image/png": "[encoded data removed]"
    }
   },
   "cell_type": "markdown",
   "metadata": {},
   "source": [
    "![Linea_divisoria.png](attachment:Linea_divisoria.png)"
   ]
  },
  {
   "cell_type": "markdown",
   "metadata": {},
   "source": [
    "### Carga de Conjunto de Datos Iniciales"
   ]
  },
  {
   "cell_type": "code",
   "execution_count": 101,
   "metadata": {},
   "outputs": [],
   "source": [
    "#Carga del archivo CSV original en memoria para trabajanr con el mimso \n",
    "original_data = pd.read_csv(filepath_or_buffer='properati.csv')"
   ]
  },
  {
   "cell_type": "code",
   "execution_count": 102,
   "metadata": {},
   "outputs": [],
   "source": [
    "#Carga del conjunto de datos orginal en el dataset resutlado \n",
    "#para ir realizando las modificaciones necesarias sin alterar el original\n",
    "resultado_data = pd.read_csv(filepath_or_buffer='properati.csv')"
   ]
  },
  {
   "cell_type": "markdown",
   "metadata": {},
   "source": [
    "Exploración básica del dataset observando los primeros cinco registros y los "
   ]
  },
  {
   "cell_type": "code",
   "execution_count": 310,
   "metadata": {},
   "outputs": [
    {
     "data": {
      "text/html": [
       "<div>\n",
       "<style scoped>\n",
       "    .dataframe tbody tr th:only-of-type {\n",
       "        vertical-align: middle;\n",
       "    }\n",
       "\n",
       "    .dataframe tbody tr th {\n",
       "        vertical-align: top;\n",
       "    }\n",
       "\n",
       "    .dataframe thead th {\n",
       "        text-align: right;\n",
       "    }\n",
       "</style>\n",
       "<table border=\"1\" class=\"dataframe\">\n",
       "  <thead>\n",
       "    <tr style=\"text-align: right;\">\n",
       "      <th></th>\n",
       "      <th>Unnamed: 0</th>\n",
       "      <th>operation</th>\n",
       "      <th>property_type</th>\n",
       "      <th>place_name</th>\n",
       "      <th>place_with_parent_names</th>\n",
       "      <th>country_name</th>\n",
       "      <th>state_name</th>\n",
       "      <th>geonames_id</th>\n",
       "      <th>lat-lon</th>\n",
       "      <th>lat</th>\n",
       "      <th>lon</th>\n",
       "      <th>price</th>\n",
       "      <th>currency</th>\n",
       "      <th>price_aprox_local_currency</th>\n",
       "      <th>price_aprox_usd</th>\n",
       "      <th>surface_total_in_m2</th>\n",
       "      <th>surface_covered_in_m2</th>\n",
       "      <th>price_usd_per_m2</th>\n",
       "      <th>price_per_m2</th>\n",
       "      <th>floor</th>\n",
       "      <th>rooms</th>\n",
       "      <th>expenses</th>\n",
       "      <th>properati_url</th>\n",
       "      <th>description</th>\n",
       "      <th>title</th>\n",
       "      <th>image_thumbnail</th>\n",
       "    </tr>\n",
       "  </thead>\n",
       "  <tbody>\n",
       "    <tr>\n",
       "      <th>0</th>\n",
       "      <td>0</td>\n",
       "      <td>sell</td>\n",
       "      <td>PH</td>\n",
       "      <td>Mataderos</td>\n",
       "      <td>|Argentina|Capital Federal|Mataderos|</td>\n",
       "      <td>Argentina</td>\n",
       "      <td>Capital Federal</td>\n",
       "      <td>3430787.00</td>\n",
       "      <td>-34.6618237,-58.5088387</td>\n",
       "      <td>-34.66</td>\n",
       "      <td>-58.51</td>\n",
       "      <td>62000.00</td>\n",
       "      <td>USD</td>\n",
       "      <td>1093959.00</td>\n",
       "      <td>62000.00</td>\n",
       "      <td>55.00</td>\n",
       "      <td>40.00</td>\n",
       "      <td>1127.27</td>\n",
       "      <td>1550.00</td>\n",
       "      <td>nan</td>\n",
       "      <td>nan</td>\n",
       "      <td>nan</td>\n",
       "      <td>http://www.properati.com.ar/15bo8_venta_ph_mat...</td>\n",
       "      <td>2 AMBIENTES TIPO CASA PLANTA BAJA POR PASILLO,...</td>\n",
       "      <td>2 AMB TIPO CASA SIN EXPENSAS EN PB</td>\n",
       "      <td>https://thumbs4.properati.com/8/BluUYiHJLhgIIK...</td>\n",
       "    </tr>\n",
       "    <tr>\n",
       "      <th>1</th>\n",
       "      <td>1</td>\n",
       "      <td>sell</td>\n",
       "      <td>apartment</td>\n",
       "      <td>La Plata</td>\n",
       "      <td>|Argentina|Bs.As. G.B.A. Zona Sur|La Plata|</td>\n",
       "      <td>Argentina</td>\n",
       "      <td>Bs.As. G.B.A. Zona Sur</td>\n",
       "      <td>3432039.00</td>\n",
       "      <td>-34.9038831,-57.9643295</td>\n",
       "      <td>-34.90</td>\n",
       "      <td>-57.96</td>\n",
       "      <td>150000.00</td>\n",
       "      <td>USD</td>\n",
       "      <td>2646675.00</td>\n",
       "      <td>150000.00</td>\n",
       "      <td>nan</td>\n",
       "      <td>nan</td>\n",
       "      <td>nan</td>\n",
       "      <td>nan</td>\n",
       "      <td>nan</td>\n",
       "      <td>nan</td>\n",
       "      <td>nan</td>\n",
       "      <td>http://www.properati.com.ar/15bob_venta_depart...</td>\n",
       "      <td>Venta de departamento en décimo piso al frente...</td>\n",
       "      <td>VENTA Depto 2 dorm. a estrenar 7 e/ 36 y 37   ...</td>\n",
       "      <td>https://thumbs4.properati.com/7/ikpVBu2ztHA7jv...</td>\n",
       "    </tr>\n",
       "    <tr>\n",
       "      <th>2</th>\n",
       "      <td>2</td>\n",
       "      <td>sell</td>\n",
       "      <td>apartment</td>\n",
       "      <td>Mataderos</td>\n",
       "      <td>|Argentina|Capital Federal|Mataderos|</td>\n",
       "      <td>Argentina</td>\n",
       "      <td>Capital Federal</td>\n",
       "      <td>3430787.00</td>\n",
       "      <td>-34.6522615,-58.5229825</td>\n",
       "      <td>-34.65</td>\n",
       "      <td>-58.52</td>\n",
       "      <td>72000.00</td>\n",
       "      <td>USD</td>\n",
       "      <td>1270404.00</td>\n",
       "      <td>72000.00</td>\n",
       "      <td>55.00</td>\n",
       "      <td>55.00</td>\n",
       "      <td>1309.09</td>\n",
       "      <td>1309.09</td>\n",
       "      <td>nan</td>\n",
       "      <td>nan</td>\n",
       "      <td>nan</td>\n",
       "      <td>http://www.properati.com.ar/15bod_venta_depart...</td>\n",
       "      <td>2 AMBIENTES 3ER PISO LATERAL LIVING COMEDOR AM...</td>\n",
       "      <td>2 AMB 3ER PISO CON ASCENSOR APTO CREDITO</td>\n",
       "      <td>https://thumbs4.properati.com/5/SXKr34F_IwG3W_...</td>\n",
       "    </tr>\n",
       "    <tr>\n",
       "      <th>3</th>\n",
       "      <td>3</td>\n",
       "      <td>sell</td>\n",
       "      <td>PH</td>\n",
       "      <td>Liniers</td>\n",
       "      <td>|Argentina|Capital Federal|Liniers|</td>\n",
       "      <td>Argentina</td>\n",
       "      <td>Capital Federal</td>\n",
       "      <td>3431333.00</td>\n",
       "      <td>-34.6477969,-58.5164244</td>\n",
       "      <td>-34.65</td>\n",
       "      <td>-58.52</td>\n",
       "      <td>95000.00</td>\n",
       "      <td>USD</td>\n",
       "      <td>1676227.50</td>\n",
       "      <td>95000.00</td>\n",
       "      <td>nan</td>\n",
       "      <td>nan</td>\n",
       "      <td>nan</td>\n",
       "      <td>nan</td>\n",
       "      <td>nan</td>\n",
       "      <td>nan</td>\n",
       "      <td>nan</td>\n",
       "      <td>http://www.properati.com.ar/15boh_venta_ph_lin...</td>\n",
       "      <td>PH 3 ambientes con patio. Hay 3 deptos en lote...</td>\n",
       "      <td>PH 3 amb. cfte. reciclado</td>\n",
       "      <td>https://thumbs4.properati.com/3/DgIfX-85Mog5SP...</td>\n",
       "    </tr>\n",
       "    <tr>\n",
       "      <th>4</th>\n",
       "      <td>4</td>\n",
       "      <td>sell</td>\n",
       "      <td>apartment</td>\n",
       "      <td>Centro</td>\n",
       "      <td>|Argentina|Buenos Aires Costa Atlántica|Mar de...</td>\n",
       "      <td>Argentina</td>\n",
       "      <td>Buenos Aires Costa Atlántica</td>\n",
       "      <td>3435548.00</td>\n",
       "      <td>-38.0026256,-57.5494468</td>\n",
       "      <td>-38.00</td>\n",
       "      <td>-57.55</td>\n",
       "      <td>64000.00</td>\n",
       "      <td>USD</td>\n",
       "      <td>1129248.00</td>\n",
       "      <td>64000.00</td>\n",
       "      <td>35.00</td>\n",
       "      <td>35.00</td>\n",
       "      <td>1828.57</td>\n",
       "      <td>1828.57</td>\n",
       "      <td>nan</td>\n",
       "      <td>nan</td>\n",
       "      <td>nan</td>\n",
       "      <td>http://www.properati.com.ar/15bok_venta_depart...</td>\n",
       "      <td>DEPARTAMENTO CON FANTÁSTICA ILUMINACIÓN NATURA...</td>\n",
       "      <td>DEPTO 2 AMB AL CONTRAFRENTE ZONA CENTRO/PLAZA ...</td>\n",
       "      <td>https://thumbs4.properati.com/5/xrRqlNcSI_vs-f...</td>\n",
       "    </tr>\n",
       "  </tbody>\n",
       "</table>\n",
       "</div>"
      ],
      "text/plain": [
       "   Unnamed: 0 operation property_type place_name  \\\n",
       "0           0      sell            PH  Mataderos   \n",
       "1           1      sell     apartment   La Plata   \n",
       "2           2      sell     apartment  Mataderos   \n",
       "3           3      sell            PH    Liniers   \n",
       "4           4      sell     apartment     Centro   \n",
       "\n",
       "                             place_with_parent_names country_name  \\\n",
       "0              |Argentina|Capital Federal|Mataderos|    Argentina   \n",
       "1        |Argentina|Bs.As. G.B.A. Zona Sur|La Plata|    Argentina   \n",
       "2              |Argentina|Capital Federal|Mataderos|    Argentina   \n",
       "3                |Argentina|Capital Federal|Liniers|    Argentina   \n",
       "4  |Argentina|Buenos Aires Costa Atlántica|Mar de...    Argentina   \n",
       "\n",
       "                     state_name  geonames_id                  lat-lon    lat  \\\n",
       "0               Capital Federal   3430787.00  -34.6618237,-58.5088387 -34.66   \n",
       "1        Bs.As. G.B.A. Zona Sur   3432039.00  -34.9038831,-57.9643295 -34.90   \n",
       "2               Capital Federal   3430787.00  -34.6522615,-58.5229825 -34.65   \n",
       "3               Capital Federal   3431333.00  -34.6477969,-58.5164244 -34.65   \n",
       "4  Buenos Aires Costa Atlántica   3435548.00  -38.0026256,-57.5494468 -38.00   \n",
       "\n",
       "     lon     price currency  price_aprox_local_currency  price_aprox_usd  \\\n",
       "0 -58.51  62000.00      USD                  1093959.00         62000.00   \n",
       "1 -57.96 150000.00      USD                  2646675.00        150000.00   \n",
       "2 -58.52  72000.00      USD                  1270404.00         72000.00   \n",
       "3 -58.52  95000.00      USD                  1676227.50         95000.00   \n",
       "4 -57.55  64000.00      USD                  1129248.00         64000.00   \n",
       "\n",
       "   surface_total_in_m2  surface_covered_in_m2  price_usd_per_m2  price_per_m2  \\\n",
       "0                55.00                  40.00           1127.27       1550.00   \n",
       "1                  nan                    nan               nan           nan   \n",
       "2                55.00                  55.00           1309.09       1309.09   \n",
       "3                  nan                    nan               nan           nan   \n",
       "4                35.00                  35.00           1828.57       1828.57   \n",
       "\n",
       "   floor  rooms  expenses                                      properati_url  \\\n",
       "0    nan    nan       nan  http://www.properati.com.ar/15bo8_venta_ph_mat...   \n",
       "1    nan    nan       nan  http://www.properati.com.ar/15bob_venta_depart...   \n",
       "2    nan    nan       nan  http://www.properati.com.ar/15bod_venta_depart...   \n",
       "3    nan    nan       nan  http://www.properati.com.ar/15boh_venta_ph_lin...   \n",
       "4    nan    nan       nan  http://www.properati.com.ar/15bok_venta_depart...   \n",
       "\n",
       "                                         description  \\\n",
       "0  2 AMBIENTES TIPO CASA PLANTA BAJA POR PASILLO,...   \n",
       "1  Venta de departamento en décimo piso al frente...   \n",
       "2  2 AMBIENTES 3ER PISO LATERAL LIVING COMEDOR AM...   \n",
       "3  PH 3 ambientes con patio. Hay 3 deptos en lote...   \n",
       "4  DEPARTAMENTO CON FANTÁSTICA ILUMINACIÓN NATURA...   \n",
       "\n",
       "                                               title  \\\n",
       "0                 2 AMB TIPO CASA SIN EXPENSAS EN PB   \n",
       "1  VENTA Depto 2 dorm. a estrenar 7 e/ 36 y 37   ...   \n",
       "2           2 AMB 3ER PISO CON ASCENSOR APTO CREDITO   \n",
       "3                       PH 3 amb. cfte. reciclado      \n",
       "4  DEPTO 2 AMB AL CONTRAFRENTE ZONA CENTRO/PLAZA ...   \n",
       "\n",
       "                                     image_thumbnail  \n",
       "0  https://thumbs4.properati.com/8/BluUYiHJLhgIIK...  \n",
       "1  https://thumbs4.properati.com/7/ikpVBu2ztHA7jv...  \n",
       "2  https://thumbs4.properati.com/5/SXKr34F_IwG3W_...  \n",
       "3  https://thumbs4.properati.com/3/DgIfX-85Mog5SP...  \n",
       "4  https://thumbs4.properati.com/5/xrRqlNcSI_vs-f...  "
      ]
     },
     "execution_count": 310,
     "metadata": {},
     "output_type": "execute_result"
    }
   ],
   "source": [
    "original_data.head()"
   ]
  },
  {
   "cell_type": "code",
   "execution_count": 311,
   "metadata": {},
   "outputs": [
    {
     "data": {
      "text/html": [
       "<div>\n",
       "<style scoped>\n",
       "    .dataframe tbody tr th:only-of-type {\n",
       "        vertical-align: middle;\n",
       "    }\n",
       "\n",
       "    .dataframe tbody tr th {\n",
       "        vertical-align: top;\n",
       "    }\n",
       "\n",
       "    .dataframe thead th {\n",
       "        text-align: right;\n",
       "    }\n",
       "</style>\n",
       "<table border=\"1\" class=\"dataframe\">\n",
       "  <thead>\n",
       "    <tr style=\"text-align: right;\">\n",
       "      <th></th>\n",
       "      <th>Unnamed: 0</th>\n",
       "      <th>operation</th>\n",
       "      <th>property_type</th>\n",
       "      <th>place_name</th>\n",
       "      <th>place_with_parent_names</th>\n",
       "      <th>country_name</th>\n",
       "      <th>state_name</th>\n",
       "      <th>geonames_id</th>\n",
       "      <th>lat-lon</th>\n",
       "      <th>lat</th>\n",
       "      <th>lon</th>\n",
       "      <th>price</th>\n",
       "      <th>currency</th>\n",
       "      <th>price_aprox_local_currency</th>\n",
       "      <th>price_aprox_usd</th>\n",
       "      <th>surface_total_in_m2</th>\n",
       "      <th>surface_covered_in_m2</th>\n",
       "      <th>price_usd_per_m2</th>\n",
       "      <th>price_per_m2</th>\n",
       "      <th>floor</th>\n",
       "      <th>rooms</th>\n",
       "      <th>expenses</th>\n",
       "      <th>properati_url</th>\n",
       "      <th>description</th>\n",
       "      <th>title</th>\n",
       "      <th>image_thumbnail</th>\n",
       "    </tr>\n",
       "  </thead>\n",
       "  <tbody>\n",
       "    <tr>\n",
       "      <th>121215</th>\n",
       "      <td>121215</td>\n",
       "      <td>sell</td>\n",
       "      <td>apartment</td>\n",
       "      <td>Belgrano</td>\n",
       "      <td>|Argentina|Capital Federal|Belgrano|</td>\n",
       "      <td>Argentina</td>\n",
       "      <td>Capital Federal</td>\n",
       "      <td>3436077.00</td>\n",
       "      <td>NaN</td>\n",
       "      <td>nan</td>\n",
       "      <td>nan</td>\n",
       "      <td>870000.00</td>\n",
       "      <td>USD</td>\n",
       "      <td>15350715.00</td>\n",
       "      <td>870000.00</td>\n",
       "      <td>113.00</td>\n",
       "      <td>93.00</td>\n",
       "      <td>7699.12</td>\n",
       "      <td>9354.84</td>\n",
       "      <td>nan</td>\n",
       "      <td>nan</td>\n",
       "      <td>10000.00</td>\n",
       "      <td>http://www.properati.com.ar/1cja2_venta_depart...</td>\n",
       "      <td>TORRE FORUM ALCORTA - MÁXIMA CATEGORÍA.Impecab...</td>\n",
       "      <td>Torre Forum Alcorta- Impecable 3 ambientes</td>\n",
       "      <td>https://thumbs4.properati.com/1/bjms0KnaAnlNoQ...</td>\n",
       "    </tr>\n",
       "    <tr>\n",
       "      <th>121216</th>\n",
       "      <td>121216</td>\n",
       "      <td>sell</td>\n",
       "      <td>house</td>\n",
       "      <td>Beccar</td>\n",
       "      <td>|Argentina|Bs.As. G.B.A. Zona Norte|San Isidro...</td>\n",
       "      <td>Argentina</td>\n",
       "      <td>Bs.As. G.B.A. Zona Norte</td>\n",
       "      <td>3436080.00</td>\n",
       "      <td>NaN</td>\n",
       "      <td>nan</td>\n",
       "      <td>nan</td>\n",
       "      <td>498000.00</td>\n",
       "      <td>USD</td>\n",
       "      <td>8786961.00</td>\n",
       "      <td>498000.00</td>\n",
       "      <td>360.00</td>\n",
       "      <td>360.00</td>\n",
       "      <td>1383.33</td>\n",
       "      <td>1383.33</td>\n",
       "      <td>nan</td>\n",
       "      <td>nan</td>\n",
       "      <td>nan</td>\n",
       "      <td>http://www.properati.com.ar/1cja6_venta_casa_b...</td>\n",
       "      <td>Excelente e impecable casa en Venta en Las Lom...</td>\n",
       "      <td>Ruca Inmuebles | Venta | Lomas de San Isidro |...</td>\n",
       "      <td>https://thumbs4.properati.com/2/PCc3WuQDjpNZc4...</td>\n",
       "    </tr>\n",
       "    <tr>\n",
       "      <th>121217</th>\n",
       "      <td>121217</td>\n",
       "      <td>sell</td>\n",
       "      <td>apartment</td>\n",
       "      <td>Villa Urquiza</td>\n",
       "      <td>|Argentina|Capital Federal|Villa Urquiza|</td>\n",
       "      <td>Argentina</td>\n",
       "      <td>Capital Federal</td>\n",
       "      <td>3433775.00</td>\n",
       "      <td>-34.5706388726,-58.4755963355</td>\n",
       "      <td>-34.57</td>\n",
       "      <td>-58.48</td>\n",
       "      <td>131500.00</td>\n",
       "      <td>USD</td>\n",
       "      <td>2320251.75</td>\n",
       "      <td>131500.00</td>\n",
       "      <td>46.00</td>\n",
       "      <td>39.00</td>\n",
       "      <td>2858.70</td>\n",
       "      <td>3371.79</td>\n",
       "      <td>nan</td>\n",
       "      <td>nan</td>\n",
       "      <td>nan</td>\n",
       "      <td>http://www.properati.com.ar/1cja7_venta_depart...</td>\n",
       "      <td>VENTA DEPARTAMENTO AMBIENTE DIVISIBLE A ESTREN...</td>\n",
       "      <td>VENTA DEPARTAMENTO AMBIENTE DIVISIBLE A ESTREN...</td>\n",
       "      <td>https://thumbs4.properati.com/9/YAe_-2gRVykADP...</td>\n",
       "    </tr>\n",
       "    <tr>\n",
       "      <th>121218</th>\n",
       "      <td>121218</td>\n",
       "      <td>sell</td>\n",
       "      <td>apartment</td>\n",
       "      <td>Plaza Colón</td>\n",
       "      <td>|Argentina|Buenos Aires Costa Atlántica|Mar de...</td>\n",
       "      <td>Argentina</td>\n",
       "      <td>Buenos Aires Costa Atlántica</td>\n",
       "      <td>nan</td>\n",
       "      <td>NaN</td>\n",
       "      <td>nan</td>\n",
       "      <td>nan</td>\n",
       "      <td>95900.00</td>\n",
       "      <td>USD</td>\n",
       "      <td>1692107.55</td>\n",
       "      <td>95900.00</td>\n",
       "      <td>48.00</td>\n",
       "      <td>48.00</td>\n",
       "      <td>1997.92</td>\n",
       "      <td>1997.92</td>\n",
       "      <td>nan</td>\n",
       "      <td>nan</td>\n",
       "      <td>nan</td>\n",
       "      <td>http://www.properati.com.ar/1cja8_venta_depart...</td>\n",
       "      <td>2 Amb al contrafrente,  luminoso. El departame...</td>\n",
       "      <td>2 amb. C/ dep. de servicio al contrafrente| Re...</td>\n",
       "      <td>https://thumbs4.properati.com/8/Q12PTvU6BQJ0ib...</td>\n",
       "    </tr>\n",
       "    <tr>\n",
       "      <th>121219</th>\n",
       "      <td>121219</td>\n",
       "      <td>sell</td>\n",
       "      <td>apartment</td>\n",
       "      <td>Capital Federal</td>\n",
       "      <td>|Argentina|Capital Federal|</td>\n",
       "      <td>Argentina</td>\n",
       "      <td>Capital Federal</td>\n",
       "      <td>3433955.00</td>\n",
       "      <td>NaN</td>\n",
       "      <td>nan</td>\n",
       "      <td>nan</td>\n",
       "      <td>129000.00</td>\n",
       "      <td>USD</td>\n",
       "      <td>2276140.50</td>\n",
       "      <td>129000.00</td>\n",
       "      <td>77.00</td>\n",
       "      <td>77.00</td>\n",
       "      <td>1675.32</td>\n",
       "      <td>1675.32</td>\n",
       "      <td>nan</td>\n",
       "      <td>nan</td>\n",
       "      <td>3500.00</td>\n",
       "      <td>http://www.properati.com.ar/1cjaa_venta_depart...</td>\n",
       "      <td>Departamento de 77 m2 apto profesional. Edific...</td>\n",
       "      <td>Departamento apto profesional en el Centro</td>\n",
       "      <td>https://thumbs4.properati.com/8/mNEsnQWqB7joBF...</td>\n",
       "    </tr>\n",
       "  </tbody>\n",
       "</table>\n",
       "</div>"
      ],
      "text/plain": [
       "        Unnamed: 0 operation property_type       place_name  \\\n",
       "121215      121215      sell     apartment         Belgrano   \n",
       "121216      121216      sell         house           Beccar   \n",
       "121217      121217      sell     apartment    Villa Urquiza   \n",
       "121218      121218      sell     apartment      Plaza Colón   \n",
       "121219      121219      sell     apartment  Capital Federal   \n",
       "\n",
       "                                  place_with_parent_names country_name  \\\n",
       "121215               |Argentina|Capital Federal|Belgrano|    Argentina   \n",
       "121216  |Argentina|Bs.As. G.B.A. Zona Norte|San Isidro...    Argentina   \n",
       "121217          |Argentina|Capital Federal|Villa Urquiza|    Argentina   \n",
       "121218  |Argentina|Buenos Aires Costa Atlántica|Mar de...    Argentina   \n",
       "121219                        |Argentina|Capital Federal|    Argentina   \n",
       "\n",
       "                          state_name  geonames_id  \\\n",
       "121215               Capital Federal   3436077.00   \n",
       "121216      Bs.As. G.B.A. Zona Norte   3436080.00   \n",
       "121217               Capital Federal   3433775.00   \n",
       "121218  Buenos Aires Costa Atlántica          nan   \n",
       "121219               Capital Federal   3433955.00   \n",
       "\n",
       "                              lat-lon    lat    lon     price currency  \\\n",
       "121215                            NaN    nan    nan 870000.00      USD   \n",
       "121216                            NaN    nan    nan 498000.00      USD   \n",
       "121217  -34.5706388726,-58.4755963355 -34.57 -58.48 131500.00      USD   \n",
       "121218                            NaN    nan    nan  95900.00      USD   \n",
       "121219                            NaN    nan    nan 129000.00      USD   \n",
       "\n",
       "        price_aprox_local_currency  price_aprox_usd  surface_total_in_m2  \\\n",
       "121215                 15350715.00        870000.00               113.00   \n",
       "121216                  8786961.00        498000.00               360.00   \n",
       "121217                  2320251.75        131500.00                46.00   \n",
       "121218                  1692107.55         95900.00                48.00   \n",
       "121219                  2276140.50        129000.00                77.00   \n",
       "\n",
       "        surface_covered_in_m2  price_usd_per_m2  price_per_m2  floor  rooms  \\\n",
       "121215                  93.00           7699.12       9354.84    nan    nan   \n",
       "121216                 360.00           1383.33       1383.33    nan    nan   \n",
       "121217                  39.00           2858.70       3371.79    nan    nan   \n",
       "121218                  48.00           1997.92       1997.92    nan    nan   \n",
       "121219                  77.00           1675.32       1675.32    nan    nan   \n",
       "\n",
       "        expenses                                      properati_url  \\\n",
       "121215  10000.00  http://www.properati.com.ar/1cja2_venta_depart...   \n",
       "121216       nan  http://www.properati.com.ar/1cja6_venta_casa_b...   \n",
       "121217       nan  http://www.properati.com.ar/1cja7_venta_depart...   \n",
       "121218       nan  http://www.properati.com.ar/1cja8_venta_depart...   \n",
       "121219   3500.00  http://www.properati.com.ar/1cjaa_venta_depart...   \n",
       "\n",
       "                                              description  \\\n",
       "121215  TORRE FORUM ALCORTA - MÁXIMA CATEGORÍA.Impecab...   \n",
       "121216  Excelente e impecable casa en Venta en Las Lom...   \n",
       "121217  VENTA DEPARTAMENTO AMBIENTE DIVISIBLE A ESTREN...   \n",
       "121218  2 Amb al contrafrente,  luminoso. El departame...   \n",
       "121219  Departamento de 77 m2 apto profesional. Edific...   \n",
       "\n",
       "                                                    title  \\\n",
       "121215         Torre Forum Alcorta- Impecable 3 ambientes   \n",
       "121216  Ruca Inmuebles | Venta | Lomas de San Isidro |...   \n",
       "121217  VENTA DEPARTAMENTO AMBIENTE DIVISIBLE A ESTREN...   \n",
       "121218  2 amb. C/ dep. de servicio al contrafrente| Re...   \n",
       "121219         Departamento apto profesional en el Centro   \n",
       "\n",
       "                                          image_thumbnail  \n",
       "121215  https://thumbs4.properati.com/1/bjms0KnaAnlNoQ...  \n",
       "121216  https://thumbs4.properati.com/2/PCc3WuQDjpNZc4...  \n",
       "121217  https://thumbs4.properati.com/9/YAe_-2gRVykADP...  \n",
       "121218  https://thumbs4.properati.com/8/Q12PTvU6BQJ0ib...  \n",
       "121219  https://thumbs4.properati.com/8/mNEsnQWqB7joBF...  "
      ]
     },
     "execution_count": 311,
     "metadata": {},
     "output_type": "execute_result"
    }
   ],
   "source": [
    "original_data.tail()"
   ]
  },
  {
   "attachments": {
    "Linea_divisoria.png": {
     "image/png": "[encoded data removed]"
    }
   },
   "cell_type": "markdown",
   "metadata": {},
   "source": [
    "![Linea_divisoria.png](attachment:Linea_divisoria.png)"
   ]
  },
  {
   "cell_type": "markdown",
   "metadata": {},
   "source": [
    "### Funciones Globales"
   ]
  },
  {
   "cell_type": "code",
   "execution_count": 40,
   "metadata": {},
   "outputs": [],
   "source": [
    "def detalle_df_columns(cols: list, df: pd.DataFrame) -> pd.DataFrame:\n",
    "    \"\"\"\n",
    "    Dado un índice {cols} y un DataFrame {df}, devuelve otro DataFrame con datos descriptivos\n",
    "    según las medidas especificadas en el diccionario {measures}.\n",
    "    \"\"\"\n",
    "    measures = {\n",
    "        'Valores Únicos': df.nunique(), \n",
    "        'Nulos': df.shape[0] - df.count(), \n",
    "        '% Nulos': round((df.shape[0] - df.count()) / df.shape[0] * 100, 3),\n",
    "        'No Nulos': df.count(), \n",
    "        '% No Nulos': round(df.count() / df.shape[0] * 100, 3), \n",
    "        'Tipos': df.dtypes,\n",
    "        'Tamaño (mb)': df.memory_usage() / 1000000\n",
    "    }    \n",
    "    return pd.DataFrame(index=cols, data=measures)"
   ]
  },
  {
   "cell_type": "code",
   "execution_count": 354,
   "metadata": {},
   "outputs": [],
   "source": [
    "def busca_patron_regex(patron_regex, nombre_grupo_regex, columna, prefijo, df: pd.DataFrame) -> pd.DataFrame:\n",
    "    \"\"\"\n",
    "    Dado un patron regex en el parametro patron_regex, el nombre del grupo regex deseado, \n",
    "    la columna que se quiere buscar el patron, el prefijo de la nueva columna\n",
    "    y un dataframe en el parametro df devuelve un dataframe con la columna y los valores encontrados según el patron,\n",
    "    esta función elimina los valores nulos de la columna a aplicar el patron y evalúa sólo filas con contenido de datos\n",
    "    (no realiza el borrado de la columna original).\n",
    "    \"\"\"\n",
    "    columna_nueva = prefijo + columna\n",
    "    _serie = df[columna]\n",
    "    _serie_sin_nulos = pd.DataFrame(_serie).dropna()[columna]\n",
    "    _patron = re.compile(patron_regex) \n",
    "    serire_resultado = _serie_sin_nulos.apply(lambda x: x if x is np.nan else _patron.search(x))\n",
    "    df_resultado = pd.DataFrame(serire_resultado.apply(lambda x: x if x is None else x.group(nombre_grupo_regex)))\n",
    "    df_resultado = df_resultado.rename({columna : columna_nueva}, axis=1)\n",
    "    print (\"Patrones encontrados\")\n",
    "    print(df_resultado[columna_nueva].notnull().value_counts())\n",
    "    return df_resultado"
   ]
  },
  {
   "cell_type": "code",
   "execution_count": 356,
   "metadata": {},
   "outputs": [],
   "source": [
    "def union_tablas_resultado_regex_con_original(columna_busco_regex, columna_resultado, columna_imputar, \\\n",
    "                                              df_original: pd.DataFrame, df_resultado: pd.DataFrame) -> pd.DataFrame:\n",
    "    \"\"\"\n",
    "    Dadas tres columnas, la columna en la que aplicamos patron regex, la columna de resutlado del \n",
    "    regex buscado del df_resutlado y la columna a imputar del df_orginal, la función devuelve un \n",
    "    dataframe con el join sólo de los valores a imputar (esta funcíon trabaja por el indice implicito de los df)\n",
    "    \"\"\"\n",
    "    #creo las mascaras para filtrar los valores que puedo reemplazar\n",
    "    mask_df_resultado_no_nulos = df_resultado[columna_resultado].notnull()\n",
    "    mask_df_original_nulos = df_original[columna_imputar].isnull()\n",
    "    #Uno los dataframe para obtener la comparación de los valores faltantes\n",
    "    df_resultado_join = df_resultado.join(df_original)\n",
    "    #creo df con los valores encontrados según las mascaras\n",
    "    return df_resultado_join[[columna_busco_regex, columna_resultado, columna_imputar]] \\\n",
    "    [mask_df_resultado_no_nulos & mask_df_original_nulos]"
   ]
  },
  {
   "attachments": {
    "Linea_divisoria.png": {
     "image/png": "[encoded data removed]"
    }
   },
   "cell_type": "markdown",
   "metadata": {},
   "source": [
    "![Linea_divisoria.png](attachment:Linea_divisoria.png)"
   ]
  },
  {
   "cell_type": "markdown",
   "metadata": {},
   "source": [
    "### Descripción del Conjunto de Datos Originales\n",
    "\n",
    "Para esta descripción utilizamos la función **\"detalle_df_columns\"** que recibe como parámetros la lista de columnas del dataframe llamado **\"cols\"** y un dataframe donde recibe el dataframe que deseamos describir llamado **\"df\"**. Esta función devuelve otro dataframe con las descripciones de las columnas solicitadas"
   ]
  },
  {
   "cell_type": "code",
   "execution_count": 41,
   "metadata": {},
   "outputs": [
    {
     "data": {
      "text/html": [
       "<div>\n",
       "<style scoped>\n",
       "    .dataframe tbody tr th:only-of-type {\n",
       "        vertical-align: middle;\n",
       "    }\n",
       "\n",
       "    .dataframe tbody tr th {\n",
       "        vertical-align: top;\n",
       "    }\n",
       "\n",
       "    .dataframe thead th {\n",
       "        text-align: right;\n",
       "    }\n",
       "</style>\n",
       "<table border=\"1\" class=\"dataframe\">\n",
       "  <thead>\n",
       "    <tr style=\"text-align: right;\">\n",
       "      <th></th>\n",
       "      <th>Valores Únicos</th>\n",
       "      <th>Nulos</th>\n",
       "      <th>% Nulos</th>\n",
       "      <th>No Nulos</th>\n",
       "      <th>% No Nulos</th>\n",
       "      <th>Tipos</th>\n",
       "      <th>Tamaño (mb)</th>\n",
       "    </tr>\n",
       "  </thead>\n",
       "  <tbody>\n",
       "    <tr>\n",
       "      <th>Unnamed: 0</th>\n",
       "      <td>121220</td>\n",
       "      <td>0</td>\n",
       "      <td>0.00</td>\n",
       "      <td>121220</td>\n",
       "      <td>100.00</td>\n",
       "      <td>int64</td>\n",
       "      <td>0.97</td>\n",
       "    </tr>\n",
       "    <tr>\n",
       "      <th>operation</th>\n",
       "      <td>1</td>\n",
       "      <td>0</td>\n",
       "      <td>0.00</td>\n",
       "      <td>121220</td>\n",
       "      <td>100.00</td>\n",
       "      <td>object</td>\n",
       "      <td>0.97</td>\n",
       "    </tr>\n",
       "    <tr>\n",
       "      <th>property_type</th>\n",
       "      <td>4</td>\n",
       "      <td>0</td>\n",
       "      <td>0.00</td>\n",
       "      <td>121220</td>\n",
       "      <td>100.00</td>\n",
       "      <td>object</td>\n",
       "      <td>0.97</td>\n",
       "    </tr>\n",
       "    <tr>\n",
       "      <th>place_name</th>\n",
       "      <td>1060</td>\n",
       "      <td>23</td>\n",
       "      <td>0.02</td>\n",
       "      <td>121197</td>\n",
       "      <td>99.98</td>\n",
       "      <td>object</td>\n",
       "      <td>0.97</td>\n",
       "    </tr>\n",
       "    <tr>\n",
       "      <th>place_with_parent_names</th>\n",
       "      <td>1164</td>\n",
       "      <td>0</td>\n",
       "      <td>0.00</td>\n",
       "      <td>121220</td>\n",
       "      <td>100.00</td>\n",
       "      <td>object</td>\n",
       "      <td>0.97</td>\n",
       "    </tr>\n",
       "    <tr>\n",
       "      <th>country_name</th>\n",
       "      <td>1</td>\n",
       "      <td>0</td>\n",
       "      <td>0.00</td>\n",
       "      <td>121220</td>\n",
       "      <td>100.00</td>\n",
       "      <td>object</td>\n",
       "      <td>0.97</td>\n",
       "    </tr>\n",
       "    <tr>\n",
       "      <th>state_name</th>\n",
       "      <td>28</td>\n",
       "      <td>0</td>\n",
       "      <td>0.00</td>\n",
       "      <td>121220</td>\n",
       "      <td>100.00</td>\n",
       "      <td>object</td>\n",
       "      <td>0.97</td>\n",
       "    </tr>\n",
       "    <tr>\n",
       "      <th>geonames_id</th>\n",
       "      <td>646</td>\n",
       "      <td>18717</td>\n",
       "      <td>15.44</td>\n",
       "      <td>102503</td>\n",
       "      <td>84.56</td>\n",
       "      <td>float64</td>\n",
       "      <td>0.97</td>\n",
       "    </tr>\n",
       "    <tr>\n",
       "      <th>lat-lon</th>\n",
       "      <td>47203</td>\n",
       "      <td>51550</td>\n",
       "      <td>42.53</td>\n",
       "      <td>69670</td>\n",
       "      <td>57.47</td>\n",
       "      <td>object</td>\n",
       "      <td>0.97</td>\n",
       "    </tr>\n",
       "    <tr>\n",
       "      <th>lat</th>\n",
       "      <td>46495</td>\n",
       "      <td>51550</td>\n",
       "      <td>42.53</td>\n",
       "      <td>69670</td>\n",
       "      <td>57.47</td>\n",
       "      <td>float64</td>\n",
       "      <td>0.97</td>\n",
       "    </tr>\n",
       "    <tr>\n",
       "      <th>lon</th>\n",
       "      <td>46522</td>\n",
       "      <td>51550</td>\n",
       "      <td>42.53</td>\n",
       "      <td>69670</td>\n",
       "      <td>57.47</td>\n",
       "      <td>float64</td>\n",
       "      <td>0.97</td>\n",
       "    </tr>\n",
       "    <tr>\n",
       "      <th>price</th>\n",
       "      <td>9746</td>\n",
       "      <td>20410</td>\n",
       "      <td>16.84</td>\n",
       "      <td>100810</td>\n",
       "      <td>83.16</td>\n",
       "      <td>float64</td>\n",
       "      <td>0.97</td>\n",
       "    </tr>\n",
       "    <tr>\n",
       "      <th>currency</th>\n",
       "      <td>4</td>\n",
       "      <td>20411</td>\n",
       "      <td>16.84</td>\n",
       "      <td>100809</td>\n",
       "      <td>83.16</td>\n",
       "      <td>object</td>\n",
       "      <td>0.97</td>\n",
       "    </tr>\n",
       "    <tr>\n",
       "      <th>price_aprox_local_currency</th>\n",
       "      <td>10364</td>\n",
       "      <td>20410</td>\n",
       "      <td>16.84</td>\n",
       "      <td>100810</td>\n",
       "      <td>83.16</td>\n",
       "      <td>float64</td>\n",
       "      <td>0.97</td>\n",
       "    </tr>\n",
       "    <tr>\n",
       "      <th>price_aprox_usd</th>\n",
       "      <td>10364</td>\n",
       "      <td>20410</td>\n",
       "      <td>16.84</td>\n",
       "      <td>100810</td>\n",
       "      <td>83.16</td>\n",
       "      <td>float64</td>\n",
       "      <td>0.97</td>\n",
       "    </tr>\n",
       "    <tr>\n",
       "      <th>surface_total_in_m2</th>\n",
       "      <td>1687</td>\n",
       "      <td>39328</td>\n",
       "      <td>32.44</td>\n",
       "      <td>81892</td>\n",
       "      <td>67.56</td>\n",
       "      <td>float64</td>\n",
       "      <td>0.97</td>\n",
       "    </tr>\n",
       "    <tr>\n",
       "      <th>surface_covered_in_m2</th>\n",
       "      <td>995</td>\n",
       "      <td>19907</td>\n",
       "      <td>16.42</td>\n",
       "      <td>101313</td>\n",
       "      <td>83.58</td>\n",
       "      <td>float64</td>\n",
       "      <td>0.97</td>\n",
       "    </tr>\n",
       "    <tr>\n",
       "      <th>price_usd_per_m2</th>\n",
       "      <td>25567</td>\n",
       "      <td>52603</td>\n",
       "      <td>43.40</td>\n",
       "      <td>68617</td>\n",
       "      <td>56.60</td>\n",
       "      <td>float64</td>\n",
       "      <td>0.97</td>\n",
       "    </tr>\n",
       "    <tr>\n",
       "      <th>price_per_m2</th>\n",
       "      <td>25185</td>\n",
       "      <td>33562</td>\n",
       "      <td>27.69</td>\n",
       "      <td>87658</td>\n",
       "      <td>72.31</td>\n",
       "      <td>float64</td>\n",
       "      <td>0.97</td>\n",
       "    </tr>\n",
       "    <tr>\n",
       "      <th>floor</th>\n",
       "      <td>182</td>\n",
       "      <td>113321</td>\n",
       "      <td>93.48</td>\n",
       "      <td>7899</td>\n",
       "      <td>6.52</td>\n",
       "      <td>float64</td>\n",
       "      <td>0.97</td>\n",
       "    </tr>\n",
       "    <tr>\n",
       "      <th>rooms</th>\n",
       "      <td>31</td>\n",
       "      <td>73830</td>\n",
       "      <td>60.91</td>\n",
       "      <td>47390</td>\n",
       "      <td>39.09</td>\n",
       "      <td>float64</td>\n",
       "      <td>0.97</td>\n",
       "    </tr>\n",
       "    <tr>\n",
       "      <th>expenses</th>\n",
       "      <td>982</td>\n",
       "      <td>106958</td>\n",
       "      <td>88.23</td>\n",
       "      <td>14262</td>\n",
       "      <td>11.77</td>\n",
       "      <td>float64</td>\n",
       "      <td>0.97</td>\n",
       "    </tr>\n",
       "    <tr>\n",
       "      <th>properati_url</th>\n",
       "      <td>121220</td>\n",
       "      <td>0</td>\n",
       "      <td>0.00</td>\n",
       "      <td>121220</td>\n",
       "      <td>100.00</td>\n",
       "      <td>object</td>\n",
       "      <td>0.97</td>\n",
       "    </tr>\n",
       "    <tr>\n",
       "      <th>description</th>\n",
       "      <td>104055</td>\n",
       "      <td>2</td>\n",
       "      <td>0.00</td>\n",
       "      <td>121218</td>\n",
       "      <td>100.00</td>\n",
       "      <td>object</td>\n",
       "      <td>0.97</td>\n",
       "    </tr>\n",
       "    <tr>\n",
       "      <th>title</th>\n",
       "      <td>72705</td>\n",
       "      <td>0</td>\n",
       "      <td>0.00</td>\n",
       "      <td>121220</td>\n",
       "      <td>100.00</td>\n",
       "      <td>object</td>\n",
       "      <td>0.97</td>\n",
       "    </tr>\n",
       "    <tr>\n",
       "      <th>image_thumbnail</th>\n",
       "      <td>114389</td>\n",
       "      <td>3112</td>\n",
       "      <td>2.57</td>\n",
       "      <td>118108</td>\n",
       "      <td>97.43</td>\n",
       "      <td>object</td>\n",
       "      <td>0.97</td>\n",
       "    </tr>\n",
       "  </tbody>\n",
       "</table>\n",
       "</div>"
      ],
      "text/plain": [
       "                            Valores Únicos   Nulos  % Nulos  No Nulos  \\\n",
       "Unnamed: 0                          121220       0     0.00    121220   \n",
       "operation                                1       0     0.00    121220   \n",
       "property_type                            4       0     0.00    121220   \n",
       "place_name                            1060      23     0.02    121197   \n",
       "place_with_parent_names               1164       0     0.00    121220   \n",
       "country_name                             1       0     0.00    121220   \n",
       "state_name                              28       0     0.00    121220   \n",
       "geonames_id                            646   18717    15.44    102503   \n",
       "lat-lon                              47203   51550    42.53     69670   \n",
       "lat                                  46495   51550    42.53     69670   \n",
       "lon                                  46522   51550    42.53     69670   \n",
       "price                                 9746   20410    16.84    100810   \n",
       "currency                                 4   20411    16.84    100809   \n",
       "price_aprox_local_currency           10364   20410    16.84    100810   \n",
       "price_aprox_usd                      10364   20410    16.84    100810   \n",
       "surface_total_in_m2                   1687   39328    32.44     81892   \n",
       "surface_covered_in_m2                  995   19907    16.42    101313   \n",
       "price_usd_per_m2                     25567   52603    43.40     68617   \n",
       "price_per_m2                         25185   33562    27.69     87658   \n",
       "floor                                  182  113321    93.48      7899   \n",
       "rooms                                   31   73830    60.91     47390   \n",
       "expenses                               982  106958    88.23     14262   \n",
       "properati_url                       121220       0     0.00    121220   \n",
       "description                         104055       2     0.00    121218   \n",
       "title                                72705       0     0.00    121220   \n",
       "image_thumbnail                     114389    3112     2.57    118108   \n",
       "\n",
       "                            % No Nulos    Tipos  Tamaño (mb)  \n",
       "Unnamed: 0                      100.00    int64         0.97  \n",
       "operation                       100.00   object         0.97  \n",
       "property_type                   100.00   object         0.97  \n",
       "place_name                       99.98   object         0.97  \n",
       "place_with_parent_names         100.00   object         0.97  \n",
       "country_name                    100.00   object         0.97  \n",
       "state_name                      100.00   object         0.97  \n",
       "geonames_id                      84.56  float64         0.97  \n",
       "lat-lon                          57.47   object         0.97  \n",
       "lat                              57.47  float64         0.97  \n",
       "lon                              57.47  float64         0.97  \n",
       "price                            83.16  float64         0.97  \n",
       "currency                         83.16   object         0.97  \n",
       "price_aprox_local_currency       83.16  float64         0.97  \n",
       "price_aprox_usd                  83.16  float64         0.97  \n",
       "surface_total_in_m2              67.56  float64         0.97  \n",
       "surface_covered_in_m2            83.58  float64         0.97  \n",
       "price_usd_per_m2                 56.60  float64         0.97  \n",
       "price_per_m2                     72.31  float64         0.97  \n",
       "floor                             6.52  float64         0.97  \n",
       "rooms                            39.09  float64         0.97  \n",
       "expenses                         11.77  float64         0.97  \n",
       "properati_url                   100.00   object         0.97  \n",
       "description                     100.00   object         0.97  \n",
       "title                           100.00   object         0.97  \n",
       "image_thumbnail                  97.43   object         0.97  "
      ]
     },
     "execution_count": 41,
     "metadata": {},
     "output_type": "execute_result"
    }
   ],
   "source": [
    "detalle_df_columns(original_data.columns, original_data)"
   ]
  },
  {
   "attachments": {
    "Linea_divisoria.png": {
     "image/png": "[encoded data removed]"
    }
   },
   "cell_type": "markdown",
   "metadata": {},
   "source": [
    "![Linea_divisoria.png](attachment:Linea_divisoria.png)"
   ]
  },
  {
   "cell_type": "markdown",
   "metadata": {},
   "source": [
    "### Análisis de Publicaciones Duplicadas\n",
    "\n",
    "Analizamos si existen publicaciones duplicadas a través de la columna **\"properati_url\"** para ver si es necesario eliminar o no las mismas"
   ]
  },
  {
   "cell_type": "code",
   "execution_count": 37,
   "metadata": {},
   "outputs": [
    {
     "name": "stdout",
     "output_type": "stream",
     "text": [
      "Descripción de columna properati_url\n",
      "Valores Únicos    121220\n",
      "Nulos                  0\n",
      "% Nulos             0.00\n",
      "No Nulos          121220\n",
      "% No Nulos        100.00\n",
      "Tipos             object\n",
      "Tamaño (mb)         0.97\n",
      "Name: properati_url, dtype: object\n",
      "\n",
      "Total de registros del dataset original 121220\n"
     ]
    }
   ],
   "source": [
    "#Llamamos a la función para describir el dataframe\n",
    "print(\"Descripción de columna properati_url\")\n",
    "print(detalle_df_columns(original_data.columns, original_data).loc['properati_url'])\n",
    "print(\"\")\n",
    "print(\"Total de registros del dataset original \" + str(original_data.shape[0]))\n"
   ]
  },
  {
   "cell_type": "markdown",
   "metadata": {},
   "source": [
    "Como vemos en la descripción, los valores únicos y la cantidad de registros (filas) que tiene el conjunto de datos original son iguales, 121220 registros, lo que pareciera indicar que no hay valores duplicados de publicaciones"
   ]
  },
  {
   "attachments": {
    "Linea_divisoria.png": {
     "image/png": "[encoded data removed]"
    }
   },
   "cell_type": "markdown",
   "metadata": {},
   "source": [
    "![Linea_divisoria.png](attachment:Linea_divisoria.png)"
   ]
  },
  {
   "cell_type": "markdown",
   "metadata": {},
   "source": [
    "### Análisis de Columnas Hipoteticemente Innecesarias en el conjunto de datos resultante\n",
    "\n",
    "Análisis del contenido, cantidad de nulos y tipos de columnas para determinar si son necesarias, si debemos completar infromación o descartar las mismas. Algunas de estas colulmnas inicialmente nos sirven para completar datos en la columnas de interes, pero luego ya no son necesarias en el dataset resultado\n",
    "\n",
    "- **'Unnamed: 0'**: parece corresponder a un índice numérico que puede ser reemplazado con el indice implicito.\n",
    "- **'operation'**: se repite el mismo valor **sell** en todas las filas.\n",
    "- **'place_with_parent_names'**: es una cadena de texto que concatena 'country_name', 'state_name' y 'place_name'.\n",
    "- **'country_name'**: se repite el mismo valor **Argentina** en todas las filas.\n",
    "- **'geonames_id'**: se debe buscar más información sobre este campo.\n",
    "- **'lat-lon'**: se debe buscar más información sobre este campo o lo podemos reemplazar con los campos lat y lon.\n",
    "- **'properati_url'**: vínculo a la publicación desde la que se obtuvieron y/o corresponden los datos.\n",
    "- **'description'**: texto con datos adicionales sobre la publicación.\n",
    "- **'title'**: título de la publicación.\n",
    "- **'image_thumbnail'**: vínculo a la imagen miniatura de la publicación.\n"
   ]
  },
  {
   "cell_type": "code",
   "execution_count": null,
   "metadata": {},
   "outputs": [],
   "source": []
  },
  {
   "attachments": {
    "Linea_divisoria.png": {
     "image/png": "[encoded data removed]"
    }
   },
   "cell_type": "markdown",
   "metadata": {},
   "source": [
    "![Linea_divisoria.png](attachment:Linea_divisoria.png)"
   ]
  },
  {
   "cell_type": "markdown",
   "metadata": {},
   "source": [
    "## Análisis y Tratamiento de de Variables\n",
    "\n",
    "Análisis del contenido, cantidad de nulos y tipos de cada variable para determinar si debemos completar infromación, crear nuevas variables a partir del tratamiento de otras o desetimar dicha variable"
   ]
  },
  {
   "cell_type": "markdown",
   "metadata": {},
   "source": [
    "## Variable \"Unnamed: 0\""
   ]
  },
  {
   "cell_type": "code",
   "execution_count": 42,
   "metadata": {},
   "outputs": [
    {
     "data": {
      "text/plain": [
       "Valores Únicos    121220\n",
       "Nulos                  0\n",
       "% Nulos             0.00\n",
       "No Nulos          121220\n",
       "% No Nulos        100.00\n",
       "Tipos              int64\n",
       "Tamaño (mb)         0.97\n",
       "Name: Unnamed: 0, dtype: object"
      ]
     },
     "execution_count": 42,
     "metadata": {},
     "output_type": "execute_result"
    }
   ],
   "source": [
    "detalle_df_columns(original_data.columns, original_data).loc['Unnamed: 0']"
   ]
  },
  {
   "cell_type": "code",
   "execution_count": 44,
   "metadata": {},
   "outputs": [
    {
     "data": {
      "text/plain": [
       "True"
      ]
     },
     "execution_count": 44,
     "metadata": {},
     "output_type": "execute_result"
    }
   ],
   "source": [
    "any(original_data['Unnamed: 0'].values == np.arange(0, original_data.shape[0]))"
   ]
  },
  {
   "cell_type": "markdown",
   "metadata": {},
   "source": [
    "Podemos determinar que esta variable es un número secuencial que va desde 0 a n, donde n es el tamaño del conjunto de datos, al compararlo con un array de Numpy que lo definimos de 0 a la cantidad de elememntos del conjunto de datos vemos que todos los elementos de la variable se encuentran en el array cuando lo evaluamos lógicamente con la funcíon **\"any\"** que devuelve verdadero si todos los elementos existen en ambos lados de la comparación lógica"
   ]
  },
  {
   "cell_type": "markdown",
   "metadata": {},
   "source": [
    "<img src='Linea_Divisoria_fina.png' align='left' width=100%/>"
   ]
  },
  {
   "cell_type": "markdown",
   "metadata": {},
   "source": [
    "## Variable \"operation\""
   ]
  },
  {
   "cell_type": "code",
   "execution_count": 64,
   "metadata": {},
   "outputs": [
    {
     "data": {
      "text/plain": [
       "0         sell\n",
       "1         sell\n",
       "2         sell\n",
       "3         sell\n",
       "4         sell\n",
       "          ... \n",
       "121215    sell\n",
       "121216    sell\n",
       "121217    sell\n",
       "121218    sell\n",
       "121219    sell\n",
       "Name: operation, Length: 121220, dtype: object"
      ]
     },
     "execution_count": 64,
     "metadata": {},
     "output_type": "execute_result"
    }
   ],
   "source": [
    "original_data['operation']"
   ]
  },
  {
   "cell_type": "code",
   "execution_count": 51,
   "metadata": {},
   "outputs": [
    {
     "data": {
      "text/plain": [
       "Valores Únicos         1\n",
       "Nulos                  0\n",
       "% Nulos             0.00\n",
       "No Nulos          121220\n",
       "% No Nulos        100.00\n",
       "Tipos             object\n",
       "Tamaño (mb)         0.97\n",
       "Name: operation, dtype: object"
      ]
     },
     "execution_count": 51,
     "metadata": {},
     "output_type": "execute_result"
    }
   ],
   "source": [
    "detalle_df_columns(original_data.columns, original_data).loc['operation']"
   ]
  },
  {
   "cell_type": "code",
   "execution_count": 57,
   "metadata": {},
   "outputs": [
    {
     "data": {
      "text/plain": [
       "sell    121220\n",
       "Name: operation, dtype: int64"
      ]
     },
     "execution_count": 57,
     "metadata": {},
     "output_type": "execute_result"
    }
   ],
   "source": [
    "original_data['operation'].value_counts()"
   ]
  },
  {
   "cell_type": "markdown",
   "metadata": {},
   "source": [
    "En el detalle de la columna podemos ver que en valores únicos dice 1, y esto no indica que esta variable toma un sólo valor. Para corroborar esto, realizamos un recuento de valores únicos en esta columna y podemos observar que todos los registrso tienen el valor **\"sell\"**"
   ]
  },
  {
   "cell_type": "markdown",
   "metadata": {},
   "source": [
    "<img src='Linea_Divisoria_fina.png' align='left' width=100%/>"
   ]
  },
  {
   "cell_type": "markdown",
   "metadata": {},
   "source": [
    "## Variable \"property_type\t\""
   ]
  },
  {
   "cell_type": "code",
   "execution_count": 65,
   "metadata": {},
   "outputs": [
    {
     "data": {
      "text/plain": [
       "0                PH\n",
       "1         apartment\n",
       "2         apartment\n",
       "3                PH\n",
       "4         apartment\n",
       "            ...    \n",
       "121215    apartment\n",
       "121216        house\n",
       "121217    apartment\n",
       "121218    apartment\n",
       "121219    apartment\n",
       "Name: property_type, Length: 121220, dtype: object"
      ]
     },
     "execution_count": 65,
     "metadata": {},
     "output_type": "execute_result"
    }
   ],
   "source": [
    "original_data['property_type']"
   ]
  },
  {
   "cell_type": "code",
   "execution_count": 58,
   "metadata": {},
   "outputs": [
    {
     "data": {
      "text/plain": [
       "Valores Únicos         4\n",
       "Nulos                  0\n",
       "% Nulos             0.00\n",
       "No Nulos          121220\n",
       "% No Nulos        100.00\n",
       "Tipos             object\n",
       "Tamaño (mb)         0.97\n",
       "Name: property_type, dtype: object"
      ]
     },
     "execution_count": 58,
     "metadata": {},
     "output_type": "execute_result"
    }
   ],
   "source": [
    "detalle_df_columns(original_data.columns, original_data).loc['property_type']"
   ]
  },
  {
   "cell_type": "code",
   "execution_count": 59,
   "metadata": {},
   "outputs": [
    {
     "data": {
      "text/plain": [
       "apartment    71065\n",
       "house        40268\n",
       "PH            5751\n",
       "store         4136\n",
       "Name: property_type, dtype: int64"
      ]
     },
     "execution_count": 59,
     "metadata": {},
     "output_type": "execute_result"
    }
   ],
   "source": [
    "original_data['property_type'].value_counts()"
   ]
  },
  {
   "cell_type": "markdown",
   "metadata": {},
   "source": [
    "En el detalle de esta columna podemos ver que no presenta ningún problema y se encuetra el tipo de propiedad, tampoco falta ningun registro dado que no tiene valores nulos"
   ]
  },
  {
   "cell_type": "markdown",
   "metadata": {},
   "source": [
    "<img src='Linea_Divisoria_fina.png' align='left' width=100%/>"
   ]
  },
  {
   "cell_type": "markdown",
   "metadata": {},
   "source": [
    "## Variable \"place_name\"\t"
   ]
  },
  {
   "cell_type": "code",
   "execution_count": 66,
   "metadata": {},
   "outputs": [
    {
     "data": {
      "text/plain": [
       "0               Mataderos\n",
       "1                La Plata\n",
       "2               Mataderos\n",
       "3                 Liniers\n",
       "4                  Centro\n",
       "               ...       \n",
       "121215           Belgrano\n",
       "121216             Beccar\n",
       "121217      Villa Urquiza\n",
       "121218        Plaza Colón\n",
       "121219    Capital Federal\n",
       "Name: place_name, Length: 121220, dtype: object"
      ]
     },
     "execution_count": 66,
     "metadata": {},
     "output_type": "execute_result"
    }
   ],
   "source": [
    "original_data['place_name']"
   ]
  },
  {
   "cell_type": "code",
   "execution_count": 60,
   "metadata": {},
   "outputs": [
    {
     "data": {
      "text/plain": [
       "Valores Únicos      1060\n",
       "Nulos                 23\n",
       "% Nulos             0.02\n",
       "No Nulos          121197\n",
       "% No Nulos         99.98\n",
       "Tipos             object\n",
       "Tamaño (mb)         0.97\n",
       "Name: place_name, dtype: object"
      ]
     },
     "execution_count": 60,
     "metadata": {},
     "output_type": "execute_result"
    }
   ],
   "source": [
    "detalle_df_columns(original_data.columns, original_data).loc['place_name']"
   ]
  },
  {
   "cell_type": "markdown",
   "metadata": {},
   "source": [
    "Esta columna tiene un valor insignificate de nulos, lo que indica que está mayormente completa, de todos modos más adelante en el análisis veremos como completar los valores faltantes"
   ]
  },
  {
   "cell_type": "markdown",
   "metadata": {},
   "source": [
    "<img src='Linea_Divisoria_fina.png' align='left' width=100%/>"
   ]
  },
  {
   "cell_type": "markdown",
   "metadata": {},
   "source": [
    "## Variable \"place_with_parent_names\""
   ]
  },
  {
   "cell_type": "code",
   "execution_count": 67,
   "metadata": {},
   "outputs": [
    {
     "data": {
      "text/plain": [
       "0                     |Argentina|Capital Federal|Mataderos|\n",
       "1               |Argentina|Bs.As. G.B.A. Zona Sur|La Plata|\n",
       "2                     |Argentina|Capital Federal|Mataderos|\n",
       "3                       |Argentina|Capital Federal|Liniers|\n",
       "4         |Argentina|Buenos Aires Costa Atlántica|Mar de...\n",
       "                                ...                        \n",
       "121215                 |Argentina|Capital Federal|Belgrano|\n",
       "121216    |Argentina|Bs.As. G.B.A. Zona Norte|San Isidro...\n",
       "121217            |Argentina|Capital Federal|Villa Urquiza|\n",
       "121218    |Argentina|Buenos Aires Costa Atlántica|Mar de...\n",
       "121219                          |Argentina|Capital Federal|\n",
       "Name: place_with_parent_names, Length: 121220, dtype: object"
      ]
     },
     "execution_count": 67,
     "metadata": {},
     "output_type": "execute_result"
    }
   ],
   "source": [
    "original_data['place_with_parent_names']"
   ]
  },
  {
   "cell_type": "code",
   "execution_count": 68,
   "metadata": {},
   "outputs": [
    {
     "data": {
      "text/plain": [
       "Valores Únicos      1164\n",
       "Nulos                  0\n",
       "% Nulos             0.00\n",
       "No Nulos          121220\n",
       "% No Nulos        100.00\n",
       "Tipos             object\n",
       "Tamaño (mb)         0.97\n",
       "Name: place_with_parent_names, dtype: object"
      ]
     },
     "execution_count": 68,
     "metadata": {},
     "output_type": "execute_result"
    }
   ],
   "source": [
    "detalle_df_columns(original_data.columns, original_data).loc['place_with_parent_names']"
   ]
  },
  {
   "cell_type": "markdown",
   "metadata": {},
   "source": [
    "El detalle de esta columna nos muestra que no tiene registros nulos, pero en las vistas previas podemos ver que pereciera ser la concatenación de otras tres columnas que también existen en el conjunto de datos."
   ]
  },
  {
   "cell_type": "code",
   "execution_count": 74,
   "metadata": {},
   "outputs": [
    {
     "data": {
      "text/html": [
       "<div>\n",
       "<style scoped>\n",
       "    .dataframe tbody tr th:only-of-type {\n",
       "        vertical-align: middle;\n",
       "    }\n",
       "\n",
       "    .dataframe tbody tr th {\n",
       "        vertical-align: top;\n",
       "    }\n",
       "\n",
       "    .dataframe thead th {\n",
       "        text-align: right;\n",
       "    }\n",
       "</style>\n",
       "<table border=\"1\" class=\"dataframe\">\n",
       "  <thead>\n",
       "    <tr style=\"text-align: right;\">\n",
       "      <th></th>\n",
       "      <th>Valores Únicos</th>\n",
       "      <th>Nulos</th>\n",
       "      <th>% Nulos</th>\n",
       "      <th>No Nulos</th>\n",
       "      <th>% No Nulos</th>\n",
       "      <th>Tipos</th>\n",
       "      <th>Tamaño (mb)</th>\n",
       "    </tr>\n",
       "  </thead>\n",
       "  <tbody>\n",
       "    <tr>\n",
       "      <th>place_with_parent_names</th>\n",
       "      <td>1164</td>\n",
       "      <td>0</td>\n",
       "      <td>0.00</td>\n",
       "      <td>121220</td>\n",
       "      <td>100.00</td>\n",
       "      <td>object</td>\n",
       "      <td>0.97</td>\n",
       "    </tr>\n",
       "    <tr>\n",
       "      <th>country_name</th>\n",
       "      <td>1</td>\n",
       "      <td>0</td>\n",
       "      <td>0.00</td>\n",
       "      <td>121220</td>\n",
       "      <td>100.00</td>\n",
       "      <td>object</td>\n",
       "      <td>0.97</td>\n",
       "    </tr>\n",
       "    <tr>\n",
       "      <th>state_name</th>\n",
       "      <td>28</td>\n",
       "      <td>0</td>\n",
       "      <td>0.00</td>\n",
       "      <td>121220</td>\n",
       "      <td>100.00</td>\n",
       "      <td>object</td>\n",
       "      <td>0.97</td>\n",
       "    </tr>\n",
       "    <tr>\n",
       "      <th>place_name</th>\n",
       "      <td>1060</td>\n",
       "      <td>23</td>\n",
       "      <td>0.02</td>\n",
       "      <td>121197</td>\n",
       "      <td>99.98</td>\n",
       "      <td>object</td>\n",
       "      <td>0.97</td>\n",
       "    </tr>\n",
       "  </tbody>\n",
       "</table>\n",
       "</div>"
      ],
      "text/plain": [
       "                         Valores Únicos  Nulos  % Nulos  No Nulos  % No Nulos  \\\n",
       "place_with_parent_names            1164      0     0.00    121220      100.00   \n",
       "country_name                          1      0     0.00    121220      100.00   \n",
       "state_name                           28      0     0.00    121220      100.00   \n",
       "place_name                         1060     23     0.02    121197       99.98   \n",
       "\n",
       "                          Tipos  Tamaño (mb)  \n",
       "place_with_parent_names  object         0.97  \n",
       "country_name             object         0.97  \n",
       "state_name               object         0.97  \n",
       "place_name               object         0.97  "
      ]
     },
     "execution_count": 74,
     "metadata": {},
     "output_type": "execute_result"
    }
   ],
   "source": [
    "detalle_df_columns(original_data.columns, original_data).loc \\\n",
    "[['place_with_parent_names', 'country_name', 'state_name', 'place_name']]"
   ]
  },
  {
   "cell_type": "code",
   "execution_count": 75,
   "metadata": {},
   "outputs": [
    {
     "data": {
      "text/html": [
       "<div>\n",
       "<style scoped>\n",
       "    .dataframe tbody tr th:only-of-type {\n",
       "        vertical-align: middle;\n",
       "    }\n",
       "\n",
       "    .dataframe tbody tr th {\n",
       "        vertical-align: top;\n",
       "    }\n",
       "\n",
       "    .dataframe thead th {\n",
       "        text-align: right;\n",
       "    }\n",
       "</style>\n",
       "<table border=\"1\" class=\"dataframe\">\n",
       "  <thead>\n",
       "    <tr style=\"text-align: right;\">\n",
       "      <th></th>\n",
       "      <th>place_with_parent_names</th>\n",
       "      <th>country_name</th>\n",
       "      <th>state_name</th>\n",
       "      <th>place_name</th>\n",
       "    </tr>\n",
       "  </thead>\n",
       "  <tbody>\n",
       "    <tr>\n",
       "      <th>0</th>\n",
       "      <td>|Argentina|Capital Federal|Mataderos|</td>\n",
       "      <td>Argentina</td>\n",
       "      <td>Capital Federal</td>\n",
       "      <td>Mataderos</td>\n",
       "    </tr>\n",
       "    <tr>\n",
       "      <th>1</th>\n",
       "      <td>|Argentina|Bs.As. G.B.A. Zona Sur|La Plata|</td>\n",
       "      <td>Argentina</td>\n",
       "      <td>Bs.As. G.B.A. Zona Sur</td>\n",
       "      <td>La Plata</td>\n",
       "    </tr>\n",
       "    <tr>\n",
       "      <th>2</th>\n",
       "      <td>|Argentina|Capital Federal|Mataderos|</td>\n",
       "      <td>Argentina</td>\n",
       "      <td>Capital Federal</td>\n",
       "      <td>Mataderos</td>\n",
       "    </tr>\n",
       "    <tr>\n",
       "      <th>3</th>\n",
       "      <td>|Argentina|Capital Federal|Liniers|</td>\n",
       "      <td>Argentina</td>\n",
       "      <td>Capital Federal</td>\n",
       "      <td>Liniers</td>\n",
       "    </tr>\n",
       "    <tr>\n",
       "      <th>4</th>\n",
       "      <td>|Argentina|Buenos Aires Costa Atlántica|Mar de...</td>\n",
       "      <td>Argentina</td>\n",
       "      <td>Buenos Aires Costa Atlántica</td>\n",
       "      <td>Centro</td>\n",
       "    </tr>\n",
       "    <tr>\n",
       "      <th>...</th>\n",
       "      <td>...</td>\n",
       "      <td>...</td>\n",
       "      <td>...</td>\n",
       "      <td>...</td>\n",
       "    </tr>\n",
       "    <tr>\n",
       "      <th>121215</th>\n",
       "      <td>|Argentina|Capital Federal|Belgrano|</td>\n",
       "      <td>Argentina</td>\n",
       "      <td>Capital Federal</td>\n",
       "      <td>Belgrano</td>\n",
       "    </tr>\n",
       "    <tr>\n",
       "      <th>121216</th>\n",
       "      <td>|Argentina|Bs.As. G.B.A. Zona Norte|San Isidro...</td>\n",
       "      <td>Argentina</td>\n",
       "      <td>Bs.As. G.B.A. Zona Norte</td>\n",
       "      <td>Beccar</td>\n",
       "    </tr>\n",
       "    <tr>\n",
       "      <th>121217</th>\n",
       "      <td>|Argentina|Capital Federal|Villa Urquiza|</td>\n",
       "      <td>Argentina</td>\n",
       "      <td>Capital Federal</td>\n",
       "      <td>Villa Urquiza</td>\n",
       "    </tr>\n",
       "    <tr>\n",
       "      <th>121218</th>\n",
       "      <td>|Argentina|Buenos Aires Costa Atlántica|Mar de...</td>\n",
       "      <td>Argentina</td>\n",
       "      <td>Buenos Aires Costa Atlántica</td>\n",
       "      <td>Plaza Colón</td>\n",
       "    </tr>\n",
       "    <tr>\n",
       "      <th>121219</th>\n",
       "      <td>|Argentina|Capital Federal|</td>\n",
       "      <td>Argentina</td>\n",
       "      <td>Capital Federal</td>\n",
       "      <td>Capital Federal</td>\n",
       "    </tr>\n",
       "  </tbody>\n",
       "</table>\n",
       "<p>121220 rows × 4 columns</p>\n",
       "</div>"
      ],
      "text/plain": [
       "                                  place_with_parent_names country_name  \\\n",
       "0                   |Argentina|Capital Federal|Mataderos|    Argentina   \n",
       "1             |Argentina|Bs.As. G.B.A. Zona Sur|La Plata|    Argentina   \n",
       "2                   |Argentina|Capital Federal|Mataderos|    Argentina   \n",
       "3                     |Argentina|Capital Federal|Liniers|    Argentina   \n",
       "4       |Argentina|Buenos Aires Costa Atlántica|Mar de...    Argentina   \n",
       "...                                                   ...          ...   \n",
       "121215               |Argentina|Capital Federal|Belgrano|    Argentina   \n",
       "121216  |Argentina|Bs.As. G.B.A. Zona Norte|San Isidro...    Argentina   \n",
       "121217          |Argentina|Capital Federal|Villa Urquiza|    Argentina   \n",
       "121218  |Argentina|Buenos Aires Costa Atlántica|Mar de...    Argentina   \n",
       "121219                        |Argentina|Capital Federal|    Argentina   \n",
       "\n",
       "                          state_name       place_name  \n",
       "0                    Capital Federal        Mataderos  \n",
       "1             Bs.As. G.B.A. Zona Sur         La Plata  \n",
       "2                    Capital Federal        Mataderos  \n",
       "3                    Capital Federal          Liniers  \n",
       "4       Buenos Aires Costa Atlántica           Centro  \n",
       "...                              ...              ...  \n",
       "121215               Capital Federal         Belgrano  \n",
       "121216      Bs.As. G.B.A. Zona Norte           Beccar  \n",
       "121217               Capital Federal    Villa Urquiza  \n",
       "121218  Buenos Aires Costa Atlántica      Plaza Colón  \n",
       "121219               Capital Federal  Capital Federal  \n",
       "\n",
       "[121220 rows x 4 columns]"
      ]
     },
     "execution_count": 75,
     "metadata": {},
     "output_type": "execute_result"
    }
   ],
   "source": [
    "parent_names_concatenado = original_data[['place_with_parent_names', 'country_name', 'state_name', 'place_name']]\n",
    "parent_names_concatenado"
   ]
  },
  {
   "cell_type": "code",
   "execution_count": 91,
   "metadata": {},
   "outputs": [
    {
     "name": "stdout",
     "output_type": "stream",
     "text": [
      "\n",
      "Cantidad de registros diferentes: 45220\n",
      "\n"
     ]
    },
    {
     "data": {
      "text/html": [
       "<div>\n",
       "<style scoped>\n",
       "    .dataframe tbody tr th:only-of-type {\n",
       "        vertical-align: middle;\n",
       "    }\n",
       "\n",
       "    .dataframe tbody tr th {\n",
       "        vertical-align: top;\n",
       "    }\n",
       "\n",
       "    .dataframe thead th {\n",
       "        text-align: right;\n",
       "    }\n",
       "</style>\n",
       "<table border=\"1\" class=\"dataframe\">\n",
       "  <thead>\n",
       "    <tr style=\"text-align: right;\">\n",
       "      <th></th>\n",
       "      <th>place_with_parent_names</th>\n",
       "      <th>country_name</th>\n",
       "      <th>state_name</th>\n",
       "      <th>place_name</th>\n",
       "      <th>Concatenado</th>\n",
       "    </tr>\n",
       "  </thead>\n",
       "  <tbody>\n",
       "    <tr>\n",
       "      <th>4</th>\n",
       "      <td>|Argentina|Buenos Aires Costa Atlántica|Mar de...</td>\n",
       "      <td>Argentina</td>\n",
       "      <td>Buenos Aires Costa Atlántica</td>\n",
       "      <td>Centro</td>\n",
       "      <td>|Argentina|Buenos Aires Costa Atlántica|Centro|</td>\n",
       "    </tr>\n",
       "    <tr>\n",
       "      <th>6</th>\n",
       "      <td>|Argentina|Bs.As. G.B.A. Zona Norte|Vicente Ló...</td>\n",
       "      <td>Argentina</td>\n",
       "      <td>Bs.As. G.B.A. Zona Norte</td>\n",
       "      <td>Munro</td>\n",
       "      <td>|Argentina|Bs.As. G.B.A. Zona Norte|Munro|</td>\n",
       "    </tr>\n",
       "    <tr>\n",
       "      <th>12</th>\n",
       "      <td>|Argentina|Bs.As. G.B.A. Zona Norte|San Isidro...</td>\n",
       "      <td>Argentina</td>\n",
       "      <td>Bs.As. G.B.A. Zona Norte</td>\n",
       "      <td>Martínez</td>\n",
       "      <td>|Argentina|Bs.As. G.B.A. Zona Norte|Martínez|</td>\n",
       "    </tr>\n",
       "  </tbody>\n",
       "</table>\n",
       "</div>"
      ],
      "text/plain": [
       "                              place_with_parent_names country_name  \\\n",
       "4   |Argentina|Buenos Aires Costa Atlántica|Mar de...    Argentina   \n",
       "6   |Argentina|Bs.As. G.B.A. Zona Norte|Vicente Ló...    Argentina   \n",
       "12  |Argentina|Bs.As. G.B.A. Zona Norte|San Isidro...    Argentina   \n",
       "\n",
       "                      state_name place_name  \\\n",
       "4   Buenos Aires Costa Atlántica     Centro   \n",
       "6       Bs.As. G.B.A. Zona Norte      Munro   \n",
       "12      Bs.As. G.B.A. Zona Norte   Martínez   \n",
       "\n",
       "                                        Concatenado  \n",
       "4   |Argentina|Buenos Aires Costa Atlántica|Centro|  \n",
       "6        |Argentina|Bs.As. G.B.A. Zona Norte|Munro|  \n",
       "12    |Argentina|Bs.As. G.B.A. Zona Norte|Martínez|  "
      ]
     },
     "execution_count": 91,
     "metadata": {},
     "output_type": "execute_result"
    }
   ],
   "source": [
    "parent_names_concatenado['Concatenado'] = '|' + parent_names_concatenado.iloc[:, 1] \\\n",
    "+ '|' + parent_names_concatenado.iloc[:, 2] + '|' + parent_names_concatenado.iloc[:, 3] + '|'\n",
    "# comparo el campo concatenado con el campo place_with_parent_names para ver si hay diferencias\n",
    "parent_names_concatenado_diferrencias = parent_names_concatenado.loc[(parent_names_concatenado['Concatenado'] != \\\n",
    "                               parent_names_concatenado['place_with_parent_names'])]\n",
    "print(\"\")\n",
    "print(\"Cantidad de registros diferentes: \" + str(parent_names_concatenado_diferrencias.shape[0]))\n",
    "print(\"\")\n",
    "parent_names_concatenado_diferrencias.head(3)"
   ]
  },
  {
   "cell_type": "code",
   "execution_count": 126,
   "metadata": {},
   "outputs": [
    {
     "data": {
      "text/html": [
       "<div>\n",
       "<style scoped>\n",
       "    .dataframe tbody tr th:only-of-type {\n",
       "        vertical-align: middle;\n",
       "    }\n",
       "\n",
       "    .dataframe tbody tr th {\n",
       "        vertical-align: top;\n",
       "    }\n",
       "\n",
       "    .dataframe thead th {\n",
       "        text-align: right;\n",
       "    }\n",
       "</style>\n",
       "<table border=\"1\" class=\"dataframe\">\n",
       "  <thead>\n",
       "    <tr style=\"text-align: right;\">\n",
       "      <th></th>\n",
       "      <th>0</th>\n",
       "      <th>1</th>\n",
       "      <th>2</th>\n",
       "      <th>3</th>\n",
       "      <th>4</th>\n",
       "      <th>5</th>\n",
       "      <th>6</th>\n",
       "    </tr>\n",
       "  </thead>\n",
       "  <tbody>\n",
       "    <tr>\n",
       "      <th>0</th>\n",
       "      <td></td>\n",
       "      <td>Argentina</td>\n",
       "      <td>Capital Federal</td>\n",
       "      <td>Mataderos</td>\n",
       "      <td></td>\n",
       "      <td>NaN</td>\n",
       "      <td>NaN</td>\n",
       "    </tr>\n",
       "    <tr>\n",
       "      <th>1</th>\n",
       "      <td></td>\n",
       "      <td>Argentina</td>\n",
       "      <td>Bs.As. G.B.A. Zona Sur</td>\n",
       "      <td>La Plata</td>\n",
       "      <td></td>\n",
       "      <td>NaN</td>\n",
       "      <td>NaN</td>\n",
       "    </tr>\n",
       "    <tr>\n",
       "      <th>2</th>\n",
       "      <td></td>\n",
       "      <td>Argentina</td>\n",
       "      <td>Capital Federal</td>\n",
       "      <td>Mataderos</td>\n",
       "      <td></td>\n",
       "      <td>NaN</td>\n",
       "      <td>NaN</td>\n",
       "    </tr>\n",
       "    <tr>\n",
       "      <th>3</th>\n",
       "      <td></td>\n",
       "      <td>Argentina</td>\n",
       "      <td>Capital Federal</td>\n",
       "      <td>Liniers</td>\n",
       "      <td></td>\n",
       "      <td>NaN</td>\n",
       "      <td>NaN</td>\n",
       "    </tr>\n",
       "    <tr>\n",
       "      <th>4</th>\n",
       "      <td></td>\n",
       "      <td>Argentina</td>\n",
       "      <td>Buenos Aires Costa Atlántica</td>\n",
       "      <td>Mar del Plata</td>\n",
       "      <td>Centro</td>\n",
       "      <td></td>\n",
       "      <td>NaN</td>\n",
       "    </tr>\n",
       "    <tr>\n",
       "      <th>...</th>\n",
       "      <td>...</td>\n",
       "      <td>...</td>\n",
       "      <td>...</td>\n",
       "      <td>...</td>\n",
       "      <td>...</td>\n",
       "      <td>...</td>\n",
       "      <td>...</td>\n",
       "    </tr>\n",
       "    <tr>\n",
       "      <th>121215</th>\n",
       "      <td></td>\n",
       "      <td>Argentina</td>\n",
       "      <td>Capital Federal</td>\n",
       "      <td>Belgrano</td>\n",
       "      <td></td>\n",
       "      <td>NaN</td>\n",
       "      <td>NaN</td>\n",
       "    </tr>\n",
       "    <tr>\n",
       "      <th>121216</th>\n",
       "      <td></td>\n",
       "      <td>Argentina</td>\n",
       "      <td>Bs.As. G.B.A. Zona Norte</td>\n",
       "      <td>San Isidro</td>\n",
       "      <td>Beccar</td>\n",
       "      <td></td>\n",
       "      <td>NaN</td>\n",
       "    </tr>\n",
       "    <tr>\n",
       "      <th>121217</th>\n",
       "      <td></td>\n",
       "      <td>Argentina</td>\n",
       "      <td>Capital Federal</td>\n",
       "      <td>Villa Urquiza</td>\n",
       "      <td></td>\n",
       "      <td>NaN</td>\n",
       "      <td>NaN</td>\n",
       "    </tr>\n",
       "    <tr>\n",
       "      <th>121218</th>\n",
       "      <td></td>\n",
       "      <td>Argentina</td>\n",
       "      <td>Buenos Aires Costa Atlántica</td>\n",
       "      <td>Mar del Plata</td>\n",
       "      <td>Plaza Colón</td>\n",
       "      <td></td>\n",
       "      <td>NaN</td>\n",
       "    </tr>\n",
       "    <tr>\n",
       "      <th>121219</th>\n",
       "      <td></td>\n",
       "      <td>Argentina</td>\n",
       "      <td>Capital Federal</td>\n",
       "      <td></td>\n",
       "      <td>NaN</td>\n",
       "      <td>NaN</td>\n",
       "      <td>NaN</td>\n",
       "    </tr>\n",
       "  </tbody>\n",
       "</table>\n",
       "<p>121220 rows × 7 columns</p>\n",
       "</div>"
      ],
      "text/plain": [
       "       0           1                             2              3  \\\n",
       "0          Argentina               Capital Federal      Mataderos   \n",
       "1          Argentina        Bs.As. G.B.A. Zona Sur       La Plata   \n",
       "2          Argentina               Capital Federal      Mataderos   \n",
       "3          Argentina               Capital Federal        Liniers   \n",
       "4          Argentina  Buenos Aires Costa Atlántica  Mar del Plata   \n",
       "...    ..        ...                           ...            ...   \n",
       "121215     Argentina               Capital Federal       Belgrano   \n",
       "121216     Argentina      Bs.As. G.B.A. Zona Norte     San Isidro   \n",
       "121217     Argentina               Capital Federal  Villa Urquiza   \n",
       "121218     Argentina  Buenos Aires Costa Atlántica  Mar del Plata   \n",
       "121219     Argentina               Capital Federal                  \n",
       "\n",
       "                  4    5    6  \n",
       "0                    NaN  NaN  \n",
       "1                    NaN  NaN  \n",
       "2                    NaN  NaN  \n",
       "3                    NaN  NaN  \n",
       "4            Centro       NaN  \n",
       "...             ...  ...  ...  \n",
       "121215               NaN  NaN  \n",
       "121216       Beccar       NaN  \n",
       "121217               NaN  NaN  \n",
       "121218  Plaza Colón       NaN  \n",
       "121219          NaN  NaN  NaN  \n",
       "\n",
       "[121220 rows x 7 columns]"
      ]
     },
     "execution_count": 126,
     "metadata": {},
     "output_type": "execute_result"
    }
   ],
   "source": [
    "locaciones_df = original_data['place_with_parent_names'].apply(lambda x: pd.Series(x.split('|')))\n",
    "locaciones_df"
   ]
  },
  {
   "cell_type": "code",
   "execution_count": 158,
   "metadata": {},
   "outputs": [],
   "source": [
    "locaciones_df = locaciones_df.rename({1 : 'col1', 2 : 'col2', 3 : 'col3', 4 : 'col4', 5 : 'col5', 6 : 'col6'}, axis=1)"
   ]
  },
  {
   "cell_type": "code",
   "execution_count": 170,
   "metadata": {},
   "outputs": [
    {
     "data": {
      "text/html": [
       "<div>\n",
       "<style scoped>\n",
       "    .dataframe tbody tr th:only-of-type {\n",
       "        vertical-align: middle;\n",
       "    }\n",
       "\n",
       "    .dataframe tbody tr th {\n",
       "        vertical-align: top;\n",
       "    }\n",
       "\n",
       "    .dataframe thead th {\n",
       "        text-align: right;\n",
       "    }\n",
       "</style>\n",
       "<table border=\"1\" class=\"dataframe\">\n",
       "  <thead>\n",
       "    <tr style=\"text-align: right;\">\n",
       "      <th></th>\n",
       "      <th>Valores Únicos</th>\n",
       "      <th>Nulos</th>\n",
       "      <th>% Nulos</th>\n",
       "      <th>No Nulos</th>\n",
       "      <th>% No Nulos</th>\n",
       "      <th>Tipos</th>\n",
       "      <th>Tamaño (mb)</th>\n",
       "    </tr>\n",
       "  </thead>\n",
       "  <tbody>\n",
       "    <tr>\n",
       "      <th>0</th>\n",
       "      <td>1</td>\n",
       "      <td>0</td>\n",
       "      <td>0.00</td>\n",
       "      <td>121220</td>\n",
       "      <td>100.00</td>\n",
       "      <td>object</td>\n",
       "      <td>0.97</td>\n",
       "    </tr>\n",
       "    <tr>\n",
       "      <th>col1</th>\n",
       "      <td>1</td>\n",
       "      <td>0</td>\n",
       "      <td>0.00</td>\n",
       "      <td>121220</td>\n",
       "      <td>100.00</td>\n",
       "      <td>object</td>\n",
       "      <td>0.97</td>\n",
       "    </tr>\n",
       "    <tr>\n",
       "      <th>col2</th>\n",
       "      <td>28</td>\n",
       "      <td>0</td>\n",
       "      <td>0.00</td>\n",
       "      <td>121220</td>\n",
       "      <td>100.00</td>\n",
       "      <td>object</td>\n",
       "      <td>0.97</td>\n",
       "    </tr>\n",
       "    <tr>\n",
       "      <th>col3</th>\n",
       "      <td>539</td>\n",
       "      <td>0</td>\n",
       "      <td>0.00</td>\n",
       "      <td>121220</td>\n",
       "      <td>100.00</td>\n",
       "      <td>object</td>\n",
       "      <td>0.97</td>\n",
       "    </tr>\n",
       "    <tr>\n",
       "      <th>col4</th>\n",
       "      <td>568</td>\n",
       "      <td>4780</td>\n",
       "      <td>3.94</td>\n",
       "      <td>116440</td>\n",
       "      <td>96.06</td>\n",
       "      <td>object</td>\n",
       "      <td>0.97</td>\n",
       "    </tr>\n",
       "    <tr>\n",
       "      <th>col5</th>\n",
       "      <td>17</td>\n",
       "      <td>80780</td>\n",
       "      <td>66.64</td>\n",
       "      <td>40440</td>\n",
       "      <td>33.36</td>\n",
       "      <td>object</td>\n",
       "      <td>0.97</td>\n",
       "    </tr>\n",
       "    <tr>\n",
       "      <th>col6</th>\n",
       "      <td>1</td>\n",
       "      <td>120672</td>\n",
       "      <td>99.55</td>\n",
       "      <td>548</td>\n",
       "      <td>0.45</td>\n",
       "      <td>object</td>\n",
       "      <td>0.97</td>\n",
       "    </tr>\n",
       "  </tbody>\n",
       "</table>\n",
       "</div>"
      ],
      "text/plain": [
       "      Valores Únicos   Nulos  % Nulos  No Nulos  % No Nulos   Tipos  \\\n",
       "0                  1       0     0.00    121220      100.00  object   \n",
       "col1               1       0     0.00    121220      100.00  object   \n",
       "col2              28       0     0.00    121220      100.00  object   \n",
       "col3             539       0     0.00    121220      100.00  object   \n",
       "col4             568    4780     3.94    116440       96.06  object   \n",
       "col5              17   80780    66.64     40440       33.36  object   \n",
       "col6               1  120672    99.55       548        0.45  object   \n",
       "\n",
       "      Tamaño (mb)  \n",
       "0            0.97  \n",
       "col1         0.97  \n",
       "col2         0.97  \n",
       "col3         0.97  \n",
       "col4         0.97  \n",
       "col5         0.97  \n",
       "col6         0.97  "
      ]
     },
     "execution_count": 170,
     "metadata": {},
     "output_type": "execute_result"
    }
   ],
   "source": [
    "detalle_df_columns(locaciones_df.columns, locaciones_df)"
   ]
  },
  {
   "cell_type": "code",
   "execution_count": 172,
   "metadata": {},
   "outputs": [
    {
     "name": "stdout",
     "output_type": "stream",
     "text": [
      "\n",
      "Datos de split columna 4\n",
      "                                       76023\n",
      "Nordelta                                3863\n",
      "La Plata                                1767\n",
      "Olivos                                  1590\n",
      "Lomas de Zamora                         1253\n",
      "                                       ...  \n",
      "Barrio San Alfonso - Pilar del Este        1\n",
      "Barrio Cerrado \"La Emilia\"                 1\n",
      "Navarro                                    1\n",
      "Las Chacras                                1\n",
      "Pedro Luro                                 1\n",
      "Name: col4, Length: 568, dtype: int64\n",
      "\n",
      "Datos de split columna 5\n",
      "                             39892\n",
      "Barrio Los Alisos              278\n",
      "Barrio La Alameda               62\n",
      "BarrioPortezuelo                54\n",
      "Barrio Los Lagos                39\n",
      "Barrio El Golf                  32\n",
      "Enyoi                           17\n",
      "Barrio Los Castores             14\n",
      "QBay Yacht                      13\n",
      "Barrio La Isla                  10\n",
      "Barrio Las Glorietas            10\n",
      "Islas del Canal                  6\n",
      "Barrio Barrancas del Lago        4\n",
      "Barrio Los Sauces                4\n",
      "Barrio Cabos del Lago            3\n",
      "Barrio Los Tilos                 1\n",
      "Barrio El Yacht                  1\n",
      "Name: col5, dtype: int64\n",
      "\n",
      "Datos de split columna 6\n",
      "    548\n",
      "Name: col6, dtype: int64\n"
     ]
    }
   ],
   "source": [
    "mask_locaciones_df_col4 = locaciones_df['col4'].isnull()\n",
    "mask_locaciones_df_col5 = locaciones_df['col5'].isnull()\n",
    "mask_locaciones_df_col6 = locaciones_df['col6'].isnull()\n",
    "print(\"\")\n",
    "print(\"Datos de split columna 4\")\n",
    "print(locaciones_df.loc[~mask_locaciones_df_col4, [\"col4\"]]['col4'].value_counts())\n",
    "print(\"\")\n",
    "print(\"Datos de split columna 5\")\n",
    "print(locaciones_df.loc[~mask_locaciones_df_col4, [\"col5\"]]['col5'].value_counts())\n",
    "print(\"\")\n",
    "print(\"Datos de split columna 6\")\n",
    "print(locaciones_df.loc[~mask_locaciones_df_col4, [\"col6\"]]['col6'].value_counts())\n"
   ]
  },
  {
   "cell_type": "markdown",
   "metadata": {},
   "source": [
    "Con este análisis podemos ver que con la columna **\"place_with_parent_names\"** podríamos completar los 23 valores nulos de la columna **\"place_name\"**. En la vista de los valores nulos de este campo commparados con el campo que contiene los datos concatenados podermos ver que siempre es el mismo dato"
   ]
  },
  {
   "cell_type": "code",
   "execution_count": 94,
   "metadata": {},
   "outputs": [
    {
     "data": {
      "text/html": [
       "<div>\n",
       "<style scoped>\n",
       "    .dataframe tbody tr th:only-of-type {\n",
       "        vertical-align: middle;\n",
       "    }\n",
       "\n",
       "    .dataframe tbody tr th {\n",
       "        vertical-align: top;\n",
       "    }\n",
       "\n",
       "    .dataframe thead th {\n",
       "        text-align: right;\n",
       "    }\n",
       "</style>\n",
       "<table border=\"1\" class=\"dataframe\">\n",
       "  <thead>\n",
       "    <tr style=\"text-align: right;\">\n",
       "      <th></th>\n",
       "      <th>place_name</th>\n",
       "      <th>place_with_parent_names</th>\n",
       "    </tr>\n",
       "  </thead>\n",
       "  <tbody>\n",
       "    <tr>\n",
       "      <th>6489</th>\n",
       "      <td>NaN</td>\n",
       "      <td>|Argentina|Bs.As. G.B.A. Zona Norte|Tigre||</td>\n",
       "    </tr>\n",
       "    <tr>\n",
       "      <th>10201</th>\n",
       "      <td>NaN</td>\n",
       "      <td>|Argentina|Bs.As. G.B.A. Zona Norte|Tigre||</td>\n",
       "    </tr>\n",
       "    <tr>\n",
       "      <th>11451</th>\n",
       "      <td>NaN</td>\n",
       "      <td>|Argentina|Bs.As. G.B.A. Zona Norte|Tigre||</td>\n",
       "    </tr>\n",
       "    <tr>\n",
       "      <th>14839</th>\n",
       "      <td>NaN</td>\n",
       "      <td>|Argentina|Bs.As. G.B.A. Zona Norte|Tigre||</td>\n",
       "    </tr>\n",
       "    <tr>\n",
       "      <th>18622</th>\n",
       "      <td>NaN</td>\n",
       "      <td>|Argentina|Bs.As. G.B.A. Zona Norte|Tigre||</td>\n",
       "    </tr>\n",
       "    <tr>\n",
       "      <th>21922</th>\n",
       "      <td>NaN</td>\n",
       "      <td>|Argentina|Bs.As. G.B.A. Zona Norte|Tigre||</td>\n",
       "    </tr>\n",
       "    <tr>\n",
       "      <th>23664</th>\n",
       "      <td>NaN</td>\n",
       "      <td>|Argentina|Bs.As. G.B.A. Zona Norte|Tigre||</td>\n",
       "    </tr>\n",
       "    <tr>\n",
       "      <th>24722</th>\n",
       "      <td>NaN</td>\n",
       "      <td>|Argentina|Bs.As. G.B.A. Zona Norte|Tigre||</td>\n",
       "    </tr>\n",
       "    <tr>\n",
       "      <th>38856</th>\n",
       "      <td>NaN</td>\n",
       "      <td>|Argentina|Bs.As. G.B.A. Zona Norte|Tigre||</td>\n",
       "    </tr>\n",
       "    <tr>\n",
       "      <th>45970</th>\n",
       "      <td>NaN</td>\n",
       "      <td>|Argentina|Bs.As. G.B.A. Zona Norte|Tigre||</td>\n",
       "    </tr>\n",
       "    <tr>\n",
       "      <th>46642</th>\n",
       "      <td>NaN</td>\n",
       "      <td>|Argentina|Bs.As. G.B.A. Zona Norte|Tigre||</td>\n",
       "    </tr>\n",
       "    <tr>\n",
       "      <th>53130</th>\n",
       "      <td>NaN</td>\n",
       "      <td>|Argentina|Bs.As. G.B.A. Zona Norte|Tigre||</td>\n",
       "    </tr>\n",
       "    <tr>\n",
       "      <th>55306</th>\n",
       "      <td>NaN</td>\n",
       "      <td>|Argentina|Bs.As. G.B.A. Zona Norte|Tigre||</td>\n",
       "    </tr>\n",
       "    <tr>\n",
       "      <th>57703</th>\n",
       "      <td>NaN</td>\n",
       "      <td>|Argentina|Bs.As. G.B.A. Zona Norte|Tigre||</td>\n",
       "    </tr>\n",
       "    <tr>\n",
       "      <th>57759</th>\n",
       "      <td>NaN</td>\n",
       "      <td>|Argentina|Bs.As. G.B.A. Zona Norte|Tigre||</td>\n",
       "    </tr>\n",
       "    <tr>\n",
       "      <th>57764</th>\n",
       "      <td>NaN</td>\n",
       "      <td>|Argentina|Bs.As. G.B.A. Zona Norte|Tigre||</td>\n",
       "    </tr>\n",
       "    <tr>\n",
       "      <th>57793</th>\n",
       "      <td>NaN</td>\n",
       "      <td>|Argentina|Bs.As. G.B.A. Zona Norte|Tigre||</td>\n",
       "    </tr>\n",
       "    <tr>\n",
       "      <th>58004</th>\n",
       "      <td>NaN</td>\n",
       "      <td>|Argentina|Bs.As. G.B.A. Zona Norte|Tigre||</td>\n",
       "    </tr>\n",
       "    <tr>\n",
       "      <th>58037</th>\n",
       "      <td>NaN</td>\n",
       "      <td>|Argentina|Bs.As. G.B.A. Zona Norte|Tigre||</td>\n",
       "    </tr>\n",
       "    <tr>\n",
       "      <th>59069</th>\n",
       "      <td>NaN</td>\n",
       "      <td>|Argentina|Bs.As. G.B.A. Zona Norte|Tigre||</td>\n",
       "    </tr>\n",
       "    <tr>\n",
       "      <th>62411</th>\n",
       "      <td>NaN</td>\n",
       "      <td>|Argentina|Bs.As. G.B.A. Zona Norte|Tigre||</td>\n",
       "    </tr>\n",
       "    <tr>\n",
       "      <th>62413</th>\n",
       "      <td>NaN</td>\n",
       "      <td>|Argentina|Bs.As. G.B.A. Zona Norte|Tigre||</td>\n",
       "    </tr>\n",
       "    <tr>\n",
       "      <th>63849</th>\n",
       "      <td>NaN</td>\n",
       "      <td>|Argentina|Bs.As. G.B.A. Zona Norte|Tigre||</td>\n",
       "    </tr>\n",
       "  </tbody>\n",
       "</table>\n",
       "</div>"
      ],
      "text/plain": [
       "      place_name                      place_with_parent_names\n",
       "6489         NaN  |Argentina|Bs.As. G.B.A. Zona Norte|Tigre||\n",
       "10201        NaN  |Argentina|Bs.As. G.B.A. Zona Norte|Tigre||\n",
       "11451        NaN  |Argentina|Bs.As. G.B.A. Zona Norte|Tigre||\n",
       "14839        NaN  |Argentina|Bs.As. G.B.A. Zona Norte|Tigre||\n",
       "18622        NaN  |Argentina|Bs.As. G.B.A. Zona Norte|Tigre||\n",
       "21922        NaN  |Argentina|Bs.As. G.B.A. Zona Norte|Tigre||\n",
       "23664        NaN  |Argentina|Bs.As. G.B.A. Zona Norte|Tigre||\n",
       "24722        NaN  |Argentina|Bs.As. G.B.A. Zona Norte|Tigre||\n",
       "38856        NaN  |Argentina|Bs.As. G.B.A. Zona Norte|Tigre||\n",
       "45970        NaN  |Argentina|Bs.As. G.B.A. Zona Norte|Tigre||\n",
       "46642        NaN  |Argentina|Bs.As. G.B.A. Zona Norte|Tigre||\n",
       "53130        NaN  |Argentina|Bs.As. G.B.A. Zona Norte|Tigre||\n",
       "55306        NaN  |Argentina|Bs.As. G.B.A. Zona Norte|Tigre||\n",
       "57703        NaN  |Argentina|Bs.As. G.B.A. Zona Norte|Tigre||\n",
       "57759        NaN  |Argentina|Bs.As. G.B.A. Zona Norte|Tigre||\n",
       "57764        NaN  |Argentina|Bs.As. G.B.A. Zona Norte|Tigre||\n",
       "57793        NaN  |Argentina|Bs.As. G.B.A. Zona Norte|Tigre||\n",
       "58004        NaN  |Argentina|Bs.As. G.B.A. Zona Norte|Tigre||\n",
       "58037        NaN  |Argentina|Bs.As. G.B.A. Zona Norte|Tigre||\n",
       "59069        NaN  |Argentina|Bs.As. G.B.A. Zona Norte|Tigre||\n",
       "62411        NaN  |Argentina|Bs.As. G.B.A. Zona Norte|Tigre||\n",
       "62413        NaN  |Argentina|Bs.As. G.B.A. Zona Norte|Tigre||\n",
       "63849        NaN  |Argentina|Bs.As. G.B.A. Zona Norte|Tigre||"
      ]
     },
     "execution_count": 94,
     "metadata": {},
     "output_type": "execute_result"
    }
   ],
   "source": [
    "original_data[original_data['place_name'].isnull()].iloc[:,3:5]"
   ]
  },
  {
   "cell_type": "code",
   "execution_count": 103,
   "metadata": {},
   "outputs": [],
   "source": [
    "resultado_data['place_name'] = original_data.apply(lambda x: x['place_with_parent_names'].split('|')[2] \\\n",
    "                                                   if x['place_name'] in (np.nan, None) else x['place_name'], axis=1)"
   ]
  },
  {
   "cell_type": "code",
   "execution_count": 104,
   "metadata": {},
   "outputs": [
    {
     "data": {
      "text/plain": [
       "Valores Únicos      1060\n",
       "Nulos                 23\n",
       "% Nulos             0.02\n",
       "No Nulos          121197\n",
       "% No Nulos         99.98\n",
       "Tipos             object\n",
       "Tamaño (mb)         0.97\n",
       "Name: place_name, dtype: object"
      ]
     },
     "execution_count": 104,
     "metadata": {},
     "output_type": "execute_result"
    }
   ],
   "source": [
    "detalle_df_columns(original_data.columns, original_data).loc['place_name']"
   ]
  },
  {
   "cell_type": "code",
   "execution_count": 105,
   "metadata": {},
   "outputs": [
    {
     "data": {
      "text/plain": [
       "Valores Únicos      1060\n",
       "Nulos                  0\n",
       "% Nulos             0.00\n",
       "No Nulos          121220\n",
       "% No Nulos        100.00\n",
       "Tipos             object\n",
       "Tamaño (mb)         0.97\n",
       "Name: place_name, dtype: object"
      ]
     },
     "execution_count": 105,
     "metadata": {},
     "output_type": "execute_result"
    }
   ],
   "source": [
    "detalle_df_columns(resultado_data.columns, resultado_data).loc['place_name']"
   ]
  },
  {
   "cell_type": "markdown",
   "metadata": {},
   "source": [
    "En el conjunto de datos resultado pordemos ver que la columna **\"place_name\"** ya no tiene valores nulos, estos fueron recopilados a partir de la colulmna **\"place_with_parent_names\"**"
   ]
  },
  {
   "cell_type": "markdown",
   "metadata": {},
   "source": [
    "<img src='Linea_Divisoria_fina.png' align='left' width=100%/>"
   ]
  },
  {
   "cell_type": "markdown",
   "metadata": {},
   "source": [
    "## Variable \"country_name\""
   ]
  },
  {
   "cell_type": "code",
   "execution_count": 106,
   "metadata": {},
   "outputs": [
    {
     "data": {
      "text/plain": [
       "0         Argentina\n",
       "1         Argentina\n",
       "2         Argentina\n",
       "3         Argentina\n",
       "4         Argentina\n",
       "            ...    \n",
       "121215    Argentina\n",
       "121216    Argentina\n",
       "121217    Argentina\n",
       "121218    Argentina\n",
       "121219    Argentina\n",
       "Name: country_name, Length: 121220, dtype: object"
      ]
     },
     "execution_count": 106,
     "metadata": {},
     "output_type": "execute_result"
    }
   ],
   "source": [
    "original_data['country_name']"
   ]
  },
  {
   "cell_type": "code",
   "execution_count": 107,
   "metadata": {},
   "outputs": [
    {
     "data": {
      "text/plain": [
       "Valores Únicos         1\n",
       "Nulos                  0\n",
       "% Nulos             0.00\n",
       "No Nulos          121220\n",
       "% No Nulos        100.00\n",
       "Tipos             object\n",
       "Tamaño (mb)         0.97\n",
       "Name: country_name, dtype: object"
      ]
     },
     "execution_count": 107,
     "metadata": {},
     "output_type": "execute_result"
    }
   ],
   "source": [
    "detalle_df_columns(original_data.columns, original_data).loc['country_name']"
   ]
  },
  {
   "cell_type": "code",
   "execution_count": 108,
   "metadata": {},
   "outputs": [
    {
     "data": {
      "text/plain": [
       "Argentina    121220\n",
       "Name: country_name, dtype: int64"
      ]
     },
     "execution_count": 108,
     "metadata": {},
     "output_type": "execute_result"
    }
   ],
   "source": [
    "original_data['country_name'].value_counts()"
   ]
  },
  {
   "cell_type": "markdown",
   "metadata": {},
   "source": [
    "En el detalle de la columna podemos ver que en valores únicos dice 1, y esto no indica que esta variable toma un sólo valor. Para corroborar esto, realizamos un recuento de valores únicos en esta columna y podemos observar que todos los registrso tienen el valor **\"Argentina\"**"
   ]
  },
  {
   "cell_type": "markdown",
   "metadata": {},
   "source": [
    "<img src='Linea_Divisoria_fina.png' align='left' width=100%/>"
   ]
  },
  {
   "cell_type": "markdown",
   "metadata": {},
   "source": [
    "## Variable \"state_name\""
   ]
  },
  {
   "cell_type": "code",
   "execution_count": 109,
   "metadata": {},
   "outputs": [
    {
     "data": {
      "text/plain": [
       "0                      Capital Federal\n",
       "1               Bs.As. G.B.A. Zona Sur\n",
       "2                      Capital Federal\n",
       "3                      Capital Federal\n",
       "4         Buenos Aires Costa Atlántica\n",
       "                      ...             \n",
       "121215                 Capital Federal\n",
       "121216        Bs.As. G.B.A. Zona Norte\n",
       "121217                 Capital Federal\n",
       "121218    Buenos Aires Costa Atlántica\n",
       "121219                 Capital Federal\n",
       "Name: state_name, Length: 121220, dtype: object"
      ]
     },
     "execution_count": 109,
     "metadata": {},
     "output_type": "execute_result"
    }
   ],
   "source": [
    "original_data['state_name']"
   ]
  },
  {
   "cell_type": "code",
   "execution_count": 110,
   "metadata": {},
   "outputs": [
    {
     "data": {
      "text/plain": [
       "Valores Únicos        28\n",
       "Nulos                  0\n",
       "% Nulos             0.00\n",
       "No Nulos          121220\n",
       "% No Nulos        100.00\n",
       "Tipos             object\n",
       "Tamaño (mb)         0.97\n",
       "Name: state_name, dtype: object"
      ]
     },
     "execution_count": 110,
     "metadata": {},
     "output_type": "execute_result"
    }
   ],
   "source": [
    "detalle_df_columns(original_data.columns, original_data).loc['state_name']"
   ]
  },
  {
   "cell_type": "code",
   "execution_count": 111,
   "metadata": {},
   "outputs": [
    {
     "data": {
      "text/plain": [
       "Capital Federal                 32316\n",
       "Bs.As. G.B.A. Zona Norte        25560\n",
       "Bs.As. G.B.A. Zona Sur          13952\n",
       "Córdoba                         12069\n",
       "Santa Fe                        10172\n",
       "Buenos Aires Costa Atlántica    10006\n",
       "Bs.As. G.B.A. Zona Oeste         9322\n",
       "Buenos Aires Interior            2291\n",
       "Río Negro                         808\n",
       "Neuquén                           733\n",
       "Mendoza                           681\n",
       "Tucumán                           674\n",
       "Corrientes                        583\n",
       "Misiones                          464\n",
       "Entre Ríos                        369\n",
       "Salta                             278\n",
       "Chubut                            259\n",
       "San Luis                          252\n",
       "La Pampa                          157\n",
       "Formosa                            65\n",
       "Chaco                              57\n",
       "San Juan                           40\n",
       "Tierra Del Fuego                   31\n",
       "Catamarca                          27\n",
       "Jujuy                              26\n",
       "Santa Cruz                         20\n",
       "La Rioja                            4\n",
       "Santiago Del Estero                 4\n",
       "Name: state_name, dtype: int64"
      ]
     },
     "execution_count": 111,
     "metadata": {},
     "output_type": "execute_result"
    }
   ],
   "source": [
    "original_data['state_name'].value_counts()"
   ]
  },
  {
   "cell_type": "markdown",
   "metadata": {},
   "source": [
    "En el detalle de esta columna podemos ver que no presenta ningún problema y se encuetra el tipo de propiedad, tampoco falta ningun registro dado que no tiene valores nulos, también podemos observar que tiene muy pocos valores distintos, esto hace suponer que está correctamente tabulada la información de provincias"
   ]
  },
  {
   "cell_type": "markdown",
   "metadata": {},
   "source": [
    "<img src='Linea_Divisoria_fina.png' align='left' width=100%/>"
   ]
  },
  {
   "cell_type": "markdown",
   "metadata": {},
   "source": [
    "## Variable \"geonames_id\""
   ]
  },
  {
   "cell_type": "code",
   "execution_count": 112,
   "metadata": {},
   "outputs": [
    {
     "data": {
      "text/plain": [
       "0        3430787.00\n",
       "1        3432039.00\n",
       "2        3430787.00\n",
       "3        3431333.00\n",
       "4        3435548.00\n",
       "            ...    \n",
       "121215   3436077.00\n",
       "121216   3436080.00\n",
       "121217   3433775.00\n",
       "121218          nan\n",
       "121219   3433955.00\n",
       "Name: geonames_id, Length: 121220, dtype: float64"
      ]
     },
     "execution_count": 112,
     "metadata": {},
     "output_type": "execute_result"
    }
   ],
   "source": [
    "original_data['geonames_id']"
   ]
  },
  {
   "cell_type": "code",
   "execution_count": 113,
   "metadata": {},
   "outputs": [
    {
     "data": {
      "text/plain": [
       "Valores Únicos        646\n",
       "Nulos               18717\n",
       "% Nulos             15.44\n",
       "No Nulos           102503\n",
       "% No Nulos          84.56\n",
       "Tipos             float64\n",
       "Tamaño (mb)          0.97\n",
       "Name: geonames_id, dtype: object"
      ]
     },
     "execution_count": 113,
     "metadata": {},
     "output_type": "execute_result"
    }
   ],
   "source": [
    "detalle_df_columns(original_data.columns, original_data).loc['geonames_id']"
   ]
  },
  {
   "cell_type": "markdown",
   "metadata": {},
   "source": [
    "\n",
    "Asumimos hipoteticamente que este campo hacereferencia a la base de datos de la página https://www.geonames.org/\n",
    "\n",
    "En este caso, podría ser útil evaluar si existen casos donde **\"geonames_id\"** pueda complementar a las columnas de **\"lat\"** y **\"lon\"**.\n",
    "\n",
    "El conjunto de datos de las posiciones geográficas se descargo desde: https://download.geonames.org/export/dump/"
   ]
  },
  {
   "cell_type": "code",
   "execution_count": 175,
   "metadata": {},
   "outputs": [
    {
     "name": "stderr",
     "output_type": "stream",
     "text": [
      "C:\\Users\\spiazza\\.conda\\envs\\dhdsblend\\lib\\site-packages\\IPython\\core\\interactiveshell.py:3146: DtypeWarning: Columns (9,12) have mixed types.Specify dtype option on import or set low_memory=False.\n",
      "  interactivity=interactivity, compiler=compiler, result=result)\n"
     ]
    },
    {
     "data": {
      "text/html": [
       "<div>\n",
       "<style scoped>\n",
       "    .dataframe tbody tr th:only-of-type {\n",
       "        vertical-align: middle;\n",
       "    }\n",
       "\n",
       "    .dataframe tbody tr th {\n",
       "        vertical-align: top;\n",
       "    }\n",
       "\n",
       "    .dataframe thead th {\n",
       "        text-align: right;\n",
       "    }\n",
       "</style>\n",
       "<table border=\"1\" class=\"dataframe\">\n",
       "  <thead>\n",
       "    <tr style=\"text-align: right;\">\n",
       "      <th></th>\n",
       "      <th>name</th>\n",
       "      <th>asciiname</th>\n",
       "      <th>alternatenames</th>\n",
       "      <th>latitude</th>\n",
       "      <th>longitude</th>\n",
       "      <th>feature_class</th>\n",
       "      <th>feature_code</th>\n",
       "      <th>country_code</th>\n",
       "      <th>cc2</th>\n",
       "      <th>admin1_code</th>\n",
       "      <th>admin2_code</th>\n",
       "      <th>admin3_code</th>\n",
       "      <th>admin4 code</th>\n",
       "      <th>population</th>\n",
       "      <th>elevation</th>\n",
       "      <th>dem</th>\n",
       "      <th>timezone</th>\n",
       "      <th>modification date</th>\n",
       "    </tr>\n",
       "    <tr>\n",
       "      <th>geonames_id</th>\n",
       "      <th></th>\n",
       "      <th></th>\n",
       "      <th></th>\n",
       "      <th></th>\n",
       "      <th></th>\n",
       "      <th></th>\n",
       "      <th></th>\n",
       "      <th></th>\n",
       "      <th></th>\n",
       "      <th></th>\n",
       "      <th></th>\n",
       "      <th></th>\n",
       "      <th></th>\n",
       "      <th></th>\n",
       "      <th></th>\n",
       "      <th></th>\n",
       "      <th></th>\n",
       "      <th></th>\n",
       "    </tr>\n",
       "  </thead>\n",
       "  <tbody>\n",
       "    <tr>\n",
       "      <th>2509292</th>\n",
       "      <td>Arroyo de la Zurita</td>\n",
       "      <td>Arroyo de la Zurita</td>\n",
       "      <td>NaN</td>\n",
       "      <td>39.52</td>\n",
       "      <td>-3.85</td>\n",
       "      <td>H</td>\n",
       "      <td>STMI</td>\n",
       "      <td>ES</td>\n",
       "      <td>NaN</td>\n",
       "      <td>54</td>\n",
       "      <td>TO</td>\n",
       "      <td>45200</td>\n",
       "      <td>nan</td>\n",
       "      <td>0</td>\n",
       "      <td>nan</td>\n",
       "      <td>718</td>\n",
       "      <td>Europe/Madrid</td>\n",
       "      <td>2011-10-11</td>\n",
       "    </tr>\n",
       "    <tr>\n",
       "      <th>2509293</th>\n",
       "      <td>Zurgena</td>\n",
       "      <td>Zurgena</td>\n",
       "      <td>NaN</td>\n",
       "      <td>37.34</td>\n",
       "      <td>-2.04</td>\n",
       "      <td>P</td>\n",
       "      <td>PPLA3</td>\n",
       "      <td>ES</td>\n",
       "      <td>NaN</td>\n",
       "      <td>51</td>\n",
       "      <td>AL</td>\n",
       "      <td>04103</td>\n",
       "      <td>nan</td>\n",
       "      <td>2317</td>\n",
       "      <td>nan</td>\n",
       "      <td>244</td>\n",
       "      <td>Europe/Madrid</td>\n",
       "      <td>2012-03-04</td>\n",
       "    </tr>\n",
       "    <tr>\n",
       "      <th>2509294</th>\n",
       "      <td>Zúñiga</td>\n",
       "      <td>Zuniga</td>\n",
       "      <td>Caserio Zuniga,Caserío Zúñiga,Zuniga,Zúñiga</td>\n",
       "      <td>37.80</td>\n",
       "      <td>-1.70</td>\n",
       "      <td>P</td>\n",
       "      <td>PPL</td>\n",
       "      <td>ES</td>\n",
       "      <td>NaN</td>\n",
       "      <td>31</td>\n",
       "      <td>MU</td>\n",
       "      <td>30024</td>\n",
       "      <td>nan</td>\n",
       "      <td>0</td>\n",
       "      <td>nan</td>\n",
       "      <td>563</td>\n",
       "      <td>Europe/Madrid</td>\n",
       "      <td>2016-01-09</td>\n",
       "    </tr>\n",
       "    <tr>\n",
       "      <th>2509295</th>\n",
       "      <td>Río Zumeta</td>\n",
       "      <td>Rio Zumeta</td>\n",
       "      <td>Rio Zumeta,Río Zumeta</td>\n",
       "      <td>38.22</td>\n",
       "      <td>-2.45</td>\n",
       "      <td>H</td>\n",
       "      <td>STM</td>\n",
       "      <td>ES</td>\n",
       "      <td>NaN</td>\n",
       "      <td>54</td>\n",
       "      <td>AB</td>\n",
       "      <td>02055</td>\n",
       "      <td>nan</td>\n",
       "      <td>0</td>\n",
       "      <td>nan</td>\n",
       "      <td>735</td>\n",
       "      <td>Europe/Madrid</td>\n",
       "      <td>2020-08-13</td>\n",
       "    </tr>\n",
       "    <tr>\n",
       "      <th>2509296</th>\n",
       "      <td>Arroyo del Zumajo del Olivar</td>\n",
       "      <td>Arroyo del Zumajo del Olivar</td>\n",
       "      <td>NaN</td>\n",
       "      <td>36.67</td>\n",
       "      <td>-5.90</td>\n",
       "      <td>H</td>\n",
       "      <td>STMI</td>\n",
       "      <td>ES</td>\n",
       "      <td>NaN</td>\n",
       "      <td>51</td>\n",
       "      <td>CA</td>\n",
       "      <td>11020</td>\n",
       "      <td>nan</td>\n",
       "      <td>0</td>\n",
       "      <td>nan</td>\n",
       "      <td>25</td>\n",
       "      <td>Europe/Madrid</td>\n",
       "      <td>1993-12-23</td>\n",
       "    </tr>\n",
       "  </tbody>\n",
       "</table>\n",
       "</div>"
      ],
      "text/plain": [
       "                                     name                     asciiname  \\\n",
       "geonames_id                                                               \n",
       "2509292               Arroyo de la Zurita           Arroyo de la Zurita   \n",
       "2509293                           Zurgena                       Zurgena   \n",
       "2509294                            Zúñiga                        Zuniga   \n",
       "2509295                        Río Zumeta                    Rio Zumeta   \n",
       "2509296      Arroyo del Zumajo del Olivar  Arroyo del Zumajo del Olivar   \n",
       "\n",
       "                                          alternatenames  latitude  longitude  \\\n",
       "geonames_id                                                                     \n",
       "2509292                                              NaN     39.52      -3.85   \n",
       "2509293                                              NaN     37.34      -2.04   \n",
       "2509294      Caserio Zuniga,Caserío Zúñiga,Zuniga,Zúñiga     37.80      -1.70   \n",
       "2509295                            Rio Zumeta,Río Zumeta     38.22      -2.45   \n",
       "2509296                                              NaN     36.67      -5.90   \n",
       "\n",
       "            feature_class feature_code country_code  cc2 admin1_code  \\\n",
       "geonames_id                                                            \n",
       "2509292                 H         STMI           ES  NaN          54   \n",
       "2509293                 P        PPLA3           ES  NaN          51   \n",
       "2509294                 P          PPL           ES  NaN          31   \n",
       "2509295                 H          STM           ES  NaN          54   \n",
       "2509296                 H         STMI           ES  NaN          51   \n",
       "\n",
       "            admin2_code admin3_code  admin4 code  population  elevation  dem  \\\n",
       "geonames_id                                                                    \n",
       "2509292              TO       45200          nan           0        nan  718   \n",
       "2509293              AL       04103          nan        2317        nan  244   \n",
       "2509294              MU       30024          nan           0        nan  563   \n",
       "2509295              AB       02055          nan           0        nan  735   \n",
       "2509296              CA       11020          nan           0        nan   25   \n",
       "\n",
       "                  timezone modification date  \n",
       "geonames_id                                   \n",
       "2509292      Europe/Madrid        2011-10-11  \n",
       "2509293      Europe/Madrid        2012-03-04  \n",
       "2509294      Europe/Madrid        2016-01-09  \n",
       "2509295      Europe/Madrid        2020-08-13  \n",
       "2509296      Europe/Madrid        1993-12-23  "
      ]
     },
     "execution_count": 175,
     "metadata": {},
     "output_type": "execute_result"
    }
   ],
   "source": [
    "geoposicion_columnas = ['geonames_id', 'name', 'asciiname', 'alternatenames', 'latitude', 'longitude', 'feature_class', 'feature_code', 'country_code', 'cc2', \n",
    "                    'admin1_code', 'admin2_code', 'admin3_code', 'admin4 code', 'population', 'elevation', 'dem', 'timezone', 'modification date']\n",
    "\n",
    "geoposicion_df = pd.read_csv('geo_pos.txt', delimiter='\\t', names=geoposicion_columnas)\n",
    "geoposicion_df.set_index('geonames_id', inplace=True)\n",
    "geoposicion_df.head()"
   ]
  },
  {
   "cell_type": "markdown",
   "metadata": {},
   "source": [
    "\n",
    "Más adelante evaluaremos si algunos de los valores faltantes de **\"geonames_id\"** se pueden complementar con las columnas de **\"lat\"** y **\"lon\"** y este dataset descargado, o también si los valores de datos de longitud y latitud están correctos.\n"
   ]
  },
  {
   "cell_type": "markdown",
   "metadata": {},
   "source": [
    "<img src='Linea_Divisoria_fina.png' align='left' width=100%/>"
   ]
  },
  {
   "cell_type": "markdown",
   "metadata": {},
   "source": [
    "## Variable \"lat-lon\""
   ]
  },
  {
   "cell_type": "code",
   "execution_count": 176,
   "metadata": {},
   "outputs": [
    {
     "data": {
      "text/plain": [
       "0               -34.6618237,-58.5088387\n",
       "1               -34.9038831,-57.9643295\n",
       "2               -34.6522615,-58.5229825\n",
       "3               -34.6477969,-58.5164244\n",
       "4               -38.0026256,-57.5494468\n",
       "                      ...              \n",
       "121215                              NaN\n",
       "121216                              NaN\n",
       "121217    -34.5706388726,-58.4755963355\n",
       "121218                              NaN\n",
       "121219                              NaN\n",
       "Name: lat-lon, Length: 121220, dtype: object"
      ]
     },
     "execution_count": 176,
     "metadata": {},
     "output_type": "execute_result"
    }
   ],
   "source": [
    "original_data['lat-lon']"
   ]
  },
  {
   "cell_type": "code",
   "execution_count": 177,
   "metadata": {},
   "outputs": [
    {
     "data": {
      "text/plain": [
       "Valores Únicos     47203\n",
       "Nulos              51550\n",
       "% Nulos            42.53\n",
       "No Nulos           69670\n",
       "% No Nulos         57.47\n",
       "Tipos             object\n",
       "Tamaño (mb)         0.97\n",
       "Name: lat-lon, dtype: object"
      ]
     },
     "execution_count": 177,
     "metadata": {},
     "output_type": "execute_result"
    }
   ],
   "source": [
    "detalle_df_columns(original_data.columns, original_data).loc['lat-lon']"
   ]
  },
  {
   "cell_type": "code",
   "execution_count": 180,
   "metadata": {},
   "outputs": [
    {
     "name": "stdout",
     "output_type": "stream",
     "text": [
      "\n",
      "Comparativa de la mascara de nulos de geonamis_id con la mascara de nulos lat-lon\n",
      "True\n"
     ]
    }
   ],
   "source": [
    "mask_geonames_id_nulos = original_data['geonames_id'].isnull()\n",
    "mask_lat_lon_nulos = original_data['lat-lon'].isnull()\n",
    "\n",
    "print(\"\")\n",
    "print(\"Comparativa de la mascara de nulos de geonames_id con la mascara de nulos lat-lon\")\n",
    "print(any(mask_geonames_id_nulos == mask_lat_lon_nulos))"
   ]
  },
  {
   "cell_type": "markdown",
   "metadata": {},
   "source": [
    "\n",
    "Esta comparativa nos demuestra que el campo **\"geonames_id\"** y el campo **\"lat-lon\"** tienen los mismo nulos, lo que nos indica que no vamos a poder completar datos en una columna de estas a partir de la otra\n"
   ]
  },
  {
   "cell_type": "markdown",
   "metadata": {},
   "source": [
    "<img src='Linea_Divisoria_fina.png' align='left' width=100%/>"
   ]
  },
  {
   "cell_type": "markdown",
   "metadata": {},
   "source": [
    "## Variable \"lat\""
   ]
  },
  {
   "cell_type": "code",
   "execution_count": 181,
   "metadata": {},
   "outputs": [
    {
     "data": {
      "text/plain": [
       "0        -34.66\n",
       "1        -34.90\n",
       "2        -34.65\n",
       "3        -34.65\n",
       "4        -38.00\n",
       "          ...  \n",
       "121215      nan\n",
       "121216      nan\n",
       "121217   -34.57\n",
       "121218      nan\n",
       "121219      nan\n",
       "Name: lat, Length: 121220, dtype: float64"
      ]
     },
     "execution_count": 181,
     "metadata": {},
     "output_type": "execute_result"
    }
   ],
   "source": [
    "original_data['lat']"
   ]
  },
  {
   "cell_type": "code",
   "execution_count": 182,
   "metadata": {},
   "outputs": [
    {
     "data": {
      "text/plain": [
       "Valores Únicos      46495\n",
       "Nulos               51550\n",
       "% Nulos             42.53\n",
       "No Nulos            69670\n",
       "% No Nulos          57.47\n",
       "Tipos             float64\n",
       "Tamaño (mb)          0.97\n",
       "Name: lat, dtype: object"
      ]
     },
     "execution_count": 182,
     "metadata": {},
     "output_type": "execute_result"
    }
   ],
   "source": [
    "detalle_df_columns(original_data.columns, original_data).loc['lat']"
   ]
  },
  {
   "cell_type": "code",
   "execution_count": 183,
   "metadata": {},
   "outputs": [
    {
     "name": "stdout",
     "output_type": "stream",
     "text": [
      "\n",
      "Comparativa de la mascara de nulos de geonames_id con la mascara de nulos lat-lon\n",
      "True\n"
     ]
    }
   ],
   "source": [
    "mask_lat_lon_nulos = original_data['lat-lon'].isnull()\n",
    "mask_lat_nulos = original_data['lat'].isnull()\n",
    "\n",
    "print(\"\")\n",
    "print(\"Comparativa de la mascara de nulos de lat con la mascara de nulos lat-lon\")\n",
    "print(any(mask_lat_nulos == mask_lat_lon_nulos))"
   ]
  },
  {
   "cell_type": "markdown",
   "metadata": {},
   "source": [
    "\n",
    "Esta comparativa nos demuestra que el campo **\"lat\"** y el campo **\"lat-lon\"** tienen los mismo nulos, lo que nos indica que no vamos a poder completar datos en una columna de estas a partir de la otra\n"
   ]
  },
  {
   "cell_type": "markdown",
   "metadata": {},
   "source": [
    "<img src='Linea_Divisoria_fina.png' align='left' width=100%/>"
   ]
  },
  {
   "cell_type": "markdown",
   "metadata": {},
   "source": [
    "## Variable \"lon\""
   ]
  },
  {
   "cell_type": "code",
   "execution_count": 184,
   "metadata": {},
   "outputs": [
    {
     "data": {
      "text/plain": [
       "0        -58.51\n",
       "1        -57.96\n",
       "2        -58.52\n",
       "3        -58.52\n",
       "4        -57.55\n",
       "          ...  \n",
       "121215      nan\n",
       "121216      nan\n",
       "121217   -58.48\n",
       "121218      nan\n",
       "121219      nan\n",
       "Name: lon, Length: 121220, dtype: float64"
      ]
     },
     "execution_count": 184,
     "metadata": {},
     "output_type": "execute_result"
    }
   ],
   "source": [
    "original_data['lon']"
   ]
  },
  {
   "cell_type": "code",
   "execution_count": 185,
   "metadata": {},
   "outputs": [
    {
     "data": {
      "text/plain": [
       "Valores Únicos      46522\n",
       "Nulos               51550\n",
       "% Nulos             42.53\n",
       "No Nulos            69670\n",
       "% No Nulos          57.47\n",
       "Tipos             float64\n",
       "Tamaño (mb)          0.97\n",
       "Name: lon, dtype: object"
      ]
     },
     "execution_count": 185,
     "metadata": {},
     "output_type": "execute_result"
    }
   ],
   "source": [
    "detalle_df_columns(original_data.columns, original_data).loc['lon']"
   ]
  },
  {
   "cell_type": "code",
   "execution_count": 186,
   "metadata": {},
   "outputs": [
    {
     "name": "stdout",
     "output_type": "stream",
     "text": [
      "\n",
      "Comparativa de la mascara de nulos de lon con la mascara de nulos lat-lon\n",
      "True\n"
     ]
    }
   ],
   "source": [
    "mask_lat_lon_nulos = original_data['lat-lon'].isnull()\n",
    "mask_lon_nulos = original_data['lon'].isnull()\n",
    "\n",
    "print(\"\")\n",
    "print(\"Comparativa de la mascara de nulos de lon con la mascara de nulos lat-lon\")\n",
    "print(any(mask_lon_nulos == mask_lat_lon_nulos))"
   ]
  },
  {
   "cell_type": "markdown",
   "metadata": {},
   "source": [
    "\n",
    "Esta comparativa nos demuestra que el campo **\"lon\"** y el campo **\"lat-lon\"** tienen los mismo nulos, lo que nos indica que no vamos a poder completar datos en una columna de estas a partir de la otra\n"
   ]
  },
  {
   "cell_type": "markdown",
   "metadata": {},
   "source": [
    "<img src='Linea_Divisoria_fina.png' align='left' width=100%/>"
   ]
  },
  {
   "cell_type": "markdown",
   "metadata": {},
   "source": [
    "## Variable \"Price\""
   ]
  },
  {
   "cell_type": "code",
   "execution_count": 187,
   "metadata": {},
   "outputs": [
    {
     "data": {
      "text/plain": [
       "0         62000.00\n",
       "1        150000.00\n",
       "2         72000.00\n",
       "3         95000.00\n",
       "4         64000.00\n",
       "            ...   \n",
       "121215   870000.00\n",
       "121216   498000.00\n",
       "121217   131500.00\n",
       "121218    95900.00\n",
       "121219   129000.00\n",
       "Name: price, Length: 121220, dtype: float64"
      ]
     },
     "execution_count": 187,
     "metadata": {},
     "output_type": "execute_result"
    }
   ],
   "source": [
    "original_data['price']"
   ]
  },
  {
   "cell_type": "code",
   "execution_count": 188,
   "metadata": {},
   "outputs": [
    {
     "data": {
      "text/plain": [
       "Valores Únicos       9746\n",
       "Nulos               20410\n",
       "% Nulos             16.84\n",
       "No Nulos           100810\n",
       "% No Nulos          83.16\n",
       "Tipos             float64\n",
       "Tamaño (mb)          0.97\n",
       "Name: price, dtype: object"
      ]
     },
     "execution_count": 188,
     "metadata": {},
     "output_type": "execute_result"
    }
   ],
   "source": [
    "detalle_df_columns(original_data.columns, original_data).loc['price']"
   ]
  },
  {
   "cell_type": "markdown",
   "metadata": {},
   "source": [
    "<img src='Linea_Divisoria_fina.png' align='left' width=100%/>"
   ]
  },
  {
   "cell_type": "markdown",
   "metadata": {},
   "source": [
    "## Variable \"currency\""
   ]
  },
  {
   "cell_type": "code",
   "execution_count": 189,
   "metadata": {},
   "outputs": [
    {
     "data": {
      "text/plain": [
       "0         USD\n",
       "1         USD\n",
       "2         USD\n",
       "3         USD\n",
       "4         USD\n",
       "         ... \n",
       "121215    USD\n",
       "121216    USD\n",
       "121217    USD\n",
       "121218    USD\n",
       "121219    USD\n",
       "Name: currency, Length: 121220, dtype: object"
      ]
     },
     "execution_count": 189,
     "metadata": {},
     "output_type": "execute_result"
    }
   ],
   "source": [
    "original_data['currency']"
   ]
  },
  {
   "cell_type": "code",
   "execution_count": 191,
   "metadata": {},
   "outputs": [
    {
     "data": {
      "text/plain": [
       "Valores Únicos         4\n",
       "Nulos              20411\n",
       "% Nulos            16.84\n",
       "No Nulos          100809\n",
       "% No Nulos         83.16\n",
       "Tipos             object\n",
       "Tamaño (mb)         0.97\n",
       "Name: currency, dtype: object"
      ]
     },
     "execution_count": 191,
     "metadata": {},
     "output_type": "execute_result"
    }
   ],
   "source": [
    "detalle_df_columns(original_data.columns, original_data).loc['currency']"
   ]
  },
  {
   "cell_type": "code",
   "execution_count": 192,
   "metadata": {},
   "outputs": [
    {
     "data": {
      "text/plain": [
       "USD    87587\n",
       "ARS    13219\n",
       "PEN        2\n",
       "UYU        1\n",
       "Name: currency, dtype: int64"
      ]
     },
     "execution_count": 192,
     "metadata": {},
     "output_type": "execute_result"
    }
   ],
   "source": [
    "original_data['currency'].value_counts()"
   ]
  },
  {
   "cell_type": "markdown",
   "metadata": {},
   "source": [
    "<img src='Linea_Divisoria_fina.png' align='left' width=100%/>"
   ]
  },
  {
   "cell_type": "markdown",
   "metadata": {},
   "source": [
    "## Variable \"price_aprox_local_currency\""
   ]
  },
  {
   "cell_type": "code",
   "execution_count": 193,
   "metadata": {},
   "outputs": [
    {
     "data": {
      "text/plain": [
       "0         1093959.00\n",
       "1         2646675.00\n",
       "2         1270404.00\n",
       "3         1676227.50\n",
       "4         1129248.00\n",
       "             ...    \n",
       "121215   15350715.00\n",
       "121216    8786961.00\n",
       "121217    2320251.75\n",
       "121218    1692107.55\n",
       "121219    2276140.50\n",
       "Name: price_aprox_local_currency, Length: 121220, dtype: float64"
      ]
     },
     "execution_count": 193,
     "metadata": {},
     "output_type": "execute_result"
    }
   ],
   "source": [
    "original_data['price_aprox_local_currency']"
   ]
  },
  {
   "cell_type": "code",
   "execution_count": 194,
   "metadata": {},
   "outputs": [
    {
     "data": {
      "text/plain": [
       "Valores Únicos      10364\n",
       "Nulos               20410\n",
       "% Nulos             16.84\n",
       "No Nulos           100810\n",
       "% No Nulos          83.16\n",
       "Tipos             float64\n",
       "Tamaño (mb)          0.97\n",
       "Name: price_aprox_local_currency, dtype: object"
      ]
     },
     "execution_count": 194,
     "metadata": {},
     "output_type": "execute_result"
    }
   ],
   "source": [
    "detalle_df_columns(original_data.columns, original_data).loc['price_aprox_local_currency']"
   ]
  },
  {
   "cell_type": "code",
   "execution_count": null,
   "metadata": {},
   "outputs": [],
   "source": []
  },
  {
   "cell_type": "markdown",
   "metadata": {},
   "source": [
    "<img src='Linea_Divisoria_fina.png' align='left' width=100%/>"
   ]
  },
  {
   "cell_type": "markdown",
   "metadata": {},
   "source": [
    "## Variable \"price_aprox_usd\""
   ]
  },
  {
   "cell_type": "code",
   "execution_count": 195,
   "metadata": {},
   "outputs": [
    {
     "data": {
      "text/plain": [
       "0         62000.00\n",
       "1        150000.00\n",
       "2         72000.00\n",
       "3         95000.00\n",
       "4         64000.00\n",
       "            ...   \n",
       "121215   870000.00\n",
       "121216   498000.00\n",
       "121217   131500.00\n",
       "121218    95900.00\n",
       "121219   129000.00\n",
       "Name: price_aprox_usd, Length: 121220, dtype: float64"
      ]
     },
     "execution_count": 195,
     "metadata": {},
     "output_type": "execute_result"
    }
   ],
   "source": [
    "original_data['price_aprox_usd']"
   ]
  },
  {
   "cell_type": "code",
   "execution_count": 196,
   "metadata": {},
   "outputs": [
    {
     "data": {
      "text/plain": [
       "Valores Únicos      10364\n",
       "Nulos               20410\n",
       "% Nulos             16.84\n",
       "No Nulos           100810\n",
       "% No Nulos          83.16\n",
       "Tipos             float64\n",
       "Tamaño (mb)          0.97\n",
       "Name: price_aprox_usd, dtype: object"
      ]
     },
     "execution_count": 196,
     "metadata": {},
     "output_type": "execute_result"
    }
   ],
   "source": [
    "detalle_df_columns(original_data.columns, original_data).loc['price_aprox_usd']"
   ]
  },
  {
   "cell_type": "markdown",
   "metadata": {},
   "source": [
    "Esta columna es una de las que consideramos relevantes para el estudio que queremos realizar y vamos a intentar completar sus valores con otras columnas\n",
    "\n",
    "Las alternativas para completar los valores faltantes que tomamos son tres:\n",
    "- búsqueda dentro de los valores de la columna **title**.\n",
    "- búsqueda dentro de los valores de la columna **description**.\n",
    "- búsqueda dentro de los valores de la columna **properati_url**.\n"
   ]
  },
  {
   "cell_type": "code",
   "execution_count": 364,
   "metadata": {},
   "outputs": [],
   "source": [
    "pat_regex_1 = '(?P<dolar>[Uu][S\\$s][Ss\\$])\\s?(?P<precio>(\\.?\\d+)+)' # 'uss u$s us$ 1000'\n",
    "pat_regex_2 = '(?P<dolar>[Uu][Ss][Dd])\\s?(?P<precio>(\\.?\\d+)+)' # 'usd USD 1000'\n",
    "pat_regex_3 = '(?P<precio>(\\.?\\d+)+)\\s?(?P<dolar>[Uu][S\\$s][Ss\\$])' # 1000 uss u$s us$\n",
    "pat_regex_4 = '(?P<precio>(\\.?\\d+)+)\\s?(?P<dolar>[Uu][Ss][Dd])' # 1000 usd USD"
   ]
  },
  {
   "cell_type": "code",
   "execution_count": 365,
   "metadata": {},
   "outputs": [
    {
     "name": "stdout",
     "output_type": "stream",
     "text": [
      "Patrones encontrados\n",
      "False    116812\n",
      "True       4408\n",
      "Name: precio_title, dtype: int64\n"
     ]
    },
    {
     "data": {
      "text/html": [
       "<div>\n",
       "<style scoped>\n",
       "    .dataframe tbody tr th:only-of-type {\n",
       "        vertical-align: middle;\n",
       "    }\n",
       "\n",
       "    .dataframe tbody tr th {\n",
       "        vertical-align: top;\n",
       "    }\n",
       "\n",
       "    .dataframe thead th {\n",
       "        text-align: right;\n",
       "    }\n",
       "</style>\n",
       "<table border=\"1\" class=\"dataframe\">\n",
       "  <thead>\n",
       "    <tr style=\"text-align: right;\">\n",
       "      <th></th>\n",
       "      <th>title</th>\n",
       "      <th>precio_title</th>\n",
       "      <th>price_aprox_usd</th>\n",
       "    </tr>\n",
       "  </thead>\n",
       "  <tbody>\n",
       "    <tr>\n",
       "      <th>22370</th>\n",
       "      <td>Dúplex a estrenar 2 d Panamá 2543(santa Margar...</td>\n",
       "      <td>125.000</td>\n",
       "      <td>nan</td>\n",
       "    </tr>\n",
       "    <tr>\n",
       "      <th>25757</th>\n",
       "      <td>CTD830- UNICO DEPA PRECIO TOTAL U$S 35.080-</td>\n",
       "      <td>35.080</td>\n",
       "      <td>nan</td>\n",
       "    </tr>\n",
       "    <tr>\n",
       "      <th>35534</th>\n",
       "      <td>DEPARTAMENTO EN VENTA EN NEUQUéN, ÁREA CENTRO ...</td>\n",
       "      <td>85000</td>\n",
       "      <td>nan</td>\n",
       "    </tr>\n",
       "    <tr>\n",
       "      <th>50054</th>\n",
       "      <td>DEPARTAMENTO EN VENTA EN SAN MARTíN DE LOS AND...</td>\n",
       "      <td>158000</td>\n",
       "      <td>nan</td>\n",
       "    </tr>\n",
       "    <tr>\n",
       "      <th>50055</th>\n",
       "      <td>DEPARTAMENTO EN VENTA EN SAN MARTíN DE LOS AND...</td>\n",
       "      <td>101000</td>\n",
       "      <td>nan</td>\n",
       "    </tr>\n",
       "    <tr>\n",
       "      <th>50056</th>\n",
       "      <td>DEPARTAMENTO EN VENTA EN SAN MARTíN DE LOS AND...</td>\n",
       "      <td>235000</td>\n",
       "      <td>nan</td>\n",
       "    </tr>\n",
       "    <tr>\n",
       "      <th>50057</th>\n",
       "      <td>DEPARTAMENTO EN VENTA EN NEUQUéN, SANTA GENOVE...</td>\n",
       "      <td>180000</td>\n",
       "      <td>nan</td>\n",
       "    </tr>\n",
       "    <tr>\n",
       "      <th>61684</th>\n",
       "      <td>LOCAL CABA 459 mts2 - u$s370.000 oportunidad</td>\n",
       "      <td>370.000</td>\n",
       "      <td>nan</td>\n",
       "    </tr>\n",
       "    <tr>\n",
       "      <th>79472</th>\n",
       "      <td>Casa en Martindale Country Club VENTA U$S 300.000</td>\n",
       "      <td>300.000</td>\n",
       "      <td>nan</td>\n",
       "    </tr>\n",
       "    <tr>\n",
       "      <th>103676</th>\n",
       "      <td>SE VENDEN DEPARTAMENTOS DE 1, 2 Y 3 AMBIENTES ...</td>\n",
       "      <td>55.000</td>\n",
       "      <td>nan</td>\n",
       "    </tr>\n",
       "  </tbody>\n",
       "</table>\n",
       "</div>"
      ],
      "text/plain": [
       "                                                    title precio_title  \\\n",
       "22370   Dúplex a estrenar 2 d Panamá 2543(santa Margar...      125.000   \n",
       "25757         CTD830- UNICO DEPA PRECIO TOTAL U$S 35.080-       35.080   \n",
       "35534   DEPARTAMENTO EN VENTA EN NEUQUéN, ÁREA CENTRO ...        85000   \n",
       "50054   DEPARTAMENTO EN VENTA EN SAN MARTíN DE LOS AND...       158000   \n",
       "50055   DEPARTAMENTO EN VENTA EN SAN MARTíN DE LOS AND...       101000   \n",
       "50056   DEPARTAMENTO EN VENTA EN SAN MARTíN DE LOS AND...       235000   \n",
       "50057   DEPARTAMENTO EN VENTA EN NEUQUéN, SANTA GENOVE...       180000   \n",
       "61684        LOCAL CABA 459 mts2 - u$s370.000 oportunidad      370.000   \n",
       "79472   Casa en Martindale Country Club VENTA U$S 300.000      300.000   \n",
       "103676  SE VENDEN DEPARTAMENTOS DE 1, 2 Y 3 AMBIENTES ...       55.000   \n",
       "\n",
       "        price_aprox_usd  \n",
       "22370               nan  \n",
       "25757               nan  \n",
       "35534               nan  \n",
       "50054               nan  \n",
       "50055               nan  \n",
       "50056               nan  \n",
       "50057               nan  \n",
       "61684               nan  \n",
       "79472               nan  \n",
       "103676              nan  "
      ]
     },
     "execution_count": 365,
     "metadata": {},
     "output_type": "execute_result"
    }
   ],
   "source": [
    "#llamo a la función que busca el patron regex que está en el bloque de definición de funciones globales\n",
    "df_resultado_titles_regex_1 = busca_patron_regex(pat_regex_1, 'precio', 'title', 'precio_', original_data)\n",
    "#llamo a la función pra obtener el dataframe con los valores a imputar luego de buscar el regex\n",
    "union_tablas_resultado_regex_con_original('title', 'precio_title', 'price_aprox_usd', \\\n",
    "                                          original_data, df_resultado_titles_regex_1)"
   ]
  },
  {
   "cell_type": "code",
   "execution_count": 367,
   "metadata": {},
   "outputs": [
    {
     "name": "stdout",
     "output_type": "stream",
     "text": [
      "Patrones encontrados\n",
      "False    121108\n",
      "True        112\n",
      "Name: precio_title, dtype: int64\n"
     ]
    },
    {
     "data": {
      "text/html": [
       "<div>\n",
       "<style scoped>\n",
       "    .dataframe tbody tr th:only-of-type {\n",
       "        vertical-align: middle;\n",
       "    }\n",
       "\n",
       "    .dataframe tbody tr th {\n",
       "        vertical-align: top;\n",
       "    }\n",
       "\n",
       "    .dataframe thead th {\n",
       "        text-align: right;\n",
       "    }\n",
       "</style>\n",
       "<table border=\"1\" class=\"dataframe\">\n",
       "  <thead>\n",
       "    <tr style=\"text-align: right;\">\n",
       "      <th></th>\n",
       "      <th>title</th>\n",
       "      <th>precio_title</th>\n",
       "      <th>price_aprox_usd</th>\n",
       "    </tr>\n",
       "  </thead>\n",
       "  <tbody>\n",
       "    <tr>\n",
       "      <th>48651</th>\n",
       "      <td>USD 68.000 VILLA MORRA – Pilar</td>\n",
       "      <td>68.000</td>\n",
       "      <td>nan</td>\n",
       "    </tr>\n",
       "  </tbody>\n",
       "</table>\n",
       "</div>"
      ],
      "text/plain": [
       "                                title precio_title  price_aprox_usd\n",
       "48651  USD 68.000 VILLA MORRA – Pilar       68.000              nan"
      ]
     },
     "execution_count": 367,
     "metadata": {},
     "output_type": "execute_result"
    }
   ],
   "source": [
    "#llamo a la función que busca el patron regex que está en el bloque de definición de funciones globales\n",
    "df_resultado_titles_regex_2 = busca_patron_regex(pat_regex_2, 'precio', 'title', 'precio_', original_data)\n",
    "#llamo a la función pra obtener el dataframe con los valores a imputar luego de buscar el regex\n",
    "union_tablas_resultado_regex_con_original('title', 'precio_title', 'price_aprox_usd', \\\n",
    "                                          original_data, df_resultado_titles_regex_2)"
   ]
  },
  {
   "cell_type": "code",
   "execution_count": 370,
   "metadata": {},
   "outputs": [
    {
     "name": "stdout",
     "output_type": "stream",
     "text": [
      "Patrones encontrados\n",
      "False    121210\n",
      "True         10\n",
      "Name: precio_title, dtype: int64\n"
     ]
    },
    {
     "data": {
      "text/html": [
       "<div>\n",
       "<style scoped>\n",
       "    .dataframe tbody tr th:only-of-type {\n",
       "        vertical-align: middle;\n",
       "    }\n",
       "\n",
       "    .dataframe tbody tr th {\n",
       "        vertical-align: top;\n",
       "    }\n",
       "\n",
       "    .dataframe thead th {\n",
       "        text-align: right;\n",
       "    }\n",
       "</style>\n",
       "<table border=\"1\" class=\"dataframe\">\n",
       "  <thead>\n",
       "    <tr style=\"text-align: right;\">\n",
       "      <th></th>\n",
       "      <th>title</th>\n",
       "      <th>precio_title</th>\n",
       "      <th>price_aprox_usd</th>\n",
       "    </tr>\n",
       "  </thead>\n",
       "  <tbody>\n",
       "  </tbody>\n",
       "</table>\n",
       "</div>"
      ],
      "text/plain": [
       "Empty DataFrame\n",
       "Columns: [title, precio_title, price_aprox_usd]\n",
       "Index: []"
      ]
     },
     "execution_count": 370,
     "metadata": {},
     "output_type": "execute_result"
    }
   ],
   "source": [
    "#llamo a la función que busca el patron regex que está en el bloque de definición de funciones globales\n",
    "df_resultado_titles_regex_3 = busca_patron_regex(pat_regex_3, 'precio', 'title', 'precio_', original_data)\n",
    "#llamo a la función pra obtener el dataframe con los valores a imputar luego de buscar el regex\n",
    "union_tablas_resultado_regex_con_original('title', 'precio_title', 'price_aprox_usd', \\\n",
    "                                          original_data, df_resultado_titles_regex_3)"
   ]
  },
  {
   "cell_type": "code",
   "execution_count": 371,
   "metadata": {},
   "outputs": [
    {
     "name": "stdout",
     "output_type": "stream",
     "text": [
      "Patrones encontrados\n",
      "False    121216\n",
      "True          4\n",
      "Name: precio_title, dtype: int64\n"
     ]
    },
    {
     "data": {
      "text/html": [
       "<div>\n",
       "<style scoped>\n",
       "    .dataframe tbody tr th:only-of-type {\n",
       "        vertical-align: middle;\n",
       "    }\n",
       "\n",
       "    .dataframe tbody tr th {\n",
       "        vertical-align: top;\n",
       "    }\n",
       "\n",
       "    .dataframe thead th {\n",
       "        text-align: right;\n",
       "    }\n",
       "</style>\n",
       "<table border=\"1\" class=\"dataframe\">\n",
       "  <thead>\n",
       "    <tr style=\"text-align: right;\">\n",
       "      <th></th>\n",
       "      <th>title</th>\n",
       "      <th>precio_title</th>\n",
       "      <th>price_aprox_usd</th>\n",
       "    </tr>\n",
       "  </thead>\n",
       "  <tbody>\n",
       "  </tbody>\n",
       "</table>\n",
       "</div>"
      ],
      "text/plain": [
       "Empty DataFrame\n",
       "Columns: [title, precio_title, price_aprox_usd]\n",
       "Index: []"
      ]
     },
     "execution_count": 371,
     "metadata": {},
     "output_type": "execute_result"
    }
   ],
   "source": [
    "#llamo a la función que busca el patron regex que está en el bloque de definición de funciones globales\n",
    "df_resultado_titles_regex_4 = busca_patron_regex(pat_regex_4, 'precio', 'title', 'precio_', original_data)\n",
    "#llamo a la función pra obtener el dataframe con los valores a imputar luego de buscar el regex\n",
    "union_tablas_resultado_regex_con_original('title', 'precio_title', 'price_aprox_usd', \\\n",
    "                                          original_data, df_resultado_titles_regex_4)\n"
   ]
  },
  {
   "cell_type": "markdown",
   "metadata": {},
   "source": [
    "NOTA INTERNA!! \n",
    "LA IDEA ES APLICAR LO MISMO A LOS OTROS TRES CAMPOS Y ME FALTA VER COMO HACER LOS IMPUTS DE ESTOS VALORES\n",
    "ESTAS FUNCIONES LUEGO SIRVEN PARA LAS OTRAS COLUMNAS QUE QUEREMOS EVALUAR"
   ]
  },
  {
   "attachments": {
    "Linea_divisoria.png": {
     "image/png": "[encoded data removed]"
    }
   },
   "cell_type": "markdown",
   "metadata": {},
   "source": [
    "![Linea_divisoria.png](attachment:Linea_divisoria.png)"
   ]
  }
 ],
 "metadata": {
  "kernelspec": {
   "display_name": "Python 3",
   "language": "python",
   "name": "python3"
  },
  "language_info": {
   "codemirror_mode": {
    "name": "ipython",
    "version": 3
   },
   "file_extension": ".py",
   "mimetype": "text/x-python",
   "name": "python",
   "nbconvert_exporter": "python",
   "pygments_lexer": "ipython3",
   "version": "3.7.9"
  }
 },
 "nbformat": 4,
 "nbformat_minor": 4
}
