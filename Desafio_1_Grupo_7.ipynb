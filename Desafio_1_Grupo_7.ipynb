{
 "cells": [
  {
   "cell_type": "markdown",
   "metadata": {},
   "source": [
    "# Trabajo Práctico\n",
    "## Primer Desafío \n",
    "### Grupo 7"
   ]
  },
  {
   "cell_type": "markdown",
   "metadata": {},
   "source": [
    "<img src='Linea_Divisoria.png' align='left' width=100%/>"
   ]
  },
  {
   "cell_type": "markdown",
   "metadata": {},
   "source": [
    "### Congifuraciones Varias"
   ]
  },
  {
   "cell_type": "code",
   "execution_count": 1,
   "metadata": {},
   "outputs": [],
   "source": [
    "import re\n",
    "import math\n",
    "import numpy as np\n",
    "import pandas as pd\n",
    "import seaborn as sns\n",
    "import matplotlib as mpl\n",
    "import matplotlib.pyplot as plt\n"
   ]
  },
  {
   "cell_type": "code",
   "execution_count": 2,
   "metadata": {},
   "outputs": [],
   "source": [
    "# configuraciones globales para Pandas.\n",
    "pd.set_option('display.max_columns', None)\n",
    "pd.set_option('display.max_rows', 50)\n",
    "pd.set_option('mode.chained_assignment', None)\n",
    "pd.options.display.float_format = '{:.2f}'.format\n",
    "\n",
    "# Configuraciones globales para Seaborn.\n",
    "plt.style.use('seaborn')"
   ]
  },
  {
   "attachments": {
    "Linea_divisoria.png": {
     "image/png": "[encoded data removed]"
    }
   },
   "cell_type": "markdown",
   "metadata": {},
   "source": [
    "![Linea_divisoria.png](attachment:Linea_divisoria.png)"
   ]
  },
  {
   "cell_type": "markdown",
   "metadata": {},
   "source": [
    "### Carga de Conjunto de Datos Iniciales"
   ]
  },
  {
   "cell_type": "code",
   "execution_count": 3,
   "metadata": {},
   "outputs": [],
   "source": [
    "#Carga del archivo CSV original en memoria para trabajanr con el mimso \n",
    "\n",
    "data_o = pd.read_csv(filepath_or_buffer='properati.csv')\n",
    "mask_original_data = data_o['property_type'] == 'apartment'\n",
    "original_data = data_o[mask_original_data]"
   ]
  },
  {
   "cell_type": "code",
   "execution_count": 4,
   "metadata": {},
   "outputs": [],
   "source": [
    "#Carga del conjunto de datos orginal en el dataset resutlado \n",
    "#para ir realizando las modificaciones necesarias sin alterar el original\n",
    "data_r = pd.read_csv(filepath_or_buffer='properati.csv')\n",
    "mask_resultado_data = data_r['property_type'] == 'apartment'\n",
    "resultado_data = data_r[mask_resultado_data]"
   ]
  },
  {
   "cell_type": "markdown",
   "metadata": {},
   "source": [
    "Exploración básica del dataset observando los primeros cinco registros y los "
   ]
  },
  {
   "cell_type": "code",
   "execution_count": 5,
   "metadata": {},
   "outputs": [
    {
     "data": {
      "text/html": [
       "<div>\n",
       "<style scoped>\n",
       "    .dataframe tbody tr th:only-of-type {\n",
       "        vertical-align: middle;\n",
       "    }\n",
       "\n",
       "    .dataframe tbody tr th {\n",
       "        vertical-align: top;\n",
       "    }\n",
       "\n",
       "    .dataframe thead th {\n",
       "        text-align: right;\n",
       "    }\n",
       "</style>\n",
       "<table border=\"1\" class=\"dataframe\">\n",
       "  <thead>\n",
       "    <tr style=\"text-align: right;\">\n",
       "      <th></th>\n",
       "      <th>Unnamed: 0</th>\n",
       "      <th>operation</th>\n",
       "      <th>property_type</th>\n",
       "      <th>place_name</th>\n",
       "      <th>place_with_parent_names</th>\n",
       "      <th>country_name</th>\n",
       "      <th>state_name</th>\n",
       "      <th>geonames_id</th>\n",
       "      <th>lat-lon</th>\n",
       "      <th>lat</th>\n",
       "      <th>lon</th>\n",
       "      <th>price</th>\n",
       "      <th>currency</th>\n",
       "      <th>price_aprox_local_currency</th>\n",
       "      <th>price_aprox_usd</th>\n",
       "      <th>surface_total_in_m2</th>\n",
       "      <th>surface_covered_in_m2</th>\n",
       "      <th>price_usd_per_m2</th>\n",
       "      <th>price_per_m2</th>\n",
       "      <th>floor</th>\n",
       "      <th>rooms</th>\n",
       "      <th>expenses</th>\n",
       "      <th>properati_url</th>\n",
       "      <th>description</th>\n",
       "      <th>title</th>\n",
       "      <th>image_thumbnail</th>\n",
       "    </tr>\n",
       "  </thead>\n",
       "  <tbody>\n",
       "    <tr>\n",
       "      <th>1</th>\n",
       "      <td>1</td>\n",
       "      <td>sell</td>\n",
       "      <td>apartment</td>\n",
       "      <td>La Plata</td>\n",
       "      <td>|Argentina|Bs.As. G.B.A. Zona Sur|La Plata|</td>\n",
       "      <td>Argentina</td>\n",
       "      <td>Bs.As. G.B.A. Zona Sur</td>\n",
       "      <td>3432039.00</td>\n",
       "      <td>-34.9038831,-57.9643295</td>\n",
       "      <td>-34.90</td>\n",
       "      <td>-57.96</td>\n",
       "      <td>150000.00</td>\n",
       "      <td>USD</td>\n",
       "      <td>2646675.00</td>\n",
       "      <td>150000.00</td>\n",
       "      <td>nan</td>\n",
       "      <td>nan</td>\n",
       "      <td>nan</td>\n",
       "      <td>nan</td>\n",
       "      <td>nan</td>\n",
       "      <td>nan</td>\n",
       "      <td>nan</td>\n",
       "      <td>http://www.properati.com.ar/15bob_venta_depart...</td>\n",
       "      <td>Venta de departamento en décimo piso al frente...</td>\n",
       "      <td>VENTA Depto 2 dorm. a estrenar 7 e/ 36 y 37   ...</td>\n",
       "      <td>https://thumbs4.properati.com/7/ikpVBu2ztHA7jv...</td>\n",
       "    </tr>\n",
       "    <tr>\n",
       "      <th>2</th>\n",
       "      <td>2</td>\n",
       "      <td>sell</td>\n",
       "      <td>apartment</td>\n",
       "      <td>Mataderos</td>\n",
       "      <td>|Argentina|Capital Federal|Mataderos|</td>\n",
       "      <td>Argentina</td>\n",
       "      <td>Capital Federal</td>\n",
       "      <td>3430787.00</td>\n",
       "      <td>-34.6522615,-58.5229825</td>\n",
       "      <td>-34.65</td>\n",
       "      <td>-58.52</td>\n",
       "      <td>72000.00</td>\n",
       "      <td>USD</td>\n",
       "      <td>1270404.00</td>\n",
       "      <td>72000.00</td>\n",
       "      <td>55.00</td>\n",
       "      <td>55.00</td>\n",
       "      <td>1309.09</td>\n",
       "      <td>1309.09</td>\n",
       "      <td>nan</td>\n",
       "      <td>nan</td>\n",
       "      <td>nan</td>\n",
       "      <td>http://www.properati.com.ar/15bod_venta_depart...</td>\n",
       "      <td>2 AMBIENTES 3ER PISO LATERAL LIVING COMEDOR AM...</td>\n",
       "      <td>2 AMB 3ER PISO CON ASCENSOR APTO CREDITO</td>\n",
       "      <td>https://thumbs4.properati.com/5/SXKr34F_IwG3W_...</td>\n",
       "    </tr>\n",
       "    <tr>\n",
       "      <th>4</th>\n",
       "      <td>4</td>\n",
       "      <td>sell</td>\n",
       "      <td>apartment</td>\n",
       "      <td>Centro</td>\n",
       "      <td>|Argentina|Buenos Aires Costa Atlántica|Mar de...</td>\n",
       "      <td>Argentina</td>\n",
       "      <td>Buenos Aires Costa Atlántica</td>\n",
       "      <td>3435548.00</td>\n",
       "      <td>-38.0026256,-57.5494468</td>\n",
       "      <td>-38.00</td>\n",
       "      <td>-57.55</td>\n",
       "      <td>64000.00</td>\n",
       "      <td>USD</td>\n",
       "      <td>1129248.00</td>\n",
       "      <td>64000.00</td>\n",
       "      <td>35.00</td>\n",
       "      <td>35.00</td>\n",
       "      <td>1828.57</td>\n",
       "      <td>1828.57</td>\n",
       "      <td>nan</td>\n",
       "      <td>nan</td>\n",
       "      <td>nan</td>\n",
       "      <td>http://www.properati.com.ar/15bok_venta_depart...</td>\n",
       "      <td>DEPARTAMENTO CON FANTÁSTICA ILUMINACIÓN NATURA...</td>\n",
       "      <td>DEPTO 2 AMB AL CONTRAFRENTE ZONA CENTRO/PLAZA ...</td>\n",
       "      <td>https://thumbs4.properati.com/5/xrRqlNcSI_vs-f...</td>\n",
       "    </tr>\n",
       "    <tr>\n",
       "      <th>7</th>\n",
       "      <td>7</td>\n",
       "      <td>sell</td>\n",
       "      <td>apartment</td>\n",
       "      <td>Belgrano</td>\n",
       "      <td>|Argentina|Capital Federal|Belgrano|</td>\n",
       "      <td>Argentina</td>\n",
       "      <td>Capital Federal</td>\n",
       "      <td>3436077.00</td>\n",
       "      <td>-34.5598729,-58.443362</td>\n",
       "      <td>-34.56</td>\n",
       "      <td>-58.44</td>\n",
       "      <td>138000.00</td>\n",
       "      <td>USD</td>\n",
       "      <td>2434941.00</td>\n",
       "      <td>138000.00</td>\n",
       "      <td>45.00</td>\n",
       "      <td>40.00</td>\n",
       "      <td>3066.67</td>\n",
       "      <td>3450.00</td>\n",
       "      <td>nan</td>\n",
       "      <td>nan</td>\n",
       "      <td>nan</td>\n",
       "      <td>http://www.properati.com.ar/15bot_venta_depart...</td>\n",
       "      <td>EXCELENTE MONOAMBIENTE A ESTRENAR AMPLIO SUPER...</td>\n",
       "      <td>JOSE HERNANDEZ 1400 MONOAMBIENTE  ESTRENAR CAT...</td>\n",
       "      <td>https://thumbs4.properati.com/1/IHxARynlr8sPEW...</td>\n",
       "    </tr>\n",
       "    <tr>\n",
       "      <th>8</th>\n",
       "      <td>8</td>\n",
       "      <td>sell</td>\n",
       "      <td>apartment</td>\n",
       "      <td>Belgrano</td>\n",
       "      <td>|Argentina|Capital Federal|Belgrano|</td>\n",
       "      <td>Argentina</td>\n",
       "      <td>Capital Federal</td>\n",
       "      <td>3436077.00</td>\n",
       "      <td>-34.5598729,-58.443362</td>\n",
       "      <td>-34.56</td>\n",
       "      <td>-58.44</td>\n",
       "      <td>195000.00</td>\n",
       "      <td>USD</td>\n",
       "      <td>3440677.50</td>\n",
       "      <td>195000.00</td>\n",
       "      <td>65.00</td>\n",
       "      <td>60.00</td>\n",
       "      <td>3000.00</td>\n",
       "      <td>3250.00</td>\n",
       "      <td>nan</td>\n",
       "      <td>nan</td>\n",
       "      <td>nan</td>\n",
       "      <td>http://www.properati.com.ar/15bou_venta_depart...</td>\n",
       "      <td>EXCELENTE DOS AMBIENTES  ESTRENAR AMPLIO SUPER...</td>\n",
       "      <td>JOSE HERNANDEZ   1400 DOS AMBIENTES ESTRENAR ,...</td>\n",
       "      <td>https://thumbs4.properati.com/2/J3zOjgaFHrkvnv...</td>\n",
       "    </tr>\n",
       "  </tbody>\n",
       "</table>\n",
       "</div>"
      ],
      "text/plain": [
       "   Unnamed: 0 operation property_type place_name  \\\n",
       "1           1      sell     apartment   La Plata   \n",
       "2           2      sell     apartment  Mataderos   \n",
       "4           4      sell     apartment     Centro   \n",
       "7           7      sell     apartment   Belgrano   \n",
       "8           8      sell     apartment   Belgrano   \n",
       "\n",
       "                             place_with_parent_names country_name  \\\n",
       "1        |Argentina|Bs.As. G.B.A. Zona Sur|La Plata|    Argentina   \n",
       "2              |Argentina|Capital Federal|Mataderos|    Argentina   \n",
       "4  |Argentina|Buenos Aires Costa Atlántica|Mar de...    Argentina   \n",
       "7               |Argentina|Capital Federal|Belgrano|    Argentina   \n",
       "8               |Argentina|Capital Federal|Belgrano|    Argentina   \n",
       "\n",
       "                     state_name  geonames_id                  lat-lon    lat  \\\n",
       "1        Bs.As. G.B.A. Zona Sur   3432039.00  -34.9038831,-57.9643295 -34.90   \n",
       "2               Capital Federal   3430787.00  -34.6522615,-58.5229825 -34.65   \n",
       "4  Buenos Aires Costa Atlántica   3435548.00  -38.0026256,-57.5494468 -38.00   \n",
       "7               Capital Federal   3436077.00   -34.5598729,-58.443362 -34.56   \n",
       "8               Capital Federal   3436077.00   -34.5598729,-58.443362 -34.56   \n",
       "\n",
       "     lon     price currency  price_aprox_local_currency  price_aprox_usd  \\\n",
       "1 -57.96 150000.00      USD                  2646675.00        150000.00   \n",
       "2 -58.52  72000.00      USD                  1270404.00         72000.00   \n",
       "4 -57.55  64000.00      USD                  1129248.00         64000.00   \n",
       "7 -58.44 138000.00      USD                  2434941.00        138000.00   \n",
       "8 -58.44 195000.00      USD                  3440677.50        195000.00   \n",
       "\n",
       "   surface_total_in_m2  surface_covered_in_m2  price_usd_per_m2  price_per_m2  \\\n",
       "1                  nan                    nan               nan           nan   \n",
       "2                55.00                  55.00           1309.09       1309.09   \n",
       "4                35.00                  35.00           1828.57       1828.57   \n",
       "7                45.00                  40.00           3066.67       3450.00   \n",
       "8                65.00                  60.00           3000.00       3250.00   \n",
       "\n",
       "   floor  rooms  expenses                                      properati_url  \\\n",
       "1    nan    nan       nan  http://www.properati.com.ar/15bob_venta_depart...   \n",
       "2    nan    nan       nan  http://www.properati.com.ar/15bod_venta_depart...   \n",
       "4    nan    nan       nan  http://www.properati.com.ar/15bok_venta_depart...   \n",
       "7    nan    nan       nan  http://www.properati.com.ar/15bot_venta_depart...   \n",
       "8    nan    nan       nan  http://www.properati.com.ar/15bou_venta_depart...   \n",
       "\n",
       "                                         description  \\\n",
       "1  Venta de departamento en décimo piso al frente...   \n",
       "2  2 AMBIENTES 3ER PISO LATERAL LIVING COMEDOR AM...   \n",
       "4  DEPARTAMENTO CON FANTÁSTICA ILUMINACIÓN NATURA...   \n",
       "7  EXCELENTE MONOAMBIENTE A ESTRENAR AMPLIO SUPER...   \n",
       "8  EXCELENTE DOS AMBIENTES  ESTRENAR AMPLIO SUPER...   \n",
       "\n",
       "                                               title  \\\n",
       "1  VENTA Depto 2 dorm. a estrenar 7 e/ 36 y 37   ...   \n",
       "2           2 AMB 3ER PISO CON ASCENSOR APTO CREDITO   \n",
       "4  DEPTO 2 AMB AL CONTRAFRENTE ZONA CENTRO/PLAZA ...   \n",
       "7  JOSE HERNANDEZ 1400 MONOAMBIENTE  ESTRENAR CAT...   \n",
       "8  JOSE HERNANDEZ   1400 DOS AMBIENTES ESTRENAR ,...   \n",
       "\n",
       "                                     image_thumbnail  \n",
       "1  https://thumbs4.properati.com/7/ikpVBu2ztHA7jv...  \n",
       "2  https://thumbs4.properati.com/5/SXKr34F_IwG3W_...  \n",
       "4  https://thumbs4.properati.com/5/xrRqlNcSI_vs-f...  \n",
       "7  https://thumbs4.properati.com/1/IHxARynlr8sPEW...  \n",
       "8  https://thumbs4.properati.com/2/J3zOjgaFHrkvnv...  "
      ]
     },
     "execution_count": 5,
     "metadata": {},
     "output_type": "execute_result"
    }
   ],
   "source": [
    "original_data.head()"
   ]
  },
  {
   "cell_type": "code",
   "execution_count": 6,
   "metadata": {},
   "outputs": [
    {
     "data": {
      "text/html": [
       "<div>\n",
       "<style scoped>\n",
       "    .dataframe tbody tr th:only-of-type {\n",
       "        vertical-align: middle;\n",
       "    }\n",
       "\n",
       "    .dataframe tbody tr th {\n",
       "        vertical-align: top;\n",
       "    }\n",
       "\n",
       "    .dataframe thead th {\n",
       "        text-align: right;\n",
       "    }\n",
       "</style>\n",
       "<table border=\"1\" class=\"dataframe\">\n",
       "  <thead>\n",
       "    <tr style=\"text-align: right;\">\n",
       "      <th></th>\n",
       "      <th>Unnamed: 0</th>\n",
       "      <th>operation</th>\n",
       "      <th>property_type</th>\n",
       "      <th>place_name</th>\n",
       "      <th>place_with_parent_names</th>\n",
       "      <th>country_name</th>\n",
       "      <th>state_name</th>\n",
       "      <th>geonames_id</th>\n",
       "      <th>lat-lon</th>\n",
       "      <th>lat</th>\n",
       "      <th>lon</th>\n",
       "      <th>price</th>\n",
       "      <th>currency</th>\n",
       "      <th>price_aprox_local_currency</th>\n",
       "      <th>price_aprox_usd</th>\n",
       "      <th>surface_total_in_m2</th>\n",
       "      <th>surface_covered_in_m2</th>\n",
       "      <th>price_usd_per_m2</th>\n",
       "      <th>price_per_m2</th>\n",
       "      <th>floor</th>\n",
       "      <th>rooms</th>\n",
       "      <th>expenses</th>\n",
       "      <th>properati_url</th>\n",
       "      <th>description</th>\n",
       "      <th>title</th>\n",
       "      <th>image_thumbnail</th>\n",
       "    </tr>\n",
       "  </thead>\n",
       "  <tbody>\n",
       "    <tr>\n",
       "      <th>121211</th>\n",
       "      <td>121211</td>\n",
       "      <td>sell</td>\n",
       "      <td>apartment</td>\n",
       "      <td>Acassuso</td>\n",
       "      <td>|Argentina|Bs.As. G.B.A. Zona Norte|San Isidro...</td>\n",
       "      <td>Argentina</td>\n",
       "      <td>Bs.As. G.B.A. Zona Norte</td>\n",
       "      <td>3436508.00</td>\n",
       "      <td>NaN</td>\n",
       "      <td>nan</td>\n",
       "      <td>nan</td>\n",
       "      <td>nan</td>\n",
       "      <td>NaN</td>\n",
       "      <td>nan</td>\n",
       "      <td>nan</td>\n",
       "      <td>205.00</td>\n",
       "      <td>205.00</td>\n",
       "      <td>nan</td>\n",
       "      <td>nan</td>\n",
       "      <td>nan</td>\n",
       "      <td>nan</td>\n",
       "      <td>nan</td>\n",
       "      <td>http://www.properati.com.ar/1cj9y_venta_depart...</td>\n",
       "      <td>Excelente departamento de categoría con vistas...</td>\n",
       "      <td>Departamento - Acassuso</td>\n",
       "      <td>https://thumbs4.properati.com/0/pvevdNsjE5Kf4r...</td>\n",
       "    </tr>\n",
       "    <tr>\n",
       "      <th>121215</th>\n",
       "      <td>121215</td>\n",
       "      <td>sell</td>\n",
       "      <td>apartment</td>\n",
       "      <td>Belgrano</td>\n",
       "      <td>|Argentina|Capital Federal|Belgrano|</td>\n",
       "      <td>Argentina</td>\n",
       "      <td>Capital Federal</td>\n",
       "      <td>3436077.00</td>\n",
       "      <td>NaN</td>\n",
       "      <td>nan</td>\n",
       "      <td>nan</td>\n",
       "      <td>870000.00</td>\n",
       "      <td>USD</td>\n",
       "      <td>15350715.00</td>\n",
       "      <td>870000.00</td>\n",
       "      <td>113.00</td>\n",
       "      <td>93.00</td>\n",
       "      <td>7699.12</td>\n",
       "      <td>9354.84</td>\n",
       "      <td>nan</td>\n",
       "      <td>nan</td>\n",
       "      <td>10000.00</td>\n",
       "      <td>http://www.properati.com.ar/1cja2_venta_depart...</td>\n",
       "      <td>TORRE FORUM ALCORTA - MÁXIMA CATEGORÍA.Impecab...</td>\n",
       "      <td>Torre Forum Alcorta- Impecable 3 ambientes</td>\n",
       "      <td>https://thumbs4.properati.com/1/bjms0KnaAnlNoQ...</td>\n",
       "    </tr>\n",
       "    <tr>\n",
       "      <th>121217</th>\n",
       "      <td>121217</td>\n",
       "      <td>sell</td>\n",
       "      <td>apartment</td>\n",
       "      <td>Villa Urquiza</td>\n",
       "      <td>|Argentina|Capital Federal|Villa Urquiza|</td>\n",
       "      <td>Argentina</td>\n",
       "      <td>Capital Federal</td>\n",
       "      <td>3433775.00</td>\n",
       "      <td>-34.5706388726,-58.4755963355</td>\n",
       "      <td>-34.57</td>\n",
       "      <td>-58.48</td>\n",
       "      <td>131500.00</td>\n",
       "      <td>USD</td>\n",
       "      <td>2320251.75</td>\n",
       "      <td>131500.00</td>\n",
       "      <td>46.00</td>\n",
       "      <td>39.00</td>\n",
       "      <td>2858.70</td>\n",
       "      <td>3371.79</td>\n",
       "      <td>nan</td>\n",
       "      <td>nan</td>\n",
       "      <td>nan</td>\n",
       "      <td>http://www.properati.com.ar/1cja7_venta_depart...</td>\n",
       "      <td>VENTA DEPARTAMENTO AMBIENTE DIVISIBLE A ESTREN...</td>\n",
       "      <td>VENTA DEPARTAMENTO AMBIENTE DIVISIBLE A ESTREN...</td>\n",
       "      <td>https://thumbs4.properati.com/9/YAe_-2gRVykADP...</td>\n",
       "    </tr>\n",
       "    <tr>\n",
       "      <th>121218</th>\n",
       "      <td>121218</td>\n",
       "      <td>sell</td>\n",
       "      <td>apartment</td>\n",
       "      <td>Plaza Colón</td>\n",
       "      <td>|Argentina|Buenos Aires Costa Atlántica|Mar de...</td>\n",
       "      <td>Argentina</td>\n",
       "      <td>Buenos Aires Costa Atlántica</td>\n",
       "      <td>nan</td>\n",
       "      <td>NaN</td>\n",
       "      <td>nan</td>\n",
       "      <td>nan</td>\n",
       "      <td>95900.00</td>\n",
       "      <td>USD</td>\n",
       "      <td>1692107.55</td>\n",
       "      <td>95900.00</td>\n",
       "      <td>48.00</td>\n",
       "      <td>48.00</td>\n",
       "      <td>1997.92</td>\n",
       "      <td>1997.92</td>\n",
       "      <td>nan</td>\n",
       "      <td>nan</td>\n",
       "      <td>nan</td>\n",
       "      <td>http://www.properati.com.ar/1cja8_venta_depart...</td>\n",
       "      <td>2 Amb al contrafrente,  luminoso. El departame...</td>\n",
       "      <td>2 amb. C/ dep. de servicio al contrafrente| Re...</td>\n",
       "      <td>https://thumbs4.properati.com/8/Q12PTvU6BQJ0ib...</td>\n",
       "    </tr>\n",
       "    <tr>\n",
       "      <th>121219</th>\n",
       "      <td>121219</td>\n",
       "      <td>sell</td>\n",
       "      <td>apartment</td>\n",
       "      <td>Capital Federal</td>\n",
       "      <td>|Argentina|Capital Federal|</td>\n",
       "      <td>Argentina</td>\n",
       "      <td>Capital Federal</td>\n",
       "      <td>3433955.00</td>\n",
       "      <td>NaN</td>\n",
       "      <td>nan</td>\n",
       "      <td>nan</td>\n",
       "      <td>129000.00</td>\n",
       "      <td>USD</td>\n",
       "      <td>2276140.50</td>\n",
       "      <td>129000.00</td>\n",
       "      <td>77.00</td>\n",
       "      <td>77.00</td>\n",
       "      <td>1675.32</td>\n",
       "      <td>1675.32</td>\n",
       "      <td>nan</td>\n",
       "      <td>nan</td>\n",
       "      <td>3500.00</td>\n",
       "      <td>http://www.properati.com.ar/1cjaa_venta_depart...</td>\n",
       "      <td>Departamento de 77 m2 apto profesional. Edific...</td>\n",
       "      <td>Departamento apto profesional en el Centro</td>\n",
       "      <td>https://thumbs4.properati.com/8/mNEsnQWqB7joBF...</td>\n",
       "    </tr>\n",
       "  </tbody>\n",
       "</table>\n",
       "</div>"
      ],
      "text/plain": [
       "        Unnamed: 0 operation property_type       place_name  \\\n",
       "121211      121211      sell     apartment         Acassuso   \n",
       "121215      121215      sell     apartment         Belgrano   \n",
       "121217      121217      sell     apartment    Villa Urquiza   \n",
       "121218      121218      sell     apartment      Plaza Colón   \n",
       "121219      121219      sell     apartment  Capital Federal   \n",
       "\n",
       "                                  place_with_parent_names country_name  \\\n",
       "121211  |Argentina|Bs.As. G.B.A. Zona Norte|San Isidro...    Argentina   \n",
       "121215               |Argentina|Capital Federal|Belgrano|    Argentina   \n",
       "121217          |Argentina|Capital Federal|Villa Urquiza|    Argentina   \n",
       "121218  |Argentina|Buenos Aires Costa Atlántica|Mar de...    Argentina   \n",
       "121219                        |Argentina|Capital Federal|    Argentina   \n",
       "\n",
       "                          state_name  geonames_id  \\\n",
       "121211      Bs.As. G.B.A. Zona Norte   3436508.00   \n",
       "121215               Capital Federal   3436077.00   \n",
       "121217               Capital Federal   3433775.00   \n",
       "121218  Buenos Aires Costa Atlántica          nan   \n",
       "121219               Capital Federal   3433955.00   \n",
       "\n",
       "                              lat-lon    lat    lon     price currency  \\\n",
       "121211                            NaN    nan    nan       nan      NaN   \n",
       "121215                            NaN    nan    nan 870000.00      USD   \n",
       "121217  -34.5706388726,-58.4755963355 -34.57 -58.48 131500.00      USD   \n",
       "121218                            NaN    nan    nan  95900.00      USD   \n",
       "121219                            NaN    nan    nan 129000.00      USD   \n",
       "\n",
       "        price_aprox_local_currency  price_aprox_usd  surface_total_in_m2  \\\n",
       "121211                         nan              nan               205.00   \n",
       "121215                 15350715.00        870000.00               113.00   \n",
       "121217                  2320251.75        131500.00                46.00   \n",
       "121218                  1692107.55         95900.00                48.00   \n",
       "121219                  2276140.50        129000.00                77.00   \n",
       "\n",
       "        surface_covered_in_m2  price_usd_per_m2  price_per_m2  floor  rooms  \\\n",
       "121211                 205.00               nan           nan    nan    nan   \n",
       "121215                  93.00           7699.12       9354.84    nan    nan   \n",
       "121217                  39.00           2858.70       3371.79    nan    nan   \n",
       "121218                  48.00           1997.92       1997.92    nan    nan   \n",
       "121219                  77.00           1675.32       1675.32    nan    nan   \n",
       "\n",
       "        expenses                                      properati_url  \\\n",
       "121211       nan  http://www.properati.com.ar/1cj9y_venta_depart...   \n",
       "121215  10000.00  http://www.properati.com.ar/1cja2_venta_depart...   \n",
       "121217       nan  http://www.properati.com.ar/1cja7_venta_depart...   \n",
       "121218       nan  http://www.properati.com.ar/1cja8_venta_depart...   \n",
       "121219   3500.00  http://www.properati.com.ar/1cjaa_venta_depart...   \n",
       "\n",
       "                                              description  \\\n",
       "121211  Excelente departamento de categoría con vistas...   \n",
       "121215  TORRE FORUM ALCORTA - MÁXIMA CATEGORÍA.Impecab...   \n",
       "121217  VENTA DEPARTAMENTO AMBIENTE DIVISIBLE A ESTREN...   \n",
       "121218  2 Amb al contrafrente,  luminoso. El departame...   \n",
       "121219  Departamento de 77 m2 apto profesional. Edific...   \n",
       "\n",
       "                                                    title  \\\n",
       "121211                            Departamento - Acassuso   \n",
       "121215         Torre Forum Alcorta- Impecable 3 ambientes   \n",
       "121217  VENTA DEPARTAMENTO AMBIENTE DIVISIBLE A ESTREN...   \n",
       "121218  2 amb. C/ dep. de servicio al contrafrente| Re...   \n",
       "121219         Departamento apto profesional en el Centro   \n",
       "\n",
       "                                          image_thumbnail  \n",
       "121211  https://thumbs4.properati.com/0/pvevdNsjE5Kf4r...  \n",
       "121215  https://thumbs4.properati.com/1/bjms0KnaAnlNoQ...  \n",
       "121217  https://thumbs4.properati.com/9/YAe_-2gRVykADP...  \n",
       "121218  https://thumbs4.properati.com/8/Q12PTvU6BQJ0ib...  \n",
       "121219  https://thumbs4.properati.com/8/mNEsnQWqB7joBF...  "
      ]
     },
     "execution_count": 6,
     "metadata": {},
     "output_type": "execute_result"
    }
   ],
   "source": [
    "original_data.tail()"
   ]
  },
  {
   "attachments": {
    "Linea_divisoria.png": {
     "image/png": "[encoded data removed]"
    }
   },
   "cell_type": "markdown",
   "metadata": {},
   "source": [
    "![Linea_divisoria.png](attachment:Linea_divisoria.png)"
   ]
  },
  {
   "cell_type": "markdown",
   "metadata": {},
   "source": [
    "### Funciones Globales"
   ]
  },
  {
   "cell_type": "code",
   "execution_count": 7,
   "metadata": {},
   "outputs": [],
   "source": [
    "def detalle_df_columns(cols: list, df: pd.DataFrame) -> pd.DataFrame:\n",
    "    \"\"\"\n",
    "    Dado un índice {cols} y un DataFrame {df}, devuelve otro DataFrame con datos descriptivos\n",
    "    según las medidas especificadas en el diccionario {measures}.\n",
    "    \"\"\"\n",
    "    measures = {\n",
    "        'Valores Únicos': df.nunique(), \n",
    "        'Nulos': df.shape[0] - df.count(), \n",
    "        '% Nulos': round((df.shape[0] - df.count()) / df.shape[0] * 100, 3),\n",
    "        'No Nulos': df.count(), \n",
    "        '% No Nulos': round(df.count() / df.shape[0] * 100, 3), \n",
    "        'Tipos': df.dtypes,\n",
    "        'Tamaño (mb)': df.memory_usage() / 1000000\n",
    "    }    \n",
    "    return pd.DataFrame(index=cols, data=measures)"
   ]
  },
  {
   "cell_type": "code",
   "execution_count": 8,
   "metadata": {},
   "outputs": [],
   "source": [
    "def busca_patron_regex(patron_regex, nombre_grupo_regex, columna, prefijo, \\\n",
    "                       df: pd.DataFrame, reemplazo=False, chrs_a_reemplazar='', chrs_reemplaza='') -> pd.DataFrame:\n",
    "    \"\"\"\n",
    "    Dado un patron regex en el parametro patron_regex, el nombre del grupo regex deseado, \n",
    "    la columna que se quiere buscar el patron, el prefijo de la nueva columna\n",
    "    y un dataframe en el parametro df devuelve un dataframe con la columna y los valores encontrados según el patron\n",
    "    \"\"\"\n",
    "    columna_nueva = prefijo + columna\n",
    "    _serie = df[columna]\n",
    "    mask_no_nulos = _serie.notnull()\n",
    "    _patron = re.compile(patron_regex) \n",
    "    serire_resultado = _serie[mask_no_nulos].apply(lambda x: _patron.search(x))\n",
    "    if reemplazo:\n",
    "        df_resultado = pd.DataFrame(serire_resultado.apply(lambda x: x if x is None else x.group(nombre_grupo_regex).replace(chrs_a_reemplazar, chrs_reemplaza)))\n",
    "    else:\n",
    "        df_resultado = pd.DataFrame(serire_resultado.apply(lambda x: x if x is None else x.group(nombre_grupo_regex)))\n",
    "    df_resultado = df_resultado.rename({columna : columna_nueva}, axis=1)\n",
    "    print (\"Patrones encontrados\")\n",
    "    print(df_resultado[columna_nueva].notnull().value_counts())\n",
    "    return df_resultado"
   ]
  },
  {
   "cell_type": "code",
   "execution_count": 9,
   "metadata": {},
   "outputs": [],
   "source": [
    "def reemplaza_valores_con_resultado_regex(columna_resultado, columna_imputar, df_resultado_regex: pd.DataFrame) -> pd.DataFrame:\n",
    "    \"\"\"\n",
    "    Dadas dos columnas, la columna de resutlado del \n",
    "    regex buscado del df_resutlado_regex y la columna a imputar del resultado_data, la función imputa los \n",
    "    valores en el df \"resultado_data\" y devuelve un dataframe con las dos columnas, la de imputación y \n",
    "    la a imputar antes de aplicar el reemplazo para mostrar lo que reemplzó\n",
    "    \"\"\"\n",
    "    #creo nombre de la nueva columna para agregar los valores a imputar\n",
    "    columna_nueva_auxiliar = '_' + columna_resultado + '_'\n",
    "    resultado_data[columna_nueva_auxiliar] = df_resultado_regex[columna_resultado]\n",
    "    #creo las mascaras para obtener los valores  imputar y los valores a reemplazar\n",
    "    mask_df_resultado_no_nulos = resultado_data[columna_nueva_auxiliar].notnull()\n",
    "    mask_df_original_nulos = resultado_data[columna_imputar].isnull()\n",
    "    #creo dataframe para mostrar valres a reemplazar y de reemplazo\n",
    "    df_mostrar = resultado_data[[columna_nueva_auxiliar, columna_imputar]][mask_df_resultado_no_nulos & mask_df_original_nulos]\n",
    "    #reemplazo loa valores\n",
    "    valores_reemplazados = resultado_data[[columna_imputar, columna_nueva_auxiliar]] \\\n",
    "    [mask_df_resultado_no_nulos & mask_df_original_nulos].apply \\\n",
    "    (lambda x: x[columna_nueva_auxiliar], axis=1).shape[0]\n",
    "    if valores_reemplazados > 0:\n",
    "        resultado_data[columna_imputar][mask_df_resultado_no_nulos & mask_df_original_nulos] = \\\n",
    "        resultado_data[[columna_imputar, columna_nueva_auxiliar]] \\\n",
    "        [mask_df_resultado_no_nulos & mask_df_original_nulos].apply \\\n",
    "        (lambda x: x[columna_nueva_auxiliar], axis=1)\n",
    "        print('Se reemplazaron %s valores' % valores_reemplazados)\n",
    "    else:\n",
    "        print('No hay valores para reemplazar')\n",
    "    #devuelvo los valores que reemplazo y la columna que reemplaza antes de realizar los reemplazos\n",
    "    return df_mostrar"
   ]
  },
  {
   "attachments": {
    "Linea_divisoria.png": {
     "image/png": "[encoded data removed]"
    }
   },
   "cell_type": "markdown",
   "metadata": {},
   "source": [
    "![Linea_divisoria.png](attachment:Linea_divisoria.png)"
   ]
  },
  {
   "cell_type": "markdown",
   "metadata": {},
   "source": [
    "### Descripción del Conjunto de Datos Originales\n",
    "\n",
    "Para esta descripción utilizamos la función **\"detalle_df_columns\"** que recibe como parámetros la lista de columnas del dataframe llamado **\"cols\"** y un dataframe donde recibe el dataframe que deseamos describir llamado **\"df\"**. Esta función devuelve otro dataframe con las descripciones de las columnas solicitadas"
   ]
  },
  {
   "cell_type": "code",
   "execution_count": 10,
   "metadata": {},
   "outputs": [
    {
     "data": {
      "text/html": [
       "<div>\n",
       "<style scoped>\n",
       "    .dataframe tbody tr th:only-of-type {\n",
       "        vertical-align: middle;\n",
       "    }\n",
       "\n",
       "    .dataframe tbody tr th {\n",
       "        vertical-align: top;\n",
       "    }\n",
       "\n",
       "    .dataframe thead th {\n",
       "        text-align: right;\n",
       "    }\n",
       "</style>\n",
       "<table border=\"1\" class=\"dataframe\">\n",
       "  <thead>\n",
       "    <tr style=\"text-align: right;\">\n",
       "      <th></th>\n",
       "      <th>Valores Únicos</th>\n",
       "      <th>Nulos</th>\n",
       "      <th>% Nulos</th>\n",
       "      <th>No Nulos</th>\n",
       "      <th>% No Nulos</th>\n",
       "      <th>Tipos</th>\n",
       "      <th>Tamaño (mb)</th>\n",
       "    </tr>\n",
       "  </thead>\n",
       "  <tbody>\n",
       "    <tr>\n",
       "      <th>Unnamed: 0</th>\n",
       "      <td>71065</td>\n",
       "      <td>0</td>\n",
       "      <td>0.00</td>\n",
       "      <td>71065</td>\n",
       "      <td>100.00</td>\n",
       "      <td>int64</td>\n",
       "      <td>0.57</td>\n",
       "    </tr>\n",
       "    <tr>\n",
       "      <th>operation</th>\n",
       "      <td>1</td>\n",
       "      <td>0</td>\n",
       "      <td>0.00</td>\n",
       "      <td>71065</td>\n",
       "      <td>100.00</td>\n",
       "      <td>object</td>\n",
       "      <td>0.57</td>\n",
       "    </tr>\n",
       "    <tr>\n",
       "      <th>property_type</th>\n",
       "      <td>1</td>\n",
       "      <td>0</td>\n",
       "      <td>0.00</td>\n",
       "      <td>71065</td>\n",
       "      <td>100.00</td>\n",
       "      <td>object</td>\n",
       "      <td>0.57</td>\n",
       "    </tr>\n",
       "    <tr>\n",
       "      <th>place_name</th>\n",
       "      <td>499</td>\n",
       "      <td>1</td>\n",
       "      <td>0.00</td>\n",
       "      <td>71064</td>\n",
       "      <td>100.00</td>\n",
       "      <td>object</td>\n",
       "      <td>0.57</td>\n",
       "    </tr>\n",
       "    <tr>\n",
       "      <th>place_with_parent_names</th>\n",
       "      <td>557</td>\n",
       "      <td>0</td>\n",
       "      <td>0.00</td>\n",
       "      <td>71065</td>\n",
       "      <td>100.00</td>\n",
       "      <td>object</td>\n",
       "      <td>0.57</td>\n",
       "    </tr>\n",
       "    <tr>\n",
       "      <th>country_name</th>\n",
       "      <td>1</td>\n",
       "      <td>0</td>\n",
       "      <td>0.00</td>\n",
       "      <td>71065</td>\n",
       "      <td>100.00</td>\n",
       "      <td>object</td>\n",
       "      <td>0.57</td>\n",
       "    </tr>\n",
       "    <tr>\n",
       "      <th>state_name</th>\n",
       "      <td>28</td>\n",
       "      <td>0</td>\n",
       "      <td>0.00</td>\n",
       "      <td>71065</td>\n",
       "      <td>100.00</td>\n",
       "      <td>object</td>\n",
       "      <td>0.57</td>\n",
       "    </tr>\n",
       "    <tr>\n",
       "      <th>geonames_id</th>\n",
       "      <td>350</td>\n",
       "      <td>8683</td>\n",
       "      <td>12.22</td>\n",
       "      <td>62382</td>\n",
       "      <td>87.78</td>\n",
       "      <td>float64</td>\n",
       "      <td>0.57</td>\n",
       "    </tr>\n",
       "    <tr>\n",
       "      <th>lat-lon</th>\n",
       "      <td>24260</td>\n",
       "      <td>29428</td>\n",
       "      <td>41.41</td>\n",
       "      <td>41637</td>\n",
       "      <td>58.59</td>\n",
       "      <td>object</td>\n",
       "      <td>0.57</td>\n",
       "    </tr>\n",
       "    <tr>\n",
       "      <th>lat</th>\n",
       "      <td>23922</td>\n",
       "      <td>29428</td>\n",
       "      <td>41.41</td>\n",
       "      <td>41637</td>\n",
       "      <td>58.59</td>\n",
       "      <td>float64</td>\n",
       "      <td>0.57</td>\n",
       "    </tr>\n",
       "    <tr>\n",
       "      <th>lon</th>\n",
       "      <td>23889</td>\n",
       "      <td>29428</td>\n",
       "      <td>41.41</td>\n",
       "      <td>41637</td>\n",
       "      <td>58.59</td>\n",
       "      <td>float64</td>\n",
       "      <td>0.57</td>\n",
       "    </tr>\n",
       "    <tr>\n",
       "      <th>price</th>\n",
       "      <td>9364</td>\n",
       "      <td>11449</td>\n",
       "      <td>16.11</td>\n",
       "      <td>59616</td>\n",
       "      <td>83.89</td>\n",
       "      <td>float64</td>\n",
       "      <td>0.57</td>\n",
       "    </tr>\n",
       "    <tr>\n",
       "      <th>currency</th>\n",
       "      <td>3</td>\n",
       "      <td>11449</td>\n",
       "      <td>16.11</td>\n",
       "      <td>59616</td>\n",
       "      <td>83.89</td>\n",
       "      <td>object</td>\n",
       "      <td>0.57</td>\n",
       "    </tr>\n",
       "    <tr>\n",
       "      <th>price_aprox_local_currency</th>\n",
       "      <td>9828</td>\n",
       "      <td>11449</td>\n",
       "      <td>16.11</td>\n",
       "      <td>59616</td>\n",
       "      <td>83.89</td>\n",
       "      <td>float64</td>\n",
       "      <td>0.57</td>\n",
       "    </tr>\n",
       "    <tr>\n",
       "      <th>price_aprox_usd</th>\n",
       "      <td>9828</td>\n",
       "      <td>11449</td>\n",
       "      <td>16.11</td>\n",
       "      <td>59616</td>\n",
       "      <td>83.89</td>\n",
       "      <td>float64</td>\n",
       "      <td>0.57</td>\n",
       "    </tr>\n",
       "    <tr>\n",
       "      <th>surface_total_in_m2</th>\n",
       "      <td>511</td>\n",
       "      <td>19980</td>\n",
       "      <td>28.11</td>\n",
       "      <td>51085</td>\n",
       "      <td>71.89</td>\n",
       "      <td>float64</td>\n",
       "      <td>0.57</td>\n",
       "    </tr>\n",
       "    <tr>\n",
       "      <th>surface_covered_in_m2</th>\n",
       "      <td>491</td>\n",
       "      <td>11330</td>\n",
       "      <td>15.94</td>\n",
       "      <td>59735</td>\n",
       "      <td>84.06</td>\n",
       "      <td>float64</td>\n",
       "      <td>0.57</td>\n",
       "    </tr>\n",
       "    <tr>\n",
       "      <th>price_usd_per_m2</th>\n",
       "      <td>17530</td>\n",
       "      <td>28178</td>\n",
       "      <td>39.65</td>\n",
       "      <td>42887</td>\n",
       "      <td>60.35</td>\n",
       "      <td>float64</td>\n",
       "      <td>0.57</td>\n",
       "    </tr>\n",
       "    <tr>\n",
       "      <th>price_per_m2</th>\n",
       "      <td>18771</td>\n",
       "      <td>18871</td>\n",
       "      <td>26.55</td>\n",
       "      <td>52194</td>\n",
       "      <td>73.44</td>\n",
       "      <td>float64</td>\n",
       "      <td>0.57</td>\n",
       "    </tr>\n",
       "    <tr>\n",
       "      <th>floor</th>\n",
       "      <td>150</td>\n",
       "      <td>64544</td>\n",
       "      <td>90.82</td>\n",
       "      <td>6521</td>\n",
       "      <td>9.18</td>\n",
       "      <td>float64</td>\n",
       "      <td>0.57</td>\n",
       "    </tr>\n",
       "    <tr>\n",
       "      <th>rooms</th>\n",
       "      <td>22</td>\n",
       "      <td>39797</td>\n",
       "      <td>56.00</td>\n",
       "      <td>31268</td>\n",
       "      <td>44.00</td>\n",
       "      <td>float64</td>\n",
       "      <td>0.57</td>\n",
       "    </tr>\n",
       "    <tr>\n",
       "      <th>expenses</th>\n",
       "      <td>921</td>\n",
       "      <td>59861</td>\n",
       "      <td>84.23</td>\n",
       "      <td>11204</td>\n",
       "      <td>15.77</td>\n",
       "      <td>float64</td>\n",
       "      <td>0.57</td>\n",
       "    </tr>\n",
       "    <tr>\n",
       "      <th>properati_url</th>\n",
       "      <td>71065</td>\n",
       "      <td>0</td>\n",
       "      <td>0.00</td>\n",
       "      <td>71065</td>\n",
       "      <td>100.00</td>\n",
       "      <td>object</td>\n",
       "      <td>0.57</td>\n",
       "    </tr>\n",
       "    <tr>\n",
       "      <th>description</th>\n",
       "      <td>56511</td>\n",
       "      <td>2</td>\n",
       "      <td>0.00</td>\n",
       "      <td>71063</td>\n",
       "      <td>100.00</td>\n",
       "      <td>object</td>\n",
       "      <td>0.57</td>\n",
       "    </tr>\n",
       "    <tr>\n",
       "      <th>title</th>\n",
       "      <td>38288</td>\n",
       "      <td>0</td>\n",
       "      <td>0.00</td>\n",
       "      <td>71065</td>\n",
       "      <td>100.00</td>\n",
       "      <td>object</td>\n",
       "      <td>0.57</td>\n",
       "    </tr>\n",
       "    <tr>\n",
       "      <th>image_thumbnail</th>\n",
       "      <td>65748</td>\n",
       "      <td>2125</td>\n",
       "      <td>2.99</td>\n",
       "      <td>68940</td>\n",
       "      <td>97.01</td>\n",
       "      <td>object</td>\n",
       "      <td>0.57</td>\n",
       "    </tr>\n",
       "  </tbody>\n",
       "</table>\n",
       "</div>"
      ],
      "text/plain": [
       "                            Valores Únicos  Nulos  % Nulos  No Nulos  \\\n",
       "Unnamed: 0                           71065      0     0.00     71065   \n",
       "operation                                1      0     0.00     71065   \n",
       "property_type                            1      0     0.00     71065   \n",
       "place_name                             499      1     0.00     71064   \n",
       "place_with_parent_names                557      0     0.00     71065   \n",
       "country_name                             1      0     0.00     71065   \n",
       "state_name                              28      0     0.00     71065   \n",
       "geonames_id                            350   8683    12.22     62382   \n",
       "lat-lon                              24260  29428    41.41     41637   \n",
       "lat                                  23922  29428    41.41     41637   \n",
       "lon                                  23889  29428    41.41     41637   \n",
       "price                                 9364  11449    16.11     59616   \n",
       "currency                                 3  11449    16.11     59616   \n",
       "price_aprox_local_currency            9828  11449    16.11     59616   \n",
       "price_aprox_usd                       9828  11449    16.11     59616   \n",
       "surface_total_in_m2                    511  19980    28.11     51085   \n",
       "surface_covered_in_m2                  491  11330    15.94     59735   \n",
       "price_usd_per_m2                     17530  28178    39.65     42887   \n",
       "price_per_m2                         18771  18871    26.55     52194   \n",
       "floor                                  150  64544    90.82      6521   \n",
       "rooms                                   22  39797    56.00     31268   \n",
       "expenses                               921  59861    84.23     11204   \n",
       "properati_url                        71065      0     0.00     71065   \n",
       "description                          56511      2     0.00     71063   \n",
       "title                                38288      0     0.00     71065   \n",
       "image_thumbnail                      65748   2125     2.99     68940   \n",
       "\n",
       "                            % No Nulos    Tipos  Tamaño (mb)  \n",
       "Unnamed: 0                      100.00    int64         0.57  \n",
       "operation                       100.00   object         0.57  \n",
       "property_type                   100.00   object         0.57  \n",
       "place_name                      100.00   object         0.57  \n",
       "place_with_parent_names         100.00   object         0.57  \n",
       "country_name                    100.00   object         0.57  \n",
       "state_name                      100.00   object         0.57  \n",
       "geonames_id                      87.78  float64         0.57  \n",
       "lat-lon                          58.59   object         0.57  \n",
       "lat                              58.59  float64         0.57  \n",
       "lon                              58.59  float64         0.57  \n",
       "price                            83.89  float64         0.57  \n",
       "currency                         83.89   object         0.57  \n",
       "price_aprox_local_currency       83.89  float64         0.57  \n",
       "price_aprox_usd                  83.89  float64         0.57  \n",
       "surface_total_in_m2              71.89  float64         0.57  \n",
       "surface_covered_in_m2            84.06  float64         0.57  \n",
       "price_usd_per_m2                 60.35  float64         0.57  \n",
       "price_per_m2                     73.44  float64         0.57  \n",
       "floor                             9.18  float64         0.57  \n",
       "rooms                            44.00  float64         0.57  \n",
       "expenses                         15.77  float64         0.57  \n",
       "properati_url                   100.00   object         0.57  \n",
       "description                     100.00   object         0.57  \n",
       "title                           100.00   object         0.57  \n",
       "image_thumbnail                  97.01   object         0.57  "
      ]
     },
     "execution_count": 10,
     "metadata": {},
     "output_type": "execute_result"
    }
   ],
   "source": [
    "detalle_df_columns(original_data.columns, original_data)"
   ]
  },
  {
   "attachments": {
    "Linea_divisoria.png": {
     "image/png": "[encoded data removed]"
    }
   },
   "cell_type": "markdown",
   "metadata": {},
   "source": [
    "![Linea_divisoria.png](attachment:Linea_divisoria.png)"
   ]
  },
  {
   "cell_type": "markdown",
   "metadata": {},
   "source": [
    "### Análisis de Publicaciones Duplicadas\n",
    "\n",
    "Analizamos si existen publicaciones duplicadas a través de la columna **\"properati_url\"** para ver si es necesario eliminar o no las mismas"
   ]
  },
  {
   "cell_type": "code",
   "execution_count": 11,
   "metadata": {},
   "outputs": [
    {
     "name": "stdout",
     "output_type": "stream",
     "text": [
      "Descripción de columna properati_url\n",
      "Valores Únicos     71065\n",
      "Nulos                  0\n",
      "% Nulos             0.00\n",
      "No Nulos           71065\n",
      "% No Nulos        100.00\n",
      "Tipos             object\n",
      "Tamaño (mb)         0.57\n",
      "Name: properati_url, dtype: object\n",
      "\n",
      "Total de registros del dataset original 71065\n"
     ]
    }
   ],
   "source": [
    "#Llamamos a la función para describir el dataframe\n",
    "print(\"Descripción de columna properati_url\")\n",
    "print(detalle_df_columns(original_data.columns, original_data).loc['properati_url'])\n",
    "print(\"\")\n",
    "print(\"Total de registros del dataset original \" + str(original_data.shape[0]))\n"
   ]
  },
  {
   "cell_type": "markdown",
   "metadata": {},
   "source": [
    "Como vemos en la descripción, los valores únicos y la cantidad de registros (filas) que tiene el conjunto de datos original son iguales, 121220 registros, lo que pareciera indicar que no hay valores duplicados de publicaciones"
   ]
  },
  {
   "attachments": {
    "Linea_divisoria.png": {
     "image/png": "[encoded data removed]"
    }
   },
   "cell_type": "markdown",
   "metadata": {},
   "source": [
    "![Linea_divisoria.png](attachment:Linea_divisoria.png)"
   ]
  },
  {
   "cell_type": "markdown",
   "metadata": {},
   "source": [
    "## Análisis y Tratamiento de de Variables\n",
    "\n",
    "Análisis del contenido, cantidad de nulos y tipos de cada variable para determinar si debemos completar infromación, crear nuevas variables a partir del tratamiento de otras o desetimar dicha variable"
   ]
  },
  {
   "cell_type": "markdown",
   "metadata": {},
   "source": [
    "## Variable \"Unnamed: 0\""
   ]
  },
  {
   "cell_type": "code",
   "execution_count": 12,
   "metadata": {},
   "outputs": [
    {
     "data": {
      "text/plain": [
       "Valores Únicos    71065\n",
       "Nulos                 0\n",
       "% Nulos            0.00\n",
       "No Nulos          71065\n",
       "% No Nulos       100.00\n",
       "Tipos             int64\n",
       "Tamaño (mb)        0.57\n",
       "Name: Unnamed: 0, dtype: object"
      ]
     },
     "execution_count": 12,
     "metadata": {},
     "output_type": "execute_result"
    }
   ],
   "source": [
    "detalle_df_columns(original_data.columns, original_data).loc['Unnamed: 0']"
   ]
  },
  {
   "cell_type": "code",
   "execution_count": 13,
   "metadata": {},
   "outputs": [
    {
     "data": {
      "text/plain": [
       "False"
      ]
     },
     "execution_count": 13,
     "metadata": {},
     "output_type": "execute_result"
    }
   ],
   "source": [
    "any(original_data['Unnamed: 0'].values == np.arange(0, original_data.shape[0]))"
   ]
  },
  {
   "cell_type": "markdown",
   "metadata": {},
   "source": [
    "Podemos determinar que esta variable es un número secuencial que va desde 0 a n, donde n es el tamaño del conjunto de datos, al compararlo con un array de Numpy que lo definimos de 0 a la cantidad de elememntos del conjunto de datos vemos que todos los elementos de la variable se encuentran en el array cuando lo evaluamos lógicamente con la funcíon **\"any\"** que devuelve verdadero si todos los elementos existen en ambos lados de la comparación lógica"
   ]
  },
  {
   "cell_type": "markdown",
   "metadata": {},
   "source": [
    "<img src='Linea_Divisoria_fina.png' align='left' width=100%/>"
   ]
  },
  {
   "cell_type": "markdown",
   "metadata": {},
   "source": [
    "## Variable \"operation\""
   ]
  },
  {
   "cell_type": "code",
   "execution_count": 14,
   "metadata": {},
   "outputs": [
    {
     "data": {
      "text/plain": [
       "1         sell\n",
       "2         sell\n",
       "4         sell\n",
       "7         sell\n",
       "8         sell\n",
       "          ... \n",
       "121211    sell\n",
       "121215    sell\n",
       "121217    sell\n",
       "121218    sell\n",
       "121219    sell\n",
       "Name: operation, Length: 71065, dtype: object"
      ]
     },
     "execution_count": 14,
     "metadata": {},
     "output_type": "execute_result"
    }
   ],
   "source": [
    "original_data['operation']"
   ]
  },
  {
   "cell_type": "code",
   "execution_count": 15,
   "metadata": {},
   "outputs": [
    {
     "data": {
      "text/plain": [
       "Valores Únicos         1\n",
       "Nulos                  0\n",
       "% Nulos             0.00\n",
       "No Nulos           71065\n",
       "% No Nulos        100.00\n",
       "Tipos             object\n",
       "Tamaño (mb)         0.57\n",
       "Name: operation, dtype: object"
      ]
     },
     "execution_count": 15,
     "metadata": {},
     "output_type": "execute_result"
    }
   ],
   "source": [
    "detalle_df_columns(original_data.columns, original_data).loc['operation']"
   ]
  },
  {
   "cell_type": "code",
   "execution_count": 16,
   "metadata": {},
   "outputs": [
    {
     "data": {
      "text/plain": [
       "sell    71065\n",
       "Name: operation, dtype: int64"
      ]
     },
     "execution_count": 16,
     "metadata": {},
     "output_type": "execute_result"
    }
   ],
   "source": [
    "original_data['operation'].value_counts()"
   ]
  },
  {
   "cell_type": "markdown",
   "metadata": {},
   "source": [
    "En el detalle de la columna podemos ver que en valores únicos dice 1, y esto no indica que esta variable toma un sólo valor. Para corroborar esto, realizamos un recuento de valores únicos en esta columna y podemos observar que todos los registrso tienen el valor **\"sell\"**"
   ]
  },
  {
   "cell_type": "markdown",
   "metadata": {},
   "source": [
    "<img src='Linea_Divisoria_fina.png' align='left' width=100%/>"
   ]
  },
  {
   "cell_type": "markdown",
   "metadata": {},
   "source": [
    "## Variable \"property_type\t\""
   ]
  },
  {
   "cell_type": "code",
   "execution_count": 17,
   "metadata": {},
   "outputs": [
    {
     "data": {
      "text/plain": [
       "1         apartment\n",
       "2         apartment\n",
       "4         apartment\n",
       "7         apartment\n",
       "8         apartment\n",
       "            ...    \n",
       "121211    apartment\n",
       "121215    apartment\n",
       "121217    apartment\n",
       "121218    apartment\n",
       "121219    apartment\n",
       "Name: property_type, Length: 71065, dtype: object"
      ]
     },
     "execution_count": 17,
     "metadata": {},
     "output_type": "execute_result"
    }
   ],
   "source": [
    "original_data['property_type']"
   ]
  },
  {
   "cell_type": "code",
   "execution_count": 18,
   "metadata": {},
   "outputs": [
    {
     "data": {
      "text/plain": [
       "Valores Únicos         1\n",
       "Nulos                  0\n",
       "% Nulos             0.00\n",
       "No Nulos           71065\n",
       "% No Nulos        100.00\n",
       "Tipos             object\n",
       "Tamaño (mb)         0.57\n",
       "Name: property_type, dtype: object"
      ]
     },
     "execution_count": 18,
     "metadata": {},
     "output_type": "execute_result"
    }
   ],
   "source": [
    "detalle_df_columns(original_data.columns, original_data).loc['property_type']"
   ]
  },
  {
   "cell_type": "code",
   "execution_count": 19,
   "metadata": {},
   "outputs": [
    {
     "data": {
      "text/plain": [
       "apartment    71065\n",
       "Name: property_type, dtype: int64"
      ]
     },
     "execution_count": 19,
     "metadata": {},
     "output_type": "execute_result"
    }
   ],
   "source": [
    "original_data['property_type'].value_counts()"
   ]
  },
  {
   "cell_type": "markdown",
   "metadata": {},
   "source": [
    "En el detalle de esta columna podemos ver que no presenta ningún problema y se encuetra el tipo de propiedad, tampoco falta ningun registro dado que no tiene valores nulos"
   ]
  },
  {
   "cell_type": "markdown",
   "metadata": {},
   "source": [
    "<img src='Linea_Divisoria_fina.png' align='left' width=100%/>"
   ]
  },
  {
   "cell_type": "markdown",
   "metadata": {},
   "source": [
    "## Variable \"place_name\"\t"
   ]
  },
  {
   "cell_type": "code",
   "execution_count": 20,
   "metadata": {},
   "outputs": [
    {
     "data": {
      "text/plain": [
       "1                La Plata\n",
       "2               Mataderos\n",
       "4                  Centro\n",
       "7                Belgrano\n",
       "8                Belgrano\n",
       "               ...       \n",
       "121211           Acassuso\n",
       "121215           Belgrano\n",
       "121217      Villa Urquiza\n",
       "121218        Plaza Colón\n",
       "121219    Capital Federal\n",
       "Name: place_name, Length: 71065, dtype: object"
      ]
     },
     "execution_count": 20,
     "metadata": {},
     "output_type": "execute_result"
    }
   ],
   "source": [
    "original_data['place_name']"
   ]
  },
  {
   "cell_type": "code",
   "execution_count": 21,
   "metadata": {},
   "outputs": [
    {
     "data": {
      "text/plain": [
       "Valores Únicos       499\n",
       "Nulos                  1\n",
       "% Nulos             0.00\n",
       "No Nulos           71064\n",
       "% No Nulos        100.00\n",
       "Tipos             object\n",
       "Tamaño (mb)         0.57\n",
       "Name: place_name, dtype: object"
      ]
     },
     "execution_count": 21,
     "metadata": {},
     "output_type": "execute_result"
    }
   ],
   "source": [
    "detalle_df_columns(original_data.columns, original_data).loc['place_name']"
   ]
  },
  {
   "cell_type": "markdown",
   "metadata": {},
   "source": [
    "Esta columna tiene un valor insignificate de nulos, lo que indica que está mayormente completa, de todos modos más adelante en el análisis veremos como completar los valores faltantes"
   ]
  },
  {
   "cell_type": "markdown",
   "metadata": {},
   "source": [
    "<img src='Linea_Divisoria_fina.png' align='left' width=100%/>"
   ]
  },
  {
   "cell_type": "markdown",
   "metadata": {},
   "source": [
    "## Variable \"place_with_parent_names\""
   ]
  },
  {
   "cell_type": "code",
   "execution_count": 22,
   "metadata": {},
   "outputs": [
    {
     "data": {
      "text/plain": [
       "1               |Argentina|Bs.As. G.B.A. Zona Sur|La Plata|\n",
       "2                     |Argentina|Capital Federal|Mataderos|\n",
       "4         |Argentina|Buenos Aires Costa Atlántica|Mar de...\n",
       "7                      |Argentina|Capital Federal|Belgrano|\n",
       "8                      |Argentina|Capital Federal|Belgrano|\n",
       "                                ...                        \n",
       "121211    |Argentina|Bs.As. G.B.A. Zona Norte|San Isidro...\n",
       "121215                 |Argentina|Capital Federal|Belgrano|\n",
       "121217            |Argentina|Capital Federal|Villa Urquiza|\n",
       "121218    |Argentina|Buenos Aires Costa Atlántica|Mar de...\n",
       "121219                          |Argentina|Capital Federal|\n",
       "Name: place_with_parent_names, Length: 71065, dtype: object"
      ]
     },
     "execution_count": 22,
     "metadata": {},
     "output_type": "execute_result"
    }
   ],
   "source": [
    "original_data['place_with_parent_names']"
   ]
  },
  {
   "cell_type": "code",
   "execution_count": 23,
   "metadata": {},
   "outputs": [
    {
     "data": {
      "text/plain": [
       "Valores Únicos       557\n",
       "Nulos                  0\n",
       "% Nulos             0.00\n",
       "No Nulos           71065\n",
       "% No Nulos        100.00\n",
       "Tipos             object\n",
       "Tamaño (mb)         0.57\n",
       "Name: place_with_parent_names, dtype: object"
      ]
     },
     "execution_count": 23,
     "metadata": {},
     "output_type": "execute_result"
    }
   ],
   "source": [
    "detalle_df_columns(original_data.columns, original_data).loc['place_with_parent_names']"
   ]
  },
  {
   "cell_type": "markdown",
   "metadata": {},
   "source": [
    "El detalle de esta columna nos muestra que no tiene registros nulos, pero en las vistas previas podemos ver que pereciera ser la concatenación de otras tres columnas que también existen en el conjunto de datos."
   ]
  },
  {
   "cell_type": "code",
   "execution_count": 24,
   "metadata": {},
   "outputs": [
    {
     "data": {
      "text/html": [
       "<div>\n",
       "<style scoped>\n",
       "    .dataframe tbody tr th:only-of-type {\n",
       "        vertical-align: middle;\n",
       "    }\n",
       "\n",
       "    .dataframe tbody tr th {\n",
       "        vertical-align: top;\n",
       "    }\n",
       "\n",
       "    .dataframe thead th {\n",
       "        text-align: right;\n",
       "    }\n",
       "</style>\n",
       "<table border=\"1\" class=\"dataframe\">\n",
       "  <thead>\n",
       "    <tr style=\"text-align: right;\">\n",
       "      <th></th>\n",
       "      <th>Valores Únicos</th>\n",
       "      <th>Nulos</th>\n",
       "      <th>% Nulos</th>\n",
       "      <th>No Nulos</th>\n",
       "      <th>% No Nulos</th>\n",
       "      <th>Tipos</th>\n",
       "      <th>Tamaño (mb)</th>\n",
       "    </tr>\n",
       "  </thead>\n",
       "  <tbody>\n",
       "    <tr>\n",
       "      <th>place_with_parent_names</th>\n",
       "      <td>557</td>\n",
       "      <td>0</td>\n",
       "      <td>0.00</td>\n",
       "      <td>71065</td>\n",
       "      <td>100.00</td>\n",
       "      <td>object</td>\n",
       "      <td>0.57</td>\n",
       "    </tr>\n",
       "    <tr>\n",
       "      <th>country_name</th>\n",
       "      <td>1</td>\n",
       "      <td>0</td>\n",
       "      <td>0.00</td>\n",
       "      <td>71065</td>\n",
       "      <td>100.00</td>\n",
       "      <td>object</td>\n",
       "      <td>0.57</td>\n",
       "    </tr>\n",
       "    <tr>\n",
       "      <th>state_name</th>\n",
       "      <td>28</td>\n",
       "      <td>0</td>\n",
       "      <td>0.00</td>\n",
       "      <td>71065</td>\n",
       "      <td>100.00</td>\n",
       "      <td>object</td>\n",
       "      <td>0.57</td>\n",
       "    </tr>\n",
       "    <tr>\n",
       "      <th>place_name</th>\n",
       "      <td>499</td>\n",
       "      <td>1</td>\n",
       "      <td>0.00</td>\n",
       "      <td>71064</td>\n",
       "      <td>100.00</td>\n",
       "      <td>object</td>\n",
       "      <td>0.57</td>\n",
       "    </tr>\n",
       "  </tbody>\n",
       "</table>\n",
       "</div>"
      ],
      "text/plain": [
       "                         Valores Únicos  Nulos  % Nulos  No Nulos  % No Nulos  \\\n",
       "place_with_parent_names             557      0     0.00     71065      100.00   \n",
       "country_name                          1      0     0.00     71065      100.00   \n",
       "state_name                           28      0     0.00     71065      100.00   \n",
       "place_name                          499      1     0.00     71064      100.00   \n",
       "\n",
       "                          Tipos  Tamaño (mb)  \n",
       "place_with_parent_names  object         0.57  \n",
       "country_name             object         0.57  \n",
       "state_name               object         0.57  \n",
       "place_name               object         0.57  "
      ]
     },
     "execution_count": 24,
     "metadata": {},
     "output_type": "execute_result"
    }
   ],
   "source": [
    "detalle_df_columns(original_data.columns, original_data).loc \\\n",
    "[['place_with_parent_names', 'country_name', 'state_name', 'place_name']]"
   ]
  },
  {
   "cell_type": "code",
   "execution_count": 25,
   "metadata": {},
   "outputs": [
    {
     "data": {
      "text/html": [
       "<div>\n",
       "<style scoped>\n",
       "    .dataframe tbody tr th:only-of-type {\n",
       "        vertical-align: middle;\n",
       "    }\n",
       "\n",
       "    .dataframe tbody tr th {\n",
       "        vertical-align: top;\n",
       "    }\n",
       "\n",
       "    .dataframe thead th {\n",
       "        text-align: right;\n",
       "    }\n",
       "</style>\n",
       "<table border=\"1\" class=\"dataframe\">\n",
       "  <thead>\n",
       "    <tr style=\"text-align: right;\">\n",
       "      <th></th>\n",
       "      <th>place_with_parent_names</th>\n",
       "      <th>country_name</th>\n",
       "      <th>state_name</th>\n",
       "      <th>place_name</th>\n",
       "    </tr>\n",
       "  </thead>\n",
       "  <tbody>\n",
       "    <tr>\n",
       "      <th>1</th>\n",
       "      <td>|Argentina|Bs.As. G.B.A. Zona Sur|La Plata|</td>\n",
       "      <td>Argentina</td>\n",
       "      <td>Bs.As. G.B.A. Zona Sur</td>\n",
       "      <td>La Plata</td>\n",
       "    </tr>\n",
       "    <tr>\n",
       "      <th>2</th>\n",
       "      <td>|Argentina|Capital Federal|Mataderos|</td>\n",
       "      <td>Argentina</td>\n",
       "      <td>Capital Federal</td>\n",
       "      <td>Mataderos</td>\n",
       "    </tr>\n",
       "    <tr>\n",
       "      <th>4</th>\n",
       "      <td>|Argentina|Buenos Aires Costa Atlántica|Mar de...</td>\n",
       "      <td>Argentina</td>\n",
       "      <td>Buenos Aires Costa Atlántica</td>\n",
       "      <td>Centro</td>\n",
       "    </tr>\n",
       "    <tr>\n",
       "      <th>7</th>\n",
       "      <td>|Argentina|Capital Federal|Belgrano|</td>\n",
       "      <td>Argentina</td>\n",
       "      <td>Capital Federal</td>\n",
       "      <td>Belgrano</td>\n",
       "    </tr>\n",
       "    <tr>\n",
       "      <th>8</th>\n",
       "      <td>|Argentina|Capital Federal|Belgrano|</td>\n",
       "      <td>Argentina</td>\n",
       "      <td>Capital Federal</td>\n",
       "      <td>Belgrano</td>\n",
       "    </tr>\n",
       "    <tr>\n",
       "      <th>...</th>\n",
       "      <td>...</td>\n",
       "      <td>...</td>\n",
       "      <td>...</td>\n",
       "      <td>...</td>\n",
       "    </tr>\n",
       "    <tr>\n",
       "      <th>121211</th>\n",
       "      <td>|Argentina|Bs.As. G.B.A. Zona Norte|San Isidro...</td>\n",
       "      <td>Argentina</td>\n",
       "      <td>Bs.As. G.B.A. Zona Norte</td>\n",
       "      <td>Acassuso</td>\n",
       "    </tr>\n",
       "    <tr>\n",
       "      <th>121215</th>\n",
       "      <td>|Argentina|Capital Federal|Belgrano|</td>\n",
       "      <td>Argentina</td>\n",
       "      <td>Capital Federal</td>\n",
       "      <td>Belgrano</td>\n",
       "    </tr>\n",
       "    <tr>\n",
       "      <th>121217</th>\n",
       "      <td>|Argentina|Capital Federal|Villa Urquiza|</td>\n",
       "      <td>Argentina</td>\n",
       "      <td>Capital Federal</td>\n",
       "      <td>Villa Urquiza</td>\n",
       "    </tr>\n",
       "    <tr>\n",
       "      <th>121218</th>\n",
       "      <td>|Argentina|Buenos Aires Costa Atlántica|Mar de...</td>\n",
       "      <td>Argentina</td>\n",
       "      <td>Buenos Aires Costa Atlántica</td>\n",
       "      <td>Plaza Colón</td>\n",
       "    </tr>\n",
       "    <tr>\n",
       "      <th>121219</th>\n",
       "      <td>|Argentina|Capital Federal|</td>\n",
       "      <td>Argentina</td>\n",
       "      <td>Capital Federal</td>\n",
       "      <td>Capital Federal</td>\n",
       "    </tr>\n",
       "  </tbody>\n",
       "</table>\n",
       "<p>71065 rows × 4 columns</p>\n",
       "</div>"
      ],
      "text/plain": [
       "                                  place_with_parent_names country_name  \\\n",
       "1             |Argentina|Bs.As. G.B.A. Zona Sur|La Plata|    Argentina   \n",
       "2                   |Argentina|Capital Federal|Mataderos|    Argentina   \n",
       "4       |Argentina|Buenos Aires Costa Atlántica|Mar de...    Argentina   \n",
       "7                    |Argentina|Capital Federal|Belgrano|    Argentina   \n",
       "8                    |Argentina|Capital Federal|Belgrano|    Argentina   \n",
       "...                                                   ...          ...   \n",
       "121211  |Argentina|Bs.As. G.B.A. Zona Norte|San Isidro...    Argentina   \n",
       "121215               |Argentina|Capital Federal|Belgrano|    Argentina   \n",
       "121217          |Argentina|Capital Federal|Villa Urquiza|    Argentina   \n",
       "121218  |Argentina|Buenos Aires Costa Atlántica|Mar de...    Argentina   \n",
       "121219                        |Argentina|Capital Federal|    Argentina   \n",
       "\n",
       "                          state_name       place_name  \n",
       "1             Bs.As. G.B.A. Zona Sur         La Plata  \n",
       "2                    Capital Federal        Mataderos  \n",
       "4       Buenos Aires Costa Atlántica           Centro  \n",
       "7                    Capital Federal         Belgrano  \n",
       "8                    Capital Federal         Belgrano  \n",
       "...                              ...              ...  \n",
       "121211      Bs.As. G.B.A. Zona Norte         Acassuso  \n",
       "121215               Capital Federal         Belgrano  \n",
       "121217               Capital Federal    Villa Urquiza  \n",
       "121218  Buenos Aires Costa Atlántica      Plaza Colón  \n",
       "121219               Capital Federal  Capital Federal  \n",
       "\n",
       "[71065 rows x 4 columns]"
      ]
     },
     "execution_count": 25,
     "metadata": {},
     "output_type": "execute_result"
    }
   ],
   "source": [
    "parent_names_concatenado = original_data[['place_with_parent_names', 'country_name', 'state_name', 'place_name']]\n",
    "parent_names_concatenado"
   ]
  },
  {
   "cell_type": "code",
   "execution_count": 26,
   "metadata": {},
   "outputs": [
    {
     "name": "stdout",
     "output_type": "stream",
     "text": [
      "\n",
      "Cantidad de registros diferentes: 21235\n",
      "\n"
     ]
    },
    {
     "data": {
      "text/html": [
       "<div>\n",
       "<style scoped>\n",
       "    .dataframe tbody tr th:only-of-type {\n",
       "        vertical-align: middle;\n",
       "    }\n",
       "\n",
       "    .dataframe tbody tr th {\n",
       "        vertical-align: top;\n",
       "    }\n",
       "\n",
       "    .dataframe thead th {\n",
       "        text-align: right;\n",
       "    }\n",
       "</style>\n",
       "<table border=\"1\" class=\"dataframe\">\n",
       "  <thead>\n",
       "    <tr style=\"text-align: right;\">\n",
       "      <th></th>\n",
       "      <th>place_with_parent_names</th>\n",
       "      <th>country_name</th>\n",
       "      <th>state_name</th>\n",
       "      <th>place_name</th>\n",
       "      <th>Concatenado</th>\n",
       "    </tr>\n",
       "  </thead>\n",
       "  <tbody>\n",
       "    <tr>\n",
       "      <th>4</th>\n",
       "      <td>|Argentina|Buenos Aires Costa Atlántica|Mar de...</td>\n",
       "      <td>Argentina</td>\n",
       "      <td>Buenos Aires Costa Atlántica</td>\n",
       "      <td>Centro</td>\n",
       "      <td>|Argentina|Buenos Aires Costa Atlántica|Centro|</td>\n",
       "    </tr>\n",
       "    <tr>\n",
       "      <th>12</th>\n",
       "      <td>|Argentina|Bs.As. G.B.A. Zona Norte|San Isidro...</td>\n",
       "      <td>Argentina</td>\n",
       "      <td>Bs.As. G.B.A. Zona Norte</td>\n",
       "      <td>Martínez</td>\n",
       "      <td>|Argentina|Bs.As. G.B.A. Zona Norte|Martínez|</td>\n",
       "    </tr>\n",
       "    <tr>\n",
       "      <th>13</th>\n",
       "      <td>|Argentina|Capital Federal|Palermo|Palermo Soho|</td>\n",
       "      <td>Argentina</td>\n",
       "      <td>Capital Federal</td>\n",
       "      <td>Palermo Soho</td>\n",
       "      <td>|Argentina|Capital Federal|Palermo Soho|</td>\n",
       "    </tr>\n",
       "  </tbody>\n",
       "</table>\n",
       "</div>"
      ],
      "text/plain": [
       "                              place_with_parent_names country_name  \\\n",
       "4   |Argentina|Buenos Aires Costa Atlántica|Mar de...    Argentina   \n",
       "12  |Argentina|Bs.As. G.B.A. Zona Norte|San Isidro...    Argentina   \n",
       "13   |Argentina|Capital Federal|Palermo|Palermo Soho|    Argentina   \n",
       "\n",
       "                      state_name    place_name  \\\n",
       "4   Buenos Aires Costa Atlántica        Centro   \n",
       "12      Bs.As. G.B.A. Zona Norte      Martínez   \n",
       "13               Capital Federal  Palermo Soho   \n",
       "\n",
       "                                        Concatenado  \n",
       "4   |Argentina|Buenos Aires Costa Atlántica|Centro|  \n",
       "12    |Argentina|Bs.As. G.B.A. Zona Norte|Martínez|  \n",
       "13         |Argentina|Capital Federal|Palermo Soho|  "
      ]
     },
     "execution_count": 26,
     "metadata": {},
     "output_type": "execute_result"
    }
   ],
   "source": [
    "parent_names_concatenado['Concatenado'] = '|' + parent_names_concatenado.iloc[:, 1] \\\n",
    "+ '|' + parent_names_concatenado.iloc[:, 2] + '|' + parent_names_concatenado.iloc[:, 3] + '|'\n",
    "# comparo el campo concatenado con el campo place_with_parent_names para ver si hay diferencias\n",
    "parent_names_concatenado_diferrencias = parent_names_concatenado.loc[(parent_names_concatenado['Concatenado'] != \\\n",
    "                               parent_names_concatenado['place_with_parent_names'])]\n",
    "print(\"\")\n",
    "print(\"Cantidad de registros diferentes: \" + str(parent_names_concatenado_diferrencias.shape[0]))\n",
    "print(\"\")\n",
    "parent_names_concatenado_diferrencias.head(3)"
   ]
  },
  {
   "cell_type": "code",
   "execution_count": 27,
   "metadata": {},
   "outputs": [
    {
     "data": {
      "text/html": [
       "<div>\n",
       "<style scoped>\n",
       "    .dataframe tbody tr th:only-of-type {\n",
       "        vertical-align: middle;\n",
       "    }\n",
       "\n",
       "    .dataframe tbody tr th {\n",
       "        vertical-align: top;\n",
       "    }\n",
       "\n",
       "    .dataframe thead th {\n",
       "        text-align: right;\n",
       "    }\n",
       "</style>\n",
       "<table border=\"1\" class=\"dataframe\">\n",
       "  <thead>\n",
       "    <tr style=\"text-align: right;\">\n",
       "      <th></th>\n",
       "      <th>0</th>\n",
       "      <th>1</th>\n",
       "      <th>2</th>\n",
       "      <th>3</th>\n",
       "      <th>4</th>\n",
       "      <th>5</th>\n",
       "      <th>6</th>\n",
       "    </tr>\n",
       "  </thead>\n",
       "  <tbody>\n",
       "    <tr>\n",
       "      <th>1</th>\n",
       "      <td></td>\n",
       "      <td>Argentina</td>\n",
       "      <td>Bs.As. G.B.A. Zona Sur</td>\n",
       "      <td>La Plata</td>\n",
       "      <td></td>\n",
       "      <td>NaN</td>\n",
       "      <td>NaN</td>\n",
       "    </tr>\n",
       "    <tr>\n",
       "      <th>2</th>\n",
       "      <td></td>\n",
       "      <td>Argentina</td>\n",
       "      <td>Capital Federal</td>\n",
       "      <td>Mataderos</td>\n",
       "      <td></td>\n",
       "      <td>NaN</td>\n",
       "      <td>NaN</td>\n",
       "    </tr>\n",
       "    <tr>\n",
       "      <th>4</th>\n",
       "      <td></td>\n",
       "      <td>Argentina</td>\n",
       "      <td>Buenos Aires Costa Atlántica</td>\n",
       "      <td>Mar del Plata</td>\n",
       "      <td>Centro</td>\n",
       "      <td></td>\n",
       "      <td>NaN</td>\n",
       "    </tr>\n",
       "    <tr>\n",
       "      <th>7</th>\n",
       "      <td></td>\n",
       "      <td>Argentina</td>\n",
       "      <td>Capital Federal</td>\n",
       "      <td>Belgrano</td>\n",
       "      <td></td>\n",
       "      <td>NaN</td>\n",
       "      <td>NaN</td>\n",
       "    </tr>\n",
       "    <tr>\n",
       "      <th>8</th>\n",
       "      <td></td>\n",
       "      <td>Argentina</td>\n",
       "      <td>Capital Federal</td>\n",
       "      <td>Belgrano</td>\n",
       "      <td></td>\n",
       "      <td>NaN</td>\n",
       "      <td>NaN</td>\n",
       "    </tr>\n",
       "    <tr>\n",
       "      <th>...</th>\n",
       "      <td>...</td>\n",
       "      <td>...</td>\n",
       "      <td>...</td>\n",
       "      <td>...</td>\n",
       "      <td>...</td>\n",
       "      <td>...</td>\n",
       "      <td>...</td>\n",
       "    </tr>\n",
       "    <tr>\n",
       "      <th>121211</th>\n",
       "      <td></td>\n",
       "      <td>Argentina</td>\n",
       "      <td>Bs.As. G.B.A. Zona Norte</td>\n",
       "      <td>San Isidro</td>\n",
       "      <td>Acassuso</td>\n",
       "      <td></td>\n",
       "      <td>NaN</td>\n",
       "    </tr>\n",
       "    <tr>\n",
       "      <th>121215</th>\n",
       "      <td></td>\n",
       "      <td>Argentina</td>\n",
       "      <td>Capital Federal</td>\n",
       "      <td>Belgrano</td>\n",
       "      <td></td>\n",
       "      <td>NaN</td>\n",
       "      <td>NaN</td>\n",
       "    </tr>\n",
       "    <tr>\n",
       "      <th>121217</th>\n",
       "      <td></td>\n",
       "      <td>Argentina</td>\n",
       "      <td>Capital Federal</td>\n",
       "      <td>Villa Urquiza</td>\n",
       "      <td></td>\n",
       "      <td>NaN</td>\n",
       "      <td>NaN</td>\n",
       "    </tr>\n",
       "    <tr>\n",
       "      <th>121218</th>\n",
       "      <td></td>\n",
       "      <td>Argentina</td>\n",
       "      <td>Buenos Aires Costa Atlántica</td>\n",
       "      <td>Mar del Plata</td>\n",
       "      <td>Plaza Colón</td>\n",
       "      <td></td>\n",
       "      <td>NaN</td>\n",
       "    </tr>\n",
       "    <tr>\n",
       "      <th>121219</th>\n",
       "      <td></td>\n",
       "      <td>Argentina</td>\n",
       "      <td>Capital Federal</td>\n",
       "      <td></td>\n",
       "      <td>NaN</td>\n",
       "      <td>NaN</td>\n",
       "      <td>NaN</td>\n",
       "    </tr>\n",
       "  </tbody>\n",
       "</table>\n",
       "<p>71065 rows × 7 columns</p>\n",
       "</div>"
      ],
      "text/plain": [
       "       0           1                             2              3  \\\n",
       "1          Argentina        Bs.As. G.B.A. Zona Sur       La Plata   \n",
       "2          Argentina               Capital Federal      Mataderos   \n",
       "4          Argentina  Buenos Aires Costa Atlántica  Mar del Plata   \n",
       "7          Argentina               Capital Federal       Belgrano   \n",
       "8          Argentina               Capital Federal       Belgrano   \n",
       "...    ..        ...                           ...            ...   \n",
       "121211     Argentina      Bs.As. G.B.A. Zona Norte     San Isidro   \n",
       "121215     Argentina               Capital Federal       Belgrano   \n",
       "121217     Argentina               Capital Federal  Villa Urquiza   \n",
       "121218     Argentina  Buenos Aires Costa Atlántica  Mar del Plata   \n",
       "121219     Argentina               Capital Federal                  \n",
       "\n",
       "                  4    5    6  \n",
       "1                    NaN  NaN  \n",
       "2                    NaN  NaN  \n",
       "4            Centro       NaN  \n",
       "7                    NaN  NaN  \n",
       "8                    NaN  NaN  \n",
       "...             ...  ...  ...  \n",
       "121211     Acassuso       NaN  \n",
       "121215               NaN  NaN  \n",
       "121217               NaN  NaN  \n",
       "121218  Plaza Colón       NaN  \n",
       "121219          NaN  NaN  NaN  \n",
       "\n",
       "[71065 rows x 7 columns]"
      ]
     },
     "execution_count": 27,
     "metadata": {},
     "output_type": "execute_result"
    }
   ],
   "source": [
    "locaciones_df = original_data['place_with_parent_names'].apply(lambda x: pd.Series(x.split('|')))\n",
    "locaciones_df"
   ]
  },
  {
   "cell_type": "code",
   "execution_count": 28,
   "metadata": {},
   "outputs": [],
   "source": [
    "locaciones_df = locaciones_df.rename({1 : 'col1', 2 : 'col2', 3 : 'col3', 4 : 'col4', 5 : 'col5', 6 : 'col6'}, axis=1)"
   ]
  },
  {
   "cell_type": "code",
   "execution_count": 29,
   "metadata": {},
   "outputs": [
    {
     "data": {
      "text/html": [
       "<div>\n",
       "<style scoped>\n",
       "    .dataframe tbody tr th:only-of-type {\n",
       "        vertical-align: middle;\n",
       "    }\n",
       "\n",
       "    .dataframe tbody tr th {\n",
       "        vertical-align: top;\n",
       "    }\n",
       "\n",
       "    .dataframe thead th {\n",
       "        text-align: right;\n",
       "    }\n",
       "</style>\n",
       "<table border=\"1\" class=\"dataframe\">\n",
       "  <thead>\n",
       "    <tr style=\"text-align: right;\">\n",
       "      <th></th>\n",
       "      <th>Valores Únicos</th>\n",
       "      <th>Nulos</th>\n",
       "      <th>% Nulos</th>\n",
       "      <th>No Nulos</th>\n",
       "      <th>% No Nulos</th>\n",
       "      <th>Tipos</th>\n",
       "      <th>Tamaño (mb)</th>\n",
       "    </tr>\n",
       "  </thead>\n",
       "  <tbody>\n",
       "    <tr>\n",
       "      <th>0</th>\n",
       "      <td>1</td>\n",
       "      <td>0</td>\n",
       "      <td>0.00</td>\n",
       "      <td>71065</td>\n",
       "      <td>100.00</td>\n",
       "      <td>object</td>\n",
       "      <td>0.57</td>\n",
       "    </tr>\n",
       "    <tr>\n",
       "      <th>col1</th>\n",
       "      <td>1</td>\n",
       "      <td>0</td>\n",
       "      <td>0.00</td>\n",
       "      <td>71065</td>\n",
       "      <td>100.00</td>\n",
       "      <td>object</td>\n",
       "      <td>0.57</td>\n",
       "    </tr>\n",
       "    <tr>\n",
       "      <th>col2</th>\n",
       "      <td>28</td>\n",
       "      <td>0</td>\n",
       "      <td>0.00</td>\n",
       "      <td>71065</td>\n",
       "      <td>100.00</td>\n",
       "      <td>object</td>\n",
       "      <td>0.57</td>\n",
       "    </tr>\n",
       "    <tr>\n",
       "      <th>col3</th>\n",
       "      <td>272</td>\n",
       "      <td>0</td>\n",
       "      <td>0.00</td>\n",
       "      <td>71065</td>\n",
       "      <td>100.00</td>\n",
       "      <td>object</td>\n",
       "      <td>0.57</td>\n",
       "    </tr>\n",
       "    <tr>\n",
       "      <th>col4</th>\n",
       "      <td>253</td>\n",
       "      <td>3066</td>\n",
       "      <td>4.31</td>\n",
       "      <td>67999</td>\n",
       "      <td>95.69</td>\n",
       "      <td>object</td>\n",
       "      <td>0.57</td>\n",
       "    </tr>\n",
       "    <tr>\n",
       "      <th>col5</th>\n",
       "      <td>11</td>\n",
       "      <td>52896</td>\n",
       "      <td>74.43</td>\n",
       "      <td>18169</td>\n",
       "      <td>25.57</td>\n",
       "      <td>object</td>\n",
       "      <td>0.57</td>\n",
       "    </tr>\n",
       "    <tr>\n",
       "      <th>col6</th>\n",
       "      <td>1</td>\n",
       "      <td>70750</td>\n",
       "      <td>99.56</td>\n",
       "      <td>315</td>\n",
       "      <td>0.44</td>\n",
       "      <td>object</td>\n",
       "      <td>0.57</td>\n",
       "    </tr>\n",
       "  </tbody>\n",
       "</table>\n",
       "</div>"
      ],
      "text/plain": [
       "      Valores Únicos  Nulos  % Nulos  No Nulos  % No Nulos   Tipos  \\\n",
       "0                  1      0     0.00     71065      100.00  object   \n",
       "col1               1      0     0.00     71065      100.00  object   \n",
       "col2              28      0     0.00     71065      100.00  object   \n",
       "col3             272      0     0.00     71065      100.00  object   \n",
       "col4             253   3066     4.31     67999       95.69  object   \n",
       "col5              11  52896    74.43     18169       25.57  object   \n",
       "col6               1  70750    99.56       315        0.44  object   \n",
       "\n",
       "      Tamaño (mb)  \n",
       "0            0.57  \n",
       "col1         0.57  \n",
       "col2         0.57  \n",
       "col3         0.57  \n",
       "col4         0.57  \n",
       "col5         0.57  \n",
       "col6         0.57  "
      ]
     },
     "execution_count": 29,
     "metadata": {},
     "output_type": "execute_result"
    }
   ],
   "source": [
    "detalle_df_columns(locaciones_df.columns, locaciones_df)"
   ]
  },
  {
   "cell_type": "code",
   "execution_count": 30,
   "metadata": {},
   "outputs": [
    {
     "name": "stdout",
     "output_type": "stream",
     "text": [
      "\n",
      "Datos de split columna 4\n",
      "                               49831\n",
      "Nordelta                        2401\n",
      "La Plata                        1016\n",
      "Olivos                          1014\n",
      "Tigre                            834\n",
      "                               ...  \n",
      "Terralagos                         1\n",
      "Bernardino Rivadavia               1\n",
      "Ringuelet                          1\n",
      "La Martinica                       1\n",
      "Barrio Cerrado \"Los Condes\"        1\n",
      "Name: col4, Length: 253, dtype: int64\n",
      "\n",
      "Datos de split columna 5\n",
      "                       17854\n",
      "Barrio Los Alisos        189\n",
      "BarrioPortezuelo          50\n",
      "Barrio El Golf            27\n",
      "Enyoi                     17\n",
      "QBay Yacht                13\n",
      "Barrio La Alameda          7\n",
      "Islas del Canal            6\n",
      "Barrio Los Castores        4\n",
      "Barrio Los Lagos           1\n",
      "Barrio La Isla             1\n",
      "Name: col5, dtype: int64\n",
      "\n",
      "Datos de split columna 6\n",
      "    315\n",
      "Name: col6, dtype: int64\n"
     ]
    }
   ],
   "source": [
    "mask_locaciones_df_col4 = locaciones_df['col4'].isnull()\n",
    "mask_locaciones_df_col5 = locaciones_df['col5'].isnull()\n",
    "mask_locaciones_df_col6 = locaciones_df['col6'].isnull()\n",
    "print(\"\")\n",
    "print(\"Datos de split columna 4\")\n",
    "print(locaciones_df.loc[~mask_locaciones_df_col4, [\"col4\"]]['col4'].value_counts())\n",
    "print(\"\")\n",
    "print(\"Datos de split columna 5\")\n",
    "print(locaciones_df.loc[~mask_locaciones_df_col4, [\"col5\"]]['col5'].value_counts())\n",
    "print(\"\")\n",
    "print(\"Datos de split columna 6\")\n",
    "print(locaciones_df.loc[~mask_locaciones_df_col4, [\"col6\"]]['col6'].value_counts())\n"
   ]
  },
  {
   "cell_type": "markdown",
   "metadata": {},
   "source": [
    "Con este análisis podemos ver que con la columna **\"place_with_parent_names\"** podríamos completar los 23 valores nulos de la columna **\"place_name\"**. En la vista de los valores nulos de este campo commparados con el campo que contiene los datos concatenados podermos ver que siempre es el mismo dato"
   ]
  },
  {
   "cell_type": "code",
   "execution_count": 31,
   "metadata": {},
   "outputs": [
    {
     "data": {
      "text/html": [
       "<div>\n",
       "<style scoped>\n",
       "    .dataframe tbody tr th:only-of-type {\n",
       "        vertical-align: middle;\n",
       "    }\n",
       "\n",
       "    .dataframe tbody tr th {\n",
       "        vertical-align: top;\n",
       "    }\n",
       "\n",
       "    .dataframe thead th {\n",
       "        text-align: right;\n",
       "    }\n",
       "</style>\n",
       "<table border=\"1\" class=\"dataframe\">\n",
       "  <thead>\n",
       "    <tr style=\"text-align: right;\">\n",
       "      <th></th>\n",
       "      <th>place_name</th>\n",
       "      <th>place_with_parent_names</th>\n",
       "    </tr>\n",
       "  </thead>\n",
       "  <tbody>\n",
       "    <tr>\n",
       "      <th>45970</th>\n",
       "      <td>NaN</td>\n",
       "      <td>|Argentina|Bs.As. G.B.A. Zona Norte|Tigre||</td>\n",
       "    </tr>\n",
       "  </tbody>\n",
       "</table>\n",
       "</div>"
      ],
      "text/plain": [
       "      place_name                      place_with_parent_names\n",
       "45970        NaN  |Argentina|Bs.As. G.B.A. Zona Norte|Tigre||"
      ]
     },
     "execution_count": 31,
     "metadata": {},
     "output_type": "execute_result"
    }
   ],
   "source": [
    "original_data[original_data['place_name'].isnull()].iloc[:,3:5]"
   ]
  },
  {
   "cell_type": "code",
   "execution_count": 32,
   "metadata": {},
   "outputs": [],
   "source": [
    "resultado_data['place_name'] = original_data.apply(lambda x: x['place_with_parent_names'].split('|')[2] \\\n",
    "                                                   if x['place_name'] in (np.nan, None) else x['place_name'], axis=1)"
   ]
  },
  {
   "cell_type": "code",
   "execution_count": 33,
   "metadata": {},
   "outputs": [
    {
     "data": {
      "text/plain": [
       "Valores Únicos       499\n",
       "Nulos                  1\n",
       "% Nulos             0.00\n",
       "No Nulos           71064\n",
       "% No Nulos        100.00\n",
       "Tipos             object\n",
       "Tamaño (mb)         0.57\n",
       "Name: place_name, dtype: object"
      ]
     },
     "execution_count": 33,
     "metadata": {},
     "output_type": "execute_result"
    }
   ],
   "source": [
    "detalle_df_columns(original_data.columns, original_data).loc['place_name']"
   ]
  },
  {
   "cell_type": "code",
   "execution_count": 34,
   "metadata": {},
   "outputs": [
    {
     "data": {
      "text/plain": [
       "Valores Únicos       499\n",
       "Nulos                  0\n",
       "% Nulos             0.00\n",
       "No Nulos           71065\n",
       "% No Nulos        100.00\n",
       "Tipos             object\n",
       "Tamaño (mb)         0.57\n",
       "Name: place_name, dtype: object"
      ]
     },
     "execution_count": 34,
     "metadata": {},
     "output_type": "execute_result"
    }
   ],
   "source": [
    "detalle_df_columns(resultado_data.columns, resultado_data).loc['place_name']"
   ]
  },
  {
   "cell_type": "markdown",
   "metadata": {},
   "source": [
    "En el conjunto de datos resultado pordemos ver que la columna **\"place_name\"** ya no tiene valores nulos, estos fueron recopilados a partir de la colulmna **\"place_with_parent_names\"**"
   ]
  },
  {
   "cell_type": "markdown",
   "metadata": {},
   "source": [
    "<img src='Linea_Divisoria_fina.png' align='left' width=100%/>"
   ]
  },
  {
   "cell_type": "markdown",
   "metadata": {},
   "source": [
    "## Variable \"country_name\""
   ]
  },
  {
   "cell_type": "code",
   "execution_count": 35,
   "metadata": {},
   "outputs": [
    {
     "data": {
      "text/plain": [
       "1         Argentina\n",
       "2         Argentina\n",
       "4         Argentina\n",
       "7         Argentina\n",
       "8         Argentina\n",
       "            ...    \n",
       "121211    Argentina\n",
       "121215    Argentina\n",
       "121217    Argentina\n",
       "121218    Argentina\n",
       "121219    Argentina\n",
       "Name: country_name, Length: 71065, dtype: object"
      ]
     },
     "execution_count": 35,
     "metadata": {},
     "output_type": "execute_result"
    }
   ],
   "source": [
    "original_data['country_name']"
   ]
  },
  {
   "cell_type": "code",
   "execution_count": 36,
   "metadata": {},
   "outputs": [
    {
     "data": {
      "text/plain": [
       "Valores Únicos         1\n",
       "Nulos                  0\n",
       "% Nulos             0.00\n",
       "No Nulos           71065\n",
       "% No Nulos        100.00\n",
       "Tipos             object\n",
       "Tamaño (mb)         0.57\n",
       "Name: country_name, dtype: object"
      ]
     },
     "execution_count": 36,
     "metadata": {},
     "output_type": "execute_result"
    }
   ],
   "source": [
    "detalle_df_columns(original_data.columns, original_data).loc['country_name']"
   ]
  },
  {
   "cell_type": "code",
   "execution_count": 37,
   "metadata": {},
   "outputs": [
    {
     "data": {
      "text/plain": [
       "Argentina    71065\n",
       "Name: country_name, dtype: int64"
      ]
     },
     "execution_count": 37,
     "metadata": {},
     "output_type": "execute_result"
    }
   ],
   "source": [
    "original_data['country_name'].value_counts()"
   ]
  },
  {
   "cell_type": "markdown",
   "metadata": {},
   "source": [
    "En el detalle de la columna podemos ver que en valores únicos dice 1, y esto no indica que esta variable toma un sólo valor. Para corroborar esto, realizamos un recuento de valores únicos en esta columna y podemos observar que todos los registrso tienen el valor **\"Argentina\"**"
   ]
  },
  {
   "cell_type": "markdown",
   "metadata": {},
   "source": [
    "<img src='Linea_Divisoria_fina.png' align='left' width=100%/>"
   ]
  },
  {
   "cell_type": "markdown",
   "metadata": {},
   "source": [
    "## Variable \"state_name\""
   ]
  },
  {
   "cell_type": "code",
   "execution_count": 38,
   "metadata": {},
   "outputs": [
    {
     "data": {
      "text/plain": [
       "1               Bs.As. G.B.A. Zona Sur\n",
       "2                      Capital Federal\n",
       "4         Buenos Aires Costa Atlántica\n",
       "7                      Capital Federal\n",
       "8                      Capital Federal\n",
       "                      ...             \n",
       "121211        Bs.As. G.B.A. Zona Norte\n",
       "121215                 Capital Federal\n",
       "121217                 Capital Federal\n",
       "121218    Buenos Aires Costa Atlántica\n",
       "121219                 Capital Federal\n",
       "Name: state_name, Length: 71065, dtype: object"
      ]
     },
     "execution_count": 38,
     "metadata": {},
     "output_type": "execute_result"
    }
   ],
   "source": [
    "original_data['state_name']"
   ]
  },
  {
   "cell_type": "code",
   "execution_count": 39,
   "metadata": {},
   "outputs": [
    {
     "data": {
      "text/plain": [
       "Valores Únicos        28\n",
       "Nulos                  0\n",
       "% Nulos             0.00\n",
       "No Nulos           71065\n",
       "% No Nulos        100.00\n",
       "Tipos             object\n",
       "Tamaño (mb)         0.57\n",
       "Name: state_name, dtype: object"
      ]
     },
     "execution_count": 39,
     "metadata": {},
     "output_type": "execute_result"
    }
   ],
   "source": [
    "detalle_df_columns(original_data.columns, original_data).loc['state_name']"
   ]
  },
  {
   "cell_type": "code",
   "execution_count": 40,
   "metadata": {},
   "outputs": [
    {
     "data": {
      "text/plain": [
       "Capital Federal                 27037\n",
       "Bs.As. G.B.A. Zona Norte        10622\n",
       "Santa Fe                         7969\n",
       "Córdoba                          6681\n",
       "Buenos Aires Costa Atlántica     6461\n",
       "Bs.As. G.B.A. Zona Sur           5507\n",
       "Bs.As. G.B.A. Zona Oeste         3618\n",
       "Buenos Aires Interior             845\n",
       "Tucumán                           425\n",
       "Neuquén                           394\n",
       "Mendoza                           327\n",
       "Río Negro                         325\n",
       "Misiones                          187\n",
       "Corrientes                        145\n",
       "Entre Ríos                        144\n",
       "Salta                             129\n",
       "Formosa                            53\n",
       "La Pampa                           48\n",
       "Chubut                             39\n",
       "San Luis                           36\n",
       "Chaco                              19\n",
       "San Juan                           16\n",
       "Tierra Del Fuego                   12\n",
       "Catamarca                          12\n",
       "Jujuy                              10\n",
       "La Rioja                            2\n",
       "Santa Cruz                          1\n",
       "Santiago Del Estero                 1\n",
       "Name: state_name, dtype: int64"
      ]
     },
     "execution_count": 40,
     "metadata": {},
     "output_type": "execute_result"
    }
   ],
   "source": [
    "original_data['state_name'].value_counts()"
   ]
  },
  {
   "cell_type": "markdown",
   "metadata": {},
   "source": [
    "En el detalle de esta columna podemos ver que no presenta ningún problema y se encuetra el tipo de propiedad, tampoco falta ningun registro dado que no tiene valores nulos, también podemos observar que tiene muy pocos valores distintos, esto hace suponer que está correctamente tabulada la información de provincias"
   ]
  },
  {
   "cell_type": "markdown",
   "metadata": {},
   "source": [
    "<img src='Linea_Divisoria_fina.png' align='left' width=100%/>"
   ]
  },
  {
   "cell_type": "markdown",
   "metadata": {},
   "source": [
    "## Variable \"geonames_id\""
   ]
  },
  {
   "cell_type": "code",
   "execution_count": 41,
   "metadata": {},
   "outputs": [
    {
     "data": {
      "text/plain": [
       "1        3432039.00\n",
       "2        3430787.00\n",
       "4        3435548.00\n",
       "7        3436077.00\n",
       "8        3436077.00\n",
       "            ...    \n",
       "121211   3436508.00\n",
       "121215   3436077.00\n",
       "121217   3433775.00\n",
       "121218          nan\n",
       "121219   3433955.00\n",
       "Name: geonames_id, Length: 71065, dtype: float64"
      ]
     },
     "execution_count": 41,
     "metadata": {},
     "output_type": "execute_result"
    }
   ],
   "source": [
    "original_data['geonames_id']"
   ]
  },
  {
   "cell_type": "code",
   "execution_count": 42,
   "metadata": {},
   "outputs": [
    {
     "data": {
      "text/plain": [
       "Valores Únicos        350\n",
       "Nulos                8683\n",
       "% Nulos             12.22\n",
       "No Nulos            62382\n",
       "% No Nulos          87.78\n",
       "Tipos             float64\n",
       "Tamaño (mb)          0.57\n",
       "Name: geonames_id, dtype: object"
      ]
     },
     "execution_count": 42,
     "metadata": {},
     "output_type": "execute_result"
    }
   ],
   "source": [
    "detalle_df_columns(original_data.columns, original_data).loc['geonames_id']"
   ]
  },
  {
   "cell_type": "markdown",
   "metadata": {},
   "source": [
    "\n",
    "Asumimos hipoteticamente que este campo hacereferencia a la base de datos de la página https://www.geonames.org/\n",
    "\n",
    "En este caso, podría ser útil evaluar si existen casos donde **\"geonames_id\"** pueda complementar a las columnas de **\"lat\"** y **\"lon\"**.\n",
    "\n",
    "El conjunto de datos de las posiciones geográficas se descargo desde: https://download.geonames.org/export/dump/"
   ]
  },
  {
   "cell_type": "code",
   "execution_count": 43,
   "metadata": {},
   "outputs": [
    {
     "name": "stderr",
     "output_type": "stream",
     "text": [
      "C:\\Users\\spiazza\\.conda\\envs\\dhdsblend\\lib\\site-packages\\IPython\\core\\interactiveshell.py:3146: DtypeWarning: Columns (9,12) have mixed types.Specify dtype option on import or set low_memory=False.\n",
      "  interactivity=interactivity, compiler=compiler, result=result)\n"
     ]
    },
    {
     "data": {
      "text/html": [
       "<div>\n",
       "<style scoped>\n",
       "    .dataframe tbody tr th:only-of-type {\n",
       "        vertical-align: middle;\n",
       "    }\n",
       "\n",
       "    .dataframe tbody tr th {\n",
       "        vertical-align: top;\n",
       "    }\n",
       "\n",
       "    .dataframe thead th {\n",
       "        text-align: right;\n",
       "    }\n",
       "</style>\n",
       "<table border=\"1\" class=\"dataframe\">\n",
       "  <thead>\n",
       "    <tr style=\"text-align: right;\">\n",
       "      <th></th>\n",
       "      <th>name</th>\n",
       "      <th>asciiname</th>\n",
       "      <th>alternatenames</th>\n",
       "      <th>latitude</th>\n",
       "      <th>longitude</th>\n",
       "      <th>feature_class</th>\n",
       "      <th>feature_code</th>\n",
       "      <th>country_code</th>\n",
       "      <th>cc2</th>\n",
       "      <th>admin1_code</th>\n",
       "      <th>admin2_code</th>\n",
       "      <th>admin3_code</th>\n",
       "      <th>admin4 code</th>\n",
       "      <th>population</th>\n",
       "      <th>elevation</th>\n",
       "      <th>dem</th>\n",
       "      <th>timezone</th>\n",
       "      <th>modification date</th>\n",
       "    </tr>\n",
       "    <tr>\n",
       "      <th>geonames_id</th>\n",
       "      <th></th>\n",
       "      <th></th>\n",
       "      <th></th>\n",
       "      <th></th>\n",
       "      <th></th>\n",
       "      <th></th>\n",
       "      <th></th>\n",
       "      <th></th>\n",
       "      <th></th>\n",
       "      <th></th>\n",
       "      <th></th>\n",
       "      <th></th>\n",
       "      <th></th>\n",
       "      <th></th>\n",
       "      <th></th>\n",
       "      <th></th>\n",
       "      <th></th>\n",
       "      <th></th>\n",
       "    </tr>\n",
       "  </thead>\n",
       "  <tbody>\n",
       "    <tr>\n",
       "      <th>2509292</th>\n",
       "      <td>Arroyo de la Zurita</td>\n",
       "      <td>Arroyo de la Zurita</td>\n",
       "      <td>NaN</td>\n",
       "      <td>39.52</td>\n",
       "      <td>-3.85</td>\n",
       "      <td>H</td>\n",
       "      <td>STMI</td>\n",
       "      <td>ES</td>\n",
       "      <td>NaN</td>\n",
       "      <td>54</td>\n",
       "      <td>TO</td>\n",
       "      <td>45200</td>\n",
       "      <td>nan</td>\n",
       "      <td>0</td>\n",
       "      <td>nan</td>\n",
       "      <td>718</td>\n",
       "      <td>Europe/Madrid</td>\n",
       "      <td>2011-10-11</td>\n",
       "    </tr>\n",
       "    <tr>\n",
       "      <th>2509293</th>\n",
       "      <td>Zurgena</td>\n",
       "      <td>Zurgena</td>\n",
       "      <td>NaN</td>\n",
       "      <td>37.34</td>\n",
       "      <td>-2.04</td>\n",
       "      <td>P</td>\n",
       "      <td>PPLA3</td>\n",
       "      <td>ES</td>\n",
       "      <td>NaN</td>\n",
       "      <td>51</td>\n",
       "      <td>AL</td>\n",
       "      <td>04103</td>\n",
       "      <td>nan</td>\n",
       "      <td>2317</td>\n",
       "      <td>nan</td>\n",
       "      <td>244</td>\n",
       "      <td>Europe/Madrid</td>\n",
       "      <td>2012-03-04</td>\n",
       "    </tr>\n",
       "    <tr>\n",
       "      <th>2509294</th>\n",
       "      <td>Zúñiga</td>\n",
       "      <td>Zuniga</td>\n",
       "      <td>Caserio Zuniga,Caserío Zúñiga,Zuniga,Zúñiga</td>\n",
       "      <td>37.80</td>\n",
       "      <td>-1.70</td>\n",
       "      <td>P</td>\n",
       "      <td>PPL</td>\n",
       "      <td>ES</td>\n",
       "      <td>NaN</td>\n",
       "      <td>31</td>\n",
       "      <td>MU</td>\n",
       "      <td>30024</td>\n",
       "      <td>nan</td>\n",
       "      <td>0</td>\n",
       "      <td>nan</td>\n",
       "      <td>563</td>\n",
       "      <td>Europe/Madrid</td>\n",
       "      <td>2016-01-09</td>\n",
       "    </tr>\n",
       "    <tr>\n",
       "      <th>2509295</th>\n",
       "      <td>Río Zumeta</td>\n",
       "      <td>Rio Zumeta</td>\n",
       "      <td>Rio Zumeta,Río Zumeta</td>\n",
       "      <td>38.22</td>\n",
       "      <td>-2.45</td>\n",
       "      <td>H</td>\n",
       "      <td>STM</td>\n",
       "      <td>ES</td>\n",
       "      <td>NaN</td>\n",
       "      <td>54</td>\n",
       "      <td>AB</td>\n",
       "      <td>02055</td>\n",
       "      <td>nan</td>\n",
       "      <td>0</td>\n",
       "      <td>nan</td>\n",
       "      <td>735</td>\n",
       "      <td>Europe/Madrid</td>\n",
       "      <td>2020-08-13</td>\n",
       "    </tr>\n",
       "    <tr>\n",
       "      <th>2509296</th>\n",
       "      <td>Arroyo del Zumajo del Olivar</td>\n",
       "      <td>Arroyo del Zumajo del Olivar</td>\n",
       "      <td>NaN</td>\n",
       "      <td>36.67</td>\n",
       "      <td>-5.90</td>\n",
       "      <td>H</td>\n",
       "      <td>STMI</td>\n",
       "      <td>ES</td>\n",
       "      <td>NaN</td>\n",
       "      <td>51</td>\n",
       "      <td>CA</td>\n",
       "      <td>11020</td>\n",
       "      <td>nan</td>\n",
       "      <td>0</td>\n",
       "      <td>nan</td>\n",
       "      <td>25</td>\n",
       "      <td>Europe/Madrid</td>\n",
       "      <td>1993-12-23</td>\n",
       "    </tr>\n",
       "  </tbody>\n",
       "</table>\n",
       "</div>"
      ],
      "text/plain": [
       "                                     name                     asciiname  \\\n",
       "geonames_id                                                               \n",
       "2509292               Arroyo de la Zurita           Arroyo de la Zurita   \n",
       "2509293                           Zurgena                       Zurgena   \n",
       "2509294                            Zúñiga                        Zuniga   \n",
       "2509295                        Río Zumeta                    Rio Zumeta   \n",
       "2509296      Arroyo del Zumajo del Olivar  Arroyo del Zumajo del Olivar   \n",
       "\n",
       "                                          alternatenames  latitude  longitude  \\\n",
       "geonames_id                                                                     \n",
       "2509292                                              NaN     39.52      -3.85   \n",
       "2509293                                              NaN     37.34      -2.04   \n",
       "2509294      Caserio Zuniga,Caserío Zúñiga,Zuniga,Zúñiga     37.80      -1.70   \n",
       "2509295                            Rio Zumeta,Río Zumeta     38.22      -2.45   \n",
       "2509296                                              NaN     36.67      -5.90   \n",
       "\n",
       "            feature_class feature_code country_code  cc2 admin1_code  \\\n",
       "geonames_id                                                            \n",
       "2509292                 H         STMI           ES  NaN          54   \n",
       "2509293                 P        PPLA3           ES  NaN          51   \n",
       "2509294                 P          PPL           ES  NaN          31   \n",
       "2509295                 H          STM           ES  NaN          54   \n",
       "2509296                 H         STMI           ES  NaN          51   \n",
       "\n",
       "            admin2_code admin3_code  admin4 code  population  elevation  dem  \\\n",
       "geonames_id                                                                    \n",
       "2509292              TO       45200          nan           0        nan  718   \n",
       "2509293              AL       04103          nan        2317        nan  244   \n",
       "2509294              MU       30024          nan           0        nan  563   \n",
       "2509295              AB       02055          nan           0        nan  735   \n",
       "2509296              CA       11020          nan           0        nan   25   \n",
       "\n",
       "                  timezone modification date  \n",
       "geonames_id                                   \n",
       "2509292      Europe/Madrid        2011-10-11  \n",
       "2509293      Europe/Madrid        2012-03-04  \n",
       "2509294      Europe/Madrid        2016-01-09  \n",
       "2509295      Europe/Madrid        2020-08-13  \n",
       "2509296      Europe/Madrid        1993-12-23  "
      ]
     },
     "execution_count": 43,
     "metadata": {},
     "output_type": "execute_result"
    }
   ],
   "source": [
    "geoposicion_columnas = ['geonames_id', 'name', 'asciiname', 'alternatenames', 'latitude', 'longitude', 'feature_class', 'feature_code', 'country_code', 'cc2', \n",
    "                    'admin1_code', 'admin2_code', 'admin3_code', 'admin4 code', 'population', 'elevation', 'dem', 'timezone', 'modification date']\n",
    "\n",
    "geoposicion_df = pd.read_csv('geo_pos.txt', delimiter='\\t', names=geoposicion_columnas)\n",
    "geoposicion_df.set_index('geonames_id', inplace=True)\n",
    "geoposicion_df.head()"
   ]
  },
  {
   "cell_type": "markdown",
   "metadata": {},
   "source": [
    "\n",
    "Más adelante evaluaremos si algunos de los valores faltantes de **\"geonames_id\"** se pueden complementar con las columnas de **\"lat\"** y **\"lon\"** y este dataset descargado, o también si los valores de datos de longitud y latitud están correctos.\n"
   ]
  },
  {
   "cell_type": "markdown",
   "metadata": {},
   "source": [
    "<img src='Linea_Divisoria_fina.png' align='left' width=100%/>"
   ]
  },
  {
   "cell_type": "markdown",
   "metadata": {},
   "source": [
    "## Variable \"lat-lon\""
   ]
  },
  {
   "cell_type": "code",
   "execution_count": 44,
   "metadata": {},
   "outputs": [
    {
     "data": {
      "text/plain": [
       "1               -34.9038831,-57.9643295\n",
       "2               -34.6522615,-58.5229825\n",
       "4               -38.0026256,-57.5494468\n",
       "7                -34.5598729,-58.443362\n",
       "8                -34.5598729,-58.443362\n",
       "                      ...              \n",
       "121211                              NaN\n",
       "121215                              NaN\n",
       "121217    -34.5706388726,-58.4755963355\n",
       "121218                              NaN\n",
       "121219                              NaN\n",
       "Name: lat-lon, Length: 71065, dtype: object"
      ]
     },
     "execution_count": 44,
     "metadata": {},
     "output_type": "execute_result"
    }
   ],
   "source": [
    "original_data['lat-lon']"
   ]
  },
  {
   "cell_type": "code",
   "execution_count": 45,
   "metadata": {},
   "outputs": [
    {
     "data": {
      "text/plain": [
       "Valores Únicos     24260\n",
       "Nulos              29428\n",
       "% Nulos            41.41\n",
       "No Nulos           41637\n",
       "% No Nulos         58.59\n",
       "Tipos             object\n",
       "Tamaño (mb)         0.57\n",
       "Name: lat-lon, dtype: object"
      ]
     },
     "execution_count": 45,
     "metadata": {},
     "output_type": "execute_result"
    }
   ],
   "source": [
    "detalle_df_columns(original_data.columns, original_data).loc['lat-lon']"
   ]
  },
  {
   "cell_type": "code",
   "execution_count": 46,
   "metadata": {},
   "outputs": [
    {
     "name": "stdout",
     "output_type": "stream",
     "text": [
      "\n",
      "Comparativa de la mascara de nulos de geonames_id con la mascara de nulos lat-lon\n",
      "True\n"
     ]
    }
   ],
   "source": [
    "mask_geonames_id_nulos = original_data['geonames_id'].isnull()\n",
    "mask_lat_lon_nulos = original_data['lat-lon'].isnull()\n",
    "\n",
    "print(\"\")\n",
    "print(\"Comparativa de la mascara de nulos de geonames_id con la mascara de nulos lat-lon\")\n",
    "print(any(mask_geonames_id_nulos == mask_lat_lon_nulos))"
   ]
  },
  {
   "cell_type": "markdown",
   "metadata": {},
   "source": [
    "\n",
    "Esta comparativa nos demuestra que el campo **\"geonames_id\"** y el campo **\"lat-lon\"** tienen los mismo nulos, lo que nos indica que no vamos a poder completar datos en una columna de estas a partir de la otra\n"
   ]
  },
  {
   "cell_type": "markdown",
   "metadata": {},
   "source": [
    "<img src='Linea_Divisoria_fina.png' align='left' width=100%/>"
   ]
  },
  {
   "cell_type": "markdown",
   "metadata": {},
   "source": [
    "## Variable \"lat\""
   ]
  },
  {
   "cell_type": "code",
   "execution_count": 47,
   "metadata": {},
   "outputs": [
    {
     "data": {
      "text/plain": [
       "1        -34.90\n",
       "2        -34.65\n",
       "4        -38.00\n",
       "7        -34.56\n",
       "8        -34.56\n",
       "          ...  \n",
       "121211      nan\n",
       "121215      nan\n",
       "121217   -34.57\n",
       "121218      nan\n",
       "121219      nan\n",
       "Name: lat, Length: 71065, dtype: float64"
      ]
     },
     "execution_count": 47,
     "metadata": {},
     "output_type": "execute_result"
    }
   ],
   "source": [
    "original_data['lat']"
   ]
  },
  {
   "cell_type": "code",
   "execution_count": 48,
   "metadata": {},
   "outputs": [
    {
     "data": {
      "text/plain": [
       "Valores Únicos      23922\n",
       "Nulos               29428\n",
       "% Nulos             41.41\n",
       "No Nulos            41637\n",
       "% No Nulos          58.59\n",
       "Tipos             float64\n",
       "Tamaño (mb)          0.57\n",
       "Name: lat, dtype: object"
      ]
     },
     "execution_count": 48,
     "metadata": {},
     "output_type": "execute_result"
    }
   ],
   "source": [
    "detalle_df_columns(original_data.columns, original_data).loc['lat']"
   ]
  },
  {
   "cell_type": "code",
   "execution_count": 49,
   "metadata": {},
   "outputs": [
    {
     "name": "stdout",
     "output_type": "stream",
     "text": [
      "\n",
      "Comparativa de la mascara de nulos de lat con la mascara de nulos lat-lon\n",
      "True\n"
     ]
    }
   ],
   "source": [
    "mask_lat_lon_nulos = original_data['lat-lon'].isnull()\n",
    "mask_lat_nulos = original_data['lat'].isnull()\n",
    "\n",
    "print(\"\")\n",
    "print(\"Comparativa de la mascara de nulos de lat con la mascara de nulos lat-lon\")\n",
    "print(any(mask_lat_nulos == mask_lat_lon_nulos))"
   ]
  },
  {
   "cell_type": "markdown",
   "metadata": {},
   "source": [
    "\n",
    "Esta comparativa nos demuestra que el campo **\"lat\"** y el campo **\"lat-lon\"** tienen los mismo nulos, lo que nos indica que no vamos a poder completar datos en una columna de estas a partir de la otra\n"
   ]
  },
  {
   "cell_type": "markdown",
   "metadata": {},
   "source": [
    "<img src='Linea_Divisoria_fina.png' align='left' width=100%/>"
   ]
  },
  {
   "cell_type": "markdown",
   "metadata": {},
   "source": [
    "## Variable \"lon\""
   ]
  },
  {
   "cell_type": "code",
   "execution_count": 50,
   "metadata": {},
   "outputs": [
    {
     "data": {
      "text/plain": [
       "1        -57.96\n",
       "2        -58.52\n",
       "4        -57.55\n",
       "7        -58.44\n",
       "8        -58.44\n",
       "          ...  \n",
       "121211      nan\n",
       "121215      nan\n",
       "121217   -58.48\n",
       "121218      nan\n",
       "121219      nan\n",
       "Name: lon, Length: 71065, dtype: float64"
      ]
     },
     "execution_count": 50,
     "metadata": {},
     "output_type": "execute_result"
    }
   ],
   "source": [
    "original_data['lon']"
   ]
  },
  {
   "cell_type": "code",
   "execution_count": 51,
   "metadata": {},
   "outputs": [
    {
     "data": {
      "text/plain": [
       "Valores Únicos      23889\n",
       "Nulos               29428\n",
       "% Nulos             41.41\n",
       "No Nulos            41637\n",
       "% No Nulos          58.59\n",
       "Tipos             float64\n",
       "Tamaño (mb)          0.57\n",
       "Name: lon, dtype: object"
      ]
     },
     "execution_count": 51,
     "metadata": {},
     "output_type": "execute_result"
    }
   ],
   "source": [
    "detalle_df_columns(original_data.columns, original_data).loc['lon']"
   ]
  },
  {
   "cell_type": "code",
   "execution_count": 52,
   "metadata": {},
   "outputs": [
    {
     "name": "stdout",
     "output_type": "stream",
     "text": [
      "\n",
      "Comparativa de la mascara de nulos de lon con la mascara de nulos lat-lon\n",
      "True\n"
     ]
    }
   ],
   "source": [
    "mask_lat_lon_nulos = original_data['lat-lon'].isnull()\n",
    "mask_lon_nulos = original_data['lon'].isnull()\n",
    "\n",
    "print(\"\")\n",
    "print(\"Comparativa de la mascara de nulos de lon con la mascara de nulos lat-lon\")\n",
    "print(any(mask_lon_nulos == mask_lat_lon_nulos))"
   ]
  },
  {
   "cell_type": "markdown",
   "metadata": {},
   "source": [
    "\n",
    "Esta comparativa nos demuestra que el campo **\"lon\"** y el campo **\"lat-lon\"** tienen los mismo nulos, lo que nos indica que no vamos a poder completar datos en una columna de estas a partir de la otra\n"
   ]
  },
  {
   "cell_type": "markdown",
   "metadata": {},
   "source": [
    "<img src='Linea_Divisoria_fina.png' align='left' width=100%/>"
   ]
  },
  {
   "cell_type": "markdown",
   "metadata": {},
   "source": [
    "## Variable \"Price\""
   ]
  },
  {
   "cell_type": "code",
   "execution_count": 53,
   "metadata": {},
   "outputs": [
    {
     "data": {
      "text/plain": [
       "1        150000.00\n",
       "2         72000.00\n",
       "4         64000.00\n",
       "7        138000.00\n",
       "8        195000.00\n",
       "            ...   \n",
       "121211         nan\n",
       "121215   870000.00\n",
       "121217   131500.00\n",
       "121218    95900.00\n",
       "121219   129000.00\n",
       "Name: price, Length: 71065, dtype: float64"
      ]
     },
     "execution_count": 53,
     "metadata": {},
     "output_type": "execute_result"
    }
   ],
   "source": [
    "original_data['price']"
   ]
  },
  {
   "cell_type": "code",
   "execution_count": 54,
   "metadata": {},
   "outputs": [
    {
     "data": {
      "text/plain": [
       "Valores Únicos       9364\n",
       "Nulos               11449\n",
       "% Nulos             16.11\n",
       "No Nulos            59616\n",
       "% No Nulos          83.89\n",
       "Tipos             float64\n",
       "Tamaño (mb)          0.57\n",
       "Name: price, dtype: object"
      ]
     },
     "execution_count": 54,
     "metadata": {},
     "output_type": "execute_result"
    }
   ],
   "source": [
    "detalle_df_columns(original_data.columns, original_data).loc['price']"
   ]
  },
  {
   "cell_type": "markdown",
   "metadata": {},
   "source": [
    "<img src='Linea_Divisoria_fina.png' align='left' width=100%/>"
   ]
  },
  {
   "cell_type": "markdown",
   "metadata": {},
   "source": [
    "## Variable \"currency\""
   ]
  },
  {
   "cell_type": "code",
   "execution_count": 55,
   "metadata": {},
   "outputs": [
    {
     "data": {
      "text/plain": [
       "1         USD\n",
       "2         USD\n",
       "4         USD\n",
       "7         USD\n",
       "8         USD\n",
       "         ... \n",
       "121211    NaN\n",
       "121215    USD\n",
       "121217    USD\n",
       "121218    USD\n",
       "121219    USD\n",
       "Name: currency, Length: 71065, dtype: object"
      ]
     },
     "execution_count": 55,
     "metadata": {},
     "output_type": "execute_result"
    }
   ],
   "source": [
    "original_data['currency']"
   ]
  },
  {
   "cell_type": "code",
   "execution_count": 56,
   "metadata": {},
   "outputs": [
    {
     "data": {
      "text/plain": [
       "Valores Únicos         3\n",
       "Nulos              11449\n",
       "% Nulos            16.11\n",
       "No Nulos           59616\n",
       "% No Nulos         83.89\n",
       "Tipos             object\n",
       "Tamaño (mb)         0.57\n",
       "Name: currency, dtype: object"
      ]
     },
     "execution_count": 56,
     "metadata": {},
     "output_type": "execute_result"
    }
   ],
   "source": [
    "detalle_df_columns(original_data.columns, original_data).loc['currency']"
   ]
  },
  {
   "cell_type": "code",
   "execution_count": 57,
   "metadata": {},
   "outputs": [
    {
     "data": {
      "text/plain": [
       "USD    49262\n",
       "ARS    10352\n",
       "PEN        2\n",
       "Name: currency, dtype: int64"
      ]
     },
     "execution_count": 57,
     "metadata": {},
     "output_type": "execute_result"
    }
   ],
   "source": [
    "original_data['currency'].value_counts()"
   ]
  },
  {
   "cell_type": "markdown",
   "metadata": {},
   "source": [
    "<img src='Linea_Divisoria_fina.png' align='left' width=100%/>"
   ]
  },
  {
   "cell_type": "markdown",
   "metadata": {},
   "source": [
    "## Variable \"price_aprox_local_currency\""
   ]
  },
  {
   "cell_type": "code",
   "execution_count": 58,
   "metadata": {},
   "outputs": [
    {
     "data": {
      "text/plain": [
       "1         2646675.00\n",
       "2         1270404.00\n",
       "4         1129248.00\n",
       "7         2434941.00\n",
       "8         3440677.50\n",
       "             ...    \n",
       "121211           nan\n",
       "121215   15350715.00\n",
       "121217    2320251.75\n",
       "121218    1692107.55\n",
       "121219    2276140.50\n",
       "Name: price_aprox_local_currency, Length: 71065, dtype: float64"
      ]
     },
     "execution_count": 58,
     "metadata": {},
     "output_type": "execute_result"
    }
   ],
   "source": [
    "original_data['price_aprox_local_currency']"
   ]
  },
  {
   "cell_type": "code",
   "execution_count": 59,
   "metadata": {},
   "outputs": [
    {
     "data": {
      "text/plain": [
       "Valores Únicos       9828\n",
       "Nulos               11449\n",
       "% Nulos             16.11\n",
       "No Nulos            59616\n",
       "% No Nulos          83.89\n",
       "Tipos             float64\n",
       "Tamaño (mb)          0.57\n",
       "Name: price_aprox_local_currency, dtype: object"
      ]
     },
     "execution_count": 59,
     "metadata": {},
     "output_type": "execute_result"
    }
   ],
   "source": [
    "detalle_df_columns(original_data.columns, original_data).loc['price_aprox_local_currency']"
   ]
  },
  {
   "cell_type": "markdown",
   "metadata": {},
   "source": [
    "<img src='Linea_Divisoria_fina.png' align='left' width=100%/>"
   ]
  },
  {
   "cell_type": "markdown",
   "metadata": {},
   "source": [
    "## Variable \"price_aprox_usd\""
   ]
  },
  {
   "cell_type": "code",
   "execution_count": 60,
   "metadata": {},
   "outputs": [
    {
     "data": {
      "text/plain": [
       "1        150000.00\n",
       "2         72000.00\n",
       "4         64000.00\n",
       "7        138000.00\n",
       "8        195000.00\n",
       "            ...   \n",
       "121211         nan\n",
       "121215   870000.00\n",
       "121217   131500.00\n",
       "121218    95900.00\n",
       "121219   129000.00\n",
       "Name: price_aprox_usd, Length: 71065, dtype: float64"
      ]
     },
     "execution_count": 60,
     "metadata": {},
     "output_type": "execute_result"
    }
   ],
   "source": [
    "original_data['price_aprox_usd']"
   ]
  },
  {
   "cell_type": "code",
   "execution_count": 61,
   "metadata": {},
   "outputs": [
    {
     "data": {
      "text/plain": [
       "Valores Únicos       9828\n",
       "Nulos               11449\n",
       "% Nulos             16.11\n",
       "No Nulos            59616\n",
       "% No Nulos          83.89\n",
       "Tipos             float64\n",
       "Tamaño (mb)          0.57\n",
       "Name: price_aprox_usd, dtype: object"
      ]
     },
     "execution_count": 61,
     "metadata": {},
     "output_type": "execute_result"
    }
   ],
   "source": [
    "detalle_df_columns(original_data.columns, original_data).loc['price_aprox_usd']"
   ]
  },
  {
   "cell_type": "markdown",
   "metadata": {},
   "source": [
    "Esta columna es una de las que consideramos relevantes para el estudio que queremos realizar y vamos a intentar completar sus valores con otras columnas\n",
    "\n",
    "Las alternativas para completar los valores faltantes que tomamos son tres:\n",
    "- búsqueda dentro de los valores de la columna **title**.\n",
    "- búsqueda dentro de los valores de la columna **description**.\n"
   ]
  },
  {
   "cell_type": "code",
   "execution_count": 62,
   "metadata": {},
   "outputs": [],
   "source": [
    "pat_regex_1 = '(?P<dolar>[Uu][S\\$s][Ss\\$])\\s?(?P<precio>(\\d+\\.\\d+)+)' # 'uss u$s us$ 1000'\n",
    "pat_regex_2 = '(?P<dolar>[Uu][Ss][Dd])\\s?(?P<precio>(\\d+\\.\\d+)+)' # 'usd USD 1000'\n",
    "pat_regex_3 = '(?P<precio>(\\d+\\.\\d+)+)\\s?(?P<dolar>[Uu][S\\$s][Ss\\$])' # 1000 uss u$s us$\n",
    "pat_regex_4 = '(?P<precio>(\\d+\\.\\d+)+)\\s?(?P<dolar>[Uu][Ss][Dd])' # 1000 usd USD"
   ]
  },
  {
   "cell_type": "code",
   "execution_count": 63,
   "metadata": {},
   "outputs": [
    {
     "name": "stdout",
     "output_type": "stream",
     "text": [
      "Valores Únicos       9828\n",
      "Nulos               11449\n",
      "% Nulos             16.11\n",
      "No Nulos            59616\n",
      "% No Nulos          83.89\n",
      "Tipos             float64\n",
      "Tamaño (mb)          0.57\n",
      "Name: price_aprox_usd, dtype: object\n",
      "Patrones encontrados\n",
      "False    69270\n",
      "True      1795\n",
      "Name: precio_title, dtype: int64\n",
      "Se reemplazaron 3 valores\n",
      "       _precio_title_  price_aprox_usd\n",
      "22370          125000              nan\n",
      "25757           35080              nan\n",
      "103676          55000              nan\n",
      "Valores Únicos      9831\n",
      "Nulos              11446\n",
      "% Nulos            16.11\n",
      "No Nulos           59619\n",
      "% No Nulos         83.89\n",
      "Tipos             object\n",
      "Tamaño (mb)         0.57\n",
      "Name: price_aprox_usd, dtype: object\n"
     ]
    }
   ],
   "source": [
    "#ATENCIÓN - Esto se puede ejecutar una sola vez, \n",
    "#la segunda vez no tiene efecto y no muestra resultados y dice que no hay valores para reemplzar\n",
    "\n",
    "#imprimo detalle antes de la imputación\n",
    "print(detalle_df_columns(resultado_data.columns, resultado_data).loc['price_aprox_usd'])\n",
    "#llamo a la función que busca el patron regex que está en el bloque de definición de funciones globales\n",
    "df_resultado_titles_regex_1 = busca_patron_regex(pat_regex_1, 'precio', 'title', 'precio_', original_data, True, '.', '')\n",
    "#llamo a la función para reemplazar los valores a imputar\n",
    "print(reemplaza_valores_con_resultado_regex('precio_title', 'price_aprox_usd', df_resultado_titles_regex_1))\n",
    "#imprimo detalle luego de la imputación\n",
    "print(detalle_df_columns(resultado_data.columns, resultado_data).loc['price_aprox_usd'])"
   ]
  },
  {
   "cell_type": "code",
   "execution_count": 64,
   "metadata": {},
   "outputs": [
    {
     "name": "stdout",
     "output_type": "stream",
     "text": [
      "Valores Únicos      9831\n",
      "Nulos              11446\n",
      "% Nulos            16.11\n",
      "No Nulos           59619\n",
      "% No Nulos         83.89\n",
      "Tipos             object\n",
      "Tamaño (mb)         0.57\n",
      "Name: price_aprox_usd, dtype: object\n",
      "Patrones encontrados\n",
      "False    71042\n",
      "True        23\n",
      "Name: precio_title, dtype: int64\n",
      "Se reemplazaron 1 valores\n",
      "      _precio_title_ price_aprox_usd\n",
      "48651          68000             NaN\n",
      "Valores Únicos      9832\n",
      "Nulos              11445\n",
      "% Nulos            16.11\n",
      "No Nulos           59620\n",
      "% No Nulos         83.89\n",
      "Tipos             object\n",
      "Tamaño (mb)         0.57\n",
      "Name: price_aprox_usd, dtype: object\n"
     ]
    }
   ],
   "source": [
    "#ATENCIÓN - Esto se puede ejecutar una sola vez, \n",
    "#la segunda vez no tiene efecto y no muestra resultados y dice que no hay valores para reemplzar\n",
    "\n",
    "#imprimo detalle antes de la imputación\n",
    "print(detalle_df_columns(resultado_data.columns, resultado_data).loc['price_aprox_usd'])\n",
    "#llamo a la función que busca el patron regex que está en el bloque de definición de funciones globales\n",
    "df_resultado_titles_regex_2 = busca_patron_regex(pat_regex_2, 'precio', 'title', 'precio_', original_data, True, '.', '')\n",
    "#llamo a la función para reemplazar los valores a imputar\n",
    "print(reemplaza_valores_con_resultado_regex('precio_title', 'price_aprox_usd', df_resultado_titles_regex_2))\n",
    "#imprimo detalle luego de la imputación\n",
    "print(detalle_df_columns(resultado_data.columns, resultado_data).loc['price_aprox_usd'])"
   ]
  },
  {
   "cell_type": "code",
   "execution_count": 65,
   "metadata": {},
   "outputs": [
    {
     "name": "stdout",
     "output_type": "stream",
     "text": [
      "Valores Únicos      9832\n",
      "Nulos              11445\n",
      "% Nulos            16.11\n",
      "No Nulos           59620\n",
      "% No Nulos         83.89\n",
      "Tipos             object\n",
      "Tamaño (mb)         0.57\n",
      "Name: price_aprox_usd, dtype: object\n",
      "Patrones encontrados\n",
      "False    71065\n",
      "Name: precio_title, dtype: int64\n",
      "No hay valores para reemplazar\n",
      "Empty DataFrame\n",
      "Columns: [_precio_title_, price_aprox_usd]\n",
      "Index: []\n",
      "Valores Únicos      9832\n",
      "Nulos              11445\n",
      "% Nulos            16.11\n",
      "No Nulos           59620\n",
      "% No Nulos         83.89\n",
      "Tipos             object\n",
      "Tamaño (mb)         0.57\n",
      "Name: price_aprox_usd, dtype: object\n"
     ]
    }
   ],
   "source": [
    "#ATENCIÓN - Esto se puede ejecutar una sola vez, \n",
    "#la segunda vez no tiene efecto y no muestra resultados y dice que no hay valores para reemplzar\n",
    "\n",
    "#imprimo detalle antes de la imputación\n",
    "print(detalle_df_columns(resultado_data.columns, resultado_data).loc['price_aprox_usd'])\n",
    "#llamo a la función que busca el patron regex que está en el bloque de definición de funciones globales\n",
    "df_resultado_titles_regex_3 = busca_patron_regex(pat_regex_3, 'precio', 'title', 'precio_', original_data, True, '.', '')\n",
    "#llamo a la función para reemplazar los valores a imputar\n",
    "print(reemplaza_valores_con_resultado_regex('precio_title', 'price_aprox_usd', df_resultado_titles_regex_3))\n",
    "#imprimo detalle luego de la imputación\n",
    "print(detalle_df_columns(resultado_data.columns, resultado_data).loc['price_aprox_usd'])"
   ]
  },
  {
   "cell_type": "code",
   "execution_count": 66,
   "metadata": {},
   "outputs": [
    {
     "name": "stdout",
     "output_type": "stream",
     "text": [
      "Valores Únicos      9832\n",
      "Nulos              11445\n",
      "% Nulos            16.11\n",
      "No Nulos           59620\n",
      "% No Nulos         83.89\n",
      "Tipos             object\n",
      "Tamaño (mb)         0.57\n",
      "Name: price_aprox_usd, dtype: object\n",
      "Patrones encontrados\n",
      "False    71064\n",
      "True         1\n",
      "Name: precio_title, dtype: int64\n",
      "No hay valores para reemplazar\n",
      "Empty DataFrame\n",
      "Columns: [_precio_title_, price_aprox_usd]\n",
      "Index: []\n",
      "Valores Únicos      9832\n",
      "Nulos              11445\n",
      "% Nulos            16.11\n",
      "No Nulos           59620\n",
      "% No Nulos         83.89\n",
      "Tipos             object\n",
      "Tamaño (mb)         0.57\n",
      "Name: price_aprox_usd, dtype: object\n"
     ]
    }
   ],
   "source": [
    "#ATENCIÓN - Esto se puede ejecutar una sola vez, \n",
    "#la segunda vez no tiene efecto y no muestra resultados y dice que no hay valores para reemplzar\n",
    "\n",
    "#imprimo detalle antes de la imputación\n",
    "print(detalle_df_columns(resultado_data.columns, resultado_data).loc['price_aprox_usd'])\n",
    "#llamo a la función que busca el patron regex que está en el bloque de definición de funciones globales\n",
    "df_resultado_titles_regex_4 = busca_patron_regex(pat_regex_4, 'precio', 'title', 'precio_', original_data, True, '.', '')\n",
    "#llamo a la función para reemplazar los valores a imputar\n",
    "print(reemplaza_valores_con_resultado_regex('precio_title', 'price_aprox_usd', df_resultado_titles_regex_4))\n",
    "#imprimo detalle luego de la imputación\n",
    "print(detalle_df_columns(resultado_data.columns, resultado_data).loc['price_aprox_usd'])"
   ]
  },
  {
   "cell_type": "code",
   "execution_count": 67,
   "metadata": {},
   "outputs": [
    {
     "name": "stdout",
     "output_type": "stream",
     "text": [
      "Valores Únicos      9832\n",
      "Nulos              11445\n",
      "% Nulos            16.11\n",
      "No Nulos           59620\n",
      "% No Nulos         83.89\n",
      "Tipos             object\n",
      "Tamaño (mb)         0.57\n",
      "Name: price_aprox_usd, dtype: object\n",
      "Patrones encontrados\n",
      "False    66579\n",
      "True      4484\n",
      "Name: precio_description, dtype: int64\n",
      "Se reemplazaron 287 valores\n",
      "       _precio_description_ price_aprox_usd\n",
      "1694                  20000             NaN\n",
      "1724                  85000             NaN\n",
      "1855                  94000             NaN\n",
      "1893                  17000             NaN\n",
      "1965                 145000             NaN\n",
      "...                     ...             ...\n",
      "120910                20000             NaN\n",
      "120911                20000             NaN\n",
      "120912                20000             NaN\n",
      "120913                20000             NaN\n",
      "120914                20000             NaN\n",
      "\n",
      "[287 rows x 2 columns]\n",
      "Valores Únicos      9902\n",
      "Nulos              11158\n",
      "% Nulos            15.70\n",
      "No Nulos           59907\n",
      "% No Nulos         84.30\n",
      "Tipos             object\n",
      "Tamaño (mb)         0.57\n",
      "Name: price_aprox_usd, dtype: object\n"
     ]
    }
   ],
   "source": [
    "#ATENCIÓN - Esto se puede ejecutar una sola vez, \n",
    "#la segunda vez no tiene efecto y no muestra resultados y dice que no hay valores para reemplzar\n",
    "\n",
    "#imprimo detalle antes de la imputación\n",
    "print(detalle_df_columns(resultado_data.columns, resultado_data).loc['price_aprox_usd'])\n",
    "#llamo a la función que busca el patron regex que está en el bloque de definición de funciones globales\n",
    "df_resultado_titles_regex_1 = busca_patron_regex(pat_regex_1, 'precio', 'description', 'precio_', original_data, True, '.', '')\n",
    "#llamo a la función para reemplazar los valores a imputar\n",
    "print(reemplaza_valores_con_resultado_regex('precio_description', 'price_aprox_usd', df_resultado_titles_regex_1))\n",
    "#imprimo detalle luego de la imputación\n",
    "print(detalle_df_columns(resultado_data.columns, resultado_data).loc['price_aprox_usd'])"
   ]
  },
  {
   "cell_type": "code",
   "execution_count": 68,
   "metadata": {},
   "outputs": [
    {
     "name": "stdout",
     "output_type": "stream",
     "text": [
      "Valores Únicos      9902\n",
      "Nulos              11158\n",
      "% Nulos            15.70\n",
      "No Nulos           59907\n",
      "% No Nulos         84.30\n",
      "Tipos             object\n",
      "Tamaño (mb)         0.57\n",
      "Name: price_aprox_usd, dtype: object\n",
      "Patrones encontrados\n",
      "False    70120\n",
      "True       943\n",
      "Name: precio_description, dtype: int64\n",
      "Se reemplazaron 79 valores\n",
      "       _precio_description_ price_aprox_usd\n",
      "1743                 255000             NaN\n",
      "2086                 300000             NaN\n",
      "2087                 142000             NaN\n",
      "2088                 155000             NaN\n",
      "2369                  98000             NaN\n",
      "...                     ...             ...\n",
      "114203                15000             NaN\n",
      "115881                45000             NaN\n",
      "120770                40000             NaN\n",
      "120771                40000             NaN\n",
      "120787                30000             NaN\n",
      "\n",
      "[79 rows x 2 columns]\n",
      "Valores Únicos      9914\n",
      "Nulos              11079\n",
      "% Nulos            15.59\n",
      "No Nulos           59986\n",
      "% No Nulos         84.41\n",
      "Tipos             object\n",
      "Tamaño (mb)         0.57\n",
      "Name: price_aprox_usd, dtype: object\n"
     ]
    }
   ],
   "source": [
    "#ATENCIÓN - Esto se puede ejecutar una sola vez, \n",
    "#la segunda vez no tiene efecto y no muestra resultados y dice que no hay valores para reemplzar\n",
    "\n",
    "#imprimo detalle antes de la imputación\n",
    "print(detalle_df_columns(resultado_data.columns, resultado_data).loc['price_aprox_usd'])\n",
    "#llamo a la función que busca el patron regex que está en el bloque de definición de funciones globales\n",
    "df_resultado_titles_regex_2 = busca_patron_regex(pat_regex_2, 'precio', 'description', 'precio_', original_data, True, '.', '')\n",
    "#llamo a la función para reemplazar los valores a imputar\n",
    "print(reemplaza_valores_con_resultado_regex('precio_description', 'price_aprox_usd', df_resultado_titles_regex_2))\n",
    "#imprimo detalle luego de la imputación\n",
    "print(detalle_df_columns(resultado_data.columns, resultado_data).loc['price_aprox_usd'])"
   ]
  },
  {
   "cell_type": "code",
   "execution_count": 69,
   "metadata": {},
   "outputs": [
    {
     "name": "stdout",
     "output_type": "stream",
     "text": [
      "Valores Únicos      9914\n",
      "Nulos              11079\n",
      "% Nulos            15.59\n",
      "No Nulos           59986\n",
      "% No Nulos         84.41\n",
      "Tipos             object\n",
      "Tamaño (mb)         0.57\n",
      "Name: price_aprox_usd, dtype: object\n",
      "Patrones encontrados\n",
      "False    71014\n",
      "True        49\n",
      "Name: precio_description, dtype: int64\n",
      "Se reemplazaron 1 valores\n",
      "     _precio_description_ price_aprox_usd\n",
      "4524               110000             NaN\n",
      "Valores Únicos      9914\n",
      "Nulos              11078\n",
      "% Nulos            15.59\n",
      "No Nulos           59987\n",
      "% No Nulos         84.41\n",
      "Tipos             object\n",
      "Tamaño (mb)         0.57\n",
      "Name: price_aprox_usd, dtype: object\n"
     ]
    }
   ],
   "source": [
    "#ATENCIÓN - Esto se puede ejecutar una sola vez, \n",
    "#la segunda vez no tiene efecto y no muestra resultados y dice que no hay valores para reemplzar\n",
    "\n",
    "#imprimo detalle antes de la imputación\n",
    "print(detalle_df_columns(resultado_data.columns, resultado_data).loc['price_aprox_usd'])\n",
    "#llamo a la función que busca el patron regex que está en el bloque de definición de funciones globales\n",
    "df_resultado_titles_regex_3 = busca_patron_regex(pat_regex_3, 'precio', 'description', 'precio_', original_data, True, '.', '')\n",
    "#llamo a la función para reemplazar los valores a imputar\n",
    "print(reemplaza_valores_con_resultado_regex('precio_description', 'price_aprox_usd', df_resultado_titles_regex_3))\n",
    "#imprimo detalle luego de la imputación\n",
    "print(detalle_df_columns(resultado_data.columns, resultado_data).loc['price_aprox_usd'])"
   ]
  },
  {
   "cell_type": "code",
   "execution_count": 70,
   "metadata": {},
   "outputs": [
    {
     "name": "stdout",
     "output_type": "stream",
     "text": [
      "Valores Únicos      9914\n",
      "Nulos              11078\n",
      "% Nulos            15.59\n",
      "No Nulos           59987\n",
      "% No Nulos         84.41\n",
      "Tipos             object\n",
      "Tamaño (mb)         0.57\n",
      "Name: price_aprox_usd, dtype: object\n",
      "Patrones encontrados\n",
      "False    71017\n",
      "True        46\n",
      "Name: precio_description, dtype: int64\n",
      "No hay valores para reemplazar\n",
      "Empty DataFrame\n",
      "Columns: [_precio_description_, price_aprox_usd]\n",
      "Index: []\n",
      "Valores Únicos      9914\n",
      "Nulos              11078\n",
      "% Nulos            15.59\n",
      "No Nulos           59987\n",
      "% No Nulos         84.41\n",
      "Tipos             object\n",
      "Tamaño (mb)         0.57\n",
      "Name: price_aprox_usd, dtype: object\n"
     ]
    }
   ],
   "source": [
    "#ATENCIÓN - Esto se puede ejecutar una sola vez, \n",
    "#la segunda vez no tiene efecto y no muestra resultados y dice que no hay valores para reemplzar\n",
    "\n",
    "#imprimo detalle antes de la imputación\n",
    "print(detalle_df_columns(resultado_data.columns, resultado_data).loc['price_aprox_usd'])\n",
    "#llamo a la función que busca el patron regex que está en el bloque de definición de funciones globales\n",
    "df_resultado_titles_regex_4 = busca_patron_regex(pat_regex_4, 'precio', 'description', 'precio_', original_data, True, '.', '')\n",
    "#llamo a la función para reemplazar los valores a imputar\n",
    "print(reemplaza_valores_con_resultado_regex('precio_description', 'price_aprox_usd', df_resultado_titles_regex_4))\n",
    "#imprimo detalle luego de la imputación\n",
    "print(detalle_df_columns(resultado_data.columns, resultado_data).loc['price_aprox_usd'])"
   ]
  },
  {
   "cell_type": "markdown",
   "metadata": {},
   "source": [
    "Luego de realiar todas las imputaciones volvemos a convertir la columna a tipo de número flotante para ver que no quedo ningún datos sobre el que no se pueda operar."
   ]
  },
  {
   "cell_type": "code",
   "execution_count": 71,
   "metadata": {},
   "outputs": [],
   "source": [
    "resultado_data['price_aprox_usd'] = resultado_data['price_aprox_usd'].astype(float)"
   ]
  },
  {
   "cell_type": "markdown",
   "metadata": {},
   "source": [
    "<img src='Linea_Divisoria_fina.png' align='left' width=100%/>"
   ]
  },
  {
   "cell_type": "markdown",
   "metadata": {},
   "source": [
    "## Variable \"surface_total_in_m2\""
   ]
  },
  {
   "cell_type": "code",
   "execution_count": 72,
   "metadata": {},
   "outputs": [
    {
     "data": {
      "text/plain": [
       "1           nan\n",
       "2         55.00\n",
       "4         35.00\n",
       "7         45.00\n",
       "8         65.00\n",
       "          ...  \n",
       "121211   205.00\n",
       "121215   113.00\n",
       "121217    46.00\n",
       "121218    48.00\n",
       "121219    77.00\n",
       "Name: surface_total_in_m2, Length: 71065, dtype: float64"
      ]
     },
     "execution_count": 72,
     "metadata": {},
     "output_type": "execute_result"
    }
   ],
   "source": [
    "original_data['surface_total_in_m2']"
   ]
  },
  {
   "cell_type": "code",
   "execution_count": 73,
   "metadata": {},
   "outputs": [
    {
     "data": {
      "text/plain": [
       "Valores Únicos        511\n",
       "Nulos               19980\n",
       "% Nulos             28.11\n",
       "No Nulos            51085\n",
       "% No Nulos          71.89\n",
       "Tipos             float64\n",
       "Tamaño (mb)          0.57\n",
       "Name: surface_total_in_m2, dtype: object"
      ]
     },
     "execution_count": 73,
     "metadata": {},
     "output_type": "execute_result"
    }
   ],
   "source": [
    "detalle_df_columns(original_data.columns, original_data).loc['surface_total_in_m2']"
   ]
  },
  {
   "cell_type": "markdown",
   "metadata": {},
   "source": [
    "Al igual que el caso anterior de **precio_aprox_usd**, este campo es crítico a los fines de explicar el precio. Por ende, se debe hacer el mayor esfuerzo posible para:\n",
    "- recuperar la mayor cantidad de los valores faltantes.\n",
    "- verificar que los valores existentes estén correctos.\n",
    "\n",
    "Las alternativas para completar los valores faltantes son tres:\n",
    "- búsqueda dentro de los valores de la columna **title**.\n",
    "- búsqueda dentro de los valores de la columna **description**.\n",
    "- búsqueda dentro de los valores de la columna **properati_url**.\n"
   ]
  },
  {
   "cell_type": "code",
   "execution_count": 74,
   "metadata": {},
   "outputs": [],
   "source": [
    "pat_m2_regex_1 = '(?i)(tot(al(es)?)?)?:?\\s?(?P<m2>(\\s\\d+\\.?\\d)+)\\s?[Mm][Tt]?[Ss]?[2²]?\\s?(tot(al(es)?)?)?'"
   ]
  },
  {
   "cell_type": "code",
   "execution_count": 75,
   "metadata": {},
   "outputs": [
    {
     "name": "stdout",
     "output_type": "stream",
     "text": [
      "Valores Únicos        511\n",
      "Nulos               19980\n",
      "% Nulos             28.11\n",
      "No Nulos            51085\n",
      "% No Nulos          71.89\n",
      "Tipos             float64\n",
      "Tamaño (mb)          0.57\n",
      "Name: surface_total_in_m2, dtype: object\n",
      "Patrones encontrados\n",
      "False    67926\n",
      "True      3139\n",
      "Name: m2_title, dtype: int64\n",
      "Se reemplazaron 444 valores\n",
      "       _m2_title_  surface_total_in_m2\n",
      "77             85                  nan\n",
      "79             42                  nan\n",
      "476            97                  nan\n",
      "991            30                  nan\n",
      "992            34                  nan\n",
      "...           ...                  ...\n",
      "119684        154                  nan\n",
      "119893        500                  nan\n",
      "119901         46                  nan\n",
      "119915         68                  nan\n",
      "120185         30                  nan\n",
      "\n",
      "[444 rows x 2 columns]\n",
      "Valores Únicos       641\n",
      "Nulos              19536\n",
      "% Nulos            27.49\n",
      "No Nulos           51529\n",
      "% No Nulos         72.51\n",
      "Tipos             object\n",
      "Tamaño (mb)         0.57\n",
      "Name: surface_total_in_m2, dtype: object\n"
     ]
    }
   ],
   "source": [
    "#ATENCIÓN - Esto se puede ejecutar una sola vez, \n",
    "#la segunda vez no tiene efecto y no muestra resultados y dice que no hay valores para reemplzar\n",
    "\n",
    "#imprimo detalle antes de la imputación\n",
    "print(detalle_df_columns(resultado_data.columns, resultado_data).loc['surface_total_in_m2'])\n",
    "#llamo a la función que busca el patron regex que está en el bloque de definición de funciones globales\n",
    "df_resultado_titles_regex_1 = busca_patron_regex(pat_m2_regex_1, 'm2', 'title', 'm2_', original_data, False)\n",
    "#llamo a la función para reemplazar los valores a imputar\n",
    "print(reemplaza_valores_con_resultado_regex('m2_title', 'surface_total_in_m2', df_resultado_titles_regex_1))\n",
    "#imprimo detalle luego de la imputación\n",
    "print(detalle_df_columns(resultado_data.columns, resultado_data).loc['surface_total_in_m2'])"
   ]
  },
  {
   "cell_type": "code",
   "execution_count": 76,
   "metadata": {},
   "outputs": [
    {
     "name": "stdout",
     "output_type": "stream",
     "text": [
      "Valores Únicos       641\n",
      "Nulos              19536\n",
      "% Nulos            27.49\n",
      "No Nulos           51529\n",
      "% No Nulos         72.51\n",
      "Tipos             object\n",
      "Tamaño (mb)         0.57\n",
      "Name: surface_total_in_m2, dtype: object\n",
      "Patrones encontrados\n",
      "False    50248\n",
      "True     20815\n",
      "Name: m2_description, dtype: int64\n",
      "Se reemplazaron 4758 valores\n",
      "       _m2_description_ surface_total_in_m2\n",
      "109                  60                 NaN\n",
      "112                  90                 NaN\n",
      "143                  36                 NaN\n",
      "148                  92                 NaN\n",
      "163                  80                 NaN\n",
      "...                 ...                 ...\n",
      "120623             1000                 NaN\n",
      "120633               56                 NaN\n",
      "120957               35                 NaN\n",
      "120965              250                 NaN\n",
      "121072               50                 NaN\n",
      "\n",
      "[4758 rows x 2 columns]\n",
      "Valores Únicos       875\n",
      "Nulos              14778\n",
      "% Nulos            20.80\n",
      "No Nulos           56287\n",
      "% No Nulos         79.20\n",
      "Tipos             object\n",
      "Tamaño (mb)         0.57\n",
      "Name: surface_total_in_m2, dtype: object\n"
     ]
    }
   ],
   "source": [
    "#ATENCIÓN - Esto se puede ejecutar una sola vez, \n",
    "#la segunda vez no tiene efecto y no muestra resultados y dice que no hay valores para reemplzar\n",
    "\n",
    "#imprimo detalle antes de la imputación\n",
    "print(detalle_df_columns(resultado_data.columns, resultado_data).loc['surface_total_in_m2'])\n",
    "#llamo a la función que busca el patron regex que está en el bloque de definición de funciones globales\n",
    "df_resultado_titles_regex_1 = busca_patron_regex(pat_m2_regex_1, 'm2', 'description', 'm2_', original_data, False)\n",
    "#llamo a la función para reemplazar los valores a imputar\n",
    "print(reemplaza_valores_con_resultado_regex('m2_description', 'surface_total_in_m2', df_resultado_titles_regex_1))\n",
    "#imprimo detalle luego de la imputación\n",
    "print(detalle_df_columns(resultado_data.columns, resultado_data).loc['surface_total_in_m2'])"
   ]
  },
  {
   "cell_type": "code",
   "execution_count": 77,
   "metadata": {},
   "outputs": [
    {
     "name": "stdout",
     "output_type": "stream",
     "text": [
      "Valores Únicos       875\n",
      "Nulos              14778\n",
      "% Nulos            20.80\n",
      "No Nulos           56287\n",
      "% No Nulos         79.20\n",
      "Tipos             object\n",
      "Tamaño (mb)         0.57\n",
      "Name: surface_total_in_m2, dtype: object\n",
      "Patrones encontrados\n",
      "False    71065\n",
      "Name: m2_properati_url, dtype: int64\n",
      "No hay valores para reemplazar\n",
      "Empty DataFrame\n",
      "Columns: [_m2_properati_url_, surface_total_in_m2]\n",
      "Index: []\n",
      "Valores Únicos       875\n",
      "Nulos              14778\n",
      "% Nulos            20.80\n",
      "No Nulos           56287\n",
      "% No Nulos         79.20\n",
      "Tipos             object\n",
      "Tamaño (mb)         0.57\n",
      "Name: surface_total_in_m2, dtype: object\n"
     ]
    }
   ],
   "source": [
    "#ATENCIÓN - Esto se puede ejecutar una sola vez, \n",
    "#la segunda vez no tiene efecto y no muestra resultados y dice que no hay valores para reemplzar\n",
    "\n",
    "#imprimo detalle antes de la imputación\n",
    "print(detalle_df_columns(resultado_data.columns, resultado_data).loc['surface_total_in_m2'])\n",
    "#llamo a la función que busca el patron regex que está en el bloque de definición de funciones globales\n",
    "df_resultado_titles_regex_1 = busca_patron_regex(pat_m2_regex_1, 'm2', 'properati_url', 'm2_', original_data, False)\n",
    "#llamo a la función para reemplazar los valores a imputar\n",
    "print(reemplaza_valores_con_resultado_regex('m2_properati_url', 'surface_total_in_m2', df_resultado_titles_regex_1))\n",
    "#imprimo detalle luego de la imputación\n",
    "print(detalle_df_columns(resultado_data.columns, resultado_data).loc['surface_total_in_m2'])"
   ]
  },
  {
   "cell_type": "markdown",
   "metadata": {},
   "source": [
    "Luego de realiar todas las imputaciones volvemos a convertir la columna a tipo de número flotante para ver que no quedo ningún datos sobre el que no se pueda operar."
   ]
  },
  {
   "cell_type": "code",
   "execution_count": 78,
   "metadata": {},
   "outputs": [],
   "source": [
    "resultado_data['surface_total_in_m2'] = resultado_data['surface_total_in_m2'].astype(float)"
   ]
  },
  {
   "cell_type": "markdown",
   "metadata": {},
   "source": [
    "<img src='Linea_Divisoria_fina.png' align='left' width=100%/>"
   ]
  },
  {
   "cell_type": "markdown",
   "metadata": {},
   "source": [
    "## Variable \"price_usd_per_m2\""
   ]
  },
  {
   "cell_type": "code",
   "execution_count": 79,
   "metadata": {},
   "outputs": [
    {
     "data": {
      "text/plain": [
       "1            nan\n",
       "2        1309.09\n",
       "4        1828.57\n",
       "7        3066.67\n",
       "8        3000.00\n",
       "           ...  \n",
       "121211       nan\n",
       "121215   7699.12\n",
       "121217   2858.70\n",
       "121218   1997.92\n",
       "121219   1675.32\n",
       "Name: price_usd_per_m2, Length: 71065, dtype: float64"
      ]
     },
     "execution_count": 79,
     "metadata": {},
     "output_type": "execute_result"
    }
   ],
   "source": [
    "original_data['price_usd_per_m2']"
   ]
  },
  {
   "cell_type": "code",
   "execution_count": 80,
   "metadata": {},
   "outputs": [
    {
     "data": {
      "text/plain": [
       "Valores Únicos      17530\n",
       "Nulos               28178\n",
       "% Nulos             39.65\n",
       "No Nulos            42887\n",
       "% No Nulos          60.35\n",
       "Tipos             float64\n",
       "Tamaño (mb)          0.57\n",
       "Name: price_usd_per_m2, dtype: object"
      ]
     },
     "execution_count": 80,
     "metadata": {},
     "output_type": "execute_result"
    }
   ],
   "source": [
    "detalle_df_columns(original_data.columns, original_data).loc['price_usd_per_m2']"
   ]
  },
  {
   "cell_type": "markdown",
   "metadata": {},
   "source": [
    "Más abajo analizamos si algún valor por metro cuadrado existe y no existe algunos de los valores de precio total o metros cuadrados para poder calcular el faltante, pero podemos ver que no hay casos."
   ]
  },
  {
   "cell_type": "code",
   "execution_count": 81,
   "metadata": {},
   "outputs": [
    {
     "data": {
      "text/html": [
       "<div>\n",
       "<style scoped>\n",
       "    .dataframe tbody tr th:only-of-type {\n",
       "        vertical-align: middle;\n",
       "    }\n",
       "\n",
       "    .dataframe tbody tr th {\n",
       "        vertical-align: top;\n",
       "    }\n",
       "\n",
       "    .dataframe thead th {\n",
       "        text-align: right;\n",
       "    }\n",
       "</style>\n",
       "<table border=\"1\" class=\"dataframe\">\n",
       "  <thead>\n",
       "    <tr style=\"text-align: right;\">\n",
       "      <th></th>\n",
       "      <th>price_aprox_usd</th>\n",
       "      <th>surface_total_in_m2</th>\n",
       "      <th>price_usd_per_m2</th>\n",
       "    </tr>\n",
       "  </thead>\n",
       "  <tbody>\n",
       "  </tbody>\n",
       "</table>\n",
       "</div>"
      ],
      "text/plain": [
       "Empty DataFrame\n",
       "Columns: [price_aprox_usd, surface_total_in_m2, price_usd_per_m2]\n",
       "Index: []"
      ]
     },
     "execution_count": 81,
     "metadata": {},
     "output_type": "execute_result"
    }
   ],
   "source": [
    "mask_precio_nulos = resultado_data['price_aprox_usd'].isnull()\n",
    "mask_m2_nulos = resultado_data['surface_total_in_m2'].isnull()\n",
    "mask_precio_m2_no_nulos = resultado_data['price_usd_per_m2'].notnull()\n",
    "\n",
    "resultado_data[['price_aprox_usd', 'surface_total_in_m2', 'price_usd_per_m2']][(mask_precio_nulos | mask_m2_nulos) & mask_precio_m2_no_nulos]"
   ]
  },
  {
   "cell_type": "markdown",
   "metadata": {},
   "source": [
    "Ahora más abajo analizamos si algún valor por metro cuadrado tiene valor nulo y existe algunos de los valores de precio total o metros cuadrados para poder calcular el faltante, podemos ver que hay 6180 casos."
   ]
  },
  {
   "cell_type": "code",
   "execution_count": 82,
   "metadata": {},
   "outputs": [],
   "source": [
    "mask_precio_no_nulos = resultado_data['price_aprox_usd'].notnull()\n",
    "mask_m2_no_nulos = resultado_data['surface_total_in_m2'].notnull()\n",
    "mask_precio_m2_nulos = resultado_data['price_usd_per_m2'].isnull()\n",
    "\n",
    "\n",
    "resultado_data['price_usd_per_m2'] \\\n",
    "[mask_precio_no_nulos & mask_m2_no_nulos & mask_precio_m2_nulos] = \\\n",
    "resultado_data[['price_aprox_usd', 'surface_total_in_m2', 'price_usd_per_m2']] \\\n",
    "[mask_precio_no_nulos & mask_m2_no_nulos & mask_precio_m2_nulos].apply \\\n",
    "(lambda x: x['surface_total_in_m2'] if x['surface_total_in_m2'] == 0 else x['price_aprox_usd'] / x['surface_total_in_m2'], axis=1)\n"
   ]
  },
  {
   "cell_type": "code",
   "execution_count": 83,
   "metadata": {},
   "outputs": [
    {
     "data": {
      "text/plain": [
       "Valores Únicos      19619\n",
       "Nulos               23276\n",
       "% Nulos             32.75\n",
       "No Nulos            47789\n",
       "% No Nulos          67.25\n",
       "Tipos             float64\n",
       "Tamaño (mb)          0.57\n",
       "Name: price_usd_per_m2, dtype: object"
      ]
     },
     "execution_count": 83,
     "metadata": {},
     "output_type": "execute_result"
    }
   ],
   "source": [
    "detalle_df_columns(resultado_data.columns, resultado_data).loc['price_usd_per_m2']"
   ]
  },
  {
   "cell_type": "markdown",
   "metadata": {},
   "source": [
    "<img src='Linea_Divisoria_fina.png' align='left' width=100%/>"
   ]
  },
  {
   "cell_type": "markdown",
   "metadata": {},
   "source": [
    "## Variable \"rooms\""
   ]
  },
  {
   "cell_type": "code",
   "execution_count": 84,
   "metadata": {},
   "outputs": [
    {
     "data": {
      "text/plain": [
       "1        nan\n",
       "2        nan\n",
       "4        nan\n",
       "7        nan\n",
       "8        nan\n",
       "          ..\n",
       "121211   nan\n",
       "121215   nan\n",
       "121217   nan\n",
       "121218   nan\n",
       "121219   nan\n",
       "Name: rooms, Length: 71065, dtype: float64"
      ]
     },
     "execution_count": 84,
     "metadata": {},
     "output_type": "execute_result"
    }
   ],
   "source": [
    "original_data['rooms']"
   ]
  },
  {
   "cell_type": "code",
   "execution_count": 85,
   "metadata": {},
   "outputs": [
    {
     "data": {
      "text/plain": [
       "Valores Únicos         22\n",
       "Nulos               39797\n",
       "% Nulos             56.00\n",
       "No Nulos            31268\n",
       "% No Nulos          44.00\n",
       "Tipos             float64\n",
       "Tamaño (mb)          0.57\n",
       "Name: rooms, dtype: object"
      ]
     },
     "execution_count": 85,
     "metadata": {},
     "output_type": "execute_result"
    }
   ],
   "source": [
    "detalle_df_columns(original_data.columns, original_data).loc['rooms']"
   ]
  },
  {
   "cell_type": "code",
   "execution_count": 86,
   "metadata": {},
   "outputs": [
    {
     "data": {
      "text/plain": [
       "2.00     10664\n",
       "3.00      7946\n",
       "1.00      6940\n",
       "4.00      3867\n",
       "5.00      1162\n",
       "6.00       330\n",
       "7.00       174\n",
       "8.00        86\n",
       "9.00        34\n",
       "10.00       22\n",
       "12.00       12\n",
       "11.00        9\n",
       "14.00        5\n",
       "13.00        3\n",
       "17.00        3\n",
       "32.00        2\n",
       "15.00        2\n",
       "22.00        2\n",
       "20.00        2\n",
       "25.00        1\n",
       "18.00        1\n",
       "21.00        1\n",
       "Name: rooms, dtype: int64"
      ]
     },
     "execution_count": 86,
     "metadata": {},
     "output_type": "execute_result"
    }
   ],
   "source": [
    "original_data['rooms'].value_counts()"
   ]
  },
  {
   "cell_type": "markdown",
   "metadata": {},
   "source": [
    "La cantidad de ambientes, representada por el campo *rooms*, es importante para darle contexto al precio de la propiedad. \n",
    "\n",
    "Las alternativas para completar los valores faltantes son dos:\n",
    "- búsqueda dentro de los valores de la columna **title**.\n",
    "- búsqueda dentro de los valores de la columna **description**.\n"
   ]
  },
  {
   "cell_type": "markdown",
   "metadata": {},
   "source": [
    "Para analizar este campo ya no nos sirve la fución que construimos para los valores anteriores, este análisis requiere de campos de texto y luego esto convertirlo a numérico"
   ]
  },
  {
   "cell_type": "code",
   "execution_count": 87,
   "metadata": {},
   "outputs": [],
   "source": [
    "pat_rooms_regex_0 = '((monoamb|monoambiente))'  # 'monoamb'\n",
    "pat_rooms_regex_1 = '(\\d+)(\\s)(\\b(amb))'  # '2 amb'\n",
    "pat_rooms_regex_2 = '((\\b(amb))(\\D)(\\d+))' # ' amb:2'\n",
    "pat_rooms_regex_3 = '(\\d+)((amb)\\b)'  # ' 3amb'\n",
    "pat_rooms_regex_4 = '(\\b(dos))(\\s)(\\b(amb))' # 'dos ambientes'\n",
    "pat_rooms_regex_5 = '(\\b(tres))(\\s)(\\b(amb))'  # 'tres ambientes'\n",
    "pat_rooms_regex_6 = '(\\b(cuatro))(\\s)(\\b(amb))'  # 'cuatro ambientes'\n",
    "pat_rooms_regex_7 = '(\\b(cinco))(\\s)(\\b(amb))'  # 'cinco ambientes'\n",
    "pat_rooms_regex_8 = '(\\b(seis))(\\s)(\\b(amb))'  # 'seis ambientes'\n",
    "pat_rooms_regex_9 = '(\\b(siete))(\\s)(\\b(amb))' # 'siete ambientes'"
   ]
  },
  {
   "cell_type": "code",
   "execution_count": 88,
   "metadata": {},
   "outputs": [],
   "source": [
    "\n",
    "def aplica_regex_rooms (pat_regex, ambientes, columna):\n",
    "    columna_nueva = '_rooms_' + columna + '_'\n",
    "    patron_regex = re.compile(pat_regex, flags = re.IGNORECASE)\n",
    "    rooms_series = original_data[columna]\n",
    "    mask_no_nulos = rooms_series.notnull()\n",
    "    rooms_regex = rooms_series[mask_no_nulos].apply(lambda x: None if patron_regex.search(x) is None else ambientes)\n",
    "    resultado_data[columna_nueva] = rooms_regex\n",
    "    #prepar los mascaras para el reemplazo de datos\n",
    "    mask_rooms_no_nulos = resultado_data[columna_nueva].notnull()\n",
    "    mask_rooms_nulos = resultado_data['rooms'].isnull()\n",
    "    #reemplazo los datos\n",
    "    valores_a_reemplazar =  resultado_data[['rooms', columna_nueva]][mask_rooms_nulos & mask_rooms_no_nulos].apply \\\n",
    "    (lambda x: x[columna_nueva], axis=1).shape[0]\n",
    "    if valores_a_reemplazar > 0:\n",
    "        resultado_data['rooms'][mask_rooms_nulos & mask_rooms_no_nulos] = \\\n",
    "        resultado_data[['rooms', columna_nueva]][mask_rooms_nulos & mask_rooms_no_nulos].apply \\\n",
    "        (lambda x: x[columna_nueva], axis=1)\n",
    "    print('Porceso ' + str(ambientes) + ' ambiente/s OK')\n",
    "    return "
   ]
  },
  {
   "cell_type": "code",
   "execution_count": 89,
   "metadata": {},
   "outputs": [
    {
     "name": "stdout",
     "output_type": "stream",
     "text": [
      "Porceso 1 ambiente/s OK\n",
      "Porceso 2 ambiente/s OK\n",
      "Porceso 2 ambiente/s OK\n",
      "Porceso 3 ambiente/s OK\n",
      "Porceso 2 ambiente/s OK\n",
      "Porceso 3 ambiente/s OK\n",
      "Porceso 4 ambiente/s OK\n",
      "Porceso 5 ambiente/s OK\n",
      "Porceso 6 ambiente/s OK\n",
      "Porceso 7 ambiente/s OK\n"
     ]
    }
   ],
   "source": [
    "aplica_regex_rooms(pat_rooms_regex_0, 1, 'title')\n",
    "aplica_regex_rooms(pat_rooms_regex_1, 2, 'title')\n",
    "aplica_regex_rooms(pat_rooms_regex_2, 2, 'title')\n",
    "aplica_regex_rooms(pat_rooms_regex_3, 3, 'title')\n",
    "aplica_regex_rooms(pat_rooms_regex_4, 2, 'title')\n",
    "aplica_regex_rooms(pat_rooms_regex_5, 3, 'title')\n",
    "aplica_regex_rooms(pat_rooms_regex_6, 4, 'title')\n",
    "aplica_regex_rooms(pat_rooms_regex_7, 5, 'title')\n",
    "aplica_regex_rooms(pat_rooms_regex_8, 6, 'title')\n",
    "aplica_regex_rooms(pat_rooms_regex_9, 7, 'title')"
   ]
  },
  {
   "cell_type": "code",
   "execution_count": 90,
   "metadata": {},
   "outputs": [
    {
     "name": "stdout",
     "output_type": "stream",
     "text": [
      "Porceso 1 ambiente/s OK\n",
      "Porceso 2 ambiente/s OK\n",
      "Porceso 2 ambiente/s OK\n",
      "Porceso 3 ambiente/s OK\n",
      "Porceso 2 ambiente/s OK\n",
      "Porceso 3 ambiente/s OK\n",
      "Porceso 4 ambiente/s OK\n",
      "Porceso 5 ambiente/s OK\n",
      "Porceso 6 ambiente/s OK\n",
      "Porceso 7 ambiente/s OK\n"
     ]
    }
   ],
   "source": [
    "aplica_regex_rooms(pat_rooms_regex_0, 1, 'description')\n",
    "aplica_regex_rooms(pat_rooms_regex_1, 2, 'description')\n",
    "aplica_regex_rooms(pat_rooms_regex_2, 2, 'description')\n",
    "aplica_regex_rooms(pat_rooms_regex_3, 3, 'description')\n",
    "aplica_regex_rooms(pat_rooms_regex_4, 2, 'description')\n",
    "aplica_regex_rooms(pat_rooms_regex_5, 3, 'description')\n",
    "aplica_regex_rooms(pat_rooms_regex_6, 4, 'description')\n",
    "aplica_regex_rooms(pat_rooms_regex_7, 5, 'description')\n",
    "aplica_regex_rooms(pat_rooms_regex_8, 6, 'description')\n",
    "aplica_regex_rooms(pat_rooms_regex_9, 7, 'description')"
   ]
  },
  {
   "cell_type": "code",
   "execution_count": 91,
   "metadata": {},
   "outputs": [
    {
     "data": {
      "text/plain": [
       "Valores Únicos         22\n",
       "Nulos               35244\n",
       "% Nulos             49.59\n",
       "No Nulos            35821\n",
       "% No Nulos          50.41\n",
       "Tipos             float64\n",
       "Tamaño (mb)          0.57\n",
       "Name: rooms, dtype: object"
      ]
     },
     "execution_count": 91,
     "metadata": {},
     "output_type": "execute_result"
    }
   ],
   "source": [
    "\n",
    "detalle_df_columns(resultado_data.columns, resultado_data).loc['rooms']"
   ]
  },
  {
   "cell_type": "markdown",
   "metadata": {},
   "source": [
    "Luego de analizar las columnas **\"title\"** y **\"description\"**, podemos ver que logramos completar 4553 valores de cantidad de ambientes en la columna **\"rooms\"**"
   ]
  },
  {
   "attachments": {
    "Linea_divisoria.png": {
     "image/png": "[encoded data removed]"
    }
   },
   "cell_type": "markdown",
   "metadata": {},
   "source": [
    "![Linea_divisoria.png](attachment:Linea_divisoria.png)"
   ]
  },
  {
   "cell_type": "markdown",
   "metadata": {},
   "source": [
    "## Creación de Nueva Variable \"nuevo_usado\""
   ]
  },
  {
   "cell_type": "markdown",
   "metadata": {},
   "source": [
    "Decidimos la creación de una nueva variable que defina si las propiedades son nuevas o usadas, dado que esto puede tener insidencia en el precio por metros cuadrados"
   ]
  },
  {
   "cell_type": "code",
   "execution_count": 92,
   "metadata": {},
   "outputs": [],
   "source": [
    "patron_regex_nuevo_usado_1 = \"Estrenar\"\n",
    "patron_regex_nuevo_usado_2 = \"departamento nuevo\"\n",
    "patron_regex_nuevo_usado_3 = \"casa nueva\""
   ]
  },
  {
   "cell_type": "code",
   "execution_count": 93,
   "metadata": {},
   "outputs": [],
   "source": [
    "resultado_data['nuevo_usado'] = np.nan"
   ]
  },
  {
   "cell_type": "code",
   "execution_count": 94,
   "metadata": {},
   "outputs": [],
   "source": [
    "\n",
    "def aplica_regex_nuevo_usado (pat_regex, columna):\n",
    "    columna_nueva = '_nuevo_usado_' + columna\n",
    "    patron_regex = re.compile(pat_regex, flags = re.IGNORECASE)\n",
    "    nuevo_usado_series = original_data[columna]\n",
    "    mask_no_nulos = nuevo_usado_series.notnull()\n",
    "    nuevo_usado_regex = nuevo_usado_series[mask_no_nulos].apply(lambda x: None if patron_regex.search(x) is None else 'nuevo')\n",
    "    resultado_data[columna_nueva] = nuevo_usado_regex\n",
    "    #prepar los mascaras para el reemplazo de datos\n",
    "    mask_nuevo_usado_no_nulos = resultado_data[columna_nueva].notnull()\n",
    "    mask_nuevo_usado_nulos = resultado_data['nuevo_usado'].isnull()\n",
    "    #reemplazo los datos\n",
    "    valores_a_reemplazar =  resultado_data[['nuevo_usado', columna_nueva]][mask_nuevo_usado_nulos & mask_nuevo_usado_no_nulos].apply \\\n",
    "    (lambda x: x[columna_nueva], axis=1).shape[0]\n",
    "    if valores_a_reemplazar > 0:\n",
    "        resultado_data['nuevo_usado'][mask_nuevo_usado_nulos & mask_nuevo_usado_no_nulos] = \\\n",
    "        resultado_data[['nuevo_usado', columna_nueva]][mask_nuevo_usado_nulos & mask_nuevo_usado_no_nulos].apply \\\n",
    "        (lambda x: x[columna_nueva], axis=1)\n",
    "    print('Porceso OK')\n",
    "    return "
   ]
  },
  {
   "cell_type": "code",
   "execution_count": 95,
   "metadata": {},
   "outputs": [
    {
     "name": "stdout",
     "output_type": "stream",
     "text": [
      "Porceso OK\n"
     ]
    }
   ],
   "source": [
    "aplica_regex_nuevo_usado(patron_regex_nuevo_usado_1, 'title')"
   ]
  },
  {
   "cell_type": "code",
   "execution_count": 96,
   "metadata": {},
   "outputs": [
    {
     "name": "stdout",
     "output_type": "stream",
     "text": [
      "Porceso OK\n"
     ]
    }
   ],
   "source": [
    "aplica_regex_nuevo_usado(patron_regex_nuevo_usado_2, 'title')"
   ]
  },
  {
   "cell_type": "code",
   "execution_count": 97,
   "metadata": {},
   "outputs": [
    {
     "name": "stdout",
     "output_type": "stream",
     "text": [
      "Porceso OK\n"
     ]
    }
   ],
   "source": [
    "aplica_regex_nuevo_usado(patron_regex_nuevo_usado_3, 'title')"
   ]
  },
  {
   "cell_type": "code",
   "execution_count": 98,
   "metadata": {},
   "outputs": [
    {
     "name": "stdout",
     "output_type": "stream",
     "text": [
      "Porceso OK\n"
     ]
    }
   ],
   "source": [
    "aplica_regex_nuevo_usado(patron_regex_nuevo_usado_1, 'description')"
   ]
  },
  {
   "cell_type": "code",
   "execution_count": 99,
   "metadata": {},
   "outputs": [
    {
     "name": "stdout",
     "output_type": "stream",
     "text": [
      "Porceso OK\n"
     ]
    }
   ],
   "source": [
    "aplica_regex_nuevo_usado(patron_regex_nuevo_usado_2, 'description')"
   ]
  },
  {
   "cell_type": "code",
   "execution_count": 100,
   "metadata": {},
   "outputs": [
    {
     "name": "stdout",
     "output_type": "stream",
     "text": [
      "Porceso OK\n"
     ]
    }
   ],
   "source": [
    "aplica_regex_nuevo_usado(patron_regex_nuevo_usado_3, 'description')"
   ]
  },
  {
   "cell_type": "code",
   "execution_count": 101,
   "metadata": {},
   "outputs": [
    {
     "data": {
      "text/plain": [
       "Valores Únicos         1\n",
       "Nulos              60851\n",
       "% Nulos            85.63\n",
       "No Nulos           10214\n",
       "% No Nulos         14.37\n",
       "Tipos             object\n",
       "Tamaño (mb)         0.57\n",
       "Name: nuevo_usado, dtype: object"
      ]
     },
     "execution_count": 101,
     "metadata": {},
     "output_type": "execute_result"
    }
   ],
   "source": [
    "detalle_df_columns(resultado_data.columns, resultado_data).loc['nuevo_usado']"
   ]
  },
  {
   "cell_type": "markdown",
   "metadata": {},
   "source": [
    "Luego de aplicar los patrones regex podemos ver que hay 10214 propiedades nuevas, al resto le vamos a imputar el valor usado en esta columna nueva"
   ]
  },
  {
   "cell_type": "code",
   "execution_count": 102,
   "metadata": {},
   "outputs": [],
   "source": [
    "mask_nuevo_usado_es_nulo = resultado_data['nuevo_usado'].isnull()\n",
    "\n",
    "resultado_data['nuevo_usado'][mask_nuevo_usado_es_nulo] = \\\n",
    "resultado_data[['nuevo_usado']][mask_nuevo_usado_es_nulo].apply(lambda x: 'usado', axis=1)\n"
   ]
  },
  {
   "cell_type": "code",
   "execution_count": 103,
   "metadata": {},
   "outputs": [
    {
     "data": {
      "text/plain": [
       "usado    60851\n",
       "nuevo    10214\n",
       "Name: nuevo_usado, dtype: int64"
      ]
     },
     "execution_count": 103,
     "metadata": {},
     "output_type": "execute_result"
    }
   ],
   "source": [
    "resultado_data['nuevo_usado'].value_counts()"
   ]
  },
  {
   "cell_type": "markdown",
   "metadata": {},
   "source": [
    "En esta nueva columna nos queda definido que hay 10214 propiedades nuevas o a estrenar y 60851 propiedades usadas"
   ]
  },
  {
   "attachments": {
    "Linea_divisoria.png": {
     "image/png": "[encoded data removed]"
    }
   },
   "cell_type": "markdown",
   "metadata": {},
   "source": [
    "![Linea_divisoria.png](attachment:Linea_divisoria.png)"
   ]
  },
  {
   "cell_type": "markdown",
   "metadata": {},
   "source": [
    "## Preparación de conujunto de datos para el análisis final"
   ]
  },
  {
   "cell_type": "code",
   "execution_count": 104,
   "metadata": {},
   "outputs": [
    {
     "name": "stdout",
     "output_type": "stream",
     "text": [
      "Cantidad de estados de la muestra\n",
      "499\n",
      "Cantidad de estados con n < a 30 de la muestra\n",
      "329\n"
     ]
    }
   ],
   "source": [
    "df_muestras_place_name = pd.DataFrame(resultado_data['place_name'].value_counts())\n",
    "print('Cantidad de estados de la muestra')\n",
    "print (df_muestras_place_name.shape[0])\n",
    "\n",
    "mask_muestras_menor_a_30 = df_muestras_place_name['place_name'] < 30 \n",
    "print('Cantidad de estados con n < a 30 de la muestra')\n",
    "print (df_muestras_place_name[mask_muestras_menor_a_30].shape[0])"
   ]
  },
  {
   "cell_type": "code",
   "execution_count": 105,
   "metadata": {},
   "outputs": [
    {
     "data": {
      "text/plain": [
       "Index(['Unnamed: 0', 'operation', 'property_type', 'place_name',\n",
       "       'place_with_parent_names', 'country_name', 'state_name', 'geonames_id',\n",
       "       'lat-lon', 'lat', 'lon', 'price', 'currency',\n",
       "       'price_aprox_local_currency', 'price_aprox_usd', 'surface_total_in_m2',\n",
       "       'surface_covered_in_m2', 'price_usd_per_m2', 'price_per_m2', 'floor',\n",
       "       'rooms', 'expenses', 'properati_url', 'description', 'title',\n",
       "       'image_thumbnail', '_precio_title_', '_precio_description_',\n",
       "       '_m2_title_', '_m2_description_', '_m2_properati_url_', '_rooms_title_',\n",
       "       '_rooms_description_', 'nuevo_usado', '_nuevo_usado_title',\n",
       "       '_nuevo_usado_description'],\n",
       "      dtype='object')"
      ]
     },
     "execution_count": 105,
     "metadata": {},
     "output_type": "execute_result"
    }
   ],
   "source": [
    "resultado_data.columns"
   ]
  },
  {
   "cell_type": "code",
   "execution_count": 106,
   "metadata": {},
   "outputs": [],
   "source": [
    "#ATENCION, sólo se puede correr una vez al terminar la ejecución de todo la notebook\n",
    "#borro columnas temporales creadas para reemplazr valores regex\n",
    "resultado_data = resultado_data.drop(['_precio_title_'], axis=1)\n",
    "resultado_data = resultado_data.drop(['_precio_description_'], axis=1) \n",
    "resultado_data = resultado_data.drop(['_m2_title_'], axis=1) \n",
    "resultado_data = resultado_data.drop(['_m2_description_'], axis=1)\n",
    "resultado_data = resultado_data.drop(['_m2_properati_url_'], axis=1)\n",
    "resultado_data = resultado_data.drop(['_rooms_title_'], axis=1)\n",
    "resultado_data = resultado_data.drop(['_rooms_description_'], axis=1)\n",
    "resultado_data = resultado_data.drop(['_nuevo_usado_title'], axis=1)\n",
    "resultado_data = resultado_data.drop(['_nuevo_usado_description'], axis=1)"
   ]
  },
  {
   "cell_type": "code",
   "execution_count": 107,
   "metadata": {},
   "outputs": [
    {
     "data": {
      "text/plain": [
       "Index(['Unnamed: 0', 'operation', 'property_type', 'place_name',\n",
       "       'place_with_parent_names', 'country_name', 'state_name', 'geonames_id',\n",
       "       'lat-lon', 'lat', 'lon', 'price', 'currency',\n",
       "       'price_aprox_local_currency', 'price_aprox_usd', 'surface_total_in_m2',\n",
       "       'surface_covered_in_m2', 'price_usd_per_m2', 'price_per_m2', 'floor',\n",
       "       'rooms', 'expenses', 'properati_url', 'description', 'title',\n",
       "       'image_thumbnail', 'nuevo_usado'],\n",
       "      dtype='object')"
      ]
     },
     "execution_count": 107,
     "metadata": {},
     "output_type": "execute_result"
    }
   ],
   "source": [
    "resultado_data.columns"
   ]
  },
  {
   "cell_type": "code",
   "execution_count": 108,
   "metadata": {},
   "outputs": [
    {
     "data": {
      "text/html": [
       "<div>\n",
       "<style scoped>\n",
       "    .dataframe tbody tr th:only-of-type {\n",
       "        vertical-align: middle;\n",
       "    }\n",
       "\n",
       "    .dataframe tbody tr th {\n",
       "        vertical-align: top;\n",
       "    }\n",
       "\n",
       "    .dataframe thead th {\n",
       "        text-align: right;\n",
       "    }\n",
       "</style>\n",
       "<table border=\"1\" class=\"dataframe\">\n",
       "  <thead>\n",
       "    <tr style=\"text-align: right;\">\n",
       "      <th></th>\n",
       "      <th>state_name</th>\n",
       "      <th>place_name</th>\n",
       "      <th>price_aprox_usd</th>\n",
       "      <th>surface_total_in_m2</th>\n",
       "      <th>price_usd_per_m2</th>\n",
       "      <th>rooms</th>\n",
       "      <th>nuevo_usado</th>\n",
       "    </tr>\n",
       "  </thead>\n",
       "  <tbody>\n",
       "    <tr>\n",
       "      <th>1</th>\n",
       "      <td>Bs.As. G.B.A. Zona Sur</td>\n",
       "      <td>La Plata</td>\n",
       "      <td>150000.00</td>\n",
       "      <td>nan</td>\n",
       "      <td>nan</td>\n",
       "      <td>nan</td>\n",
       "      <td>nuevo</td>\n",
       "    </tr>\n",
       "    <tr>\n",
       "      <th>2</th>\n",
       "      <td>Capital Federal</td>\n",
       "      <td>Mataderos</td>\n",
       "      <td>72000.00</td>\n",
       "      <td>55.00</td>\n",
       "      <td>1309.09</td>\n",
       "      <td>nan</td>\n",
       "      <td>usado</td>\n",
       "    </tr>\n",
       "    <tr>\n",
       "      <th>4</th>\n",
       "      <td>Buenos Aires Costa Atlántica</td>\n",
       "      <td>Centro</td>\n",
       "      <td>64000.00</td>\n",
       "      <td>35.00</td>\n",
       "      <td>1828.57</td>\n",
       "      <td>nan</td>\n",
       "      <td>usado</td>\n",
       "    </tr>\n",
       "  </tbody>\n",
       "</table>\n",
       "</div>"
      ],
      "text/plain": [
       "                     state_name place_name  price_aprox_usd  \\\n",
       "1        Bs.As. G.B.A. Zona Sur   La Plata        150000.00   \n",
       "2               Capital Federal  Mataderos         72000.00   \n",
       "4  Buenos Aires Costa Atlántica     Centro         64000.00   \n",
       "\n",
       "   surface_total_in_m2  price_usd_per_m2  rooms nuevo_usado  \n",
       "1                  nan               nan    nan       nuevo  \n",
       "2                55.00           1309.09    nan       usado  \n",
       "4                35.00           1828.57    nan       usado  "
      ]
     },
     "execution_count": 108,
     "metadata": {},
     "output_type": "execute_result"
    }
   ],
   "source": [
    "final_data = resultado_data[['state_name', 'place_name', 'price_aprox_usd', \\\n",
    "                             'surface_total_in_m2', 'price_usd_per_m2', 'rooms', 'nuevo_usado']]\n",
    "final_data.head(3)"
   ]
  },
  {
   "cell_type": "code",
   "execution_count": 109,
   "metadata": {},
   "outputs": [],
   "source": [
    "#final_data.to_csv('final_data.csv', index=False)"
   ]
  },
  {
   "cell_type": "code",
   "execution_count": 110,
   "metadata": {},
   "outputs": [
    {
     "data": {
      "text/html": [
       "<div>\n",
       "<style scoped>\n",
       "    .dataframe tbody tr th:only-of-type {\n",
       "        vertical-align: middle;\n",
       "    }\n",
       "\n",
       "    .dataframe tbody tr th {\n",
       "        vertical-align: top;\n",
       "    }\n",
       "\n",
       "    .dataframe thead th {\n",
       "        text-align: right;\n",
       "    }\n",
       "</style>\n",
       "<table border=\"1\" class=\"dataframe\">\n",
       "  <thead>\n",
       "    <tr style=\"text-align: right;\">\n",
       "      <th></th>\n",
       "      <th>Valores Únicos</th>\n",
       "      <th>Nulos</th>\n",
       "      <th>% Nulos</th>\n",
       "      <th>No Nulos</th>\n",
       "      <th>% No Nulos</th>\n",
       "      <th>Tipos</th>\n",
       "      <th>Tamaño (mb)</th>\n",
       "    </tr>\n",
       "  </thead>\n",
       "  <tbody>\n",
       "    <tr>\n",
       "      <th>state_name</th>\n",
       "      <td>28</td>\n",
       "      <td>0</td>\n",
       "      <td>0.00</td>\n",
       "      <td>71065</td>\n",
       "      <td>100.00</td>\n",
       "      <td>object</td>\n",
       "      <td>0.57</td>\n",
       "    </tr>\n",
       "    <tr>\n",
       "      <th>place_name</th>\n",
       "      <td>499</td>\n",
       "      <td>0</td>\n",
       "      <td>0.00</td>\n",
       "      <td>71065</td>\n",
       "      <td>100.00</td>\n",
       "      <td>object</td>\n",
       "      <td>0.57</td>\n",
       "    </tr>\n",
       "    <tr>\n",
       "      <th>price_aprox_usd</th>\n",
       "      <td>9856</td>\n",
       "      <td>11078</td>\n",
       "      <td>15.59</td>\n",
       "      <td>59987</td>\n",
       "      <td>84.41</td>\n",
       "      <td>float64</td>\n",
       "      <td>0.57</td>\n",
       "    </tr>\n",
       "    <tr>\n",
       "      <th>surface_total_in_m2</th>\n",
       "      <td>618</td>\n",
       "      <td>14778</td>\n",
       "      <td>20.80</td>\n",
       "      <td>56287</td>\n",
       "      <td>79.20</td>\n",
       "      <td>float64</td>\n",
       "      <td>0.57</td>\n",
       "    </tr>\n",
       "    <tr>\n",
       "      <th>price_usd_per_m2</th>\n",
       "      <td>19619</td>\n",
       "      <td>23276</td>\n",
       "      <td>32.75</td>\n",
       "      <td>47789</td>\n",
       "      <td>67.25</td>\n",
       "      <td>float64</td>\n",
       "      <td>0.57</td>\n",
       "    </tr>\n",
       "    <tr>\n",
       "      <th>rooms</th>\n",
       "      <td>22</td>\n",
       "      <td>35244</td>\n",
       "      <td>49.59</td>\n",
       "      <td>35821</td>\n",
       "      <td>50.41</td>\n",
       "      <td>float64</td>\n",
       "      <td>0.57</td>\n",
       "    </tr>\n",
       "    <tr>\n",
       "      <th>nuevo_usado</th>\n",
       "      <td>2</td>\n",
       "      <td>0</td>\n",
       "      <td>0.00</td>\n",
       "      <td>71065</td>\n",
       "      <td>100.00</td>\n",
       "      <td>object</td>\n",
       "      <td>0.57</td>\n",
       "    </tr>\n",
       "  </tbody>\n",
       "</table>\n",
       "</div>"
      ],
      "text/plain": [
       "                     Valores Únicos  Nulos  % Nulos  No Nulos  % No Nulos  \\\n",
       "state_name                       28      0     0.00     71065      100.00   \n",
       "place_name                      499      0     0.00     71065      100.00   \n",
       "price_aprox_usd                9856  11078    15.59     59987       84.41   \n",
       "surface_total_in_m2             618  14778    20.80     56287       79.20   \n",
       "price_usd_per_m2              19619  23276    32.75     47789       67.25   \n",
       "rooms                            22  35244    49.59     35821       50.41   \n",
       "nuevo_usado                       2      0     0.00     71065      100.00   \n",
       "\n",
       "                       Tipos  Tamaño (mb)  \n",
       "state_name            object         0.57  \n",
       "place_name            object         0.57  \n",
       "price_aprox_usd      float64         0.57  \n",
       "surface_total_in_m2  float64         0.57  \n",
       "price_usd_per_m2     float64         0.57  \n",
       "rooms                float64         0.57  \n",
       "nuevo_usado           object         0.57  "
      ]
     },
     "execution_count": 110,
     "metadata": {},
     "output_type": "execute_result"
    }
   ],
   "source": [
    "detalle_df_columns(final_data.columns, final_data)"
   ]
  },
  {
   "attachments": {
    "Linea_divisoria.png": {
     "image/png": "[encoded data removed]"
    }
   },
   "cell_type": "markdown",
   "metadata": {},
   "source": [
    "![Linea_divisoria.png](attachment:Linea_divisoria.png)"
   ]
  },
  {
   "cell_type": "markdown",
   "metadata": {},
   "source": [
    "# Análisis final"
   ]
  },
  {
   "cell_type": "markdown",
   "metadata": {},
   "source": [
    "Comparativa del conjutno de datos resutlado y el conjunto de datos final para ralizar el análisis"
   ]
  },
  {
   "cell_type": "code",
   "execution_count": 111,
   "metadata": {},
   "outputs": [
    {
     "data": {
      "text/html": [
       "<div>\n",
       "<style scoped>\n",
       "    .dataframe tbody tr th:only-of-type {\n",
       "        vertical-align: middle;\n",
       "    }\n",
       "\n",
       "    .dataframe tbody tr th {\n",
       "        vertical-align: top;\n",
       "    }\n",
       "\n",
       "    .dataframe thead th {\n",
       "        text-align: right;\n",
       "    }\n",
       "</style>\n",
       "<table border=\"1\" class=\"dataframe\">\n",
       "  <thead>\n",
       "    <tr style=\"text-align: right;\">\n",
       "      <th></th>\n",
       "      <th>Nulos_original</th>\n",
       "      <th>Nulos_final</th>\n",
       "    </tr>\n",
       "  </thead>\n",
       "  <tbody>\n",
       "    <tr>\n",
       "      <th>state_name</th>\n",
       "      <td>0</td>\n",
       "      <td>0</td>\n",
       "    </tr>\n",
       "    <tr>\n",
       "      <th>place_name</th>\n",
       "      <td>1</td>\n",
       "      <td>0</td>\n",
       "    </tr>\n",
       "    <tr>\n",
       "      <th>price_aprox_usd</th>\n",
       "      <td>11449</td>\n",
       "      <td>11078</td>\n",
       "    </tr>\n",
       "    <tr>\n",
       "      <th>surface_total_in_m2</th>\n",
       "      <td>19980</td>\n",
       "      <td>14778</td>\n",
       "    </tr>\n",
       "    <tr>\n",
       "      <th>price_usd_per_m2</th>\n",
       "      <td>28178</td>\n",
       "      <td>23276</td>\n",
       "    </tr>\n",
       "    <tr>\n",
       "      <th>rooms</th>\n",
       "      <td>39797</td>\n",
       "      <td>35244</td>\n",
       "    </tr>\n",
       "  </tbody>\n",
       "</table>\n",
       "</div>"
      ],
      "text/plain": [
       "                     Nulos_original  Nulos_final\n",
       "state_name                        0            0\n",
       "place_name                        1            0\n",
       "price_aprox_usd               11449        11078\n",
       "surface_total_in_m2           19980        14778\n",
       "price_usd_per_m2              28178        23276\n",
       "rooms                         39797        35244"
      ]
     },
     "execution_count": 111,
     "metadata": {},
     "output_type": "execute_result"
    }
   ],
   "source": [
    "original_data_columnas_tratadas = original_data[['state_name', 'place_name', 'price_aprox_usd', \\\n",
    "                             'surface_total_in_m2', 'price_usd_per_m2', 'rooms']]\n",
    "df_analisis_original = detalle_df_columns(original_data_columnas_tratadas.columns, original_data_columnas_tratadas)\n",
    "df_analisis_final = detalle_df_columns(final_data.columns, final_data)\n",
    "df_analisis_resultado = df_analisis_original.join(df_analisis_final, lsuffix='_original', rsuffix='_final')\n",
    "df_analisis_resultado[['Nulos_original', 'Nulos_final']]"
   ]
  },
  {
   "cell_type": "code",
   "execution_count": 112,
   "metadata": {},
   "outputs": [
    {
     "data": {
      "text/html": [
       "<div>\n",
       "<style scoped>\n",
       "    .dataframe tbody tr th:only-of-type {\n",
       "        vertical-align: middle;\n",
       "    }\n",
       "\n",
       "    .dataframe tbody tr th {\n",
       "        vertical-align: top;\n",
       "    }\n",
       "\n",
       "    .dataframe thead th {\n",
       "        text-align: right;\n",
       "    }\n",
       "</style>\n",
       "<table border=\"1\" class=\"dataframe\">\n",
       "  <thead>\n",
       "    <tr style=\"text-align: right;\">\n",
       "      <th></th>\n",
       "      <th>columnas</th>\n",
       "      <th>valores</th>\n",
       "    </tr>\n",
       "  </thead>\n",
       "  <tbody>\n",
       "    <tr>\n",
       "      <th>0</th>\n",
       "      <td>place_name</td>\n",
       "      <td>0</td>\n",
       "    </tr>\n",
       "    <tr>\n",
       "      <th>1</th>\n",
       "      <td>place_name</td>\n",
       "      <td>1</td>\n",
       "    </tr>\n",
       "    <tr>\n",
       "      <th>2</th>\n",
       "      <td>price_aprox_usd</td>\n",
       "      <td>11078</td>\n",
       "    </tr>\n",
       "    <tr>\n",
       "      <th>3</th>\n",
       "      <td>price_aprox_usd</td>\n",
       "      <td>11449</td>\n",
       "    </tr>\n",
       "    <tr>\n",
       "      <th>4</th>\n",
       "      <td>price_usd_per_m2</td>\n",
       "      <td>23276</td>\n",
       "    </tr>\n",
       "    <tr>\n",
       "      <th>5</th>\n",
       "      <td>price_usd_per_m2</td>\n",
       "      <td>28178</td>\n",
       "    </tr>\n",
       "    <tr>\n",
       "      <th>6</th>\n",
       "      <td>rooms</td>\n",
       "      <td>35244</td>\n",
       "    </tr>\n",
       "    <tr>\n",
       "      <th>7</th>\n",
       "      <td>rooms</td>\n",
       "      <td>39797</td>\n",
       "    </tr>\n",
       "    <tr>\n",
       "      <th>8</th>\n",
       "      <td>state_name</td>\n",
       "      <td>0</td>\n",
       "    </tr>\n",
       "    <tr>\n",
       "      <th>9</th>\n",
       "      <td>state_name</td>\n",
       "      <td>0</td>\n",
       "    </tr>\n",
       "    <tr>\n",
       "      <th>10</th>\n",
       "      <td>surface_total_in_m2</td>\n",
       "      <td>14778</td>\n",
       "    </tr>\n",
       "    <tr>\n",
       "      <th>11</th>\n",
       "      <td>surface_total_in_m2</td>\n",
       "      <td>19980</td>\n",
       "    </tr>\n",
       "  </tbody>\n",
       "</table>\n",
       "</div>"
      ],
      "text/plain": [
       "               columnas  valores\n",
       "0            place_name        0\n",
       "1            place_name        1\n",
       "2       price_aprox_usd    11078\n",
       "3       price_aprox_usd    11449\n",
       "4      price_usd_per_m2    23276\n",
       "5      price_usd_per_m2    28178\n",
       "6                 rooms    35244\n",
       "7                 rooms    39797\n",
       "8            state_name        0\n",
       "9            state_name        0\n",
       "10  surface_total_in_m2    14778\n",
       "11  surface_total_in_m2    19980"
      ]
     },
     "execution_count": 112,
     "metadata": {},
     "output_type": "execute_result"
    }
   ],
   "source": [
    "df_graf = df_analisis_resultado[['Nulos_original', 'Nulos_final']].reset_index()\n",
    "df_graf = df_graf.pivot_table(['Nulos_original', 'Nulos_final'], columns='index')\n",
    "df_graf = df_graf.melt(var_name='columnas', value_name='valores')\n",
    "df_graf"
   ]
  },
  {
   "cell_type": "code",
   "execution_count": 113,
   "metadata": {},
   "outputs": [
    {
     "data": {
      "image/png": "[encoded data removed]",
      "text/plain": [
       "<Figure size 784.125x360 with 1 Axes>"
      ]
     },
     "metadata": {},
     "output_type": "display_data"
    }
   ],
   "source": [
    "with sns.axes_style('white'):\n",
    "    g = sns.catplot(x='columnas', y='valores', hue='valores', data=df_graf, aspect=2, kind=\"bar\", color='steelblue')\n",
    "    g.set_ylabels('Cantidad de nulos')\n",
    "    "
   ]
  },
  {
   "cell_type": "markdown",
   "metadata": {},
   "source": [
    "Distribución de propiedades por provincias"
   ]
  },
  {
   "cell_type": "code",
   "execution_count": 114,
   "metadata": {},
   "outputs": [
    {
     "data": {
      "text/plain": [
       "Capital Federal                 27037\n",
       "Bs.As. G.B.A. Zona Norte        10622\n",
       "Santa Fe                         7969\n",
       "Córdoba                          6681\n",
       "Buenos Aires Costa Atlántica     6461\n",
       "Bs.As. G.B.A. Zona Sur           5507\n",
       "Bs.As. G.B.A. Zona Oeste         3618\n",
       "Buenos Aires Interior             845\n",
       "Tucumán                           425\n",
       "Neuquén                           394\n",
       "Name: state_name, dtype: int64"
      ]
     },
     "execution_count": 114,
     "metadata": {},
     "output_type": "execute_result"
    }
   ],
   "source": [
    "final_data['state_name'].value_counts().head(10)"
   ]
  },
  {
   "cell_type": "code",
   "execution_count": 115,
   "metadata": {},
   "outputs": [
    {
     "data": {
      "text/plain": [
       "array(['Bs.As. G.B.A. Zona Sur', 'Capital Federal',\n",
       "       'Buenos Aires Costa Atlántica', 'Bs.As. G.B.A. Zona Norte',\n",
       "       'Bs.As. G.B.A. Zona Oeste', 'Córdoba', 'Santa Fe', 'Salta',\n",
       "       'Neuquén', 'Río Negro', 'Buenos Aires Interior', 'Chubut',\n",
       "       'Entre Ríos', 'Misiones', 'Tucumán', 'La Pampa', 'Chaco',\n",
       "       'San Juan', 'Mendoza', 'Tierra Del Fuego', 'Catamarca',\n",
       "       'Corrientes', 'San Luis', 'Santa Cruz', 'Santiago Del Estero',\n",
       "       'Jujuy', 'La Rioja', 'Formosa'], dtype=object)"
      ]
     },
     "execution_count": 115,
     "metadata": {},
     "output_type": "execute_result"
    }
   ],
   "source": [
    "final_data['state_name'].unique()"
   ]
  },
  {
   "cell_type": "code",
   "execution_count": 116,
   "metadata": {},
   "outputs": [
    {
     "data": {
      "text/plain": [
       "(array([3.9005e+04, 2.0921e+04, 8.4920e+03, 1.1700e+03, 3.7000e+02,\n",
       "        4.9200e+02, 3.4300e+02, 1.6900e+02, 3.8000e+01, 6.5000e+01]),\n",
       " array([ 0. ,  2.7,  5.4,  8.1, 10.8, 13.5, 16.2, 18.9, 21.6, 24.3, 27. ]),\n",
       " <BarContainer object of 10 artists>)"
      ]
     },
     "execution_count": 116,
     "metadata": {},
     "output_type": "execute_result"
    },
    {
     "data": {
      "image/png": "[encoded data removed]",
      "text/plain": [
       "<Figure size 576x396 with 1 Axes>"
      ]
     },
     "metadata": {},
     "output_type": "display_data"
    }
   ],
   "source": [
    "data_gafico = final_data['state_name']\n",
    "fig = plt.figure()\n",
    "# creo los axes\n",
    "ax = plt.axes()\n",
    "plt.xticks(rotation=45)\n",
    "# dibujo en axes:\n",
    "ax.hist(data_gafico, label='Provincia', alpha = 0.4)"
   ]
  },
  {
   "cell_type": "code",
   "execution_count": 117,
   "metadata": {},
   "outputs": [
    {
     "data": {
      "image/png": "[encoded data removed]",
      "text/plain": [
       "<Figure size 525.375x360 with 4 Axes>"
      ]
     },
     "metadata": {},
     "output_type": "display_data"
    }
   ],
   "source": [
    "g = sns.PairGrid(final_data, vars=['price_usd_per_m2', 'rooms'],\n",
    "                 hue='state_name', palette='RdBu_r')\n",
    "g.map(plt.scatter, alpha=0.8)\n",
    "\n",
    "g.add_legend();"
   ]
  },
  {
   "cell_type": "code",
   "execution_count": 118,
   "metadata": {},
   "outputs": [
    {
     "name": "stdout",
     "output_type": "stream",
     "text": [
      "Media de precio en dólares 186818.68\n",
      "Media de precio en dólares por metro cuadrado 2691.01\n",
      "Media de precio en ambientes 2.32\n"
     ]
    }
   ],
   "source": [
    "\n",
    "print('Media de precio en dólares %s' % final_data['price_aprox_usd'].mean().round(2))\n",
    "print('Media de precio en dólares por metro cuadrado %s' % final_data['price_usd_per_m2'].mean().round(2))\n",
    "print('Media de precio en ambientes %s' % final_data['rooms'].mean().round(2))\n"
   ]
  },
  {
   "cell_type": "code",
   "execution_count": 119,
   "metadata": {},
   "outputs": [
    {
     "data": {
      "text/plain": [
       "1                            NaN\n",
       "2               (-0.001, 1647.5]\n",
       "4             (1647.5, 2142.857]\n",
       "7         (2783.582, 206333.333]\n",
       "8         (2783.582, 206333.333]\n",
       "                   ...          \n",
       "121211                       NaN\n",
       "121215    (2783.582, 206333.333]\n",
       "121217    (2783.582, 206333.333]\n",
       "121218        (1647.5, 2142.857]\n",
       "121219        (1647.5, 2142.857]\n",
       "Name: price_usd_per_m2, Length: 71065, dtype: category\n",
       "Categories (4, interval[float64]): [(-0.001, 1647.5] < (1647.5, 2142.857] < (2142.857, 2783.582] < (2783.582, 206333.333]]"
      ]
     },
     "execution_count": 119,
     "metadata": {},
     "output_type": "execute_result"
    }
   ],
   "source": [
    "precio_m2_cuartiles = pd.qcut(final_data['price_usd_per_m2'], 4)\n",
    "precio_m2_cuartiles"
   ]
  },
  {
   "cell_type": "code",
   "execution_count": 120,
   "metadata": {},
   "outputs": [
    {
     "data": {
      "text/html": [
       "<div>\n",
       "<style scoped>\n",
       "    .dataframe tbody tr th:only-of-type {\n",
       "        vertical-align: middle;\n",
       "    }\n",
       "\n",
       "    .dataframe tbody tr th {\n",
       "        vertical-align: top;\n",
       "    }\n",
       "\n",
       "    .dataframe thead th {\n",
       "        text-align: right;\n",
       "    }\n",
       "</style>\n",
       "<table border=\"1\" class=\"dataframe\">\n",
       "  <thead>\n",
       "    <tr style=\"text-align: right;\">\n",
       "      <th>nuevo_usado</th>\n",
       "      <th>nuevo</th>\n",
       "      <th>usado</th>\n",
       "    </tr>\n",
       "    <tr>\n",
       "      <th>price_usd_per_m2</th>\n",
       "      <th></th>\n",
       "      <th></th>\n",
       "    </tr>\n",
       "  </thead>\n",
       "  <tbody>\n",
       "    <tr>\n",
       "      <th>(-0.001, 1647.5]</th>\n",
       "      <td>1174.85</td>\n",
       "      <td>1200.02</td>\n",
       "    </tr>\n",
       "    <tr>\n",
       "      <th>(1647.5, 2142.857]</th>\n",
       "      <td>1909.31</td>\n",
       "      <td>1894.58</td>\n",
       "    </tr>\n",
       "    <tr>\n",
       "      <th>(2142.857, 2783.582]</th>\n",
       "      <td>2425.35</td>\n",
       "      <td>2441.58</td>\n",
       "    </tr>\n",
       "    <tr>\n",
       "      <th>(2783.582, 206333.333]</th>\n",
       "      <td>4479.47</td>\n",
       "      <td>5367.66</td>\n",
       "    </tr>\n",
       "  </tbody>\n",
       "</table>\n",
       "</div>"
      ],
      "text/plain": [
       "nuevo_usado              nuevo   usado\n",
       "price_usd_per_m2                      \n",
       "(-0.001, 1647.5]       1174.85 1200.02\n",
       "(1647.5, 2142.857]     1909.31 1894.58\n",
       "(2142.857, 2783.582]   2425.35 2441.58\n",
       "(2783.582, 206333.333] 4479.47 5367.66"
      ]
     },
     "execution_count": 120,
     "metadata": {},
     "output_type": "execute_result"
    }
   ],
   "source": [
    "final_data.pivot_table('price_usd_per_m2', [precio_m2_cuartiles], 'nuevo_usado')"
   ]
  },
  {
   "cell_type": "code",
   "execution_count": 121,
   "metadata": {},
   "outputs": [
    {
     "data": {
      "text/html": [
       "<div>\n",
       "<style scoped>\n",
       "    .dataframe tbody tr th:only-of-type {\n",
       "        vertical-align: middle;\n",
       "    }\n",
       "\n",
       "    .dataframe tbody tr th {\n",
       "        vertical-align: top;\n",
       "    }\n",
       "\n",
       "    .dataframe thead th {\n",
       "        text-align: right;\n",
       "    }\n",
       "</style>\n",
       "<table border=\"1\" class=\"dataframe\">\n",
       "  <thead>\n",
       "    <tr style=\"text-align: right;\">\n",
       "      <th>nuevo_usado</th>\n",
       "      <th>nuevo</th>\n",
       "      <th>usado</th>\n",
       "    </tr>\n",
       "    <tr>\n",
       "      <th>price_usd_per_m2</th>\n",
       "      <th></th>\n",
       "      <th></th>\n",
       "    </tr>\n",
       "  </thead>\n",
       "  <tbody>\n",
       "    <tr>\n",
       "      <th>(-0.001, 1647.5]</th>\n",
       "      <td>438.31</td>\n",
       "      <td>418.26</td>\n",
       "    </tr>\n",
       "    <tr>\n",
       "      <th>(1647.5, 2142.857]</th>\n",
       "      <td>144.38</td>\n",
       "      <td>142.90</td>\n",
       "    </tr>\n",
       "    <tr>\n",
       "      <th>(2142.857, 2783.582]</th>\n",
       "      <td>178.51</td>\n",
       "      <td>180.76</td>\n",
       "    </tr>\n",
       "    <tr>\n",
       "      <th>(2783.582, 206333.333]</th>\n",
       "      <td>4484.82</td>\n",
       "      <td>6518.00</td>\n",
       "    </tr>\n",
       "  </tbody>\n",
       "</table>\n",
       "</div>"
      ],
      "text/plain": [
       "nuevo_usado              nuevo   usado\n",
       "price_usd_per_m2                      \n",
       "(-0.001, 1647.5]        438.31  418.26\n",
       "(1647.5, 2142.857]      144.38  142.90\n",
       "(2142.857, 2783.582]    178.51  180.76\n",
       "(2783.582, 206333.333] 4484.82 6518.00"
      ]
     },
     "execution_count": 121,
     "metadata": {},
     "output_type": "execute_result"
    }
   ],
   "source": [
    "final_data.pivot_table('price_usd_per_m2', [precio_m2_cuartiles], 'nuevo_usado', aggfunc='std')"
   ]
  },
  {
   "cell_type": "code",
   "execution_count": 122,
   "metadata": {},
   "outputs": [
    {
     "data": {
      "text/plain": [
       "26637   206333.33\n",
       "26037   173826.07\n",
       "15074   150000.00\n",
       "93661   112500.00\n",
       "26193   104486.11\n",
       "5285    100000.00\n",
       "76235    81333.33\n",
       "25853    78533.33\n",
       "27231    65050.00\n",
       "63150    64666.67\n",
       "Name: price_usd_per_m2, dtype: float64"
      ]
     },
     "execution_count": 122,
     "metadata": {},
     "output_type": "execute_result"
    }
   ],
   "source": [
    "final_data['price_usd_per_m2'].sort_values(ascending=False).head(10)"
   ]
  },
  {
   "cell_type": "code",
   "execution_count": 123,
   "metadata": {},
   "outputs": [
    {
     "name": "stdout",
     "output_type": "stream",
     "text": [
      "El 2.52 porciento de valores que están por debajo de 200 y por encinma de 8000 USD el metro cuadrado\n"
     ]
    }
   ],
   "source": [
    "mask_valores_altos = final_data['price_usd_per_m2'] > 8000\n",
    "mask_valores_bajos = final_data['price_usd_per_m2'] < 200\n",
    "\n",
    "porcentaje_valores_altos = final_data['price_usd_per_m2'][mask_valores_altos | mask_valores_bajos].shape[0] / final_data['price_usd_per_m2'].shape[0] * 100\n",
    "\n",
    "print('El %s porciento de valores que están por debajo de 200 y por encinma de 8000 USD el metro cuadrado' % round(porcentaje_valores_altos, 2))"
   ]
  },
  {
   "cell_type": "code",
   "execution_count": 124,
   "metadata": {},
   "outputs": [
    {
     "data": {
      "text/html": [
       "<div>\n",
       "<style scoped>\n",
       "    .dataframe tbody tr th:only-of-type {\n",
       "        vertical-align: middle;\n",
       "    }\n",
       "\n",
       "    .dataframe tbody tr th {\n",
       "        vertical-align: top;\n",
       "    }\n",
       "\n",
       "    .dataframe thead tr th {\n",
       "        text-align: left;\n",
       "    }\n",
       "\n",
       "    .dataframe thead tr:last-of-type th {\n",
       "        text-align: right;\n",
       "    }\n",
       "</style>\n",
       "<table border=\"1\" class=\"dataframe\">\n",
       "  <thead>\n",
       "    <tr>\n",
       "      <th></th>\n",
       "      <th colspan=\"2\" halign=\"left\">price_usd_per_m2</th>\n",
       "    </tr>\n",
       "    <tr>\n",
       "      <th>nuevo_usado</th>\n",
       "      <th>nuevo</th>\n",
       "      <th>usado</th>\n",
       "    </tr>\n",
       "    <tr>\n",
       "      <th>price_usd_per_m2</th>\n",
       "      <th></th>\n",
       "      <th></th>\n",
       "    </tr>\n",
       "  </thead>\n",
       "  <tbody>\n",
       "    <tr>\n",
       "      <th>(-0.001, 1647.5]</th>\n",
       "      <td>1174.85</td>\n",
       "      <td>1200.02</td>\n",
       "    </tr>\n",
       "    <tr>\n",
       "      <th>(1647.5, 2142.857]</th>\n",
       "      <td>1909.31</td>\n",
       "      <td>1894.58</td>\n",
       "    </tr>\n",
       "    <tr>\n",
       "      <th>(2142.857, 2783.582]</th>\n",
       "      <td>2425.35</td>\n",
       "      <td>2441.58</td>\n",
       "    </tr>\n",
       "    <tr>\n",
       "      <th>(2783.582, 206333.333]</th>\n",
       "      <td>4479.47</td>\n",
       "      <td>5367.66</td>\n",
       "    </tr>\n",
       "  </tbody>\n",
       "</table>\n",
       "</div>"
      ],
      "text/plain": [
       "                       price_usd_per_m2        \n",
       "nuevo_usado                       nuevo   usado\n",
       "price_usd_per_m2                               \n",
       "(-0.001, 1647.5]                1174.85 1200.02\n",
       "(1647.5, 2142.857]              1909.31 1894.58\n",
       "(2142.857, 2783.582]            2425.35 2441.58\n",
       "(2783.582, 206333.333]          4479.47 5367.66"
      ]
     },
     "execution_count": 124,
     "metadata": {},
     "output_type": "execute_result"
    }
   ],
   "source": [
    "precio_m2_cuartiles_sin_valores_altos = pd.qcut(final_data['price_usd_per_m2'][~mask_valores_altos | ~mask_valores_bajos], 4)\n",
    "final_data[~mask_valores_altos | ~mask_valores_bajos].pivot_table(['price_usd_per_m2', 'place_name'], \\\n",
    "                                                                  [precio_m2_cuartiles_sin_valores_altos], 'nuevo_usado')"
   ]
  },
  {
   "cell_type": "code",
   "execution_count": null,
   "metadata": {},
   "outputs": [],
   "source": []
  },
  {
   "cell_type": "code",
   "execution_count": 125,
   "metadata": {},
   "outputs": [],
   "source": [
    "lista_provincias_representativas = ['Capital Federal', 'Bs.As. G.B.A. Zona Norte', 'Santa Fe', 'Córdoba', \\\n",
    "                                        'Buenos Aires Costa Atlántica', 'Bs.As. G.B.A. Zona Sur', 'Bs.As. G.B.A. Zona Oeste']\n",
    "\n",
    "data_state_name_mask = final_data.state_name.apply(lambda x: x in lista_provincias_representativas)\n",
    "data_state_name = final_data.loc[data_state_name_mask, :]\n",
    "\n",
    "palette_state_name = [\"lightblue\", \"pink\", \"yellow\", \"green\", \"orange\", \"red\", \"blue\"]"
   ]
  },
  {
   "cell_type": "code",
   "execution_count": 126,
   "metadata": {},
   "outputs": [
    {
     "data": {
      "text/plain": [
       "<AxesSubplot:xlabel='state_name', ylabel='price_usd_per_m2'>"
      ]
     },
     "execution_count": 126,
     "metadata": {},
     "output_type": "execute_result"
    },
    {
     "data": {
      "image/png": "[encoded data removed]",
      "text/plain": [
       "<Figure size 576x396 with 1 Axes>"
      ]
     },
     "metadata": {},
     "output_type": "display_data"
    }
   ],
   "source": [
    "plt.xticks(rotation=45)\n",
    "sns.boxplot(\"state_name\", \"price_usd_per_m2\", data=data_state_name, palette = palette_state_name)"
   ]
  },
  {
   "cell_type": "code",
   "execution_count": 127,
   "metadata": {},
   "outputs": [],
   "source": [
    "data_state_name_sin_outliers = final_data.loc[~mask_valores_altos,:]\n",
    "data_state_name_sin_outliers = data_state_name_sin_outliers.loc[~mask_valores_bajos,:]\n",
    "\n",
    "mask_state_name_sin_outliers = data_state_name_sin_outliers.state_name.apply(lambda x: x in lista_provincias_representativas)\n",
    "\n",
    "data_state_names_sin_outliers_filtrados = data_state_name_sin_outliers.loc[mask_state_name_sin_outliers, :]"
   ]
  },
  {
   "cell_type": "code",
   "execution_count": 128,
   "metadata": {},
   "outputs": [
    {
     "name": "stdout",
     "output_type": "stream",
     "text": [
      "Precio máximo tenido en cuenta para el análisis 8000.0 USD\n",
      "Precio mpínimo tenido en cuenta para el análisis 200.0 USD\n"
     ]
    }
   ],
   "source": [
    "print('Precio máximo tenido en cuenta para el análisis %s USD' % data_state_name_sin_outliers['price_usd_per_m2'].max())\n",
    "print('Precio mpínimo tenido en cuenta para el análisis %s USD' % data_state_name_sin_outliers['price_usd_per_m2'].min())"
   ]
  },
  {
   "cell_type": "code",
   "execution_count": 129,
   "metadata": {},
   "outputs": [
    {
     "data": {
      "text/plain": [
       "<AxesSubplot:xlabel='state_name', ylabel='price_usd_per_m2'>"
      ]
     },
     "execution_count": 129,
     "metadata": {},
     "output_type": "execute_result"
    },
    {
     "data": {
      "image/png": "[encoded data removed]",
      "text/plain": [
       "<Figure size 576x396 with 1 Axes>"
      ]
     },
     "metadata": {},
     "output_type": "display_data"
    }
   ],
   "source": [
    "plt.xticks(rotation=45)\n",
    "sns.boxplot(\"state_name\", \"price_usd_per_m2\", data=data_state_names_sin_outliers_filtrados, palette = palette_state_name)"
   ]
  },
  {
   "cell_type": "code",
   "execution_count": 130,
   "metadata": {},
   "outputs": [
    {
     "data": {
      "text/plain": [
       "<AxesSubplot:xlabel='state_name', ylabel='price_usd_per_m2'>"
      ]
     },
     "execution_count": 130,
     "metadata": {},
     "output_type": "execute_result"
    },
    {
     "data": {
      "image/png": "[encoded data removed]",
      "text/plain": [
       "<Figure size 576x396 with 1 Axes>"
      ]
     },
     "metadata": {},
     "output_type": "display_data"
    }
   ],
   "source": [
    "plt.xticks(rotation=45)\n",
    "sns.violinplot(\"state_name\", \"price_usd_per_m2\", data=data_state_names_sin_outliers_filtrados, palette = palette_state_name)"
   ]
  },
  {
   "cell_type": "code",
   "execution_count": 131,
   "metadata": {},
   "outputs": [
    {
     "data": {
      "image/png": "[encoded data removed]",
      "text/plain": [
       "<Figure size 525.375x360 with 4 Axes>"
      ]
     },
     "metadata": {},
     "output_type": "display_data"
    }
   ],
   "source": [
    "g = sns.PairGrid(data_state_names_sin_outliers_filtrados, vars=['price_usd_per_m2', 'rooms'],\n",
    "                 hue='state_name', palette='RdBu_r')\n",
    "g.map(plt.scatter, alpha=0.8)\n",
    "\n",
    "g.add_legend();"
   ]
  },
  {
   "cell_type": "code",
   "execution_count": 132,
   "metadata": {},
   "outputs": [
    {
     "data": {
      "text/plain": [
       "(45383, 7)"
      ]
     },
     "execution_count": 132,
     "metadata": {},
     "output_type": "execute_result"
    }
   ],
   "source": [
    "lista_solo_caba_gba = ['Capital Federal', 'Bs.As. G.B.A. Zona Norte', 'Bs.As. G.B.A. Zona Sur', 'Bs.As. G.B.A. Zona Oeste']\n",
    "lista_solo_caba_gba_mask = data_state_names_sin_outliers_filtrados.state_name.apply(lambda x: x in lista_solo_caba_gba)\n",
    "data_solo_caba_gba = data_state_names_sin_outliers_filtrados.loc[lista_solo_caba_gba_mask, :]\n",
    "data_solo_caba_gba.shape"
   ]
  },
  {
   "cell_type": "code",
   "execution_count": 133,
   "metadata": {},
   "outputs": [
    {
     "data": {
      "text/html": [
       "<div>\n",
       "<style scoped>\n",
       "    .dataframe tbody tr th:only-of-type {\n",
       "        vertical-align: middle;\n",
       "    }\n",
       "\n",
       "    .dataframe tbody tr th {\n",
       "        vertical-align: top;\n",
       "    }\n",
       "\n",
       "    .dataframe thead tr th {\n",
       "        text-align: left;\n",
       "    }\n",
       "\n",
       "    .dataframe thead tr:last-of-type th {\n",
       "        text-align: right;\n",
       "    }\n",
       "</style>\n",
       "<table border=\"1\" class=\"dataframe\">\n",
       "  <thead>\n",
       "    <tr>\n",
       "      <th></th>\n",
       "      <th colspan=\"2\" halign=\"left\">price_usd_per_m2</th>\n",
       "    </tr>\n",
       "    <tr>\n",
       "      <th>nuevo_usado</th>\n",
       "      <th>nuevo</th>\n",
       "      <th>usado</th>\n",
       "    </tr>\n",
       "    <tr>\n",
       "      <th>price_usd_per_m2</th>\n",
       "      <th></th>\n",
       "      <th></th>\n",
       "    </tr>\n",
       "  </thead>\n",
       "  <tbody>\n",
       "    <tr>\n",
       "      <th>(199.999, 1852.941]</th>\n",
       "      <td>1409.76</td>\n",
       "      <td>1439.19</td>\n",
       "    </tr>\n",
       "    <tr>\n",
       "      <th>(1852.941, 2334.202]</th>\n",
       "      <td>2105.38</td>\n",
       "      <td>2097.86</td>\n",
       "    </tr>\n",
       "    <tr>\n",
       "      <th>(2334.202, 2913.043]</th>\n",
       "      <td>2594.52</td>\n",
       "      <td>2608.14</td>\n",
       "    </tr>\n",
       "    <tr>\n",
       "      <th>(2913.043, 8000.0]</th>\n",
       "      <td>3824.00</td>\n",
       "      <td>3861.35</td>\n",
       "    </tr>\n",
       "  </tbody>\n",
       "</table>\n",
       "</div>"
      ],
      "text/plain": [
       "                     price_usd_per_m2        \n",
       "nuevo_usado                     nuevo   usado\n",
       "price_usd_per_m2                             \n",
       "(199.999, 1852.941]           1409.76 1439.19\n",
       "(1852.941, 2334.202]          2105.38 2097.86\n",
       "(2334.202, 2913.043]          2594.52 2608.14\n",
       "(2913.043, 8000.0]            3824.00 3861.35"
      ]
     },
     "execution_count": 133,
     "metadata": {},
     "output_type": "execute_result"
    }
   ],
   "source": [
    "precio_m2_cuartiles_solo_caba_gba = pd.qcut(data_solo_caba_gba['price_usd_per_m2'], 4)\n",
    "data_solo_caba_gba.pivot_table(['price_usd_per_m2', 'state_name'], \\\n",
    "                              [precio_m2_cuartiles_solo_caba_gba], 'nuevo_usado')"
   ]
  },
  {
   "cell_type": "code",
   "execution_count": 134,
   "metadata": {},
   "outputs": [
    {
     "data": {
      "text/plain": [
       "state_name                place_name                nuevo_usado\n",
       "Bs.As. G.B.A. Zona Norte   los alamos               usado         1600.00\n",
       "                          Acassuso                  nuevo         5511.11\n",
       "                                                    usado         2849.20\n",
       "                          Albanueva Barrio Cerrado  nuevo         3161.57\n",
       "                                                    usado         2530.16\n",
       "                                                                    ...  \n",
       "Capital Federal           Villa Soldati             usado         1096.06\n",
       "                          Villa Urquiza             nuevo         2640.66\n",
       "                                                    usado         2525.30\n",
       "                          Villa del Parque          nuevo         2110.86\n",
       "                                                    usado         2426.60\n",
       "Name: price_usd_per_m2, Length: 454, dtype: float64"
      ]
     },
     "execution_count": 134,
     "metadata": {},
     "output_type": "execute_result"
    }
   ],
   "source": [
    "df = data_solo_caba_gba.groupby(['state_name', 'place_name', 'nuevo_usado'], axis=0)\n",
    "df['price_usd_per_m2'].mean()"
   ]
  },
  {
   "cell_type": "code",
   "execution_count": 137,
   "metadata": {},
   "outputs": [
    {
     "name": "stdout",
     "output_type": "stream",
     "text": [
      "Nuevo 2729.97429964493\n",
      "Usado 2707.893141731962\n"
     ]
    }
   ],
   "source": [
    "mask_1 = data_solo_caba_gba['state_name'] == 'Capital Federal'\n",
    "mask_2 = data_solo_caba_gba['nuevo_usado'] == 'nuevo'\n",
    "nuevo =  data_solo_caba_gba['price_usd_per_m2'][mask_1 & mask_2]\n",
    "usado =  data_solo_caba_gba['price_usd_per_m2'][mask_1 & ~mask_2]\n",
    "print('Nuevo %s' % nuevo.mean())\n",
    "print('Usado %s' % usado.mean())"
   ]
  },
  {
   "cell_type": "code",
   "execution_count": 138,
   "metadata": {},
   "outputs": [
    {
     "data": {
      "text/plain": [
       "61813    7978.72\n",
       "30044    7933.33\n",
       "58767    7826.09\n",
       "61613    7650.00\n",
       "35051    7580.00\n",
       "           ...  \n",
       "120874       nan\n",
       "120885       nan\n",
       "120923       nan\n",
       "120924       nan\n",
       "120925       nan\n",
       "Name: price_usd_per_m2, Length: 3744, dtype: float64"
      ]
     },
     "execution_count": 138,
     "metadata": {},
     "output_type": "execute_result"
    }
   ],
   "source": [
    "nuevo.sort_values(ascending=False)"
   ]
  },
  {
   "cell_type": "code",
   "execution_count": 139,
   "metadata": {},
   "outputs": [
    {
     "data": {
      "text/plain": [
       "85648    8000.00\n",
       "58143    8000.00\n",
       "24953    8000.00\n",
       "5880     8000.00\n",
       "61810    7978.72\n",
       "           ...  \n",
       "121107       nan\n",
       "121128       nan\n",
       "121150       nan\n",
       "121151       nan\n",
       "121152       nan\n",
       "Name: price_usd_per_m2, Length: 22315, dtype: float64"
      ]
     },
     "execution_count": 139,
     "metadata": {},
     "output_type": "execute_result"
    }
   ],
   "source": [
    "usado.sort_values(ascending=False)"
   ]
  },
  {
   "cell_type": "code",
   "execution_count": 140,
   "metadata": {},
   "outputs": [
    {
     "name": "stdout",
     "output_type": "stream",
     "text": [
      "Nuevo 2360.9611512181787\n",
      "Usado 2434.387649494951\n"
     ]
    }
   ],
   "source": [
    "mask_1 = data_solo_caba_gba['state_name'] == 'Bs.As. G.B.A. Zona Norte'\n",
    "\n",
    "nuevo =  data_solo_caba_gba['price_usd_per_m2'][mask_1 & mask_2]\n",
    "usado =  data_solo_caba_gba['price_usd_per_m2'][mask_1 & ~mask_2]\n",
    "print('Nuevo %s' % nuevo.mean())\n",
    "print('Usado %s' % usado.mean())\n"
   ]
  },
  {
   "cell_type": "code",
   "execution_count": 141,
   "metadata": {},
   "outputs": [
    {
     "name": "stdout",
     "output_type": "stream",
     "text": [
      "Nuevo 1835.2145573483472\n",
      "Usado 1855.9821732579248\n"
     ]
    }
   ],
   "source": [
    "mask_1 = data_solo_caba_gba['state_name'] == 'Bs.As. G.B.A. Zona Sur'\n",
    "nuevo =  data_solo_caba_gba['price_usd_per_m2'][mask_1 & mask_2]\n",
    "usado =  data_solo_caba_gba['price_usd_per_m2'][mask_1 & ~mask_2]\n",
    "print('Nuevo %s' % nuevo.mean())\n",
    "print('Usado %s' % usado.mean())"
   ]
  },
  {
   "cell_type": "code",
   "execution_count": 142,
   "metadata": {},
   "outputs": [
    {
     "name": "stdout",
     "output_type": "stream",
     "text": [
      "Nuevo 1811.094686365639\n",
      "Usado 1699.9503287145894\n"
     ]
    }
   ],
   "source": [
    "mask_1 = data_solo_caba_gba['state_name'] == 'Bs.As. G.B.A. Zona Oeste'\n",
    "nuevo =  data_solo_caba_gba['price_usd_per_m2'][mask_1 & mask_2]\n",
    "usado =  data_solo_caba_gba['price_usd_per_m2'][mask_1 & ~mask_2]\n",
    "print('Nuevo %s' % nuevo.mean())\n",
    "print('Usado %s' % usado.mean())"
   ]
  },
  {
   "cell_type": "code",
   "execution_count": 143,
   "metadata": {},
   "outputs": [],
   "source": [
    "#data_solo_caba_gba.to_csv('solo_caba_gba_data.csv', index=False)"
   ]
  },
  {
   "cell_type": "code",
   "execution_count": 144,
   "metadata": {},
   "outputs": [
    {
     "data": {
      "text/plain": [
       "<AxesSubplot:xlabel='state_name', ylabel='price_usd_per_m2'>"
      ]
     },
     "execution_count": 144,
     "metadata": {},
     "output_type": "execute_result"
    },
    {
     "data": {
      "image/png": "[encoded data removed]",
      "text/plain": [
       "<Figure size 576x396 with 1 Axes>"
      ]
     },
     "metadata": {},
     "output_type": "display_data"
    }
   ],
   "source": [
    "plt.xticks(rotation=45)\n",
    "sns.boxplot(\"state_name\", \"price_usd_per_m2\", data=data_solo_caba_gba, palette = palette_state_name)"
   ]
  },
  {
   "cell_type": "code",
   "execution_count": 145,
   "metadata": {},
   "outputs": [
    {
     "data": {
      "text/plain": [
       "<AxesSubplot:xlabel='state_name', ylabel='price_usd_per_m2'>"
      ]
     },
     "execution_count": 145,
     "metadata": {},
     "output_type": "execute_result"
    },
    {
     "data": {
      "image/png": "[encoded data removed]",
      "text/plain": [
       "<Figure size 576x396 with 1 Axes>"
      ]
     },
     "metadata": {},
     "output_type": "display_data"
    }
   ],
   "source": [
    "plt.xticks(rotation=45)\n",
    "sns.violinplot(\"state_name\", \"price_usd_per_m2\", data=data_solo_caba_gba, palette = palette_state_name)"
   ]
  },
  {
   "cell_type": "code",
   "execution_count": 148,
   "metadata": {},
   "outputs": [
    {
     "data": {
      "text/plain": [
       "state_name\n",
       "Bs.As. G.B.A. Zona Norte       200.00\n",
       "Bs.As. G.B.A. Zona Oeste       200.00\n",
       "Bs.As. G.B.A. Zona Sur         206.90\n",
       "Buenos Aires Costa Atlántica   200.00\n",
       "Capital Federal                200.00\n",
       "Córdoba                        213.65\n",
       "Santa Fe                       213.12\n",
       "Name: price_usd_per_m2, dtype: float64"
      ]
     },
     "execution_count": 148,
     "metadata": {},
     "output_type": "execute_result"
    }
   ],
   "source": [
    "df_minimos = data_state_names_sin_outliers_filtrados.groupby(['state_name'], axis=0)\n",
    "df_minimos['price_usd_per_m2'].min()"
   ]
  },
  {
   "cell_type": "code",
   "execution_count": 191,
   "metadata": {},
   "outputs": [],
   "source": [
    "mask_state_1 = data_state_names_sin_outliers_filtrados['state_name'] == 'Capital Federal'\n",
    "mask_state_2 = data_state_names_sin_outliers_filtrados['state_name'] == 'Bs.As. G.B.A. Zona Norte'\n",
    "mask_state_3 = data_state_names_sin_outliers_filtrados['state_name'] == 'Santa Fe'\n",
    "mask_state_4 = data_state_names_sin_outliers_filtrados['state_name'] == 'Córdoba'\n",
    "mask_state_5 = data_state_names_sin_outliers_filtrados['state_name'] == 'Buenos Aires Costa Atlántica'\n",
    "mask_state_6 = data_state_names_sin_outliers_filtrados['state_name'] == 'Bs.As. G.B.A. Zona Sur'\n",
    "mask_state_7 = data_state_names_sin_outliers_filtrados['state_name'] == 'Bs.As. G.B.A. Zona Oeste'\n",
    "    \n",
    "mask_index_state_1 = data_state_names_sin_outliers_filtrados[['state_name', 'place_name', 'price_usd_per_m2']] \\\n",
    "[mask_state_1].sort_values(by='price_usd_per_m2').head(10).index\n",
    "mask_index_state_2 = data_state_names_sin_outliers_filtrados[['state_name', 'place_name', 'price_usd_per_m2']] \\\n",
    "[mask_state_2].sort_values(by='price_usd_per_m2').head(10).index\n",
    "mask_index_state_3 = data_state_names_sin_outliers_filtrados[['state_name', 'place_name', 'price_usd_per_m2']] \\\n",
    "[mask_state_3].sort_values(by='price_usd_per_m2').head(10).index\n",
    "mask_index_state_4 = data_state_names_sin_outliers_filtrados[['state_name', 'place_name', 'price_usd_per_m2']] \\\n",
    "[mask_state_4].sort_values(by='price_usd_per_m2').head(10).index\n",
    "mask_index_state_5 = data_state_names_sin_outliers_filtrados[['state_name', 'place_name', 'price_usd_per_m2']] \\\n",
    "[mask_state_5].sort_values(by='price_usd_per_m2').head(10).index\n",
    "mask_index_state_6 = data_state_names_sin_outliers_filtrados[['state_name', 'place_name', 'price_usd_per_m2']] \\\n",
    "[mask_state_6].sort_values(by='price_usd_per_m2').head(10).index\n",
    "mask_index_state_7 = data_state_names_sin_outliers_filtrados[['state_name', 'place_name', 'price_usd_per_m2']] \\\n",
    "[mask_state_7].sort_values(by='price_usd_per_m2').head(10).index"
   ]
  },
  {
   "cell_type": "code",
   "execution_count": 199,
   "metadata": {},
   "outputs": [
    {
     "data": {
      "text/html": [
       "<div>\n",
       "<style scoped>\n",
       "    .dataframe tbody tr th:only-of-type {\n",
       "        vertical-align: middle;\n",
       "    }\n",
       "\n",
       "    .dataframe tbody tr th {\n",
       "        vertical-align: top;\n",
       "    }\n",
       "\n",
       "    .dataframe thead th {\n",
       "        text-align: right;\n",
       "    }\n",
       "</style>\n",
       "<table border=\"1\" class=\"dataframe\">\n",
       "  <thead>\n",
       "    <tr style=\"text-align: right;\">\n",
       "      <th></th>\n",
       "      <th>state_name</th>\n",
       "      <th>place_name</th>\n",
       "      <th>price_usd_per_m2</th>\n",
       "    </tr>\n",
       "  </thead>\n",
       "  <tbody>\n",
       "    <tr>\n",
       "      <th>65489</th>\n",
       "      <td>Bs.As. G.B.A. Zona Norte</td>\n",
       "      <td>Olivos</td>\n",
       "      <td>200.00</td>\n",
       "    </tr>\n",
       "    <tr>\n",
       "      <th>48722</th>\n",
       "      <td>Bs.As. G.B.A. Zona Oeste</td>\n",
       "      <td>Ciudadela</td>\n",
       "      <td>200.00</td>\n",
       "    </tr>\n",
       "    <tr>\n",
       "      <th>59223</th>\n",
       "      <td>Buenos Aires Costa Atlántica</td>\n",
       "      <td>Miramar</td>\n",
       "      <td>200.00</td>\n",
       "    </tr>\n",
       "    <tr>\n",
       "      <th>87149</th>\n",
       "      <td>Bs.As. G.B.A. Zona Norte</td>\n",
       "      <td>San Isidro</td>\n",
       "      <td>200.00</td>\n",
       "    </tr>\n",
       "    <tr>\n",
       "      <th>113300</th>\n",
       "      <td>Capital Federal</td>\n",
       "      <td>Floresta</td>\n",
       "      <td>200.00</td>\n",
       "    </tr>\n",
       "    <tr>\n",
       "      <th>...</th>\n",
       "      <td>...</td>\n",
       "      <td>...</td>\n",
       "      <td>...</td>\n",
       "    </tr>\n",
       "    <tr>\n",
       "      <th>6070</th>\n",
       "      <td>Bs.As. G.B.A. Zona Oeste</td>\n",
       "      <td>Morón</td>\n",
       "      <td>285.00</td>\n",
       "    </tr>\n",
       "    <tr>\n",
       "      <th>105640</th>\n",
       "      <td>Bs.As. G.B.A. Zona Sur</td>\n",
       "      <td>Don Orione</td>\n",
       "      <td>299.63</td>\n",
       "    </tr>\n",
       "    <tr>\n",
       "      <th>23820</th>\n",
       "      <td>Bs.As. G.B.A. Zona Oeste</td>\n",
       "      <td>San Justo</td>\n",
       "      <td>312.50</td>\n",
       "    </tr>\n",
       "    <tr>\n",
       "      <th>61699</th>\n",
       "      <td>Bs.As. G.B.A. Zona Sur</td>\n",
       "      <td>La Plata</td>\n",
       "      <td>317.46</td>\n",
       "    </tr>\n",
       "    <tr>\n",
       "      <th>61697</th>\n",
       "      <td>Bs.As. G.B.A. Zona Sur</td>\n",
       "      <td>La Plata</td>\n",
       "      <td>317.46</td>\n",
       "    </tr>\n",
       "  </tbody>\n",
       "</table>\n",
       "<p>70 rows × 3 columns</p>\n",
       "</div>"
      ],
      "text/plain": [
       "                          state_name  place_name  price_usd_per_m2\n",
       "65489       Bs.As. G.B.A. Zona Norte      Olivos            200.00\n",
       "48722       Bs.As. G.B.A. Zona Oeste   Ciudadela            200.00\n",
       "59223   Buenos Aires Costa Atlántica     Miramar            200.00\n",
       "87149       Bs.As. G.B.A. Zona Norte  San Isidro            200.00\n",
       "113300               Capital Federal    Floresta            200.00\n",
       "...                              ...         ...               ...\n",
       "6070        Bs.As. G.B.A. Zona Oeste       Morón            285.00\n",
       "105640        Bs.As. G.B.A. Zona Sur  Don Orione            299.63\n",
       "23820       Bs.As. G.B.A. Zona Oeste   San Justo            312.50\n",
       "61699         Bs.As. G.B.A. Zona Sur    La Plata            317.46\n",
       "61697         Bs.As. G.B.A. Zona Sur    La Plata            317.46\n",
       "\n",
       "[70 rows x 3 columns]"
      ]
     },
     "execution_count": 199,
     "metadata": {},
     "output_type": "execute_result"
    }
   ],
   "source": [
    "df_state_10_minimos = data_state_names_sin_outliers_filtrados.loc[mask_index_state_1 | mask_index_state_2 \\\n",
    "                                                                  | mask_index_state_3 | mask_index_state_4 \\\n",
    "                                                                   | mask_index_state_5 | mask_index_state_6 \\\n",
    "                                                                   | mask_index_state_7,:]\n",
    "df_state_10_minimos[['state_name', 'place_name', 'price_usd_per_m2']].sort_values(by='price_usd_per_m2')"
   ]
  },
  {
   "cell_type": "code",
   "execution_count": 211,
   "metadata": {},
   "outputs": [
    {
     "data": {
      "text/html": [
       "<div>\n",
       "<style scoped>\n",
       "    .dataframe tbody tr th:only-of-type {\n",
       "        vertical-align: middle;\n",
       "    }\n",
       "\n",
       "    .dataframe tbody tr th {\n",
       "        vertical-align: top;\n",
       "    }\n",
       "\n",
       "    .dataframe thead th {\n",
       "        text-align: right;\n",
       "    }\n",
       "</style>\n",
       "<table border=\"1\" class=\"dataframe\">\n",
       "  <thead>\n",
       "    <tr style=\"text-align: right;\">\n",
       "      <th></th>\n",
       "      <th></th>\n",
       "      <th></th>\n",
       "      <th>0</th>\n",
       "    </tr>\n",
       "    <tr>\n",
       "      <th></th>\n",
       "      <th>state_name</th>\n",
       "      <th>place_name</th>\n",
       "      <th></th>\n",
       "    </tr>\n",
       "  </thead>\n",
       "  <tbody>\n",
       "    <tr>\n",
       "      <th rowspan=\"36\" valign=\"top\">price_usd_per_m2</th>\n",
       "      <th rowspan=\"7\" valign=\"top\">Bs.As. G.B.A. Zona Norte</th>\n",
       "      <th>José C Paz</th>\n",
       "      <td>232.75</td>\n",
       "    </tr>\n",
       "    <tr>\n",
       "      <th>Nordelta</th>\n",
       "      <td>243.03</td>\n",
       "    </tr>\n",
       "    <tr>\n",
       "      <th>Olivos</th>\n",
       "      <td>200.00</td>\n",
       "    </tr>\n",
       "    <tr>\n",
       "      <th>Pilar</th>\n",
       "      <td>248.33</td>\n",
       "    </tr>\n",
       "    <tr>\n",
       "      <th>San Isidro</th>\n",
       "      <td>200.00</td>\n",
       "    </tr>\n",
       "    <tr>\n",
       "      <th>San Miguel</th>\n",
       "      <td>253.81</td>\n",
       "    </tr>\n",
       "    <tr>\n",
       "      <th>Vicente López</th>\n",
       "      <td>217.57</td>\n",
       "    </tr>\n",
       "    <tr>\n",
       "      <th rowspan=\"7\" valign=\"top\">Bs.As. G.B.A. Zona Oeste</th>\n",
       "      <th>Ciudadela</th>\n",
       "      <td>200.00</td>\n",
       "    </tr>\n",
       "    <tr>\n",
       "      <th>Martín Coronado</th>\n",
       "      <td>265.00</td>\n",
       "    </tr>\n",
       "    <tr>\n",
       "      <th>Morón</th>\n",
       "      <td>253.24</td>\n",
       "    </tr>\n",
       "    <tr>\n",
       "      <th>Ramos Mejía</th>\n",
       "      <td>230.00</td>\n",
       "    </tr>\n",
       "    <tr>\n",
       "      <th>San Justo</th>\n",
       "      <td>312.50</td>\n",
       "    </tr>\n",
       "    <tr>\n",
       "      <th>Tapiales</th>\n",
       "      <td>262.03</td>\n",
       "    </tr>\n",
       "    <tr>\n",
       "      <th>Tres de Febrero</th>\n",
       "      <td>266.67</td>\n",
       "    </tr>\n",
       "    <tr>\n",
       "      <th rowspan=\"7\" valign=\"top\">Bs.As. G.B.A. Zona Sur</th>\n",
       "      <th>Banfield</th>\n",
       "      <td>283.02</td>\n",
       "    </tr>\n",
       "    <tr>\n",
       "      <th>Don Orione</th>\n",
       "      <td>299.63</td>\n",
       "    </tr>\n",
       "    <tr>\n",
       "      <th>La Plata</th>\n",
       "      <td>300.53</td>\n",
       "    </tr>\n",
       "    <tr>\n",
       "      <th>Lanús</th>\n",
       "      <td>251.68</td>\n",
       "    </tr>\n",
       "    <tr>\n",
       "      <th>Lomas de Zamora</th>\n",
       "      <td>275.00</td>\n",
       "    </tr>\n",
       "    <tr>\n",
       "      <th>Monte Grande</th>\n",
       "      <td>206.90</td>\n",
       "    </tr>\n",
       "    <tr>\n",
       "      <th>Valentín Alsina</th>\n",
       "      <td>233.88</td>\n",
       "    </tr>\n",
       "    <tr>\n",
       "      <th rowspan=\"4\" valign=\"top\">Buenos Aires Costa Atlántica</th>\n",
       "      <th>Miramar</th>\n",
       "      <td>211.30</td>\n",
       "    </tr>\n",
       "    <tr>\n",
       "      <th>Pinamar</th>\n",
       "      <td>220.83</td>\n",
       "    </tr>\n",
       "    <tr>\n",
       "      <th>Santa Teresita</th>\n",
       "      <td>225.00</td>\n",
       "    </tr>\n",
       "    <tr>\n",
       "      <th>Villa Gesell</th>\n",
       "      <td>222.70</td>\n",
       "    </tr>\n",
       "    <tr>\n",
       "      <th rowspan=\"7\" valign=\"top\">Capital Federal</th>\n",
       "      <th>Belgrano</th>\n",
       "      <td>224.90</td>\n",
       "    </tr>\n",
       "    <tr>\n",
       "      <th>Flores</th>\n",
       "      <td>211.11</td>\n",
       "    </tr>\n",
       "    <tr>\n",
       "      <th>Floresta</th>\n",
       "      <td>205.56</td>\n",
       "    </tr>\n",
       "    <tr>\n",
       "      <th>Liniers</th>\n",
       "      <td>205.00</td>\n",
       "    </tr>\n",
       "    <tr>\n",
       "      <th>Once</th>\n",
       "      <td>232.35</td>\n",
       "    </tr>\n",
       "    <tr>\n",
       "      <th>Parque Avellaneda</th>\n",
       "      <td>211.11</td>\n",
       "    </tr>\n",
       "    <tr>\n",
       "      <th>San Telmo</th>\n",
       "      <td>220.72</td>\n",
       "    </tr>\n",
       "    <tr>\n",
       "      <th rowspan=\"2\" valign=\"top\">Córdoba</th>\n",
       "      <th>Córdoba</th>\n",
       "      <td>242.92</td>\n",
       "    </tr>\n",
       "    <tr>\n",
       "      <th>Punilla</th>\n",
       "      <td>247.35</td>\n",
       "    </tr>\n",
       "    <tr>\n",
       "      <th rowspan=\"2\" valign=\"top\">Santa Fe</th>\n",
       "      <th>Rosario</th>\n",
       "      <td>248.20</td>\n",
       "    </tr>\n",
       "    <tr>\n",
       "      <th>Santa Fe</th>\n",
       "      <td>260.20</td>\n",
       "    </tr>\n",
       "  </tbody>\n",
       "</table>\n",
       "</div>"
      ],
      "text/plain": [
       "                                                                     0\n",
       "                 state_name                   place_name              \n",
       "price_usd_per_m2 Bs.As. G.B.A. Zona Norte     José C Paz        232.75\n",
       "                                              Nordelta          243.03\n",
       "                                              Olivos            200.00\n",
       "                                              Pilar             248.33\n",
       "                                              San Isidro        200.00\n",
       "                                              San Miguel        253.81\n",
       "                                              Vicente López     217.57\n",
       "                 Bs.As. G.B.A. Zona Oeste     Ciudadela         200.00\n",
       "                                              Martín Coronado   265.00\n",
       "                                              Morón             253.24\n",
       "                                              Ramos Mejía       230.00\n",
       "                                              San Justo         312.50\n",
       "                                              Tapiales          262.03\n",
       "                                              Tres de Febrero   266.67\n",
       "                 Bs.As. G.B.A. Zona Sur       Banfield          283.02\n",
       "                                              Don Orione        299.63\n",
       "                                              La Plata          300.53\n",
       "                                              Lanús             251.68\n",
       "                                              Lomas de Zamora   275.00\n",
       "                                              Monte Grande      206.90\n",
       "                                              Valentín Alsina   233.88\n",
       "                 Buenos Aires Costa Atlántica Miramar           211.30\n",
       "                                              Pinamar           220.83\n",
       "                                              Santa Teresita    225.00\n",
       "                                              Villa Gesell      222.70\n",
       "                 Capital Federal              Belgrano          224.90\n",
       "                                              Flores            211.11\n",
       "                                              Floresta          205.56\n",
       "                                              Liniers           205.00\n",
       "                                              Once              232.35\n",
       "                                              Parque Avellaneda 211.11\n",
       "                                              San Telmo         220.72\n",
       "                 Córdoba                      Córdoba           242.92\n",
       "                                              Punilla           247.35\n",
       "                 Santa Fe                     Rosario           248.20\n",
       "                                              Santa Fe          260.20"
      ]
     },
     "execution_count": 211,
     "metadata": {},
     "output_type": "execute_result"
    }
   ],
   "source": [
    "pd.DataFrame(df_state_10_minimos.pivot_table(values=['price_usd_per_m2'], columns=['state_name', 'place_name']))\n"
   ]
  },
  {
   "cell_type": "code",
   "execution_count": null,
   "metadata": {},
   "outputs": [],
   "source": []
  }
 ],
 "metadata": {
  "kernelspec": {
   "display_name": "Python 3",
   "language": "python",
   "name": "python3"
  },
  "language_info": {
   "codemirror_mode": {
    "name": "ipython",
    "version": 3
   },
   "file_extension": ".py",
   "mimetype": "text/x-python",
   "name": "python",
   "nbconvert_exporter": "python",
   "pygments_lexer": "ipython3",
   "version": "3.7.9"
  }
 },
 "nbformat": 4,
 "nbformat_minor": 4
}
